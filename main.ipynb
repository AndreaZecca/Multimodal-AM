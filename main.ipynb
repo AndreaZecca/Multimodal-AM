{
 "cells": [
  {
   "cell_type": "markdown",
   "id": "cff43189",
   "metadata": {
    "papermill": {
     "duration": 0.013537,
     "end_time": "2024-02-03T08:19:46.892695",
     "exception": false,
     "start_time": "2024-02-03T08:19:46.879158",
     "status": "completed"
    },
    "tags": []
   },
   "source": [
    "# Import"
   ]
  },
  {
   "cell_type": "code",
   "execution_count": 1,
   "id": "3d4eabb0",
   "metadata": {
    "execution": {
     "iopub.execute_input": "2024-02-03T08:19:46.921382Z",
     "iopub.status.busy": "2024-02-03T08:19:46.920629Z",
     "iopub.status.idle": "2024-02-03T08:20:01.100643Z",
     "shell.execute_reply": "2024-02-03T08:20:01.099504Z"
    },
    "papermill": {
     "duration": 14.197232,
     "end_time": "2024-02-03T08:20:01.103197",
     "exception": false,
     "start_time": "2024-02-03T08:19:46.905965",
     "status": "completed"
    },
    "tags": []
   },
   "outputs": [
    {
     "name": "stdout",
     "output_type": "stream",
     "text": [
      "Collecting torcheval\r\n",
      "  Downloading torcheval-0.0.7-py3-none-any.whl.metadata (8.6 kB)\r\n",
      "Requirement already satisfied: typing-extensions in /opt/conda/lib/python3.10/site-packages (from torcheval) (4.9.0)\r\n",
      "Downloading torcheval-0.0.7-py3-none-any.whl (179 kB)\r\n",
      "\u001b[2K   \u001b[90m━━━━━━━━━━━━━━━━━━━━━━━━━━━━━━━━━━━━━━━━\u001b[0m \u001b[32m179.2/179.2 kB\u001b[0m \u001b[31m6.6 MB/s\u001b[0m eta \u001b[36m0:00:00\u001b[0m\r\n",
      "\u001b[?25hInstalling collected packages: torcheval\r\n",
      "Successfully installed torcheval-0.0.7\r\n"
     ]
    }
   ],
   "source": [
    "!pip install torcheval"
   ]
  },
  {
   "cell_type": "code",
   "execution_count": 2,
   "id": "1e20130e",
   "metadata": {
    "execution": {
     "iopub.execute_input": "2024-02-03T08:20:01.133036Z",
     "iopub.status.busy": "2024-02-03T08:20:01.132668Z",
     "iopub.status.idle": "2024-02-03T08:20:23.482503Z",
     "shell.execute_reply": "2024-02-03T08:20:23.480553Z"
    },
    "papermill": {
     "duration": 22.368865,
     "end_time": "2024-02-03T08:20:23.486728",
     "exception": false,
     "start_time": "2024-02-03T08:20:01.117863",
     "status": "completed"
    },
    "tags": []
   },
   "outputs": [
    {
     "name": "stderr",
     "output_type": "stream",
     "text": [
      "2024-02-03 08:20:14.333358: E external/local_xla/xla/stream_executor/cuda/cuda_dnn.cc:9261] Unable to register cuDNN factory: Attempting to register factory for plugin cuDNN when one has already been registered\n",
      "2024-02-03 08:20:14.333468: E external/local_xla/xla/stream_executor/cuda/cuda_fft.cc:607] Unable to register cuFFT factory: Attempting to register factory for plugin cuFFT when one has already been registered\n",
      "2024-02-03 08:20:14.467342: E external/local_xla/xla/stream_executor/cuda/cuda_blas.cc:1515] Unable to register cuBLAS factory: Attempting to register factory for plugin cuBLAS when one has already been registered\n"
     ]
    }
   ],
   "source": [
    "import os\n",
    "import gc\n",
    "import pickle\n",
    "import numpy as np\n",
    "import pandas as pd\n",
    "import matplotlib.pyplot as plt\n",
    "import copy\n",
    "import warnings\n",
    "import seaborn as sns\n",
    "from sklearn.metrics import precision_recall_curve, roc_curve, roc_auc_score, confusion_matrix, classification_report\n",
    "\n",
    "import transformers\n",
    "import torch, torchaudio, torchtext\n",
    "import torch.nn.functional as F\n",
    "import torch.nn as nn\n",
    "\n",
    "from torch.nn.utils.rnn import pad_sequence\n",
    "from torch.utils.data import DataLoader\n",
    "from torcheval.metrics.functional import multiclass_f1_score\n",
    "from transformers import BertTokenizer, BertModel, AutoModel, AutoProcessor\n",
    "from tqdm import tqdm\n",
    "\n",
    "try:\n",
    "    # try to import from local\n",
    "    from CustomTransformer import CustomEncoder, PositionalEncoding, LayerNorm, PositionwiseFeedForward\n",
    "except:\n",
    "    # import from kaggle workspace\n",
    "    from customtransformer import CustomEncoder, PositionalEncoding, LayerNorm, PositionwiseFeedForward\n",
    "\n",
    "warnings.filterwarnings('ignore')\n",
    "pd.options.display.float_format = '{:,.3f}'.format"
   ]
  },
  {
   "cell_type": "markdown",
   "id": "a610923f",
   "metadata": {
    "papermill": {
     "duration": 0.019432,
     "end_time": "2024-02-03T08:20:23.523944",
     "exception": false,
     "start_time": "2024-02-03T08:20:23.504512",
     "status": "completed"
    },
    "tags": []
   },
   "source": [
    "### Constants"
   ]
  },
  {
   "cell_type": "code",
   "execution_count": 3,
   "id": "57883813",
   "metadata": {
    "execution": {
     "iopub.execute_input": "2024-02-03T08:20:23.563721Z",
     "iopub.status.busy": "2024-02-03T08:20:23.562507Z",
     "iopub.status.idle": "2024-02-03T08:20:23.577317Z",
     "shell.execute_reply": "2024-02-03T08:20:23.574908Z"
    },
    "papermill": {
     "duration": 0.038121,
     "end_time": "2024-02-03T08:20:23.579938",
     "exception": false,
     "start_time": "2024-02-03T08:20:23.541817",
     "status": "completed"
    },
    "tags": []
   },
   "outputs": [
    {
     "name": "stdout",
     "output_type": "stream",
     "text": [
      "Using device: cuda\n"
     ]
    }
   ],
   "source": [
    "device = torch.device(\"cuda\" if torch.cuda.is_available() else \"cpu\")\n",
    "print(f'Using device: {device}')\n",
    "\n",
    "\"\"\"\n",
    "For the Argumentative Component Classification (ACC) task, we need to remove the 'O' label from the dataset.\n",
    "\"\"\"\n",
    "MODEL_NUM_LABELS = 3\n",
    "REMOVE_OTHER = True\n",
    "OTHER_LABEL = 'O'\n",
    "    \n",
    "if REMOVE_OTHER:\n",
    "    MODEL_NUM_LABELS = 2\n",
    "\n",
    "TEXT_MODEL_CARD = 'bert-base-uncased'\n",
    "AUDIO_MODEL_CARD = 'facebook/wav2vec2-base-960h'\n",
    "\n",
    "LABEL_2_ID = {\n",
    "    'Claim': 0,\n",
    "    'Premise': 1,\n",
    "    'O': 2\n",
    "}\n",
    "\n",
    "ID_2_LABEL = {\n",
    "    0: 'Claim',\n",
    "    1: 'Premise',\n",
    "    2: 'O'\n",
    "}\n",
    "\n",
    "\n",
    "EMBEDDING_DIM = 768\n",
    "BATCH_SIZE = 12"
   ]
  },
  {
   "cell_type": "markdown",
   "id": "7f13315c",
   "metadata": {
    "papermill": {
     "duration": 0.013754,
     "end_time": "2024-02-03T08:20:23.608263",
     "exception": false,
     "start_time": "2024-02-03T08:20:23.594509",
     "status": "completed"
    },
    "tags": []
   },
   "source": [
    "# Load df"
   ]
  },
  {
   "cell_type": "code",
   "execution_count": 4,
   "id": "fcc4b5c0",
   "metadata": {
    "execution": {
     "iopub.execute_input": "2024-02-03T08:20:23.647993Z",
     "iopub.status.busy": "2024-02-03T08:20:23.647466Z",
     "iopub.status.idle": "2024-02-03T08:20:24.067739Z",
     "shell.execute_reply": "2024-02-03T08:20:24.066602Z"
    },
    "papermill": {
     "duration": 0.44308,
     "end_time": "2024-02-03T08:20:24.070327",
     "exception": false,
     "start_time": "2024-02-03T08:20:23.627247",
     "status": "completed"
    },
    "tags": []
   },
   "outputs": [],
   "source": [
    "try:\n",
    "    # Try to load from Kaggle workspace\n",
    "    df_path = '/kaggle/input/multimodal-argument-mining/MM-USElecDeb60to16/MM-USElecDeb60to16.csv'\n",
    "    audio_path = '/kaggle/input/multimodal-argument-mining/MM-USElecDeb60to16/audio_clips'\n",
    "    load_path = '/kaggle/input/mm-dataset-subsampling/'\n",
    "    save_path = '/kaggle/working/'\n",
    "    df = pd.read_csv(df_path, index_col=0)\n",
    "except FileNotFoundError:\n",
    "    # Try to load from local\n",
    "    df_path = 'multimodal-dataset/files/MM-USElecDeb60to16/MM-USElecDeb60to16.csv'\n",
    "    audio_path = 'multimodal-dataset/files/MM-USElecDeb60to16/audio_clips'\n",
    "    load_path = 'multimodal-dataset/files'\n",
    "    save_path = 'multimodal-dataset/files'\n",
    "    df = pd.read_csv(df_path, index_col=0)\n",
    "    \n",
    "# drop rows where audio length is 0\n",
    "df = df[df['NewBegin'] != df['NewEnd']]\n",
    "if REMOVE_OTHER:\n",
    "    # drop rows where Component is 'Other'\n",
    "    df = df[df['Component'] != OTHER_LABEL]\n",
    "\n",
    "# train, val, test split\n",
    "train_df_complete = df[df['Set'] == 'TRAIN']\n",
    "val_df_complete = df[df['Set'] == 'VALIDATION']\n",
    "test_df_complete = df[df['Set'] == 'TEST']\n",
    "\n",
    "# subsample datasets for memory reasons\n",
    "DATASET_RATIO = 1\n",
    "train_df = train_df_complete.iloc[:int(DATASET_RATIO * len(train_df_complete))]\n",
    "val_df = val_df_complete.iloc[:int(DATASET_RATIO * len(val_df_complete))]\n",
    "test_df = test_df_complete.iloc[:int(DATASET_RATIO * len(test_df_complete))]"
   ]
  },
  {
   "cell_type": "code",
   "execution_count": 5,
   "id": "0ffe5ff0",
   "metadata": {
    "execution": {
     "iopub.execute_input": "2024-02-03T08:20:24.101718Z",
     "iopub.status.busy": "2024-02-03T08:20:24.100890Z",
     "iopub.status.idle": "2024-02-03T08:20:24.127526Z",
     "shell.execute_reply": "2024-02-03T08:20:24.126556Z"
    },
    "papermill": {
     "duration": 0.044872,
     "end_time": "2024-02-03T08:20:24.129607",
     "exception": false,
     "start_time": "2024-02-03T08:20:24.084735",
     "status": "completed"
    },
    "tags": []
   },
   "outputs": [
    {
     "data": {
      "text/html": [
       "<div>\n",
       "<style scoped>\n",
       "    .dataframe tbody tr th:only-of-type {\n",
       "        vertical-align: middle;\n",
       "    }\n",
       "\n",
       "    .dataframe tbody tr th {\n",
       "        vertical-align: top;\n",
       "    }\n",
       "\n",
       "    .dataframe thead th {\n",
       "        text-align: right;\n",
       "    }\n",
       "</style>\n",
       "<table border=\"1\" class=\"dataframe\">\n",
       "  <thead>\n",
       "    <tr style=\"text-align: right;\">\n",
       "      <th></th>\n",
       "      <th>Text</th>\n",
       "      <th>Part</th>\n",
       "      <th>Document</th>\n",
       "      <th>Order</th>\n",
       "      <th>Sentence</th>\n",
       "      <th>Start</th>\n",
       "      <th>End</th>\n",
       "      <th>Annotator</th>\n",
       "      <th>Tag</th>\n",
       "      <th>Component</th>\n",
       "      <th>...</th>\n",
       "      <th>Speaker</th>\n",
       "      <th>SpeakerType</th>\n",
       "      <th>Set</th>\n",
       "      <th>Date</th>\n",
       "      <th>Year</th>\n",
       "      <th>Name</th>\n",
       "      <th>MainTag</th>\n",
       "      <th>NewBegin</th>\n",
       "      <th>NewEnd</th>\n",
       "      <th>idClip</th>\n",
       "    </tr>\n",
       "  </thead>\n",
       "  <tbody>\n",
       "    <tr>\n",
       "      <th>3</th>\n",
       "      <td>And, after 9/11, it became clear that we had t...</td>\n",
       "      <td>1</td>\n",
       "      <td>30_2004</td>\n",
       "      <td>3</td>\n",
       "      <td>3</td>\n",
       "      <td>2418</td>\n",
       "      <td>2744</td>\n",
       "      <td>NaN</td>\n",
       "      <td>{\"O\": 16, \"Claim\": 50}</td>\n",
       "      <td>Claim</td>\n",
       "      <td>...</td>\n",
       "      <td>CHENEY</td>\n",
       "      <td>Candidate</td>\n",
       "      <td>TRAIN</td>\n",
       "      <td>05 Oct 2004</td>\n",
       "      <td>2004</td>\n",
       "      <td>Richard(Dick) B. Cheney</td>\n",
       "      <td>Claim</td>\n",
       "      <td>140.560</td>\n",
       "      <td>158.920</td>\n",
       "      <td>clip_3</td>\n",
       "    </tr>\n",
       "    <tr>\n",
       "      <th>4</th>\n",
       "      <td>And we also then finally had to stand up democ...</td>\n",
       "      <td>1</td>\n",
       "      <td>30_2004</td>\n",
       "      <td>4</td>\n",
       "      <td>4</td>\n",
       "      <td>2744</td>\n",
       "      <td>2974</td>\n",
       "      <td>NaN</td>\n",
       "      <td>{\"O\": 4, \"Claim\": 13, \"Premise\": 25}</td>\n",
       "      <td>Premise</td>\n",
       "      <td>...</td>\n",
       "      <td>CHENEY</td>\n",
       "      <td>Candidate</td>\n",
       "      <td>TRAIN</td>\n",
       "      <td>05 Oct 2004</td>\n",
       "      <td>2004</td>\n",
       "      <td>Richard(Dick) B. Cheney</td>\n",
       "      <td>Mixed</td>\n",
       "      <td>158.920</td>\n",
       "      <td>172.920</td>\n",
       "      <td>clip_4</td>\n",
       "    </tr>\n",
       "    <tr>\n",
       "      <th>9</th>\n",
       "      <td>What we did in Iraq was exactly the right thin...</td>\n",
       "      <td>1</td>\n",
       "      <td>30_2004</td>\n",
       "      <td>9</td>\n",
       "      <td>9</td>\n",
       "      <td>3861</td>\n",
       "      <td>3916</td>\n",
       "      <td>NaN</td>\n",
       "      <td>{\"Claim\": 12, \"O\": 1}</td>\n",
       "      <td>Claim</td>\n",
       "      <td>...</td>\n",
       "      <td>CHENEY</td>\n",
       "      <td>Candidate</td>\n",
       "      <td>TRAIN</td>\n",
       "      <td>05 Oct 2004</td>\n",
       "      <td>2004</td>\n",
       "      <td>Richard(Dick) B. Cheney</td>\n",
       "      <td>Claim</td>\n",
       "      <td>224.080</td>\n",
       "      <td>226.880</td>\n",
       "      <td>clip_9</td>\n",
       "    </tr>\n",
       "    <tr>\n",
       "      <th>10</th>\n",
       "      <td>If I had it to recommend all over again, I wou...</td>\n",
       "      <td>1</td>\n",
       "      <td>30_2004</td>\n",
       "      <td>10</td>\n",
       "      <td>10</td>\n",
       "      <td>3916</td>\n",
       "      <td>4010</td>\n",
       "      <td>NaN</td>\n",
       "      <td>{\"Premise\": 19, \"O\": 1}</td>\n",
       "      <td>Premise</td>\n",
       "      <td>...</td>\n",
       "      <td>CHENEY</td>\n",
       "      <td>Candidate</td>\n",
       "      <td>TRAIN</td>\n",
       "      <td>05 Oct 2004</td>\n",
       "      <td>2004</td>\n",
       "      <td>Richard(Dick) B. Cheney</td>\n",
       "      <td>Premise</td>\n",
       "      <td>226.880</td>\n",
       "      <td>231.560</td>\n",
       "      <td>clip_10</td>\n",
       "    </tr>\n",
       "    <tr>\n",
       "      <th>11</th>\n",
       "      <td>The world is far safer today because Saddam Hu...</td>\n",
       "      <td>1</td>\n",
       "      <td>30_2004</td>\n",
       "      <td>11</td>\n",
       "      <td>11</td>\n",
       "      <td>4010</td>\n",
       "      <td>4112</td>\n",
       "      <td>NaN</td>\n",
       "      <td>{\"Claim\": 6, \"O\": 2, \"Premise\": 13}</td>\n",
       "      <td>Premise</td>\n",
       "      <td>...</td>\n",
       "      <td>CHENEY</td>\n",
       "      <td>Candidate</td>\n",
       "      <td>TRAIN</td>\n",
       "      <td>05 Oct 2004</td>\n",
       "      <td>2004</td>\n",
       "      <td>Richard(Dick) B. Cheney</td>\n",
       "      <td>Mixed</td>\n",
       "      <td>231.560</td>\n",
       "      <td>237.560</td>\n",
       "      <td>clip_11</td>\n",
       "    </tr>\n",
       "  </tbody>\n",
       "</table>\n",
       "<p>5 rows × 21 columns</p>\n",
       "</div>"
      ],
      "text/plain": [
       "                                                 Text  Part Document  Order  \\\n",
       "3   And, after 9/11, it became clear that we had t...     1  30_2004      3   \n",
       "4   And we also then finally had to stand up democ...     1  30_2004      4   \n",
       "9   What we did in Iraq was exactly the right thin...     1  30_2004      9   \n",
       "10  If I had it to recommend all over again, I wou...     1  30_2004     10   \n",
       "11  The world is far safer today because Saddam Hu...     1  30_2004     11   \n",
       "\n",
       "    Sentence  Start   End  Annotator                                   Tag  \\\n",
       "3          3   2418  2744        NaN                {\"O\": 16, \"Claim\": 50}   \n",
       "4          4   2744  2974        NaN  {\"O\": 4, \"Claim\": 13, \"Premise\": 25}   \n",
       "9          9   3861  3916        NaN                 {\"Claim\": 12, \"O\": 1}   \n",
       "10        10   3916  4010        NaN               {\"Premise\": 19, \"O\": 1}   \n",
       "11        11   4010  4112        NaN   {\"Claim\": 6, \"O\": 2, \"Premise\": 13}   \n",
       "\n",
       "   Component  ... Speaker SpeakerType    Set         Date  Year  \\\n",
       "3      Claim  ...  CHENEY   Candidate  TRAIN  05 Oct 2004  2004   \n",
       "4    Premise  ...  CHENEY   Candidate  TRAIN  05 Oct 2004  2004   \n",
       "9      Claim  ...  CHENEY   Candidate  TRAIN  05 Oct 2004  2004   \n",
       "10   Premise  ...  CHENEY   Candidate  TRAIN  05 Oct 2004  2004   \n",
       "11   Premise  ...  CHENEY   Candidate  TRAIN  05 Oct 2004  2004   \n",
       "\n",
       "                       Name  MainTag NewBegin  NewEnd   idClip  \n",
       "3   Richard(Dick) B. Cheney    Claim  140.560 158.920   clip_3  \n",
       "4   Richard(Dick) B. Cheney    Mixed  158.920 172.920   clip_4  \n",
       "9   Richard(Dick) B. Cheney    Claim  224.080 226.880   clip_9  \n",
       "10  Richard(Dick) B. Cheney  Premise  226.880 231.560  clip_10  \n",
       "11  Richard(Dick) B. Cheney    Mixed  231.560 237.560  clip_11  \n",
       "\n",
       "[5 rows x 21 columns]"
      ]
     },
     "execution_count": 5,
     "metadata": {},
     "output_type": "execute_result"
    }
   ],
   "source": [
    "train_df.head()"
   ]
  },
  {
   "cell_type": "code",
   "execution_count": 6,
   "id": "c55c9958",
   "metadata": {
    "execution": {
     "iopub.execute_input": "2024-02-03T08:20:24.159338Z",
     "iopub.status.busy": "2024-02-03T08:20:24.158971Z",
     "iopub.status.idle": "2024-02-03T08:20:24.163929Z",
     "shell.execute_reply": "2024-02-03T08:20:24.163044Z"
    },
    "papermill": {
     "duration": 0.022556,
     "end_time": "2024-02-03T08:20:24.166404",
     "exception": false,
     "start_time": "2024-02-03T08:20:24.143848",
     "status": "completed"
    },
    "tags": []
   },
   "outputs": [
    {
     "name": "stdout",
     "output_type": "stream",
     "text": [
      "Train size: 9455\n",
      "Val size: 5201\n",
      "Test size: 5908\n"
     ]
    }
   ],
   "source": [
    "print(f'Train size: {len(train_df)}')\n",
    "print(f'Val size: {len(val_df)}')\n",
    "print(f'Test size: {len(test_df)}')"
   ]
  },
  {
   "cell_type": "markdown",
   "id": "dcd73717",
   "metadata": {
    "papermill": {
     "duration": 0.014386,
     "end_time": "2024-02-03T08:20:24.195821",
     "exception": false,
     "start_time": "2024-02-03T08:20:24.181435",
     "status": "completed"
    },
    "tags": []
   },
   "source": [
    "## Distribution of classes over train df"
   ]
  },
  {
   "cell_type": "code",
   "execution_count": 7,
   "id": "755e4f97",
   "metadata": {
    "execution": {
     "iopub.execute_input": "2024-02-03T08:20:24.226649Z",
     "iopub.status.busy": "2024-02-03T08:20:24.226306Z",
     "iopub.status.idle": "2024-02-03T08:20:24.241434Z",
     "shell.execute_reply": "2024-02-03T08:20:24.240314Z"
    },
    "papermill": {
     "duration": 0.03325,
     "end_time": "2024-02-03T08:20:24.243812",
     "exception": false,
     "start_time": "2024-02-03T08:20:24.210562",
     "status": "completed"
    },
    "tags": []
   },
   "outputs": [
    {
     "name": "stdout",
     "output_type": "stream",
     "text": [
      "Total Claim: 5029: 53.19%\n",
      "Total Premise: 4426: 46.81%\n"
     ]
    }
   ],
   "source": [
    "num_claim = len(train_df[train_df['Component'] == 'Claim'])\n",
    "print(f'Total Claim: {num_claim}: {num_claim*100/len(train_df):.2f}%')\n",
    "\n",
    "num_premise = len(train_df[train_df['Component'] == 'Premise'])\n",
    "print(f'Total Premise: {num_premise}: {num_premise*100/len(train_df):.2f}%')\n",
    "\n",
    "if not REMOVE_OTHER:\n",
    "    num_other = len(train_df[train_df['Component'] == 'O'])\n",
    "    print(f'Total Other: {num_other}: {num_other*100/len(train_df):.2f}%')"
   ]
  },
  {
   "cell_type": "markdown",
   "id": "c3fbc382",
   "metadata": {
    "papermill": {
     "duration": 0.014097,
     "end_time": "2024-02-03T08:20:24.274212",
     "exception": false,
     "start_time": "2024-02-03T08:20:24.260115",
     "status": "completed"
    },
    "tags": []
   },
   "source": [
    "Classes are not balanced, but not too bad either."
   ]
  },
  {
   "cell_type": "markdown",
   "id": "a167997d",
   "metadata": {
    "papermill": {
     "duration": 0.014296,
     "end_time": "2024-02-03T08:20:24.302942",
     "exception": false,
     "start_time": "2024-02-03T08:20:24.288646",
     "status": "completed"
    },
    "tags": []
   },
   "source": [
    "## Class Reweighting"
   ]
  },
  {
   "cell_type": "code",
   "execution_count": 8,
   "id": "404d9dae",
   "metadata": {
    "execution": {
     "iopub.execute_input": "2024-02-03T08:20:24.333877Z",
     "iopub.status.busy": "2024-02-03T08:20:24.333531Z",
     "iopub.status.idle": "2024-02-03T08:20:24.768257Z",
     "shell.execute_reply": "2024-02-03T08:20:24.767066Z"
    },
    "papermill": {
     "duration": 0.453031,
     "end_time": "2024-02-03T08:20:24.770596",
     "exception": false,
     "start_time": "2024-02-03T08:20:24.317565",
     "status": "completed"
    },
    "tags": []
   },
   "outputs": [
    {
     "name": "stdout",
     "output_type": "stream",
     "text": [
      "Weight for loss function: tensor([0.9400, 1.0681], device='cuda:0')\n"
     ]
    }
   ],
   "source": [
    "if MODEL_NUM_LABELS == 2:\n",
    "    claim_ratio = num_claim / (num_claim + num_premise)\n",
    "    premise_ratio = num_premise / (num_claim + num_premise)\n",
    "    weight = torch.tensor([1/(2*claim_ratio), 1/(2*premise_ratio)]).to(device)\n",
    "else:\n",
    "    claim_ratio = num_claim / (num_claim + num_premise + num_other)\n",
    "    premise_ratio = num_premise / (num_claim + num_premise + num_other)\n",
    "    other_ratio = num_other / (num_claim + num_premise + num_other)\n",
    "    weight = torch.tensor([1/(3*claim_ratio), 1/(3*premise_ratio), 1/(3*other_ratio)]).to(device)\n",
    "\n",
    "print(f'Weight for loss function: {weight}')"
   ]
  },
  {
   "cell_type": "markdown",
   "id": "e15d8a34",
   "metadata": {
    "papermill": {
     "duration": 0.01676,
     "end_time": "2024-02-03T08:20:24.803541",
     "exception": false,
     "start_time": "2024-02-03T08:20:24.786781",
     "status": "completed"
    },
    "tags": []
   },
   "source": [
    "# Train and evaluation Loop"
   ]
  },
  {
   "cell_type": "code",
   "execution_count": 9,
   "id": "2519dc98",
   "metadata": {
    "execution": {
     "iopub.execute_input": "2024-02-03T08:20:24.843765Z",
     "iopub.status.busy": "2024-02-03T08:20:24.843147Z",
     "iopub.status.idle": "2024-02-03T08:20:24.869708Z",
     "shell.execute_reply": "2024-02-03T08:20:24.868630Z"
    },
    "papermill": {
     "duration": 0.048461,
     "end_time": "2024-02-03T08:20:24.872214",
     "exception": false,
     "start_time": "2024-02-03T08:20:24.823753",
     "status": "completed"
    },
    "tags": []
   },
   "outputs": [],
   "source": [
    "class BestModel:\n",
    "    \"\"\"\n",
    "    Class to keep track of the best performing model on validation set during training\n",
    "    \"\"\"\n",
    "    def __init__(self):\n",
    "        self.best_validation_loss = float('Infinity')\n",
    "        self.best_state_dict = None\n",
    "    def __call__(self, model, loss):\n",
    "        if loss < self.best_validation_loss:\n",
    "            self.best_validation_loss = loss\n",
    "            self.best_state_dict = copy.deepcopy(model.state_dict())\n",
    "\n",
    "def evaluate(model, data_loader, loss_fn, debug=False):\n",
    "    \"\"\"\n",
    "    Evaluate the model on the set passed\n",
    "    Args:\n",
    "        model: model to evaluate\n",
    "        data_loader: DataLoader object\n",
    "        loss_fn: loss function to use\n",
    "        debug: whether to print debug statements\n",
    "    \"\"\"\n",
    "    model.eval()\n",
    "    total_loss = 0.0\n",
    "    num_correct = 0 \n",
    "    num_examples = 0\n",
    "    tot_pred, tot_targ, tot_logits = torch.LongTensor(), torch.LongTensor(), torch.LongTensor()\n",
    "    for batch in data_loader:\n",
    "        texts, audio_features, audio_attention, targets = batch\n",
    "        audio_features = audio_features.to(device)\n",
    "        audio_attention = audio_attention.to(device)\n",
    "        targets = targets.to(device)\n",
    "        output = model(texts,audio_features,audio_attention)\n",
    "        if debug:\n",
    "            print(\"OUTPUT\",output)\n",
    "            print(\"TARGETS\", targets)\n",
    "        loss = loss_fn(output, targets)\n",
    "        total_loss += loss.detach()\n",
    "        \n",
    "        # if label O is still in the dataset we remove it from the outputs\n",
    "        # since it's a binary task\n",
    "        if not REMOVE_OTHER:\n",
    "            not_other = targets != 2\n",
    "            output = output[not_other]\n",
    "            targets = targets[not_other]\n",
    "        \n",
    "        scores = output[:, :2]\n",
    "        predicted_labels = torch.argmax(scores, dim=-1)\n",
    "\n",
    "        tot_pred = torch.cat((tot_pred, predicted_labels.detach().cpu()))\n",
    "        tot_targ = torch.cat((tot_targ, targets.detach().cpu()))\n",
    "        tot_logits = torch.cat((tot_logits, torch.nn.functional.softmax(scores, dim=-1)[:, 1].detach().cpu()))       \n",
    "\n",
    "        correct = torch.eq(predicted_labels, targets).view(-1)\n",
    "        num_correct += torch.sum(correct).item()\n",
    "        num_examples += correct.shape[0]\n",
    "    total_loss = total_loss.cpu().item()\n",
    "    total_loss /= len(data_loader.dataset)\n",
    "    accuracy = num_correct/num_examples\n",
    "    f1 = multiclass_f1_score(tot_pred, tot_targ, num_classes=2, average=\"macro\")\n",
    "    return total_loss, accuracy, f1, tot_pred, tot_targ, tot_logits\n",
    "\n",
    "            \n",
    "def train(model, loss_fn, train_loader, val_loader, epochs=10, device=\"cuda\", lr=1e-3, lr_decay_factor=0.1, lr_decay_patience=3, weight_decay=1e-5, verbose=True, debug=False):\n",
    "    \"\"\"\n",
    "    Train the model on the train set and evaluate on the validation set with the given parameters\n",
    "    Args:\n",
    "        model: model to train\n",
    "        loss_fn: loss function to use\n",
    "        train_loader: DataLoader object for train set\n",
    "        val_loader: DataLoader object for validation set\n",
    "        epochs: number of epochs\n",
    "        device: device to use\n",
    "        lr: initial learning rate\n",
    "        lr_decay_factor: factor to decay learning rate\n",
    "        lr_decay_patience: patience for learning rate decay\n",
    "        weight_decay: weight decay\n",
    "        verbose: whether to print training results\n",
    "        debug: whether to print debug statements\n",
    "    \"\"\"\n",
    "    # set up optimizer and scheduler\n",
    "    optimizer = torch.optim.Adam(model.parameters(), lr=lr, weight_decay=weight_decay) \n",
    "    scheduler = torch.optim.lr_scheduler.ReduceLROnPlateau(optimizer, mode='min', factor=lr_decay_factor, patience=lr_decay_patience, verbose=True)\n",
    "    best_model_tracker = BestModel()\n",
    "    # history of train and validation losses, accuracy and f1\n",
    "    history_train_losses = []\n",
    "    history_train_accuracy = []\n",
    "    history_train_f1 = []\n",
    "\n",
    "    history_val_losses = []\n",
    "    history_val_accuracy = []\n",
    "    history_val_f1 = []\n",
    "\n",
    "    for epoch in tqdm(range(epochs)):\n",
    "        # training\n",
    "        correct = 0\n",
    "        training_loss = 0.0\n",
    "        model.train()\n",
    "        for batch in train_loader:\n",
    "            optimizer.zero_grad()\n",
    "            texts, audio_features, audio_attention, targets = batch\n",
    "            audio_features = audio_features.to(device)\n",
    "            audio_attention = audio_attention.to(device)\n",
    "            targets = targets.to(device)\n",
    "            output = model(texts,audio_features,audio_attention)\n",
    "            loss = loss_fn(output, targets)\n",
    "            loss.backward()\n",
    "            optimizer.step()\n",
    "            correct += torch.eq(torch.argmax(output, dim=-1), targets).view(-1).sum()\n",
    "            training_loss += loss.detach()\n",
    "        training_loss = training_loss.cpu().item()\n",
    "\n",
    "        training_loss /= len(train_loader.dataset)\n",
    "        training_accuracy = correct.item() / len(train_loader.dataset)\n",
    "        training_f1 = multiclass_f1_score(torch.argmax(output, dim=-1), targets, num_classes=2, average=\"macro\")\n",
    "\n",
    "        valid_loss, valid_accuracy, valid_f1, _, _, _ = evaluate(model, val_loader, loss_fn, debug)\n",
    "\n",
    "        history_train_losses.append(training_loss)\n",
    "        history_train_accuracy.append(training_accuracy)\n",
    "        history_train_f1.append(training_f1)\n",
    "\n",
    "        history_val_losses.append(valid_loss)\n",
    "        history_val_accuracy.append(valid_accuracy)\n",
    "        history_val_f1.append(valid_f1)\n",
    "\n",
    "        best_model_tracker(model, valid_loss)\n",
    "        scheduler.step(valid_loss)\n",
    "        if verbose:\n",
    "            print(f'Epoch: {epoch}, Training Loss: {training_loss:.4f}, Validation Loss: {valid_loss:.4f}, accuracy = {valid_accuracy:.4f}, F1={valid_f1:.4f}')\n",
    "    # restore best model weights\n",
    "    model.load_state_dict(best_model_tracker.best_state_dict) \n",
    "    history = {\n",
    "        'train_loss': history_train_losses,\n",
    "        'train_accuracy': history_train_accuracy,\n",
    "        'train_f1': history_train_f1,\n",
    "        'val_loss': history_val_losses,\n",
    "        'val_accuracy': history_val_accuracy,\n",
    "        'val_f1': history_val_f1\n",
    "    }\n",
    "    return model, history"
   ]
  },
  {
   "cell_type": "markdown",
   "id": "693ec2ea",
   "metadata": {
    "papermill": {
     "duration": 0.016816,
     "end_time": "2024-02-03T08:20:24.906062",
     "exception": false,
     "start_time": "2024-02-03T08:20:24.889246",
     "status": "completed"
    },
    "tags": []
   },
   "source": [
    "# Dataset Creation"
   ]
  },
  {
   "cell_type": "code",
   "execution_count": 10,
   "id": "0aac4e88",
   "metadata": {
    "execution": {
     "iopub.execute_input": "2024-02-03T08:20:24.941902Z",
     "iopub.status.busy": "2024-02-03T08:20:24.941217Z",
     "iopub.status.idle": "2024-02-03T08:20:32.961224Z",
     "shell.execute_reply": "2024-02-03T08:20:32.960342Z"
    },
    "papermill": {
     "duration": 8.040476,
     "end_time": "2024-02-03T08:20:32.963676",
     "exception": false,
     "start_time": "2024-02-03T08:20:24.923200",
     "status": "completed"
    },
    "tags": []
   },
   "outputs": [
    {
     "data": {
      "application/vnd.jupyter.widget-view+json": {
       "model_id": "a3da7996914d47e7b1268ab9409881a6",
       "version_major": 2,
       "version_minor": 0
      },
      "text/plain": [
       "tokenizer_config.json:   0%|          | 0.00/28.0 [00:00<?, ?B/s]"
      ]
     },
     "metadata": {},
     "output_type": "display_data"
    },
    {
     "data": {
      "application/vnd.jupyter.widget-view+json": {
       "model_id": "7aa006c77e5c4b6a9a84a24ce1659350",
       "version_major": 2,
       "version_minor": 0
      },
      "text/plain": [
       "vocab.txt:   0%|          | 0.00/232k [00:00<?, ?B/s]"
      ]
     },
     "metadata": {},
     "output_type": "display_data"
    },
    {
     "data": {
      "application/vnd.jupyter.widget-view+json": {
       "model_id": "2fb0eef1fa744a96a69ebc0f4aeaa80d",
       "version_major": 2,
       "version_minor": 0
      },
      "text/plain": [
       "tokenizer.json:   0%|          | 0.00/466k [00:00<?, ?B/s]"
      ]
     },
     "metadata": {},
     "output_type": "display_data"
    },
    {
     "data": {
      "application/vnd.jupyter.widget-view+json": {
       "model_id": "70f9a6fd812242eb92c2ae9663190d99",
       "version_major": 2,
       "version_minor": 0
      },
      "text/plain": [
       "config.json:   0%|          | 0.00/570 [00:00<?, ?B/s]"
      ]
     },
     "metadata": {},
     "output_type": "display_data"
    },
    {
     "data": {
      "application/vnd.jupyter.widget-view+json": {
       "model_id": "ea4e155adb1e4b97a0d3ce1d12762b3f",
       "version_major": 2,
       "version_minor": 0
      },
      "text/plain": [
       "model.safetensors:   0%|          | 0.00/440M [00:00<?, ?B/s]"
      ]
     },
     "metadata": {},
     "output_type": "display_data"
    }
   ],
   "source": [
    "# set up tokenizer and model\n",
    "tokenizer = BertTokenizer.from_pretrained(TEXT_MODEL_CARD)\n",
    "embedder = BertModel.from_pretrained(TEXT_MODEL_CARD).to(device)\n",
    "\n",
    "# freeze bert layers\n",
    "for params in embedder.parameters():\n",
    "    params.requires_grad = False\n",
    "\n",
    "# Downsample audio features to 1/5 of the original size to fit in memory\n",
    "DOWNSAMPLE_FACTOR = 1/5\n",
    "\n",
    "class MM_Dataset(torch.utils.data.Dataset):\n",
    "    \"\"\"\n",
    "    Dataset class for multimodal dataset\n",
    "    \"\"\"\n",
    "    def __init__(self, df, audio_dir, sample_rate):\n",
    "        \"\"\"\n",
    "        Args:\n",
    "            df: dataframe containing the dataset\n",
    "            audio_dir: directory containing the audio clips\n",
    "            sample_rate: sample rate to use for audio clips\n",
    "        \"\"\"\n",
    "        self.audio_dir = audio_dir\n",
    "        self.sample_rate = sample_rate\n",
    "\n",
    "        self.audio_processor = AutoProcessor.from_pretrained(AUDIO_MODEL_CARD)\n",
    "        self.audio_model = AutoModel.from_pretrained(AUDIO_MODEL_CARD).to(device)\n",
    "\n",
    "        self.dataset = []\n",
    "\n",
    "        # Iterate over df\n",
    "        for _, row in tqdm(df.iterrows()):\n",
    "            path = os.path.join(self.audio_dir, f\"{row['Document']}/{row['idClip']}.wav\")\n",
    "            if os.path.exists(path):\n",
    "                # obtain audio WAV2VEC features\n",
    "                audio, sampling_rate = torchaudio.load(path)\n",
    "                # resample audio if necessary\n",
    "                if sampling_rate != self.sample_rate:\n",
    "                    audio = torchaudio.functional.resample(audio, sample_rate, self.sample_rate)\n",
    "                    # mean pooling over channels\n",
    "                    audio = torch.mean(audio, dim=0, keepdim=True)\n",
    "                with torch.inference_mode():\n",
    "                    # run audio through model\n",
    "                    input_values = self.audio_processor(audio, sampling_rate=self.sample_rate).input_values[0]\n",
    "                    input_values = torch.tensor(input_values).to(device)\n",
    "                    audio_model_output = self.audio_model(input_values)\n",
    "                    audio_features = audio_model_output.last_hidden_state[0].unsqueeze(0)\n",
    "                    # downsample audio features\n",
    "                    audio_features = torch.nn.functional.interpolate(audio_features.permute(0,2,1), scale_factor=DOWNSAMPLE_FACTOR, mode='linear')\n",
    "                    audio_features = audio_features.permute(0,2,1)[0]\n",
    "                    audio_features = audio_features.cpu()\n",
    "                \n",
    "                text = row['Text']\n",
    "\n",
    "                self.dataset.append((text, audio_features, LABEL_2_ID[row['Component']]))\n",
    "    def __len__(self):\n",
    "        return len(self.dataset)\n",
    "\n",
    "    def __getitem__(self, index):\n",
    "        return self.dataset[index]"
   ]
  },
  {
   "cell_type": "code",
   "execution_count": 11,
   "id": "9717c246",
   "metadata": {
    "execution": {
     "iopub.execute_input": "2024-02-03T08:20:32.998289Z",
     "iopub.status.busy": "2024-02-03T08:20:32.997644Z",
     "iopub.status.idle": "2024-02-03T08:23:47.047889Z",
     "shell.execute_reply": "2024-02-03T08:23:47.046856Z"
    },
    "papermill": {
     "duration": 194.085222,
     "end_time": "2024-02-03T08:23:47.065184",
     "exception": false,
     "start_time": "2024-02-03T08:20:32.979962",
     "status": "completed"
    },
    "tags": []
   },
   "outputs": [
    {
     "name": "stdout",
     "output_type": "stream",
     "text": [
      "Restored datasets from memory\n"
     ]
    }
   ],
   "source": [
    "try:\n",
    "    # try to restore datasets from memory\n",
    "    train_dataset = torch.load(f'{load_path}/train_dataset.pkl')\n",
    "    test_dataset = torch.load(f'{load_path}/test_dataset.pkl')\n",
    "    val_dataset = torch.load(f'{load_path}/val_dataset.pkl')\n",
    "    if REMOVE_OTHER:\n",
    "        train_dataset = list(filter(lambda x: x[2] != 2, train_dataset))\n",
    "        test_dataset = list(filter(lambda x: x[2] != 2, test_dataset))\n",
    "        val_dataset = list(filter(lambda x: x[2] != 2, val_dataset))\n",
    "    print('Restored datasets from memory')\n",
    "except:\n",
    "    # create new datasets\n",
    "    print('Creating new datasets')\n",
    "    train_dataset = MM_Dataset(train_df, audio_path, 16_000)\n",
    "    test_dataset = MM_Dataset(test_df, audio_path, 16_000)\n",
    "    val_dataset = MM_Dataset(val_df, audio_path, 16_000)"
   ]
  },
  {
   "cell_type": "markdown",
   "id": "4ec4a6df",
   "metadata": {
    "papermill": {
     "duration": 0.014713,
     "end_time": "2024-02-03T08:23:47.094891",
     "exception": false,
     "start_time": "2024-02-03T08:23:47.080178",
     "status": "completed"
    },
    "tags": []
   },
   "source": [
    "## Dataloader creation"
   ]
  },
  {
   "cell_type": "code",
   "execution_count": 12,
   "id": "5c0cefbb",
   "metadata": {
    "execution": {
     "iopub.execute_input": "2024-02-03T08:23:47.126861Z",
     "iopub.status.busy": "2024-02-03T08:23:47.126514Z",
     "iopub.status.idle": "2024-02-03T08:23:47.134423Z",
     "shell.execute_reply": "2024-02-03T08:23:47.133483Z"
    },
    "papermill": {
     "duration": 0.026453,
     "end_time": "2024-02-03T08:23:47.136454",
     "exception": false,
     "start_time": "2024-02-03T08:23:47.110001",
     "status": "completed"
    },
    "tags": []
   },
   "outputs": [],
   "source": [
    "def create_dataloader(dataset, batch_size):\n",
    "    \"\"\"\n",
    "    Create a DataLoader object from the given dataset with the given batch size\n",
    "    Args:\n",
    "        dataset: dataset to use\n",
    "        batch_size: batch size to use\n",
    "    \"\"\"\n",
    "    def pack_fn(batch):\n",
    "        \"\"\"\n",
    "        Function to pad the audio features and create the attention mask\n",
    "        \"\"\"\n",
    "        texts = [x[0] for x in batch]\n",
    "        audio_features = [x[1] for x in batch]\n",
    "        labels = torch.tensor([x[2] for x in batch])\n",
    "        \n",
    "        # pad audio features\n",
    "        audio_features = pad_sequence(audio_features, batch_first=True, padding_value=float('-inf'))\n",
    "        audio_features_attention_mask = audio_features[:, :, 0] != float('-inf')\n",
    "        audio_features[(audio_features == float('-inf'))] = 0\n",
    "        return texts, audio_features, audio_features_attention_mask, labels\n",
    "\n",
    "    dataloader = torch.utils.data.DataLoader(dataset, batch_size=batch_size, shuffle=True, collate_fn=pack_fn)\n",
    "    return dataloader"
   ]
  },
  {
   "cell_type": "code",
   "execution_count": 13,
   "id": "04d3b20c",
   "metadata": {
    "execution": {
     "iopub.execute_input": "2024-02-03T08:23:47.218373Z",
     "iopub.status.busy": "2024-02-03T08:23:47.217659Z",
     "iopub.status.idle": "2024-02-03T08:23:47.222942Z",
     "shell.execute_reply": "2024-02-03T08:23:47.222087Z"
    },
    "papermill": {
     "duration": 0.023817,
     "end_time": "2024-02-03T08:23:47.224988",
     "exception": false,
     "start_time": "2024-02-03T08:23:47.201171",
     "status": "completed"
    },
    "tags": []
   },
   "outputs": [],
   "source": [
    "train_dataloader = create_dataloader(train_dataset, BATCH_SIZE)\n",
    "val_dataloader = create_dataloader(val_dataset, BATCH_SIZE)\n",
    "test_dataloader = create_dataloader(test_dataset, BATCH_SIZE)"
   ]
  },
  {
   "cell_type": "code",
   "execution_count": 14,
   "id": "68404728",
   "metadata": {
    "execution": {
     "iopub.execute_input": "2024-02-03T08:23:47.256519Z",
     "iopub.status.busy": "2024-02-03T08:23:47.256221Z",
     "iopub.status.idle": "2024-02-03T08:23:47.616668Z",
     "shell.execute_reply": "2024-02-03T08:23:47.615788Z"
    },
    "papermill": {
     "duration": 0.378349,
     "end_time": "2024-02-03T08:23:47.618587",
     "exception": false,
     "start_time": "2024-02-03T08:23:47.240238",
     "status": "completed"
    },
    "tags": []
   },
   "outputs": [
    {
     "data": {
      "text/plain": [
       "18"
      ]
     },
     "execution_count": 14,
     "metadata": {},
     "output_type": "execute_result"
    }
   ],
   "source": [
    "gc.collect()"
   ]
  },
  {
   "cell_type": "code",
   "execution_count": 15,
   "id": "ab629152",
   "metadata": {
    "execution": {
     "iopub.execute_input": "2024-02-03T08:23:47.651689Z",
     "iopub.status.busy": "2024-02-03T08:23:47.650864Z",
     "iopub.status.idle": "2024-02-03T08:23:47.655765Z",
     "shell.execute_reply": "2024-02-03T08:23:47.654875Z"
    },
    "papermill": {
     "duration": 0.023993,
     "end_time": "2024-02-03T08:23:47.657901",
     "exception": false,
     "start_time": "2024-02-03T08:23:47.633908",
     "status": "completed"
    },
    "tags": []
   },
   "outputs": [],
   "source": [
    "def number_parameters(model):\n",
    "    \"\"\"\n",
    "    Computes the number of trainable parameters in the model\n",
    "    \"\"\"\n",
    "    return sum(p.numel() for p in model.parameters() if p.requires_grad)"
   ]
  },
  {
   "cell_type": "markdown",
   "id": "ffd72c93",
   "metadata": {
    "papermill": {
     "duration": 0.015205,
     "end_time": "2024-02-03T08:23:47.688728",
     "exception": false,
     "start_time": "2024-02-03T08:23:47.673523",
     "status": "completed"
    },
    "tags": []
   },
   "source": [
    "# 0-A Text-Only"
   ]
  },
  {
   "cell_type": "code",
   "execution_count": 16,
   "id": "d069ddf7",
   "metadata": {
    "execution": {
     "iopub.execute_input": "2024-02-03T08:23:47.720764Z",
     "iopub.status.busy": "2024-02-03T08:23:47.720439Z",
     "iopub.status.idle": "2024-02-03T08:23:47.728416Z",
     "shell.execute_reply": "2024-02-03T08:23:47.727503Z"
    },
    "papermill": {
     "duration": 0.02641,
     "end_time": "2024-02-03T08:23:47.730381",
     "exception": false,
     "start_time": "2024-02-03T08:23:47.703971",
     "status": "completed"
    },
    "tags": []
   },
   "outputs": [],
   "source": [
    "class TextModel(nn.Module):\n",
    "    \"\"\"\n",
    "    Class for the text-only model\n",
    "    \"\"\"\n",
    "    def __init__(self, tokenizer, embedder, head):\n",
    "        \"\"\"\n",
    "        Args:\n",
    "            tokenizer: tokenizer to use\n",
    "            embedder: embedder to use\n",
    "            head: head to use\n",
    "        \"\"\"\n",
    "        super().__init__()\n",
    "        self.tokenizer = tokenizer\n",
    "        self.embedder = embedder\n",
    "        self.head = head\n",
    "    def forward(self, texts, audio_features, audio_attention):\n",
    "        \"\"\"\n",
    "        Forward pass of the model\n",
    "        Args:\n",
    "            texts: texts to use\n",
    "            audio_features: audio features to use\n",
    "            audio_attentions: audio attentions to use\n",
    "        \"\"\"\n",
    "        tokenizer_output = self.tokenizer(texts, return_tensors='pt', padding=True, truncation=False).to(device)\n",
    "        embedder_output = self.embedder(**tokenizer_output, output_hidden_states=True)\n",
    "        text_features = embedder_output['last_hidden_state']\n",
    "\n",
    "        # pooling transformer output\n",
    "        text_features_sum = (text_features * tokenizer_output.attention_mask.unsqueeze(-1)).sum(axis=1)\n",
    "        text_features_pooled = text_features_sum / tokenizer_output.attention_mask.sum(axis=1).unsqueeze(-1)\n",
    "        return self.head(text_features_pooled)"
   ]
  },
  {
   "cell_type": "markdown",
   "id": "9962076d",
   "metadata": {
    "papermill": {
     "duration": 0.015001,
     "end_time": "2024-02-03T08:23:47.760811",
     "exception": false,
     "start_time": "2024-02-03T08:23:47.745810",
     "status": "completed"
    },
    "tags": []
   },
   "source": [
    "# 0-B Audio-Only"
   ]
  },
  {
   "cell_type": "code",
   "execution_count": 17,
   "id": "92503e7f",
   "metadata": {
    "execution": {
     "iopub.execute_input": "2024-02-03T08:23:47.792712Z",
     "iopub.status.busy": "2024-02-03T08:23:47.792360Z",
     "iopub.status.idle": "2024-02-03T08:23:47.802092Z",
     "shell.execute_reply": "2024-02-03T08:23:47.801339Z"
    },
    "papermill": {
     "duration": 0.028016,
     "end_time": "2024-02-03T08:23:47.803957",
     "exception": false,
     "start_time": "2024-02-03T08:23:47.775941",
     "status": "completed"
    },
    "tags": []
   },
   "outputs": [],
   "source": [
    "class AudioModel(nn.Module):        \n",
    "    \"\"\"\n",
    "    Class for the audio-only model\n",
    "    \"\"\"\n",
    "    def __init__(self, transformer, head, dropout_prob=0.1):\n",
    "        \"\"\"\n",
    "        Args:\n",
    "            transformer: transformer to use\n",
    "            head: head to use\n",
    "        \"\"\"\n",
    "        super().__init__()\n",
    "        self.pos_encoder = PositionalEncoding(EMBEDDING_DIM, dual_modality=False)\n",
    "        self.transformer = transformer\n",
    "        self.head = head\n",
    "        self.ln = LayerNorm(EMBEDDING_DIM)\n",
    "        self.dropout = nn.Dropout(dropout_prob)\n",
    "        \n",
    "    def forward(self, texts, audio_features, audio_attention):\n",
    "        global hard_debug\n",
    "        \"\"\"\n",
    "        Forward pass of the model\n",
    "        Args:\n",
    "            texts: texts to use\n",
    "            audio_features: audio features to use\n",
    "            audio_attentions: audio attentions to use\n",
    "        \"\"\"\n",
    "        padding_mask = ~audio_attention.to(torch.bool)        \n",
    "        full_attention_mask = torch.zeros((audio_features.shape[1],audio_features.shape[1]), dtype=torch.bool).to(device)\n",
    "        \n",
    "        audio_features = self.pos_encoder(audio_features)\n",
    "        \n",
    "        transformer_output = self.transformer(audio_features, mask=full_attention_mask, src_key_padding_mask=padding_mask)\n",
    "        \n",
    "        # Dropout and LayerNorm to help training phase\n",
    "        transformer_output = self.dropout(transformer_output)\n",
    "        transformer_output = self.ln(audio_features + transformer_output)\n",
    "\n",
    "        transformer_output_sum = (transformer_output * audio_attention.unsqueeze(-1)).sum(axis=1)\n",
    "        transformer_output_pooled = transformer_output_sum / audio_attention.sum(axis=1).unsqueeze(-1)\n",
    "\n",
    "        return self.head(transformer_output_pooled)"
   ]
  },
  {
   "cell_type": "markdown",
   "id": "8fae1927",
   "metadata": {
    "papermill": {
     "duration": 0.015941,
     "end_time": "2024-02-03T08:23:47.835456",
     "exception": false,
     "start_time": "2024-02-03T08:23:47.819515",
     "status": "completed"
    },
    "tags": []
   },
   "source": [
    "# 1 - Crossmodal Self-Attention (CSA)"
   ]
  },
  {
   "cell_type": "code",
   "execution_count": 18,
   "id": "a293995b",
   "metadata": {
    "execution": {
     "iopub.execute_input": "2024-02-03T08:23:47.867607Z",
     "iopub.status.busy": "2024-02-03T08:23:47.867244Z",
     "iopub.status.idle": "2024-02-03T08:23:47.878211Z",
     "shell.execute_reply": "2024-02-03T08:23:47.877218Z"
    },
    "papermill": {
     "duration": 0.029122,
     "end_time": "2024-02-03T08:23:47.880012",
     "exception": false,
     "start_time": "2024-02-03T08:23:47.850890",
     "status": "completed"
    },
    "tags": []
   },
   "outputs": [],
   "source": [
    "class CSA(nn.Module):\n",
    "    \"\"\"\n",
    "    Class for the multimodal transformer model\n",
    "    \"\"\"\n",
    "    def __init__(self, tokenizer, embedder, transformer, head, hidden_state_index=8):\n",
    "        \"\"\"\n",
    "        Args:\n",
    "            tokenizer: tokenizer to use\n",
    "            embedder: embedder to use\n",
    "            transformer: transformer to use\n",
    "            head: head to use\n",
    "        \"\"\"\n",
    "        super().__init__()\n",
    "        self.pos_encoder = PositionalEncoding(EMBEDDING_DIM, dual_modality=False)\n",
    "        self.tokenizer = tokenizer\n",
    "        self.embedder = embedder\n",
    "        self.transformer = transformer\n",
    "        self.head = head\n",
    "        self.hidden_state_index = hidden_state_index\n",
    "\n",
    "    def forward(self, texts, audio_features, audio_attentions):\n",
    "        \"\"\"\n",
    "        Forward pass of the model\n",
    "        Args:\n",
    "            texts: texts to use\n",
    "            audio_features: audio features to use\n",
    "            audio_attentions: audio attentions to use\n",
    "        \"\"\"\n",
    "        tokenizer_output = self.tokenizer(texts, return_tensors='pt', padding=True, truncation=False).to(device)\n",
    "        embedder_output = self.embedder(**tokenizer_output, output_hidden_states=True)\n",
    "        if self.hidden_state_index == -1:\n",
    "            text_features = embedder_output['last_hidden_state']\n",
    "        else:\n",
    "            assert self.hidden_state_index < len(embedder_output['hidden_states']), f'hidden_state_index must be between 0 and {len(embedder_output[\"hidden_states\"])}'\n",
    "            text_features = embedder_output['hidden_states'][self.hidden_state_index]\n",
    "        text_attentions = tokenizer_output.attention_mask\n",
    "\n",
    "        concatenated_attentions = torch.cat((text_attentions, audio_attentions.float()), dim=1)\n",
    "        \n",
    "        audio_features = self.pos_encoder(audio_features)\n",
    "        \n",
    "        concatenated_features = torch.cat((text_features, audio_features), dim=1)\n",
    "\n",
    "        transformer_output = self.transformer(concatenated_features, text_attentions, audio_attentions)\n",
    "\n",
    "        # pooling of transformer output        \n",
    "        transformer_output_sum = (transformer_output * concatenated_attentions.unsqueeze(-1)).sum(axis=1)\n",
    "        transformer_output_pooled = transformer_output_sum / concatenated_attentions.sum(axis=1).unsqueeze(-1)\n",
    "        return self.head(transformer_output_pooled)"
   ]
  },
  {
   "cell_type": "markdown",
   "id": "2df17cb6",
   "metadata": {
    "papermill": {
     "duration": 0.015379,
     "end_time": "2024-02-03T08:23:47.910665",
     "exception": false,
     "start_time": "2024-02-03T08:23:47.895286",
     "status": "completed"
    },
    "tags": []
   },
   "source": [
    "# 2 - Ensembling"
   ]
  },
  {
   "cell_type": "code",
   "execution_count": 19,
   "id": "0ea06797",
   "metadata": {
    "execution": {
     "iopub.execute_input": "2024-02-03T08:23:47.942543Z",
     "iopub.status.busy": "2024-02-03T08:23:47.942187Z",
     "iopub.status.idle": "2024-02-03T08:23:47.951391Z",
     "shell.execute_reply": "2024-02-03T08:23:47.950588Z"
    },
    "papermill": {
     "duration": 0.027508,
     "end_time": "2024-02-03T08:23:47.953400",
     "exception": false,
     "start_time": "2024-02-03T08:23:47.925892",
     "status": "completed"
    },
    "tags": []
   },
   "outputs": [],
   "source": [
    " class Ensembling(nn.Module):\n",
    "    \"\"\"\n",
    "    Class for the ensembling model\n",
    "    \"\"\"\n",
    "    def __init__(self, text_model, audio_model, lower_bound=0.3, upper_bound=0.7):\n",
    "        \"\"\"\n",
    "        Args:\n",
    "            text_model: text model to use\n",
    "            audio_model: audio model to use\n",
    "            lower_bound: lower bound for the weight\n",
    "            upper_bound: upper bound for the weight\n",
    "        \"\"\"\n",
    "        super().__init__()\n",
    "        self.text_model = text_model\n",
    "        self.audio_model = audio_model\n",
    "        # weight to balance the two models, 0 because (tanh(0)+1)/2 = 0.5 => equal weight to both models\n",
    "        self.weight = torch.nn.Parameter(torch.tensor(0.0))\n",
    "        self.lower_bound = lower_bound\n",
    "        self.upper_bound = upper_bound\n",
    "        \n",
    "    def forward(self, texts, audio_features, audio_attentions):\n",
    "        \"\"\"\n",
    "        Forward pass of the model\n",
    "        Args:\n",
    "            texts: texts to use\n",
    "            audio_features: audio features to use\n",
    "            audio_attentions: audio attentions to use\n",
    "        \"\"\"\n",
    "        text_logits = self.text_model(texts, audio_features, audio_attentions)\n",
    "        audio_logits = self.audio_model(texts, audio_features, audio_attentions)\n",
    "        \n",
    "        text_probabilities = torch.nn.functional.softmax(text_logits)\n",
    "        audio_probabilities = torch.nn.functional.softmax(audio_logits)\n",
    "        \n",
    "        # coefficient to balance the two models based on weight learned\n",
    "        # (tanh + 1) / 2 to have values in [0,1]\n",
    "        coefficient = (torch.tanh(self.weight) + 1) / 2\n",
    "        # next step is to have values in [lower_bound, upper_bound] to avoid too much imbalance\n",
    "        coefficient = coefficient * (self.upper_bound - self.lower_bound) + self.lower_bound\n",
    "        \n",
    "        return coefficient*text_probabilities + (1-coefficient)*audio_probabilities"
   ]
  },
  {
   "cell_type": "markdown",
   "id": "dc81cf37",
   "metadata": {
    "papermill": {
     "duration": 0.01514,
     "end_time": "2024-02-03T08:23:47.984013",
     "exception": false,
     "start_time": "2024-02-03T08:23:47.968873",
     "status": "completed"
    },
    "tags": []
   },
   "source": [
    "# 3 - Multimodal unaligned Text-Audio (MulT-TA)"
   ]
  },
  {
   "cell_type": "code",
   "execution_count": 20,
   "id": "d7233590",
   "metadata": {
    "execution": {
     "iopub.execute_input": "2024-02-03T08:23:48.016269Z",
     "iopub.status.busy": "2024-02-03T08:23:48.015924Z",
     "iopub.status.idle": "2024-02-03T08:23:48.034244Z",
     "shell.execute_reply": "2024-02-03T08:23:48.033303Z"
    },
    "papermill": {
     "duration": 0.03706,
     "end_time": "2024-02-03T08:23:48.036157",
     "exception": false,
     "start_time": "2024-02-03T08:23:47.999097",
     "status": "completed"
    },
    "tags": []
   },
   "outputs": [],
   "source": [
    "class MulTA_CrossAttentionBlock(nn.Module):\n",
    "    \"\"\"\n",
    "    Class for the cross modal attention block\n",
    "    \"\"\"\n",
    "    def __init__(self, embedding_dim, d_ffn, num_heads=4, dropout_prob=0.1):\n",
    "        \"\"\"\n",
    "        Args:\n",
    "            embedding_dim: dimension of the embedding\n",
    "            d_ffn: dimension of the feed forward layer\n",
    "            num_heads: number of heads to use\n",
    "            dropout_prob: dropout to use\n",
    "        \"\"\"\n",
    "        super().__init__()\n",
    "        self.embedding_dim = embedding_dim\n",
    "        self.d_ffn = d_ffn\n",
    "        self.num_heads = num_heads\n",
    "        self.dropout_prob = dropout_prob\n",
    "        self.layer_norm = nn.LayerNorm(self.embedding_dim)\n",
    "        self.mh_attention = nn.MultiheadAttention(embed_dim=self.embedding_dim, num_heads=self.num_heads, dropout=self.dropout_prob, batch_first=True)\n",
    "        self.pointwise_ff = PositionwiseFeedForward(d_model=self.embedding_dim, hidden=self.d_ffn)\n",
    "    \n",
    "    def forward(self, elem_a, elem_b, attn_mask):\n",
    "        \"\"\"\n",
    "        Forward pass of the model\n",
    "        Args:\n",
    "            elem_a: elements of the modality A\n",
    "            elem_b: elements of the modality B\n",
    "            attn_mask: attention mask to use\n",
    "        \"\"\"\n",
    "        elem_a = self.layer_norm(elem_a)\n",
    "        elem_b = self.layer_norm(elem_b)\n",
    "        attn_mask = attn_mask.to(torch.float32)\n",
    "        \n",
    "        # cross modal attention with elem_a as query and elem_b as key and value\n",
    "        mh_out, _ = self.mh_attention(elem_a, elem_b, elem_b, key_padding_mask=attn_mask, need_weights=False)\n",
    "        # residual connection\n",
    "        add_out = mh_out + elem_a\n",
    "        \n",
    "        add_out_norm = self.layer_norm(add_out)\n",
    "        out_ffn = self.pointwise_ff(add_out_norm)\n",
    "        out = out_ffn + add_out\n",
    "        return out\n",
    "    \n",
    "class MulTA(nn.Module):\n",
    "    \"\"\"\n",
    "    Class for the unaligned multimodal model\n",
    "    \"\"\"\n",
    "    def __init__(self, embedding_dim, d_ffn, n_blocks, head, dropout_prob=0.1, hidden_state_index=8):\n",
    "        \"\"\"\n",
    "        Args:\n",
    "            embedding_dim: dimension of the embedding\n",
    "            d_ffn: dimension of the feed forward layer\n",
    "            n_blocks: number of blocks to use\n",
    "            head: head to use\n",
    "        \"\"\"\n",
    "        super().__init__()\n",
    "        self.embedding_dim = embedding_dim\n",
    "        self.d_ffn = d_ffn\n",
    "        self.n_blocks = n_blocks\n",
    "        self.head = head\n",
    "        self.dropout_prob = dropout_prob\n",
    "        self.text_crossmodal_blocks = nn.ModuleList([\n",
    "            MulTA_CrossAttentionBlock(self.embedding_dim, self.d_ffn, dropout_prob=self.dropout_prob) for _ in range(self.n_blocks)\n",
    "        ])\n",
    "        self.audio_crossmodal_blocks = nn.ModuleList([\n",
    "            MulTA_CrossAttentionBlock(self.embedding_dim, self.d_ffn,  dropout_prob=self.dropout_prob) for _ in range(self.n_blocks)\n",
    "        ])\n",
    "        self.pos_encoder = PositionalEncoding(embedding_dim, dual_modality=False)\n",
    "        self.hidden_state_index = hidden_state_index\n",
    "    \n",
    "    def forward(self, texts, audio_features, audio_attentions):\n",
    "        \"\"\"\n",
    "        Forward pass of the model\n",
    "        Args:\n",
    "            texts: texts to use\n",
    "            audio_features: audio features to use\n",
    "            audio_attentions: audio attentions to use\n",
    "        \"\"\"\n",
    "        tokenizer_output = tokenizer(texts, return_tensors='pt', padding=True, truncation=False).to(device)\n",
    "        embedder_output = embedder(**tokenizer_output, output_hidden_states=True)\n",
    "        if self.hidden_state_index == -1:\n",
    "            text_features = embedder_output['last_hidden_state']\n",
    "        else:\n",
    "            assert self.hidden_state_index < len(embedder_output['hidden_states']), f'hidden_state_index must be between 0 and {len(embedder_output[\"hidden_states\"])}'\n",
    "            text_features = embedder_output['hidden_states'][self.hidden_state_index]\n",
    "        text_features = self.pos_encoder(text_features)\n",
    "        text_attentions = tokenizer_output.attention_mask\n",
    "        \n",
    "        audio_features = self.pos_encoder(audio_features)\n",
    "        \n",
    "        # cross modal attention blocks for text\n",
    "        # using audio features as key and value and text features as query\n",
    "        text_crossmodal_out = text_features\n",
    "        for cm_block in self.text_crossmodal_blocks:\n",
    "            text_crossmodal_out = cm_block(text_crossmodal_out, audio_features, audio_attentions)\n",
    "        \n",
    "        # cross modal attention blocks for audio\n",
    "        # using text features as key and value and audio features as query\n",
    "        audio_crossmodal_out = audio_features\n",
    "        for cm_block in self.audio_crossmodal_blocks:\n",
    "            audio_crossmodal_out = cm_block(audio_crossmodal_out, text_features, text_attentions)\n",
    "\n",
    "        # pooling of transformer output\n",
    "        text_crossmodal_out_mean = torch.mean(text_crossmodal_out, dim=1)\n",
    "        audio_crossmodal_out_mean = torch.mean(audio_crossmodal_out, dim=1)\n",
    "        \n",
    "        # concatenate text and audio features\n",
    "        text_audio = torch.cat((text_crossmodal_out_mean, audio_crossmodal_out_mean), dim=-1)\n",
    "        \n",
    "        return self.head(text_audio)"
   ]
  },
  {
   "cell_type": "markdown",
   "id": "22234451",
   "metadata": {
    "papermill": {
     "duration": 0.014831,
     "end_time": "2024-02-03T08:23:48.066275",
     "exception": false,
     "start_time": "2024-02-03T08:23:48.051444",
     "status": "completed"
    },
    "tags": []
   },
   "source": [
    "# Training of the models"
   ]
  },
  {
   "cell_type": "code",
   "execution_count": 21,
   "id": "97a6d180",
   "metadata": {
    "execution": {
     "iopub.execute_input": "2024-02-03T08:23:48.098880Z",
     "iopub.status.busy": "2024-02-03T08:23:48.098528Z",
     "iopub.status.idle": "2024-02-03T08:23:48.113720Z",
     "shell.execute_reply": "2024-02-03T08:23:48.112810Z"
    },
    "papermill": {
     "duration": 0.033864,
     "end_time": "2024-02-03T08:23:48.115610",
     "exception": false,
     "start_time": "2024-02-03T08:23:48.081746",
     "status": "completed"
    },
    "tags": []
   },
   "outputs": [],
   "source": [
    "def create_models(\n",
    "        head_hidden_dimension=256, dropout_prob=0.1, hidden_state_index=8,   # shared parameters\n",
    "        audioonly_nheads=8, audioonly_d_ffn=100, audioonly_n_layers=1, # audio only parameters\n",
    "        csa_nheads=4, csa_d_ffn=2048, csa_n_layers=1, # multimodal parameters\n",
    "        ensembling_nheads=4, ensembling_d_ffn=2048, ensembling_n_layers=1, # ensembling parameters\n",
    "        multa_nblocks=4, multa_d_ffn=2048 # unaligned parameters\n",
    "    ):\n",
    "    \"\"\"\n",
    "    Creates all the models\n",
    "    \"\"\"\n",
    "    ###################################################################################### -- TEXT MODEL --\n",
    "    text_only_head = nn.Sequential(\n",
    "        nn.Linear(EMBEDDING_DIM, head_hidden_dimension),\n",
    "        nn.ReLU(),\n",
    "        nn.Linear(head_hidden_dimension, MODEL_NUM_LABELS)\n",
    "    ).to(device)\n",
    "    text_only = TextModel(tokenizer, embedder, text_only_head)\n",
    "\n",
    "\n",
    "    ###################################################################################### -- AUDIO MODEL --   \n",
    "    audio_only_head = nn.Sequential(\n",
    "        nn.Linear(EMBEDDING_DIM, head_hidden_dimension),\n",
    "        nn.ReLU(),\n",
    "        nn.Linear(head_hidden_dimension, MODEL_NUM_LABELS)\n",
    "    ).to(device)\n",
    "    audio_only_transformer_layer = nn.TransformerEncoderLayer(d_model=EMBEDDING_DIM, nhead=audioonly_nheads, dim_feedforward=audioonly_d_ffn, batch_first=True).to(device)\n",
    "    audio_only_transformer_encoder = nn.TransformerEncoder(audio_only_transformer_layer, num_layers=audioonly_n_layers).to(device)\n",
    "    audio_only = AudioModel(audio_only_transformer_encoder, audio_only_head).to(device)\n",
    "\n",
    "\n",
    "    ###################################################################################### -- MULTIMODAL MODEL --\n",
    "    multimodal_encoder = CustomEncoder(d_model=EMBEDDING_DIM, ffn_hidden=csa_d_ffn, n_head=csa_nheads, n_layers=csa_n_layers, drop_prob=dropout_prob)\n",
    "    multimodal_transformer_head = nn.Sequential(\n",
    "        nn.Linear(EMBEDDING_DIM, head_hidden_dimension),\n",
    "        nn.ReLU(),\n",
    "        nn.Linear(head_hidden_dimension, MODEL_NUM_LABELS)\n",
    "    ).to(device)\n",
    "    multimodal_transformer = CSA(tokenizer, embedder, multimodal_encoder, multimodal_transformer_head, hidden_state_index=hidden_state_index).to(device)\n",
    "\n",
    "\n",
    "    ###################################################################################### -- ENSEMBLING MODEL --\n",
    "    ensembling_text_head = nn.Sequential(\n",
    "        nn.Linear(EMBEDDING_DIM, head_hidden_dimension),\n",
    "        nn.ReLU(),\n",
    "        nn.Linear(head_hidden_dimension, MODEL_NUM_LABELS)\n",
    "    ).to(device)\n",
    "    ensembling_audio_head = nn.Sequential(\n",
    "        nn.Linear(EMBEDDING_DIM, head_hidden_dimension),\n",
    "        nn.ReLU(),\n",
    "        nn.Linear(head_hidden_dimension, MODEL_NUM_LABELS)\n",
    "    ).to(device)\n",
    "    ensembling_transformer_layer = nn.TransformerEncoderLayer(d_model=EMBEDDING_DIM, nhead=ensembling_nheads, dim_feedforward=ensembling_d_ffn, batch_first=True).to(device)\n",
    "    ensembling_transformer_encoder = nn.TransformerEncoder(ensembling_transformer_layer, num_layers=ensembling_n_layers).to(device)\n",
    "    ensembling_text_model = TextModel(tokenizer, embedder, ensembling_text_head)\n",
    "    ensembling_audio_model = AudioModel(ensembling_transformer_encoder, ensembling_audio_head)\n",
    "    ensembling_fusion = Ensembling(ensembling_text_model, ensembling_audio_model).to(device)\n",
    "\n",
    "\n",
    "    ###################################################################################### -- UNALIGNED MODEL --\n",
    "    unaligned_head = nn.Sequential(\n",
    "        nn.Linear(EMBEDDING_DIM*2, head_hidden_dimension),\n",
    "        nn.ReLU(),\n",
    "        nn.Linear(head_hidden_dimension, MODEL_NUM_LABELS)\n",
    "    ).to(device)\n",
    "    unaligned_mm_model = MulTA(embedding_dim=EMBEDDING_DIM, d_ffn=multa_d_ffn, n_blocks=multa_nblocks, head=unaligned_head, hidden_state_index=hidden_state_index, dropout_prob=dropout_prob).to(device)\n",
    "    \n",
    "\n",
    "    ###################################################################################### -- RETURN --\n",
    "    model_names = ['Text-Only', 'Audio-Only', 'CSA', 'Ensembling', 'Mul-TA']\n",
    "    models = [text_only, audio_only, multimodal_transformer, ensembling_fusion, unaligned_mm_model ]    \n",
    "    return model_names, models"
   ]
  },
  {
   "cell_type": "code",
   "execution_count": 22,
   "id": "438816d4",
   "metadata": {
    "execution": {
     "iopub.execute_input": "2024-02-03T08:23:48.147935Z",
     "iopub.status.busy": "2024-02-03T08:23:48.147577Z",
     "iopub.status.idle": "2024-02-03T15:45:33.777729Z",
     "shell.execute_reply": "2024-02-03T15:45:33.776819Z"
    },
    "papermill": {
     "duration": 26505.648973,
     "end_time": "2024-02-03T15:45:33.779945",
     "exception": false,
     "start_time": "2024-02-03T08:23:48.130972",
     "status": "completed"
    },
    "tags": []
   },
   "outputs": [
    {
     "name": "stdout",
     "output_type": "stream",
     "text": [
      "========================================TRAINING WITH SEED 1========================================\n",
      "\n",
      "______________________________________Training model Text-Only______________________________________\n"
     ]
    },
    {
     "name": "stderr",
     "output_type": "stream",
     "text": [
      " 10%|█         | 1/10 [01:02<09:20, 62.25s/it]"
     ]
    },
    {
     "name": "stdout",
     "output_type": "stream",
     "text": [
      "Epoch: 0, Training Loss: 0.0503, Validation Loss: 0.0509, accuracy = 0.6835, F1=0.6774\n"
     ]
    },
    {
     "name": "stderr",
     "output_type": "stream",
     "text": [
      " 20%|██        | 2/10 [02:03<08:12, 61.62s/it]"
     ]
    },
    {
     "name": "stdout",
     "output_type": "stream",
     "text": [
      "Epoch: 1, Training Loss: 0.0473, Validation Loss: 0.0508, accuracy = 0.6808, F1=0.6798\n"
     ]
    },
    {
     "name": "stderr",
     "output_type": "stream",
     "text": [
      " 30%|███       | 3/10 [03:04<07:08, 61.27s/it]"
     ]
    },
    {
     "name": "stdout",
     "output_type": "stream",
     "text": [
      "Epoch: 2, Training Loss: 0.0467, Validation Loss: 0.0505, accuracy = 0.6872, F1=0.6845\n"
     ]
    },
    {
     "name": "stderr",
     "output_type": "stream",
     "text": [
      " 40%|████      | 4/10 [04:06<06:09, 61.65s/it]"
     ]
    },
    {
     "name": "stdout",
     "output_type": "stream",
     "text": [
      "Epoch: 3, Training Loss: 0.0459, Validation Loss: 0.0498, accuracy = 0.6870, F1=0.6848\n"
     ]
    },
    {
     "name": "stderr",
     "output_type": "stream",
     "text": [
      " 50%|█████     | 5/10 [05:09<05:10, 62.01s/it]"
     ]
    },
    {
     "name": "stdout",
     "output_type": "stream",
     "text": [
      "Epoch: 4, Training Loss: 0.0455, Validation Loss: 0.0506, accuracy = 0.6845, F1=0.6768\n"
     ]
    },
    {
     "name": "stderr",
     "output_type": "stream",
     "text": [
      " 60%|██████    | 6/10 [06:10<04:07, 61.93s/it]"
     ]
    },
    {
     "name": "stdout",
     "output_type": "stream",
     "text": [
      "Epoch: 5, Training Loss: 0.0451, Validation Loss: 0.0503, accuracy = 0.6849, F1=0.6802\n"
     ]
    },
    {
     "name": "stderr",
     "output_type": "stream",
     "text": [
      " 70%|███████   | 7/10 [07:12<03:05, 61.69s/it]"
     ]
    },
    {
     "name": "stdout",
     "output_type": "stream",
     "text": [
      "Epoch: 6, Training Loss: 0.0450, Validation Loss: 0.0502, accuracy = 0.6826, F1=0.6825\n"
     ]
    },
    {
     "name": "stderr",
     "output_type": "stream",
     "text": [
      " 80%|████████  | 8/10 [08:12<02:02, 61.37s/it]"
     ]
    },
    {
     "name": "stdout",
     "output_type": "stream",
     "text": [
      "Epoch: 7, Training Loss: 0.0448, Validation Loss: 0.0496, accuracy = 0.6901, F1=0.6860\n"
     ]
    },
    {
     "name": "stderr",
     "output_type": "stream",
     "text": [
      " 90%|█████████ | 9/10 [09:13<01:01, 61.31s/it]"
     ]
    },
    {
     "name": "stdout",
     "output_type": "stream",
     "text": [
      "Epoch: 8, Training Loss: 0.0444, Validation Loss: 0.0498, accuracy = 0.6897, F1=0.6874\n"
     ]
    },
    {
     "name": "stderr",
     "output_type": "stream",
     "text": [
      "100%|██████████| 10/10 [10:15<00:00, 61.53s/it]"
     ]
    },
    {
     "name": "stdout",
     "output_type": "stream",
     "text": [
      "Epoch: 9, Training Loss: 0.0438, Validation Loss: 0.0498, accuracy = 0.6885, F1=0.6872\n"
     ]
    },
    {
     "name": "stderr",
     "output_type": "stream",
     "text": [
      "\n"
     ]
    },
    {
     "name": "stdout",
     "output_type": "stream",
     "text": [
      "[VAL] Model: Text-Only - acc: 0.6901 - f1: 0.6860\n",
      "[TEST] Model: Text-Only - acc: 0.6830 - f1: 0.6811\n",
      "\n",
      "_____________________________________Training model Audio-Only______________________________________\n"
     ]
    },
    {
     "name": "stderr",
     "output_type": "stream",
     "text": [
      " 10%|█         | 1/10 [00:45<06:52, 45.79s/it]"
     ]
    },
    {
     "name": "stdout",
     "output_type": "stream",
     "text": [
      "Epoch: 0, Training Loss: 0.0581, Validation Loss: 0.0579, accuracy = 0.5189, F1=0.5182\n"
     ]
    },
    {
     "name": "stderr",
     "output_type": "stream",
     "text": [
      " 20%|██        | 2/10 [01:31<06:06, 45.84s/it]"
     ]
    },
    {
     "name": "stdout",
     "output_type": "stream",
     "text": [
      "Epoch: 1, Training Loss: 0.0577, Validation Loss: 0.0581, accuracy = 0.4632, F1=0.3546\n"
     ]
    },
    {
     "name": "stderr",
     "output_type": "stream",
     "text": [
      " 30%|███       | 3/10 [02:17<05:20, 45.85s/it]"
     ]
    },
    {
     "name": "stdout",
     "output_type": "stream",
     "text": [
      "Epoch: 2, Training Loss: 0.0577, Validation Loss: 0.0578, accuracy = 0.5301, F1=0.5129\n"
     ]
    },
    {
     "name": "stderr",
     "output_type": "stream",
     "text": [
      " 40%|████      | 4/10 [03:03<04:36, 46.06s/it]"
     ]
    },
    {
     "name": "stdout",
     "output_type": "stream",
     "text": [
      "Epoch: 3, Training Loss: 0.0576, Validation Loss: 0.0579, accuracy = 0.5226, F1=0.5183\n"
     ]
    },
    {
     "name": "stderr",
     "output_type": "stream",
     "text": [
      " 50%|█████     | 5/10 [03:49<03:50, 46.04s/it]"
     ]
    },
    {
     "name": "stdout",
     "output_type": "stream",
     "text": [
      "Epoch: 4, Training Loss: 0.0576, Validation Loss: 0.0578, accuracy = 0.5389, F1=0.4279\n"
     ]
    },
    {
     "name": "stderr",
     "output_type": "stream",
     "text": [
      " 60%|██████    | 6/10 [04:36<03:04, 46.07s/it]"
     ]
    },
    {
     "name": "stdout",
     "output_type": "stream",
     "text": [
      "Epoch: 5, Training Loss: 0.0576, Validation Loss: 0.0579, accuracy = 0.4918, F1=0.4683\n"
     ]
    },
    {
     "name": "stderr",
     "output_type": "stream",
     "text": [
      " 70%|███████   | 7/10 [05:21<02:18, 46.02s/it]"
     ]
    },
    {
     "name": "stdout",
     "output_type": "stream",
     "text": [
      "Epoch 00007: reducing learning rate of group 0 to 1.0000e-05.\n",
      "Epoch: 6, Training Loss: 0.0576, Validation Loss: 0.0578, accuracy = 0.5341, F1=0.5116\n"
     ]
    },
    {
     "name": "stderr",
     "output_type": "stream",
     "text": [
      " 80%|████████  | 8/10 [06:07<01:31, 45.88s/it]"
     ]
    },
    {
     "name": "stdout",
     "output_type": "stream",
     "text": [
      "Epoch: 7, Training Loss: 0.0575, Validation Loss: 0.0578, accuracy = 0.5314, F1=0.5125\n"
     ]
    },
    {
     "name": "stderr",
     "output_type": "stream",
     "text": [
      " 90%|█████████ | 9/10 [06:53<00:46, 46.00s/it]"
     ]
    },
    {
     "name": "stdout",
     "output_type": "stream",
     "text": [
      "Epoch: 8, Training Loss: 0.0575, Validation Loss: 0.0578, accuracy = 0.5287, F1=0.5128\n"
     ]
    },
    {
     "name": "stderr",
     "output_type": "stream",
     "text": [
      "100%|██████████| 10/10 [07:39<00:00, 45.97s/it]"
     ]
    },
    {
     "name": "stdout",
     "output_type": "stream",
     "text": [
      "Epoch: 9, Training Loss: 0.0575, Validation Loss: 0.0578, accuracy = 0.5262, F1=0.5138\n"
     ]
    },
    {
     "name": "stderr",
     "output_type": "stream",
     "text": [
      "\n"
     ]
    },
    {
     "name": "stdout",
     "output_type": "stream",
     "text": [
      "[VAL] Model: Audio-Only - acc: 0.5341 - f1: 0.5116\n",
      "[TEST] Model: Audio-Only - acc: 0.5486 - f1: 0.5320\n",
      "\n",
      "_________________________________________Training model CSA_________________________________________\n"
     ]
    },
    {
     "name": "stderr",
     "output_type": "stream",
     "text": [
      " 10%|█         | 1/10 [01:36<14:26, 96.25s/it]"
     ]
    },
    {
     "name": "stdout",
     "output_type": "stream",
     "text": [
      "Epoch: 0, Training Loss: 0.0480, Validation Loss: 0.0515, accuracy = 0.7101, F1=0.7034\n"
     ]
    },
    {
     "name": "stderr",
     "output_type": "stream",
     "text": [
      " 20%|██        | 2/10 [03:12<12:49, 96.23s/it]"
     ]
    },
    {
     "name": "stdout",
     "output_type": "stream",
     "text": [
      "Epoch: 1, Training Loss: 0.0442, Validation Loss: 0.0479, accuracy = 0.7074, F1=0.7053\n"
     ]
    },
    {
     "name": "stderr",
     "output_type": "stream",
     "text": [
      " 30%|███       | 3/10 [04:48<11:12, 96.07s/it]"
     ]
    },
    {
     "name": "stdout",
     "output_type": "stream",
     "text": [
      "Epoch: 2, Training Loss: 0.0428, Validation Loss: 0.0489, accuracy = 0.7093, F1=0.7084\n"
     ]
    },
    {
     "name": "stderr",
     "output_type": "stream",
     "text": [
      " 40%|████      | 4/10 [06:25<09:38, 96.50s/it]"
     ]
    },
    {
     "name": "stdout",
     "output_type": "stream",
     "text": [
      "Epoch: 3, Training Loss: 0.0414, Validation Loss: 0.0495, accuracy = 0.7068, F1=0.7030\n"
     ]
    },
    {
     "name": "stderr",
     "output_type": "stream",
     "text": [
      " 50%|█████     | 5/10 [08:01<08:01, 96.39s/it]"
     ]
    },
    {
     "name": "stdout",
     "output_type": "stream",
     "text": [
      "Epoch: 4, Training Loss: 0.0403, Validation Loss: 0.0492, accuracy = 0.6951, F1=0.6895\n"
     ]
    },
    {
     "name": "stderr",
     "output_type": "stream",
     "text": [
      " 60%|██████    | 6/10 [09:37<06:25, 96.34s/it]"
     ]
    },
    {
     "name": "stdout",
     "output_type": "stream",
     "text": [
      "Epoch 00006: reducing learning rate of group 0 to 1.0000e-05.\n",
      "Epoch: 5, Training Loss: 0.0391, Validation Loss: 0.0561, accuracy = 0.6989, F1=0.6965\n"
     ]
    },
    {
     "name": "stderr",
     "output_type": "stream",
     "text": [
      " 70%|███████   | 7/10 [11:14<04:48, 96.29s/it]"
     ]
    },
    {
     "name": "stdout",
     "output_type": "stream",
     "text": [
      "Epoch: 6, Training Loss: 0.0358, Validation Loss: 0.0533, accuracy = 0.7024, F1=0.7002\n"
     ]
    },
    {
     "name": "stderr",
     "output_type": "stream",
     "text": [
      " 80%|████████  | 8/10 [12:50<03:12, 96.21s/it]"
     ]
    },
    {
     "name": "stdout",
     "output_type": "stream",
     "text": [
      "Epoch: 7, Training Loss: 0.0350, Validation Loss: 0.0529, accuracy = 0.7026, F1=0.6996\n"
     ]
    },
    {
     "name": "stderr",
     "output_type": "stream",
     "text": [
      " 90%|█████████ | 9/10 [14:26<01:36, 96.27s/it]"
     ]
    },
    {
     "name": "stdout",
     "output_type": "stream",
     "text": [
      "Epoch: 8, Training Loss: 0.0341, Validation Loss: 0.0557, accuracy = 0.6974, F1=0.6951\n"
     ]
    },
    {
     "name": "stderr",
     "output_type": "stream",
     "text": [
      "100%|██████████| 10/10 [16:02<00:00, 96.30s/it]"
     ]
    },
    {
     "name": "stdout",
     "output_type": "stream",
     "text": [
      "Epoch 00010: reducing learning rate of group 0 to 1.0000e-06.\n",
      "Epoch: 9, Training Loss: 0.0338, Validation Loss: 0.0556, accuracy = 0.6953, F1=0.6920\n"
     ]
    },
    {
     "name": "stderr",
     "output_type": "stream",
     "text": [
      "\n"
     ]
    },
    {
     "name": "stdout",
     "output_type": "stream",
     "text": [
      "[VAL] Model: CSA - acc: 0.7074 - f1: 0.7053\n",
      "[TEST] Model: CSA - acc: 0.6977 - f1: 0.6970\n",
      "\n",
      "_____________________________________Training model Ensembling______________________________________\n"
     ]
    },
    {
     "name": "stderr",
     "output_type": "stream",
     "text": [
      " 10%|█         | 1/10 [01:37<14:37, 97.48s/it]"
     ]
    },
    {
     "name": "stdout",
     "output_type": "stream",
     "text": [
      "Epoch: 0, Training Loss: 0.0542, Validation Loss: 0.0533, accuracy = 0.6674, F1=0.6650\n"
     ]
    },
    {
     "name": "stderr",
     "output_type": "stream",
     "text": [
      " 20%|██        | 2/10 [03:14<12:59, 97.43s/it]"
     ]
    },
    {
     "name": "stdout",
     "output_type": "stream",
     "text": [
      "Epoch: 1, Training Loss: 0.0520, Validation Loss: 0.0529, accuracy = 0.6743, F1=0.6729\n"
     ]
    },
    {
     "name": "stderr",
     "output_type": "stream",
     "text": [
      " 30%|███       | 3/10 [04:51<11:20, 97.20s/it]"
     ]
    },
    {
     "name": "stdout",
     "output_type": "stream",
     "text": [
      "Epoch: 2, Training Loss: 0.0515, Validation Loss: 0.0526, accuracy = 0.6789, F1=0.6770\n"
     ]
    },
    {
     "name": "stderr",
     "output_type": "stream",
     "text": [
      " 40%|████      | 4/10 [06:29<09:45, 97.55s/it]"
     ]
    },
    {
     "name": "stdout",
     "output_type": "stream",
     "text": [
      "Epoch: 3, Training Loss: 0.0511, Validation Loss: 0.0525, accuracy = 0.6864, F1=0.6814\n"
     ]
    },
    {
     "name": "stderr",
     "output_type": "stream",
     "text": [
      " 50%|█████     | 5/10 [08:08<08:09, 97.88s/it]"
     ]
    },
    {
     "name": "stdout",
     "output_type": "stream",
     "text": [
      "Epoch: 4, Training Loss: 0.0508, Validation Loss: 0.0523, accuracy = 0.6841, F1=0.6783\n"
     ]
    },
    {
     "name": "stderr",
     "output_type": "stream",
     "text": [
      " 60%|██████    | 6/10 [09:46<06:31, 97.84s/it]"
     ]
    },
    {
     "name": "stdout",
     "output_type": "stream",
     "text": [
      "Epoch: 5, Training Loss: 0.0505, Validation Loss: 0.0523, accuracy = 0.6826, F1=0.6785\n"
     ]
    },
    {
     "name": "stderr",
     "output_type": "stream",
     "text": [
      " 70%|███████   | 7/10 [11:23<04:53, 97.67s/it]"
     ]
    },
    {
     "name": "stdout",
     "output_type": "stream",
     "text": [
      "Epoch: 6, Training Loss: 0.0505, Validation Loss: 0.0525, accuracy = 0.6681, F1=0.6670\n"
     ]
    },
    {
     "name": "stderr",
     "output_type": "stream",
     "text": [
      " 80%|████████  | 8/10 [13:00<03:14, 97.45s/it]"
     ]
    },
    {
     "name": "stdout",
     "output_type": "stream",
     "text": [
      "Epoch: 7, Training Loss: 0.0503, Validation Loss: 0.0521, accuracy = 0.6828, F1=0.6810\n"
     ]
    },
    {
     "name": "stderr",
     "output_type": "stream",
     "text": [
      " 90%|█████████ | 9/10 [14:37<01:37, 97.42s/it]"
     ]
    },
    {
     "name": "stdout",
     "output_type": "stream",
     "text": [
      "Epoch: 8, Training Loss: 0.0502, Validation Loss: 0.0521, accuracy = 0.6856, F1=0.6815\n"
     ]
    },
    {
     "name": "stderr",
     "output_type": "stream",
     "text": [
      "100%|██████████| 10/10 [16:15<00:00, 97.55s/it]"
     ]
    },
    {
     "name": "stdout",
     "output_type": "stream",
     "text": [
      "Epoch: 9, Training Loss: 0.0501, Validation Loss: 0.0522, accuracy = 0.6754, F1=0.6754\n"
     ]
    },
    {
     "name": "stderr",
     "output_type": "stream",
     "text": [
      "\n"
     ]
    },
    {
     "name": "stdout",
     "output_type": "stream",
     "text": [
      "[VAL] Model: Ensembling - acc: 0.6856 - f1: 0.6815\n",
      "[TEST] Model: Ensembling - acc: 0.6806 - f1: 0.6781\n",
      "\n",
      "_______________________________________Training model Mul-TA________________________________________\n"
     ]
    },
    {
     "name": "stderr",
     "output_type": "stream",
     "text": [
      " 10%|█         | 1/10 [03:22<30:23, 202.59s/it]"
     ]
    },
    {
     "name": "stdout",
     "output_type": "stream",
     "text": [
      "Epoch: 0, Training Loss: 0.0498, Validation Loss: 0.0528, accuracy = 0.6910, F1=0.6779\n"
     ]
    },
    {
     "name": "stderr",
     "output_type": "stream",
     "text": [
      " 20%|██        | 2/10 [06:45<27:03, 202.95s/it]"
     ]
    },
    {
     "name": "stdout",
     "output_type": "stream",
     "text": [
      "Epoch: 1, Training Loss: 0.0453, Validation Loss: 0.0481, accuracy = 0.7110, F1=0.7073\n"
     ]
    },
    {
     "name": "stderr",
     "output_type": "stream",
     "text": [
      " 30%|███       | 3/10 [10:07<23:36, 202.35s/it]"
     ]
    },
    {
     "name": "stdout",
     "output_type": "stream",
     "text": [
      "Epoch: 2, Training Loss: 0.0440, Validation Loss: 0.0493, accuracy = 0.7085, F1=0.7062\n"
     ]
    },
    {
     "name": "stderr",
     "output_type": "stream",
     "text": [
      " 40%|████      | 4/10 [13:31<20:18, 203.06s/it]"
     ]
    },
    {
     "name": "stdout",
     "output_type": "stream",
     "text": [
      "Epoch: 3, Training Loss: 0.0429, Validation Loss: 0.0478, accuracy = 0.7112, F1=0.7072\n"
     ]
    },
    {
     "name": "stderr",
     "output_type": "stream",
     "text": [
      " 50%|█████     | 5/10 [16:53<16:52, 202.54s/it]"
     ]
    },
    {
     "name": "stdout",
     "output_type": "stream",
     "text": [
      "Epoch: 4, Training Loss: 0.0423, Validation Loss: 0.0512, accuracy = 0.6870, F1=0.6683\n"
     ]
    },
    {
     "name": "stderr",
     "output_type": "stream",
     "text": [
      " 60%|██████    | 6/10 [20:15<13:29, 202.35s/it]"
     ]
    },
    {
     "name": "stdout",
     "output_type": "stream",
     "text": [
      "Epoch: 5, Training Loss: 0.0409, Validation Loss: 0.0515, accuracy = 0.7026, F1=0.7021\n"
     ]
    },
    {
     "name": "stderr",
     "output_type": "stream",
     "text": [
      " 70%|███████   | 7/10 [23:36<10:06, 202.11s/it]"
     ]
    },
    {
     "name": "stdout",
     "output_type": "stream",
     "text": [
      "Epoch: 6, Training Loss: 0.0398, Validation Loss: 0.0488, accuracy = 0.6960, F1=0.6960\n"
     ]
    },
    {
     "name": "stderr",
     "output_type": "stream",
     "text": [
      " 80%|████████  | 8/10 [26:57<06:43, 201.69s/it]"
     ]
    },
    {
     "name": "stdout",
     "output_type": "stream",
     "text": [
      "Epoch 00008: reducing learning rate of group 0 to 1.0000e-05.\n",
      "Epoch: 7, Training Loss: 0.0390, Validation Loss: 0.0494, accuracy = 0.7016, F1=0.7007\n"
     ]
    },
    {
     "name": "stderr",
     "output_type": "stream",
     "text": [
      " 90%|█████████ | 9/10 [30:18<03:21, 201.59s/it]"
     ]
    },
    {
     "name": "stdout",
     "output_type": "stream",
     "text": [
      "Epoch: 8, Training Loss: 0.0359, Validation Loss: 0.0537, accuracy = 0.7022, F1=0.7001\n"
     ]
    },
    {
     "name": "stderr",
     "output_type": "stream",
     "text": [
      "100%|██████████| 10/10 [33:40<00:00, 202.05s/it]"
     ]
    },
    {
     "name": "stdout",
     "output_type": "stream",
     "text": [
      "Epoch: 9, Training Loss: 0.0348, Validation Loss: 0.0550, accuracy = 0.7014, F1=0.6984\n"
     ]
    },
    {
     "name": "stderr",
     "output_type": "stream",
     "text": [
      "\n"
     ]
    },
    {
     "name": "stdout",
     "output_type": "stream",
     "text": [
      "[VAL] Model: Mul-TA - acc: 0.7127 - f1: 0.7086\n",
      "[TEST] Model: Mul-TA - acc: 0.7018 - f1: 0.6990\n",
      "\n",
      "=======================================TRAINING WITH SEED 42========================================\n",
      "\n",
      "______________________________________Training model Text-Only______________________________________\n"
     ]
    },
    {
     "name": "stderr",
     "output_type": "stream",
     "text": [
      " 10%|█         | 1/10 [00:59<08:56, 59.66s/it]"
     ]
    },
    {
     "name": "stdout",
     "output_type": "stream",
     "text": [
      "Epoch: 0, Training Loss: 0.0502, Validation Loss: 0.0503, accuracy = 0.6854, F1=0.6840\n"
     ]
    },
    {
     "name": "stderr",
     "output_type": "stream",
     "text": [
      " 20%|██        | 2/10 [01:58<07:55, 59.46s/it]"
     ]
    },
    {
     "name": "stdout",
     "output_type": "stream",
     "text": [
      "Epoch: 1, Training Loss: 0.0476, Validation Loss: 0.0505, accuracy = 0.6839, F1=0.6772\n"
     ]
    },
    {
     "name": "stderr",
     "output_type": "stream",
     "text": [
      " 30%|███       | 3/10 [02:59<06:58, 59.75s/it]"
     ]
    },
    {
     "name": "stdout",
     "output_type": "stream",
     "text": [
      "Epoch: 2, Training Loss: 0.0466, Validation Loss: 0.0502, accuracy = 0.6826, F1=0.6821\n"
     ]
    },
    {
     "name": "stderr",
     "output_type": "stream",
     "text": [
      " 40%|████      | 4/10 [04:00<06:01, 60.33s/it]"
     ]
    },
    {
     "name": "stdout",
     "output_type": "stream",
     "text": [
      "Epoch: 3, Training Loss: 0.0460, Validation Loss: 0.0499, accuracy = 0.6853, F1=0.6833\n"
     ]
    },
    {
     "name": "stderr",
     "output_type": "stream",
     "text": [
      " 50%|█████     | 5/10 [05:01<05:02, 60.56s/it]"
     ]
    },
    {
     "name": "stdout",
     "output_type": "stream",
     "text": [
      "Epoch: 4, Training Loss: 0.0458, Validation Loss: 0.0509, accuracy = 0.6793, F1=0.6793\n"
     ]
    },
    {
     "name": "stderr",
     "output_type": "stream",
     "text": [
      " 60%|██████    | 6/10 [06:01<04:01, 60.40s/it]"
     ]
    },
    {
     "name": "stdout",
     "output_type": "stream",
     "text": [
      "Epoch: 5, Training Loss: 0.0452, Validation Loss: 0.0497, accuracy = 0.6895, F1=0.6859\n"
     ]
    },
    {
     "name": "stderr",
     "output_type": "stream",
     "text": [
      " 70%|███████   | 7/10 [07:01<03:01, 60.47s/it]"
     ]
    },
    {
     "name": "stdout",
     "output_type": "stream",
     "text": [
      "Epoch: 6, Training Loss: 0.0448, Validation Loss: 0.0531, accuracy = 0.6789, F1=0.6600\n"
     ]
    },
    {
     "name": "stderr",
     "output_type": "stream",
     "text": [
      " 80%|████████  | 8/10 [08:02<02:01, 60.53s/it]"
     ]
    },
    {
     "name": "stdout",
     "output_type": "stream",
     "text": [
      "Epoch: 7, Training Loss: 0.0448, Validation Loss: 0.0498, accuracy = 0.6889, F1=0.6879\n"
     ]
    },
    {
     "name": "stderr",
     "output_type": "stream",
     "text": [
      " 90%|█████████ | 9/10 [09:03<01:00, 60.61s/it]"
     ]
    },
    {
     "name": "stdout",
     "output_type": "stream",
     "text": [
      "Epoch: 8, Training Loss: 0.0443, Validation Loss: 0.0503, accuracy = 0.6893, F1=0.6887\n"
     ]
    },
    {
     "name": "stderr",
     "output_type": "stream",
     "text": [
      "100%|██████████| 10/10 [10:03<00:00, 60.37s/it]"
     ]
    },
    {
     "name": "stdout",
     "output_type": "stream",
     "text": [
      "Epoch 00010: reducing learning rate of group 0 to 1.0000e-05.\n",
      "Epoch: 9, Training Loss: 0.0439, Validation Loss: 0.0511, accuracy = 0.6847, F1=0.6726\n"
     ]
    },
    {
     "name": "stderr",
     "output_type": "stream",
     "text": [
      "\n"
     ]
    },
    {
     "name": "stdout",
     "output_type": "stream",
     "text": [
      "[VAL] Model: Text-Only - acc: 0.6895 - f1: 0.6859\n",
      "[TEST] Model: Text-Only - acc: 0.6818 - f1: 0.6802\n",
      "\n",
      "_____________________________________Training model Audio-Only______________________________________\n"
     ]
    },
    {
     "name": "stderr",
     "output_type": "stream",
     "text": [
      " 10%|█         | 1/10 [00:46<06:54, 46.02s/it]"
     ]
    },
    {
     "name": "stdout",
     "output_type": "stream",
     "text": [
      "Epoch: 0, Training Loss: 0.0580, Validation Loss: 0.0581, accuracy = 0.4643, F1=0.3550\n"
     ]
    },
    {
     "name": "stderr",
     "output_type": "stream",
     "text": [
      " 20%|██        | 2/10 [01:30<06:03, 45.41s/it]"
     ]
    },
    {
     "name": "stdout",
     "output_type": "stream",
     "text": [
      "Epoch: 1, Training Loss: 0.0578, Validation Loss: 0.0577, accuracy = 0.5316, F1=0.5121\n"
     ]
    },
    {
     "name": "stderr",
     "output_type": "stream",
     "text": [
      " 30%|███       | 3/10 [02:16<05:17, 45.35s/it]"
     ]
    },
    {
     "name": "stdout",
     "output_type": "stream",
     "text": [
      "Epoch: 2, Training Loss: 0.0577, Validation Loss: 0.0578, accuracy = 0.5224, F1=0.5194\n"
     ]
    },
    {
     "name": "stderr",
     "output_type": "stream",
     "text": [
      " 40%|████      | 4/10 [03:02<04:33, 45.58s/it]"
     ]
    },
    {
     "name": "stdout",
     "output_type": "stream",
     "text": [
      "Epoch: 3, Training Loss: 0.0576, Validation Loss: 0.0578, accuracy = 0.5391, F1=0.5013\n"
     ]
    },
    {
     "name": "stderr",
     "output_type": "stream",
     "text": [
      " 50%|█████     | 5/10 [03:48<03:48, 45.69s/it]"
     ]
    },
    {
     "name": "stdout",
     "output_type": "stream",
     "text": [
      "Epoch: 4, Training Loss: 0.0576, Validation Loss: 0.0578, accuracy = 0.5259, F1=0.5133\n"
     ]
    },
    {
     "name": "stderr",
     "output_type": "stream",
     "text": [
      " 60%|██████    | 6/10 [04:33<03:02, 45.70s/it]"
     ]
    },
    {
     "name": "stdout",
     "output_type": "stream",
     "text": [
      "Epoch 00006: reducing learning rate of group 0 to 1.0000e-05.\n",
      "Epoch: 5, Training Loss: 0.0576, Validation Loss: 0.0578, accuracy = 0.5151, F1=0.5150\n"
     ]
    },
    {
     "name": "stderr",
     "output_type": "stream",
     "text": [
      " 70%|███████   | 7/10 [05:19<02:16, 45.55s/it]"
     ]
    },
    {
     "name": "stdout",
     "output_type": "stream",
     "text": [
      "Epoch: 6, Training Loss: 0.0575, Validation Loss: 0.0577, accuracy = 0.5314, F1=0.5131\n"
     ]
    },
    {
     "name": "stderr",
     "output_type": "stream",
     "text": [
      " 80%|████████  | 8/10 [06:05<01:31, 45.69s/it]"
     ]
    },
    {
     "name": "stdout",
     "output_type": "stream",
     "text": [
      "Epoch: 7, Training Loss: 0.0575, Validation Loss: 0.0578, accuracy = 0.5286, F1=0.5136\n"
     ]
    },
    {
     "name": "stderr",
     "output_type": "stream",
     "text": [
      " 90%|█████████ | 9/10 [06:51<00:45, 45.78s/it]"
     ]
    },
    {
     "name": "stdout",
     "output_type": "stream",
     "text": [
      "Epoch: 8, Training Loss: 0.0575, Validation Loss: 0.0578, accuracy = 0.5239, F1=0.5155\n"
     ]
    },
    {
     "name": "stderr",
     "output_type": "stream",
     "text": [
      "100%|██████████| 10/10 [07:36<00:00, 45.68s/it]"
     ]
    },
    {
     "name": "stdout",
     "output_type": "stream",
     "text": [
      "Epoch 00010: reducing learning rate of group 0 to 1.0000e-06.\n",
      "Epoch: 9, Training Loss: 0.0575, Validation Loss: 0.0578, accuracy = 0.5286, F1=0.5141\n"
     ]
    },
    {
     "name": "stderr",
     "output_type": "stream",
     "text": [
      "\n"
     ]
    },
    {
     "name": "stdout",
     "output_type": "stream",
     "text": [
      "[VAL] Model: Audio-Only - acc: 0.5316 - f1: 0.5121\n",
      "[TEST] Model: Audio-Only - acc: 0.5467 - f1: 0.5326\n",
      "\n",
      "_________________________________________Training model CSA_________________________________________\n"
     ]
    },
    {
     "name": "stderr",
     "output_type": "stream",
     "text": [
      " 10%|█         | 1/10 [01:35<14:21, 95.67s/it]"
     ]
    },
    {
     "name": "stdout",
     "output_type": "stream",
     "text": [
      "Epoch: 0, Training Loss: 0.0475, Validation Loss: 0.0488, accuracy = 0.7083, F1=0.7070\n"
     ]
    },
    {
     "name": "stderr",
     "output_type": "stream",
     "text": [
      " 20%|██        | 2/10 [03:10<12:42, 95.28s/it]"
     ]
    },
    {
     "name": "stdout",
     "output_type": "stream",
     "text": [
      "Epoch: 1, Training Loss: 0.0442, Validation Loss: 0.0499, accuracy = 0.7139, F1=0.7071\n"
     ]
    },
    {
     "name": "stderr",
     "output_type": "stream",
     "text": [
      " 30%|███       | 3/10 [04:46<11:08, 95.44s/it]"
     ]
    },
    {
     "name": "stdout",
     "output_type": "stream",
     "text": [
      "Epoch: 2, Training Loss: 0.0426, Validation Loss: 0.0479, accuracy = 0.7089, F1=0.7086\n"
     ]
    },
    {
     "name": "stderr",
     "output_type": "stream",
     "text": [
      " 40%|████      | 4/10 [06:22<09:34, 95.68s/it]"
     ]
    },
    {
     "name": "stdout",
     "output_type": "stream",
     "text": [
      "Epoch: 3, Training Loss: 0.0409, Validation Loss: 0.0486, accuracy = 0.7004, F1=0.6986\n"
     ]
    },
    {
     "name": "stderr",
     "output_type": "stream",
     "text": [
      " 50%|█████     | 5/10 [07:58<07:59, 95.81s/it]"
     ]
    },
    {
     "name": "stdout",
     "output_type": "stream",
     "text": [
      "Epoch: 4, Training Loss: 0.0395, Validation Loss: 0.0536, accuracy = 0.6899, F1=0.6899\n"
     ]
    },
    {
     "name": "stderr",
     "output_type": "stream",
     "text": [
      " 60%|██████    | 6/10 [09:33<06:22, 95.68s/it]"
     ]
    },
    {
     "name": "stdout",
     "output_type": "stream",
     "text": [
      "Epoch: 5, Training Loss: 0.0380, Validation Loss: 0.0516, accuracy = 0.6991, F1=0.6955\n"
     ]
    },
    {
     "name": "stderr",
     "output_type": "stream",
     "text": [
      " 70%|███████   | 7/10 [11:09<04:46, 95.55s/it]"
     ]
    },
    {
     "name": "stdout",
     "output_type": "stream",
     "text": [
      "Epoch 00007: reducing learning rate of group 0 to 1.0000e-05.\n",
      "Epoch: 6, Training Loss: 0.0366, Validation Loss: 0.0569, accuracy = 0.6972, F1=0.6865\n"
     ]
    },
    {
     "name": "stderr",
     "output_type": "stream",
     "text": [
      " 80%|████████  | 8/10 [12:45<03:11, 95.66s/it]"
     ]
    },
    {
     "name": "stdout",
     "output_type": "stream",
     "text": [
      "Epoch: 7, Training Loss: 0.0331, Validation Loss: 0.0556, accuracy = 0.7006, F1=0.6989\n"
     ]
    },
    {
     "name": "stderr",
     "output_type": "stream",
     "text": [
      " 90%|█████████ | 9/10 [14:20<01:35, 95.73s/it]"
     ]
    },
    {
     "name": "stdout",
     "output_type": "stream",
     "text": [
      "Epoch: 8, Training Loss: 0.0313, Validation Loss: 0.0574, accuracy = 0.6974, F1=0.6950\n"
     ]
    },
    {
     "name": "stderr",
     "output_type": "stream",
     "text": [
      "100%|██████████| 10/10 [15:56<00:00, 95.68s/it]"
     ]
    },
    {
     "name": "stdout",
     "output_type": "stream",
     "text": [
      "Epoch: 9, Training Loss: 0.0311, Validation Loss: 0.0590, accuracy = 0.6960, F1=0.6950\n"
     ]
    },
    {
     "name": "stderr",
     "output_type": "stream",
     "text": [
      "\n"
     ]
    },
    {
     "name": "stdout",
     "output_type": "stream",
     "text": [
      "[VAL] Model: CSA - acc: 0.7089 - f1: 0.7086\n",
      "[TEST] Model: CSA - acc: 0.7016 - f1: 0.7016\n",
      "\n",
      "_____________________________________Training model Ensembling______________________________________\n"
     ]
    },
    {
     "name": "stderr",
     "output_type": "stream",
     "text": [
      " 10%|█         | 1/10 [01:36<14:32, 96.96s/it]"
     ]
    },
    {
     "name": "stdout",
     "output_type": "stream",
     "text": [
      "Epoch: 0, Training Loss: 0.0541, Validation Loss: 0.0533, accuracy = 0.6708, F1=0.6695\n"
     ]
    },
    {
     "name": "stderr",
     "output_type": "stream",
     "text": [
      " 20%|██        | 2/10 [03:12<12:50, 96.37s/it]"
     ]
    },
    {
     "name": "stdout",
     "output_type": "stream",
     "text": [
      "Epoch: 1, Training Loss: 0.0519, Validation Loss: 0.0527, accuracy = 0.6810, F1=0.6777\n"
     ]
    },
    {
     "name": "stderr",
     "output_type": "stream",
     "text": [
      " 30%|███       | 3/10 [04:49<11:16, 96.65s/it]"
     ]
    },
    {
     "name": "stdout",
     "output_type": "stream",
     "text": [
      "Epoch: 2, Training Loss: 0.0514, Validation Loss: 0.0526, accuracy = 0.6810, F1=0.6801\n"
     ]
    },
    {
     "name": "stderr",
     "output_type": "stream",
     "text": [
      " 40%|████      | 4/10 [06:26<09:39, 96.64s/it]"
     ]
    },
    {
     "name": "stdout",
     "output_type": "stream",
     "text": [
      "Epoch: 3, Training Loss: 0.0510, Validation Loss: 0.0524, accuracy = 0.6833, F1=0.6792\n"
     ]
    },
    {
     "name": "stderr",
     "output_type": "stream",
     "text": [
      " 50%|█████     | 5/10 [08:03<08:04, 96.83s/it]"
     ]
    },
    {
     "name": "stdout",
     "output_type": "stream",
     "text": [
      "Epoch: 4, Training Loss: 0.0509, Validation Loss: 0.0524, accuracy = 0.6831, F1=0.6821\n"
     ]
    },
    {
     "name": "stderr",
     "output_type": "stream",
     "text": [
      " 60%|██████    | 6/10 [09:39<06:26, 96.65s/it]"
     ]
    },
    {
     "name": "stdout",
     "output_type": "stream",
     "text": [
      "Epoch: 5, Training Loss: 0.0507, Validation Loss: 0.0522, accuracy = 0.6831, F1=0.6818\n"
     ]
    },
    {
     "name": "stderr",
     "output_type": "stream",
     "text": [
      " 70%|███████   | 7/10 [11:16<04:49, 96.59s/it]"
     ]
    },
    {
     "name": "stdout",
     "output_type": "stream",
     "text": [
      "Epoch: 6, Training Loss: 0.0504, Validation Loss: 0.0530, accuracy = 0.6729, F1=0.6521\n"
     ]
    },
    {
     "name": "stderr",
     "output_type": "stream",
     "text": [
      " 80%|████████  | 8/10 [12:53<03:13, 96.76s/it]"
     ]
    },
    {
     "name": "stdout",
     "output_type": "stream",
     "text": [
      "Epoch: 7, Training Loss: 0.0504, Validation Loss: 0.0519, accuracy = 0.6816, F1=0.6801\n"
     ]
    },
    {
     "name": "stderr",
     "output_type": "stream",
     "text": [
      " 90%|█████████ | 9/10 [14:30<01:36, 96.84s/it]"
     ]
    },
    {
     "name": "stdout",
     "output_type": "stream",
     "text": [
      "Epoch: 8, Training Loss: 0.0502, Validation Loss: 0.0522, accuracy = 0.6770, F1=0.6770\n"
     ]
    },
    {
     "name": "stderr",
     "output_type": "stream",
     "text": [
      "100%|██████████| 10/10 [16:07<00:00, 96.78s/it]"
     ]
    },
    {
     "name": "stdout",
     "output_type": "stream",
     "text": [
      "Epoch: 9, Training Loss: 0.0500, Validation Loss: 0.0519, accuracy = 0.6883, F1=0.6837\n"
     ]
    },
    {
     "name": "stderr",
     "output_type": "stream",
     "text": [
      "\n"
     ]
    },
    {
     "name": "stdout",
     "output_type": "stream",
     "text": [
      "[VAL] Model: Ensembling - acc: 0.6816 - f1: 0.6801\n",
      "[TEST] Model: Ensembling - acc: 0.6869 - f1: 0.6863\n",
      "\n",
      "_______________________________________Training model Mul-TA________________________________________\n"
     ]
    },
    {
     "name": "stderr",
     "output_type": "stream",
     "text": [
      " 10%|█         | 1/10 [03:22<30:21, 202.38s/it]"
     ]
    },
    {
     "name": "stdout",
     "output_type": "stream",
     "text": [
      "Epoch: 0, Training Loss: 0.0498, Validation Loss: 0.0485, accuracy = 0.6912, F1=0.6912\n"
     ]
    },
    {
     "name": "stderr",
     "output_type": "stream",
     "text": [
      " 20%|██        | 2/10 [06:42<26:48, 201.05s/it]"
     ]
    },
    {
     "name": "stdout",
     "output_type": "stream",
     "text": [
      "Epoch: 1, Training Loss: 0.0456, Validation Loss: 0.0535, accuracy = 0.6810, F1=0.6583\n"
     ]
    },
    {
     "name": "stderr",
     "output_type": "stream",
     "text": [
      " 30%|███       | 3/10 [10:03<23:28, 201.15s/it]"
     ]
    },
    {
     "name": "stdout",
     "output_type": "stream",
     "text": [
      "Epoch: 2, Training Loss: 0.0439, Validation Loss: 0.0475, accuracy = 0.7089, F1=0.7086\n"
     ]
    },
    {
     "name": "stderr",
     "output_type": "stream",
     "text": [
      " 40%|████      | 4/10 [13:25<20:08, 201.44s/it]"
     ]
    },
    {
     "name": "stdout",
     "output_type": "stream",
     "text": [
      "Epoch: 3, Training Loss: 0.0428, Validation Loss: 0.0481, accuracy = 0.7039, F1=0.7039\n"
     ]
    },
    {
     "name": "stderr",
     "output_type": "stream",
     "text": [
      " 50%|█████     | 5/10 [16:47<16:47, 201.48s/it]"
     ]
    },
    {
     "name": "stdout",
     "output_type": "stream",
     "text": [
      "Epoch: 4, Training Loss: 0.0421, Validation Loss: 0.0493, accuracy = 0.6929, F1=0.6929\n"
     ]
    },
    {
     "name": "stderr",
     "output_type": "stream",
     "text": [
      " 60%|██████    | 6/10 [20:07<13:24, 201.18s/it]"
     ]
    },
    {
     "name": "stdout",
     "output_type": "stream",
     "text": [
      "Epoch: 5, Training Loss: 0.0410, Validation Loss: 0.0497, accuracy = 0.7031, F1=0.6998\n"
     ]
    },
    {
     "name": "stderr",
     "output_type": "stream",
     "text": [
      " 70%|███████   | 7/10 [23:28<10:02, 200.90s/it]"
     ]
    },
    {
     "name": "stdout",
     "output_type": "stream",
     "text": [
      "Epoch 00007: reducing learning rate of group 0 to 1.0000e-05.\n",
      "Epoch: 6, Training Loss: 0.0400, Validation Loss: 0.0539, accuracy = 0.7074, F1=0.7012\n"
     ]
    },
    {
     "name": "stderr",
     "output_type": "stream",
     "text": [
      " 80%|████████  | 8/10 [26:50<06:42, 201.31s/it]"
     ]
    },
    {
     "name": "stdout",
     "output_type": "stream",
     "text": [
      "Epoch: 7, Training Loss: 0.0371, Validation Loss: 0.0527, accuracy = 0.7035, F1=0.7011\n"
     ]
    },
    {
     "name": "stderr",
     "output_type": "stream",
     "text": [
      " 90%|█████████ | 9/10 [30:12<03:21, 201.43s/it]"
     ]
    },
    {
     "name": "stdout",
     "output_type": "stream",
     "text": [
      "Epoch: 8, Training Loss: 0.0366, Validation Loss: 0.0528, accuracy = 0.7027, F1=0.7010\n"
     ]
    },
    {
     "name": "stderr",
     "output_type": "stream",
     "text": [
      "100%|██████████| 10/10 [33:33<00:00, 201.36s/it]"
     ]
    },
    {
     "name": "stdout",
     "output_type": "stream",
     "text": [
      "Epoch: 9, Training Loss: 0.0364, Validation Loss: 0.0532, accuracy = 0.6999, F1=0.6979\n"
     ]
    },
    {
     "name": "stderr",
     "output_type": "stream",
     "text": [
      "\n"
     ]
    },
    {
     "name": "stdout",
     "output_type": "stream",
     "text": [
      "[VAL] Model: Mul-TA - acc: 0.7087 - f1: 0.7084\n",
      "[TEST] Model: Mul-TA - acc: 0.7016 - f1: 0.7016\n",
      "\n",
      "=======================================TRAINING WITH SEED 69========================================\n",
      "\n",
      "______________________________________Training model Text-Only______________________________________\n"
     ]
    },
    {
     "name": "stderr",
     "output_type": "stream",
     "text": [
      " 10%|█         | 1/10 [00:59<08:55, 59.49s/it]"
     ]
    },
    {
     "name": "stdout",
     "output_type": "stream",
     "text": [
      "Epoch: 0, Training Loss: 0.0505, Validation Loss: 0.0508, accuracy = 0.6797, F1=0.6761\n"
     ]
    },
    {
     "name": "stderr",
     "output_type": "stream",
     "text": [
      " 20%|██        | 2/10 [01:58<07:55, 59.41s/it]"
     ]
    },
    {
     "name": "stdout",
     "output_type": "stream",
     "text": [
      "Epoch: 1, Training Loss: 0.0477, Validation Loss: 0.0506, accuracy = 0.6843, F1=0.6794\n"
     ]
    },
    {
     "name": "stderr",
     "output_type": "stream",
     "text": [
      " 30%|███       | 3/10 [02:58<06:57, 59.58s/it]"
     ]
    },
    {
     "name": "stdout",
     "output_type": "stream",
     "text": [
      "Epoch: 2, Training Loss: 0.0467, Validation Loss: 0.0506, accuracy = 0.6829, F1=0.6821\n"
     ]
    },
    {
     "name": "stderr",
     "output_type": "stream",
     "text": [
      " 40%|████      | 4/10 [03:57<05:56, 59.44s/it]"
     ]
    },
    {
     "name": "stdout",
     "output_type": "stream",
     "text": [
      "Epoch: 3, Training Loss: 0.0462, Validation Loss: 0.0504, accuracy = 0.6889, F1=0.6818\n"
     ]
    },
    {
     "name": "stderr",
     "output_type": "stream",
     "text": [
      " 50%|█████     | 5/10 [04:57<04:57, 59.44s/it]"
     ]
    },
    {
     "name": "stdout",
     "output_type": "stream",
     "text": [
      "Epoch: 4, Training Loss: 0.0456, Validation Loss: 0.0498, accuracy = 0.6879, F1=0.6847\n"
     ]
    },
    {
     "name": "stderr",
     "output_type": "stream",
     "text": [
      " 60%|██████    | 6/10 [05:56<03:57, 59.46s/it]"
     ]
    },
    {
     "name": "stdout",
     "output_type": "stream",
     "text": [
      "Epoch: 5, Training Loss: 0.0456, Validation Loss: 0.0497, accuracy = 0.6908, F1=0.6894\n"
     ]
    },
    {
     "name": "stderr",
     "output_type": "stream",
     "text": [
      " 70%|███████   | 7/10 [06:56<02:58, 59.51s/it]"
     ]
    },
    {
     "name": "stdout",
     "output_type": "stream",
     "text": [
      "Epoch: 6, Training Loss: 0.0449, Validation Loss: 0.0499, accuracy = 0.6872, F1=0.6864\n"
     ]
    },
    {
     "name": "stderr",
     "output_type": "stream",
     "text": [
      " 80%|████████  | 8/10 [07:56<01:59, 59.68s/it]"
     ]
    },
    {
     "name": "stdout",
     "output_type": "stream",
     "text": [
      "Epoch: 7, Training Loss: 0.0445, Validation Loss: 0.0499, accuracy = 0.6868, F1=0.6851\n"
     ]
    },
    {
     "name": "stderr",
     "output_type": "stream",
     "text": [
      " 90%|█████████ | 9/10 [08:55<00:59, 59.61s/it]"
     ]
    },
    {
     "name": "stdout",
     "output_type": "stream",
     "text": [
      "Epoch: 8, Training Loss: 0.0443, Validation Loss: 0.0506, accuracy = 0.6785, F1=0.6785\n"
     ]
    },
    {
     "name": "stderr",
     "output_type": "stream",
     "text": [
      "100%|██████████| 10/10 [09:55<00:00, 59.56s/it]"
     ]
    },
    {
     "name": "stdout",
     "output_type": "stream",
     "text": [
      "Epoch 00010: reducing learning rate of group 0 to 1.0000e-05.\n",
      "Epoch: 9, Training Loss: 0.0439, Validation Loss: 0.0498, accuracy = 0.6843, F1=0.6838\n"
     ]
    },
    {
     "name": "stderr",
     "output_type": "stream",
     "text": [
      "\n"
     ]
    },
    {
     "name": "stdout",
     "output_type": "stream",
     "text": [
      "[VAL] Model: Text-Only - acc: 0.6908 - f1: 0.6894\n",
      "[TEST] Model: Text-Only - acc: 0.6796 - f1: 0.6792\n",
      "\n",
      "_____________________________________Training model Audio-Only______________________________________\n"
     ]
    },
    {
     "name": "stderr",
     "output_type": "stream",
     "text": [
      " 10%|█         | 1/10 [00:45<06:46, 45.19s/it]"
     ]
    },
    {
     "name": "stdout",
     "output_type": "stream",
     "text": [
      "Epoch: 0, Training Loss: 0.0581, Validation Loss: 0.0578, accuracy = 0.5212, F1=0.5195\n"
     ]
    },
    {
     "name": "stderr",
     "output_type": "stream",
     "text": [
      " 20%|██        | 2/10 [01:29<05:59, 44.93s/it]"
     ]
    },
    {
     "name": "stdout",
     "output_type": "stream",
     "text": [
      "Epoch: 1, Training Loss: 0.0578, Validation Loss: 0.0578, accuracy = 0.5241, F1=0.5135\n"
     ]
    },
    {
     "name": "stderr",
     "output_type": "stream",
     "text": [
      " 30%|███       | 3/10 [02:14<05:14, 44.87s/it]"
     ]
    },
    {
     "name": "stdout",
     "output_type": "stream",
     "text": [
      "Epoch: 2, Training Loss: 0.0577, Validation Loss: 0.0579, accuracy = 0.5228, F1=0.5216\n"
     ]
    },
    {
     "name": "stderr",
     "output_type": "stream",
     "text": [
      " 40%|████      | 4/10 [02:59<04:29, 44.93s/it]"
     ]
    },
    {
     "name": "stdout",
     "output_type": "stream",
     "text": [
      "Epoch: 3, Training Loss: 0.0576, Validation Loss: 0.0579, accuracy = 0.4841, F1=0.4527\n"
     ]
    },
    {
     "name": "stderr",
     "output_type": "stream",
     "text": [
      " 50%|█████     | 5/10 [03:44<03:44, 44.93s/it]"
     ]
    },
    {
     "name": "stdout",
     "output_type": "stream",
     "text": [
      "Epoch 00005: reducing learning rate of group 0 to 1.0000e-05.\n",
      "Epoch: 4, Training Loss: 0.0576, Validation Loss: 0.0578, accuracy = 0.5262, F1=0.5202\n"
     ]
    },
    {
     "name": "stderr",
     "output_type": "stream",
     "text": [
      " 60%|██████    | 6/10 [04:29<02:59, 44.94s/it]"
     ]
    },
    {
     "name": "stdout",
     "output_type": "stream",
     "text": [
      "Epoch: 5, Training Loss: 0.0575, Validation Loss: 0.0578, accuracy = 0.5311, F1=0.5127\n"
     ]
    },
    {
     "name": "stderr",
     "output_type": "stream",
     "text": [
      " 70%|███████   | 7/10 [05:14<02:14, 44.82s/it]"
     ]
    },
    {
     "name": "stdout",
     "output_type": "stream",
     "text": [
      "Epoch: 6, Training Loss: 0.0575, Validation Loss: 0.0578, accuracy = 0.5312, F1=0.5138\n"
     ]
    },
    {
     "name": "stderr",
     "output_type": "stream",
     "text": [
      " 80%|████████  | 8/10 [05:59<01:29, 44.90s/it]"
     ]
    },
    {
     "name": "stdout",
     "output_type": "stream",
     "text": [
      "Epoch: 7, Training Loss: 0.0575, Validation Loss: 0.0578, accuracy = 0.5307, F1=0.5139\n"
     ]
    },
    {
     "name": "stderr",
     "output_type": "stream",
     "text": [
      " 90%|█████████ | 9/10 [06:44<00:44, 44.99s/it]"
     ]
    },
    {
     "name": "stdout",
     "output_type": "stream",
     "text": [
      "Epoch: 8, Training Loss: 0.0575, Validation Loss: 0.0578, accuracy = 0.5295, F1=0.5131\n"
     ]
    },
    {
     "name": "stderr",
     "output_type": "stream",
     "text": [
      "100%|██████████| 10/10 [07:29<00:00, 44.96s/it]"
     ]
    },
    {
     "name": "stdout",
     "output_type": "stream",
     "text": [
      "Epoch 00010: reducing learning rate of group 0 to 1.0000e-06.\n",
      "Epoch: 9, Training Loss: 0.0575, Validation Loss: 0.0578, accuracy = 0.5259, F1=0.5161\n"
     ]
    },
    {
     "name": "stderr",
     "output_type": "stream",
     "text": [
      "\n"
     ]
    },
    {
     "name": "stdout",
     "output_type": "stream",
     "text": [
      "[VAL] Model: Audio-Only - acc: 0.5311 - f1: 0.5127\n",
      "[TEST] Model: Audio-Only - acc: 0.5450 - f1: 0.5320\n",
      "\n",
      "_________________________________________Training model CSA_________________________________________\n"
     ]
    },
    {
     "name": "stderr",
     "output_type": "stream",
     "text": [
      " 10%|█         | 1/10 [01:34<14:12, 94.76s/it]"
     ]
    },
    {
     "name": "stdout",
     "output_type": "stream",
     "text": [
      "Epoch: 0, Training Loss: 0.0478, Validation Loss: 0.0471, accuracy = 0.7124, F1=0.7076\n"
     ]
    },
    {
     "name": "stderr",
     "output_type": "stream",
     "text": [
      " 20%|██        | 2/10 [03:08<12:34, 94.37s/it]"
     ]
    },
    {
     "name": "stdout",
     "output_type": "stream",
     "text": [
      "Epoch: 1, Training Loss: 0.0443, Validation Loss: 0.0493, accuracy = 0.7116, F1=0.7092\n"
     ]
    },
    {
     "name": "stderr",
     "output_type": "stream",
     "text": [
      " 30%|███       | 3/10 [04:43<11:03, 94.72s/it]"
     ]
    },
    {
     "name": "stdout",
     "output_type": "stream",
     "text": [
      "Epoch: 2, Training Loss: 0.0428, Validation Loss: 0.0482, accuracy = 0.7062, F1=0.7046\n"
     ]
    },
    {
     "name": "stderr",
     "output_type": "stream",
     "text": [
      " 40%|████      | 4/10 [06:18<09:28, 94.73s/it]"
     ]
    },
    {
     "name": "stdout",
     "output_type": "stream",
     "text": [
      "Epoch: 3, Training Loss: 0.0411, Validation Loss: 0.0503, accuracy = 0.7087, F1=0.7067\n"
     ]
    },
    {
     "name": "stderr",
     "output_type": "stream",
     "text": [
      " 50%|█████     | 5/10 [07:53<07:53, 94.72s/it]"
     ]
    },
    {
     "name": "stdout",
     "output_type": "stream",
     "text": [
      "Epoch 00005: reducing learning rate of group 0 to 1.0000e-05.\n",
      "Epoch: 4, Training Loss: 0.0395, Validation Loss: 0.0495, accuracy = 0.7102, F1=0.7083\n"
     ]
    },
    {
     "name": "stderr",
     "output_type": "stream",
     "text": [
      " 60%|██████    | 6/10 [09:27<06:18, 94.58s/it]"
     ]
    },
    {
     "name": "stdout",
     "output_type": "stream",
     "text": [
      "Epoch: 5, Training Loss: 0.0360, Validation Loss: 0.0527, accuracy = 0.7068, F1=0.7056\n"
     ]
    },
    {
     "name": "stderr",
     "output_type": "stream",
     "text": [
      " 70%|███████   | 7/10 [11:01<04:43, 94.45s/it]"
     ]
    },
    {
     "name": "stdout",
     "output_type": "stream",
     "text": [
      "Epoch: 6, Training Loss: 0.0349, Validation Loss: 0.0539, accuracy = 0.7099, F1=0.7071\n"
     ]
    },
    {
     "name": "stderr",
     "output_type": "stream",
     "text": [
      " 80%|████████  | 8/10 [12:36<03:09, 94.60s/it]"
     ]
    },
    {
     "name": "stdout",
     "output_type": "stream",
     "text": [
      "Epoch: 7, Training Loss: 0.0339, Validation Loss: 0.0548, accuracy = 0.7068, F1=0.7044\n"
     ]
    },
    {
     "name": "stderr",
     "output_type": "stream",
     "text": [
      " 90%|█████████ | 9/10 [14:11<01:34, 94.64s/it]"
     ]
    },
    {
     "name": "stdout",
     "output_type": "stream",
     "text": [
      "Epoch 00009: reducing learning rate of group 0 to 1.0000e-06.\n",
      "Epoch: 8, Training Loss: 0.0330, Validation Loss: 0.0559, accuracy = 0.7031, F1=0.7019\n"
     ]
    },
    {
     "name": "stderr",
     "output_type": "stream",
     "text": [
      "100%|██████████| 10/10 [15:46<00:00, 94.65s/it]"
     ]
    },
    {
     "name": "stdout",
     "output_type": "stream",
     "text": [
      "Epoch: 9, Training Loss: 0.0325, Validation Loss: 0.0563, accuracy = 0.7045, F1=0.7027\n"
     ]
    },
    {
     "name": "stderr",
     "output_type": "stream",
     "text": [
      "\n"
     ]
    },
    {
     "name": "stdout",
     "output_type": "stream",
     "text": [
      "[VAL] Model: CSA - acc: 0.7124 - f1: 0.7076\n",
      "[TEST] Model: CSA - acc: 0.6957 - f1: 0.6930\n",
      "\n",
      "_____________________________________Training model Ensembling______________________________________\n"
     ]
    },
    {
     "name": "stderr",
     "output_type": "stream",
     "text": [
      " 10%|█         | 1/10 [01:35<14:19, 95.50s/it]"
     ]
    },
    {
     "name": "stdout",
     "output_type": "stream",
     "text": [
      "Epoch: 0, Training Loss: 0.0541, Validation Loss: 0.0533, accuracy = 0.6731, F1=0.6676\n"
     ]
    },
    {
     "name": "stderr",
     "output_type": "stream",
     "text": [
      " 20%|██        | 2/10 [03:10<12:42, 95.27s/it]"
     ]
    },
    {
     "name": "stdout",
     "output_type": "stream",
     "text": [
      "Epoch: 1, Training Loss: 0.0519, Validation Loss: 0.0528, accuracy = 0.6797, F1=0.6755\n"
     ]
    },
    {
     "name": "stderr",
     "output_type": "stream",
     "text": [
      " 30%|███       | 3/10 [04:46<11:09, 95.69s/it]"
     ]
    },
    {
     "name": "stdout",
     "output_type": "stream",
     "text": [
      "Epoch: 2, Training Loss: 0.0513, Validation Loss: 0.0526, accuracy = 0.6833, F1=0.6772\n"
     ]
    },
    {
     "name": "stderr",
     "output_type": "stream",
     "text": [
      " 40%|████      | 4/10 [06:22<09:34, 95.68s/it]"
     ]
    },
    {
     "name": "stdout",
     "output_type": "stream",
     "text": [
      "Epoch: 3, Training Loss: 0.0510, Validation Loss: 0.0524, accuracy = 0.6853, F1=0.6819\n"
     ]
    },
    {
     "name": "stderr",
     "output_type": "stream",
     "text": [
      " 50%|█████     | 5/10 [07:58<07:58, 95.69s/it]"
     ]
    },
    {
     "name": "stdout",
     "output_type": "stream",
     "text": [
      "Epoch: 4, Training Loss: 0.0508, Validation Loss: 0.0522, accuracy = 0.6853, F1=0.6821\n"
     ]
    },
    {
     "name": "stderr",
     "output_type": "stream",
     "text": [
      " 60%|██████    | 6/10 [09:33<06:22, 95.57s/it]"
     ]
    },
    {
     "name": "stdout",
     "output_type": "stream",
     "text": [
      "Epoch: 5, Training Loss: 0.0506, Validation Loss: 0.0521, accuracy = 0.6839, F1=0.6835\n"
     ]
    },
    {
     "name": "stderr",
     "output_type": "stream",
     "text": [
      " 70%|███████   | 7/10 [11:08<04:46, 95.40s/it]"
     ]
    },
    {
     "name": "stdout",
     "output_type": "stream",
     "text": [
      "Epoch: 6, Training Loss: 0.0504, Validation Loss: 0.0520, accuracy = 0.6822, F1=0.6807\n"
     ]
    },
    {
     "name": "stderr",
     "output_type": "stream",
     "text": [
      " 80%|████████  | 8/10 [12:44<03:11, 95.52s/it]"
     ]
    },
    {
     "name": "stdout",
     "output_type": "stream",
     "text": [
      "Epoch: 7, Training Loss: 0.0503, Validation Loss: 0.0521, accuracy = 0.6826, F1=0.6791\n"
     ]
    },
    {
     "name": "stderr",
     "output_type": "stream",
     "text": [
      " 90%|█████████ | 9/10 [14:20<01:35, 95.63s/it]"
     ]
    },
    {
     "name": "stdout",
     "output_type": "stream",
     "text": [
      "Epoch: 8, Training Loss: 0.0503, Validation Loss: 0.0523, accuracy = 0.6726, F1=0.6723\n"
     ]
    },
    {
     "name": "stderr",
     "output_type": "stream",
     "text": [
      "100%|██████████| 10/10 [15:55<00:00, 95.60s/it]"
     ]
    },
    {
     "name": "stdout",
     "output_type": "stream",
     "text": [
      "Epoch: 9, Training Loss: 0.0501, Validation Loss: 0.0519, accuracy = 0.6860, F1=0.6856\n"
     ]
    },
    {
     "name": "stderr",
     "output_type": "stream",
     "text": [
      "\n"
     ]
    },
    {
     "name": "stdout",
     "output_type": "stream",
     "text": [
      "[VAL] Model: Ensembling - acc: 0.6860 - f1: 0.6856\n",
      "[TEST] Model: Ensembling - acc: 0.6784 - f1: 0.6784\n",
      "\n",
      "_______________________________________Training model Mul-TA________________________________________\n"
     ]
    },
    {
     "name": "stderr",
     "output_type": "stream",
     "text": [
      " 10%|█         | 1/10 [03:20<30:06, 200.71s/it]"
     ]
    },
    {
     "name": "stdout",
     "output_type": "stream",
     "text": [
      "Epoch: 0, Training Loss: 0.0496, Validation Loss: 0.0521, accuracy = 0.6683, F1=0.6340\n"
     ]
    },
    {
     "name": "stderr",
     "output_type": "stream",
     "text": [
      " 20%|██        | 2/10 [06:40<26:41, 200.24s/it]"
     ]
    },
    {
     "name": "stdout",
     "output_type": "stream",
     "text": [
      "Epoch: 1, Training Loss: 0.0456, Validation Loss: 0.0492, accuracy = 0.7099, F1=0.7088\n"
     ]
    },
    {
     "name": "stderr",
     "output_type": "stream",
     "text": [
      " 30%|███       | 3/10 [10:02<23:26, 200.98s/it]"
     ]
    },
    {
     "name": "stdout",
     "output_type": "stream",
     "text": [
      "Epoch: 2, Training Loss: 0.0439, Validation Loss: 0.0495, accuracy = 0.6954, F1=0.6954\n"
     ]
    },
    {
     "name": "stderr",
     "output_type": "stream",
     "text": [
      " 40%|████      | 4/10 [13:23<20:06, 201.08s/it]"
     ]
    },
    {
     "name": "stdout",
     "output_type": "stream",
     "text": [
      "Epoch: 3, Training Loss: 0.0426, Validation Loss: 0.0483, accuracy = 0.7089, F1=0.7085\n"
     ]
    },
    {
     "name": "stderr",
     "output_type": "stream",
     "text": [
      " 50%|█████     | 5/10 [16:45<16:45, 201.18s/it]"
     ]
    },
    {
     "name": "stdout",
     "output_type": "stream",
     "text": [
      "Epoch: 4, Training Loss: 0.0415, Validation Loss: 0.0505, accuracy = 0.6847, F1=0.6835\n"
     ]
    },
    {
     "name": "stderr",
     "output_type": "stream",
     "text": [
      " 60%|██████    | 6/10 [20:04<13:23, 200.76s/it]"
     ]
    },
    {
     "name": "stdout",
     "output_type": "stream",
     "text": [
      "Epoch: 5, Training Loss: 0.0406, Validation Loss: 0.0494, accuracy = 0.6935, F1=0.6819\n"
     ]
    },
    {
     "name": "stderr",
     "output_type": "stream",
     "text": [
      " 70%|███████   | 7/10 [23:24<10:01, 200.47s/it]"
     ]
    },
    {
     "name": "stdout",
     "output_type": "stream",
     "text": [
      "Epoch: 6, Training Loss: 0.0392, Validation Loss: 0.0512, accuracy = 0.6979, F1=0.6977\n"
     ]
    },
    {
     "name": "stderr",
     "output_type": "stream",
     "text": [
      " 80%|████████  | 8/10 [26:46<06:41, 200.77s/it]"
     ]
    },
    {
     "name": "stdout",
     "output_type": "stream",
     "text": [
      "Epoch 00008: reducing learning rate of group 0 to 1.0000e-05.\n",
      "Epoch: 7, Training Loss: 0.0381, Validation Loss: 0.0505, accuracy = 0.7016, F1=0.6994\n"
     ]
    },
    {
     "name": "stderr",
     "output_type": "stream",
     "text": [
      " 90%|█████████ | 9/10 [30:07<03:20, 200.94s/it]"
     ]
    },
    {
     "name": "stdout",
     "output_type": "stream",
     "text": [
      "Epoch: 8, Training Loss: 0.0346, Validation Loss: 0.0545, accuracy = 0.7006, F1=0.6982\n"
     ]
    },
    {
     "name": "stderr",
     "output_type": "stream",
     "text": [
      "100%|██████████| 10/10 [33:28<00:00, 200.89s/it]"
     ]
    },
    {
     "name": "stdout",
     "output_type": "stream",
     "text": [
      "Epoch: 9, Training Loss: 0.0338, Validation Loss: 0.0551, accuracy = 0.6962, F1=0.6940\n"
     ]
    },
    {
     "name": "stderr",
     "output_type": "stream",
     "text": [
      "\n"
     ]
    },
    {
     "name": "stdout",
     "output_type": "stream",
     "text": [
      "[VAL] Model: Mul-TA - acc: 0.7083 - f1: 0.7080\n",
      "[TEST] Model: Mul-TA - acc: 0.6957 - f1: 0.6957\n",
      "\n",
      "=======================================TRAINING WITH SEED 100=======================================\n",
      "\n",
      "______________________________________Training model Text-Only______________________________________\n"
     ]
    },
    {
     "name": "stderr",
     "output_type": "stream",
     "text": [
      " 10%|█         | 1/10 [00:58<08:47, 58.60s/it]"
     ]
    },
    {
     "name": "stdout",
     "output_type": "stream",
     "text": [
      "Epoch: 0, Training Loss: 0.0503, Validation Loss: 0.0514, accuracy = 0.6808, F1=0.6700\n"
     ]
    },
    {
     "name": "stderr",
     "output_type": "stream",
     "text": [
      " 20%|██        | 2/10 [01:57<07:49, 58.68s/it]"
     ]
    },
    {
     "name": "stdout",
     "output_type": "stream",
     "text": [
      "Epoch: 1, Training Loss: 0.0473, Validation Loss: 0.0500, accuracy = 0.6874, F1=0.6841\n"
     ]
    },
    {
     "name": "stderr",
     "output_type": "stream",
     "text": [
      " 30%|███       | 3/10 [02:56<06:51, 58.81s/it]"
     ]
    },
    {
     "name": "stdout",
     "output_type": "stream",
     "text": [
      "Epoch: 2, Training Loss: 0.0465, Validation Loss: 0.0500, accuracy = 0.6864, F1=0.6842\n"
     ]
    },
    {
     "name": "stderr",
     "output_type": "stream",
     "text": [
      " 40%|████      | 4/10 [03:54<05:52, 58.75s/it]"
     ]
    },
    {
     "name": "stdout",
     "output_type": "stream",
     "text": [
      "Epoch: 3, Training Loss: 0.0461, Validation Loss: 0.0500, accuracy = 0.6853, F1=0.6801\n"
     ]
    },
    {
     "name": "stderr",
     "output_type": "stream",
     "text": [
      " 50%|█████     | 5/10 [04:53<04:53, 58.62s/it]"
     ]
    },
    {
     "name": "stdout",
     "output_type": "stream",
     "text": [
      "Epoch: 4, Training Loss: 0.0455, Validation Loss: 0.0497, accuracy = 0.6870, F1=0.6818\n"
     ]
    },
    {
     "name": "stderr",
     "output_type": "stream",
     "text": [
      " 60%|██████    | 6/10 [05:51<03:54, 58.56s/it]"
     ]
    },
    {
     "name": "stdout",
     "output_type": "stream",
     "text": [
      "Epoch: 5, Training Loss: 0.0452, Validation Loss: 0.0507, accuracy = 0.6883, F1=0.6811\n"
     ]
    },
    {
     "name": "stderr",
     "output_type": "stream",
     "text": [
      " 70%|███████   | 7/10 [06:50<02:55, 58.51s/it]"
     ]
    },
    {
     "name": "stdout",
     "output_type": "stream",
     "text": [
      "Epoch: 6, Training Loss: 0.0449, Validation Loss: 0.0502, accuracy = 0.6908, F1=0.6849\n"
     ]
    },
    {
     "name": "stderr",
     "output_type": "stream",
     "text": [
      " 80%|████████  | 8/10 [07:49<01:57, 58.67s/it]"
     ]
    },
    {
     "name": "stdout",
     "output_type": "stream",
     "text": [
      "Epoch: 7, Training Loss: 0.0448, Validation Loss: 0.0502, accuracy = 0.6889, F1=0.6845\n"
     ]
    },
    {
     "name": "stderr",
     "output_type": "stream",
     "text": [
      " 90%|█████████ | 9/10 [08:47<00:58, 58.70s/it]"
     ]
    },
    {
     "name": "stdout",
     "output_type": "stream",
     "text": [
      "Epoch 00009: reducing learning rate of group 0 to 1.0000e-05.\n",
      "Epoch: 8, Training Loss: 0.0442, Validation Loss: 0.0500, accuracy = 0.6887, F1=0.6806\n"
     ]
    },
    {
     "name": "stderr",
     "output_type": "stream",
     "text": [
      "100%|██████████| 10/10 [09:46<00:00, 58.67s/it]"
     ]
    },
    {
     "name": "stdout",
     "output_type": "stream",
     "text": [
      "Epoch: 9, Training Loss: 0.0432, Validation Loss: 0.0498, accuracy = 0.6881, F1=0.6846\n"
     ]
    },
    {
     "name": "stderr",
     "output_type": "stream",
     "text": [
      "\n"
     ]
    },
    {
     "name": "stdout",
     "output_type": "stream",
     "text": [
      "[VAL] Model: Text-Only - acc: 0.6870 - f1: 0.6818\n",
      "[TEST] Model: Text-Only - acc: 0.6786 - f1: 0.6757\n",
      "\n",
      "_____________________________________Training model Audio-Only______________________________________\n"
     ]
    },
    {
     "name": "stderr",
     "output_type": "stream",
     "text": [
      " 10%|█         | 1/10 [00:45<06:46, 45.20s/it]"
     ]
    },
    {
     "name": "stdout",
     "output_type": "stream",
     "text": [
      "Epoch: 0, Training Loss: 0.0581, Validation Loss: 0.0579, accuracy = 0.5428, F1=0.4624\n"
     ]
    },
    {
     "name": "stderr",
     "output_type": "stream",
     "text": [
      " 20%|██        | 2/10 [01:29<05:59, 44.96s/it]"
     ]
    },
    {
     "name": "stdout",
     "output_type": "stream",
     "text": [
      "Epoch: 1, Training Loss: 0.0578, Validation Loss: 0.0578, accuracy = 0.5409, F1=0.4876\n"
     ]
    },
    {
     "name": "stderr",
     "output_type": "stream",
     "text": [
      " 30%|███       | 3/10 [02:15<05:15, 45.00s/it]"
     ]
    },
    {
     "name": "stdout",
     "output_type": "stream",
     "text": [
      "Epoch: 2, Training Loss: 0.0577, Validation Loss: 0.0578, accuracy = 0.5270, F1=0.5141\n"
     ]
    },
    {
     "name": "stderr",
     "output_type": "stream",
     "text": [
      " 40%|████      | 4/10 [02:59<04:29, 44.87s/it]"
     ]
    },
    {
     "name": "stdout",
     "output_type": "stream",
     "text": [
      "Epoch: 3, Training Loss: 0.0576, Validation Loss: 0.0578, accuracy = 0.5274, F1=0.5166\n"
     ]
    },
    {
     "name": "stderr",
     "output_type": "stream",
     "text": [
      " 50%|█████     | 5/10 [03:44<03:43, 44.72s/it]"
     ]
    },
    {
     "name": "stdout",
     "output_type": "stream",
     "text": [
      "Epoch: 4, Training Loss: 0.0576, Validation Loss: 0.0578, accuracy = 0.5364, F1=0.5079\n"
     ]
    },
    {
     "name": "stderr",
     "output_type": "stream",
     "text": [
      " 60%|██████    | 6/10 [04:28<02:58, 44.59s/it]"
     ]
    },
    {
     "name": "stdout",
     "output_type": "stream",
     "text": [
      "Epoch: 5, Training Loss: 0.0576, Validation Loss: 0.0579, accuracy = 0.5220, F1=0.5190\n"
     ]
    },
    {
     "name": "stderr",
     "output_type": "stream",
     "text": [
      " 70%|███████   | 7/10 [05:12<02:13, 44.52s/it]"
     ]
    },
    {
     "name": "stdout",
     "output_type": "stream",
     "text": [
      "Epoch: 6, Training Loss: 0.0576, Validation Loss: 0.0578, accuracy = 0.5395, F1=0.4937\n"
     ]
    },
    {
     "name": "stderr",
     "output_type": "stream",
     "text": [
      " 80%|████████  | 8/10 [05:57<01:29, 44.54s/it]"
     ]
    },
    {
     "name": "stdout",
     "output_type": "stream",
     "text": [
      "Epoch: 7, Training Loss: 0.0576, Validation Loss: 0.0578, accuracy = 0.5289, F1=0.5126\n"
     ]
    },
    {
     "name": "stderr",
     "output_type": "stream",
     "text": [
      " 90%|█████████ | 9/10 [06:41<00:44, 44.52s/it]"
     ]
    },
    {
     "name": "stdout",
     "output_type": "stream",
     "text": [
      "Epoch: 8, Training Loss: 0.0576, Validation Loss: 0.0578, accuracy = 0.5326, F1=0.5093\n"
     ]
    },
    {
     "name": "stderr",
     "output_type": "stream",
     "text": [
      "100%|██████████| 10/10 [07:26<00:00, 44.65s/it]"
     ]
    },
    {
     "name": "stdout",
     "output_type": "stream",
     "text": [
      "Epoch: 9, Training Loss: 0.0575, Validation Loss: 0.0578, accuracy = 0.5386, F1=0.4976\n"
     ]
    },
    {
     "name": "stderr",
     "output_type": "stream",
     "text": [
      "\n"
     ]
    },
    {
     "name": "stdout",
     "output_type": "stream",
     "text": [
      "[VAL] Model: Audio-Only - acc: 0.5326 - f1: 0.5093\n",
      "[TEST] Model: Audio-Only - acc: 0.5472 - f1: 0.5303\n",
      "\n",
      "_________________________________________Training model CSA_________________________________________\n"
     ]
    },
    {
     "name": "stderr",
     "output_type": "stream",
     "text": [
      " 10%|█         | 1/10 [01:34<14:10, 94.45s/it]"
     ]
    },
    {
     "name": "stdout",
     "output_type": "stream",
     "text": [
      "Epoch: 0, Training Loss: 0.0479, Validation Loss: 0.0504, accuracy = 0.7093, F1=0.7022\n"
     ]
    },
    {
     "name": "stderr",
     "output_type": "stream",
     "text": [
      " 20%|██        | 2/10 [03:08<12:33, 94.23s/it]"
     ]
    },
    {
     "name": "stdout",
     "output_type": "stream",
     "text": [
      "Epoch: 1, Training Loss: 0.0443, Validation Loss: 0.0496, accuracy = 0.7001, F1=0.6991\n"
     ]
    },
    {
     "name": "stderr",
     "output_type": "stream",
     "text": [
      " 30%|███       | 3/10 [04:43<11:00, 94.35s/it]"
     ]
    },
    {
     "name": "stdout",
     "output_type": "stream",
     "text": [
      "Epoch: 2, Training Loss: 0.0427, Validation Loss: 0.0497, accuracy = 0.7145, F1=0.7110\n"
     ]
    },
    {
     "name": "stderr",
     "output_type": "stream",
     "text": [
      " 40%|████      | 4/10 [06:17<09:26, 94.46s/it]"
     ]
    },
    {
     "name": "stdout",
     "output_type": "stream",
     "text": [
      "Epoch: 3, Training Loss: 0.0414, Validation Loss: 0.0486, accuracy = 0.7095, F1=0.7090\n"
     ]
    },
    {
     "name": "stderr",
     "output_type": "stream",
     "text": [
      " 50%|█████     | 5/10 [07:51<07:52, 94.41s/it]"
     ]
    },
    {
     "name": "stdout",
     "output_type": "stream",
     "text": [
      "Epoch: 4, Training Loss: 0.0400, Validation Loss: 0.0518, accuracy = 0.7024, F1=0.6945\n"
     ]
    },
    {
     "name": "stderr",
     "output_type": "stream",
     "text": [
      " 60%|██████    | 6/10 [09:26<06:17, 94.37s/it]"
     ]
    },
    {
     "name": "stdout",
     "output_type": "stream",
     "text": [
      "Epoch: 5, Training Loss: 0.0383, Validation Loss: 0.0565, accuracy = 0.7033, F1=0.6976\n"
     ]
    },
    {
     "name": "stderr",
     "output_type": "stream",
     "text": [
      " 70%|███████   | 7/10 [11:00<04:43, 94.46s/it]"
     ]
    },
    {
     "name": "stdout",
     "output_type": "stream",
     "text": [
      "Epoch: 6, Training Loss: 0.0370, Validation Loss: 0.0554, accuracy = 0.6989, F1=0.6957\n"
     ]
    },
    {
     "name": "stderr",
     "output_type": "stream",
     "text": [
      " 80%|████████  | 8/10 [12:35<03:09, 94.63s/it]"
     ]
    },
    {
     "name": "stdout",
     "output_type": "stream",
     "text": [
      "Epoch 00008: reducing learning rate of group 0 to 1.0000e-05.\n",
      "Epoch: 7, Training Loss: 0.0358, Validation Loss: 0.0521, accuracy = 0.6914, F1=0.6859\n"
     ]
    },
    {
     "name": "stderr",
     "output_type": "stream",
     "text": [
      " 90%|█████████ | 9/10 [14:10<01:34, 94.66s/it]"
     ]
    },
    {
     "name": "stdout",
     "output_type": "stream",
     "text": [
      "Epoch: 8, Training Loss: 0.0317, Validation Loss: 0.0581, accuracy = 0.6889, F1=0.6870\n"
     ]
    },
    {
     "name": "stderr",
     "output_type": "stream",
     "text": [
      "100%|██████████| 10/10 [15:45<00:00, 94.57s/it]"
     ]
    },
    {
     "name": "stdout",
     "output_type": "stream",
     "text": [
      "Epoch: 9, Training Loss: 0.0304, Validation Loss: 0.0589, accuracy = 0.6878, F1=0.6848\n"
     ]
    },
    {
     "name": "stderr",
     "output_type": "stream",
     "text": [
      "\n"
     ]
    },
    {
     "name": "stdout",
     "output_type": "stream",
     "text": [
      "[VAL] Model: CSA - acc: 0.7095 - f1: 0.7090\n",
      "[TEST] Model: CSA - acc: 0.6928 - f1: 0.6928\n",
      "\n",
      "_____________________________________Training model Ensembling______________________________________\n"
     ]
    },
    {
     "name": "stderr",
     "output_type": "stream",
     "text": [
      " 10%|█         | 1/10 [01:35<14:21, 95.69s/it]"
     ]
    },
    {
     "name": "stdout",
     "output_type": "stream",
     "text": [
      "Epoch: 0, Training Loss: 0.0542, Validation Loss: 0.0535, accuracy = 0.6703, F1=0.6574\n"
     ]
    },
    {
     "name": "stderr",
     "output_type": "stream",
     "text": [
      " 20%|██        | 2/10 [03:11<12:43, 95.48s/it]"
     ]
    },
    {
     "name": "stdout",
     "output_type": "stream",
     "text": [
      "Epoch: 1, Training Loss: 0.0519, Validation Loss: 0.0528, accuracy = 0.6833, F1=0.6777\n"
     ]
    },
    {
     "name": "stderr",
     "output_type": "stream",
     "text": [
      " 30%|███       | 3/10 [04:46<11:09, 95.63s/it]"
     ]
    },
    {
     "name": "stdout",
     "output_type": "stream",
     "text": [
      "Epoch: 2, Training Loss: 0.0514, Validation Loss: 0.0525, accuracy = 0.6804, F1=0.6794\n"
     ]
    },
    {
     "name": "stderr",
     "output_type": "stream",
     "text": [
      " 40%|████      | 4/10 [06:22<09:34, 95.71s/it]"
     ]
    },
    {
     "name": "stdout",
     "output_type": "stream",
     "text": [
      "Epoch: 3, Training Loss: 0.0511, Validation Loss: 0.0523, accuracy = 0.6872, F1=0.6838\n"
     ]
    },
    {
     "name": "stderr",
     "output_type": "stream",
     "text": [
      " 50%|█████     | 5/10 [07:58<07:58, 95.68s/it]"
     ]
    },
    {
     "name": "stdout",
     "output_type": "stream",
     "text": [
      "Epoch: 4, Training Loss: 0.0508, Validation Loss: 0.0523, accuracy = 0.6829, F1=0.6764\n"
     ]
    },
    {
     "name": "stderr",
     "output_type": "stream",
     "text": [
      " 60%|██████    | 6/10 [09:33<06:22, 95.66s/it]"
     ]
    },
    {
     "name": "stdout",
     "output_type": "stream",
     "text": [
      "Epoch: 5, Training Loss: 0.0506, Validation Loss: 0.0523, accuracy = 0.6828, F1=0.6767\n"
     ]
    },
    {
     "name": "stderr",
     "output_type": "stream",
     "text": [
      " 70%|███████   | 7/10 [11:09<04:46, 95.64s/it]"
     ]
    },
    {
     "name": "stdout",
     "output_type": "stream",
     "text": [
      "Epoch: 6, Training Loss: 0.0504, Validation Loss: 0.0525, accuracy = 0.6806, F1=0.6699\n"
     ]
    },
    {
     "name": "stderr",
     "output_type": "stream",
     "text": [
      " 80%|████████  | 8/10 [12:45<03:11, 95.70s/it]"
     ]
    },
    {
     "name": "stdout",
     "output_type": "stream",
     "text": [
      "Epoch: 7, Training Loss: 0.0503, Validation Loss: 0.0522, accuracy = 0.6829, F1=0.6767\n"
     ]
    },
    {
     "name": "stderr",
     "output_type": "stream",
     "text": [
      " 90%|█████████ | 9/10 [14:20<01:35, 95.68s/it]"
     ]
    },
    {
     "name": "stdout",
     "output_type": "stream",
     "text": [
      "Epoch: 8, Training Loss: 0.0501, Validation Loss: 0.0522, accuracy = 0.6824, F1=0.6741\n"
     ]
    },
    {
     "name": "stderr",
     "output_type": "stream",
     "text": [
      "100%|██████████| 10/10 [15:56<00:00, 95.70s/it]"
     ]
    },
    {
     "name": "stdout",
     "output_type": "stream",
     "text": [
      "Epoch: 9, Training Loss: 0.0500, Validation Loss: 0.0520, accuracy = 0.6837, F1=0.6791\n"
     ]
    },
    {
     "name": "stderr",
     "output_type": "stream",
     "text": [
      "\n"
     ]
    },
    {
     "name": "stdout",
     "output_type": "stream",
     "text": [
      "[VAL] Model: Ensembling - acc: 0.6837 - f1: 0.6791\n",
      "[TEST] Model: Ensembling - acc: 0.6845 - f1: 0.6820\n",
      "\n",
      "_______________________________________Training model Mul-TA________________________________________\n"
     ]
    },
    {
     "name": "stderr",
     "output_type": "stream",
     "text": [
      " 10%|█         | 1/10 [03:21<30:11, 201.29s/it]"
     ]
    },
    {
     "name": "stdout",
     "output_type": "stream",
     "text": [
      "Epoch: 0, Training Loss: 0.0503, Validation Loss: 0.0515, accuracy = 0.6922, F1=0.6791\n"
     ]
    },
    {
     "name": "stderr",
     "output_type": "stream",
     "text": [
      " 20%|██        | 2/10 [06:41<26:46, 200.79s/it]"
     ]
    },
    {
     "name": "stdout",
     "output_type": "stream",
     "text": [
      "Epoch: 1, Training Loss: 0.0455, Validation Loss: 0.0508, accuracy = 0.6781, F1=0.6759\n"
     ]
    },
    {
     "name": "stderr",
     "output_type": "stream",
     "text": [
      " 30%|███       | 3/10 [10:03<23:27, 201.14s/it]"
     ]
    },
    {
     "name": "stdout",
     "output_type": "stream",
     "text": [
      "Epoch: 2, Training Loss: 0.0442, Validation Loss: 0.0488, accuracy = 0.7068, F1=0.7067\n"
     ]
    },
    {
     "name": "stderr",
     "output_type": "stream",
     "text": [
      " 40%|████      | 4/10 [13:25<20:08, 201.38s/it]"
     ]
    },
    {
     "name": "stdout",
     "output_type": "stream",
     "text": [
      "Epoch: 3, Training Loss: 0.0429, Validation Loss: 0.0482, accuracy = 0.7004, F1=0.7004\n"
     ]
    },
    {
     "name": "stderr",
     "output_type": "stream",
     "text": [
      " 50%|█████     | 5/10 [16:46<16:46, 201.36s/it]"
     ]
    },
    {
     "name": "stdout",
     "output_type": "stream",
     "text": [
      "Epoch: 4, Training Loss: 0.0419, Validation Loss: 0.0523, accuracy = 0.7008, F1=0.6922\n"
     ]
    },
    {
     "name": "stderr",
     "output_type": "stream",
     "text": [
      " 60%|██████    | 6/10 [20:07<13:25, 201.27s/it]"
     ]
    },
    {
     "name": "stdout",
     "output_type": "stream",
     "text": [
      "Epoch: 5, Training Loss: 0.0409, Validation Loss: 0.0512, accuracy = 0.7039, F1=0.6992\n"
     ]
    },
    {
     "name": "stderr",
     "output_type": "stream",
     "text": [
      " 70%|███████   | 7/10 [23:28<10:03, 201.17s/it]"
     ]
    },
    {
     "name": "stdout",
     "output_type": "stream",
     "text": [
      "Epoch: 6, Training Loss: 0.0398, Validation Loss: 0.0520, accuracy = 0.7085, F1=0.7061\n"
     ]
    },
    {
     "name": "stderr",
     "output_type": "stream",
     "text": [
      " 80%|████████  | 8/10 [26:49<06:42, 201.24s/it]"
     ]
    },
    {
     "name": "stdout",
     "output_type": "stream",
     "text": [
      "Epoch 00008: reducing learning rate of group 0 to 1.0000e-05.\n",
      "Epoch: 7, Training Loss: 0.0391, Validation Loss: 0.0505, accuracy = 0.6931, F1=0.6930\n"
     ]
    },
    {
     "name": "stderr",
     "output_type": "stream",
     "text": [
      " 90%|█████████ | 9/10 [30:11<03:21, 201.34s/it]"
     ]
    },
    {
     "name": "stdout",
     "output_type": "stream",
     "text": [
      "Epoch: 8, Training Loss: 0.0360, Validation Loss: 0.0526, accuracy = 0.7062, F1=0.7041\n"
     ]
    },
    {
     "name": "stderr",
     "output_type": "stream",
     "text": [
      "100%|██████████| 10/10 [33:33<00:00, 201.37s/it]"
     ]
    },
    {
     "name": "stdout",
     "output_type": "stream",
     "text": [
      "Epoch: 9, Training Loss: 0.0350, Validation Loss: 0.0541, accuracy = 0.7029, F1=0.7001\n"
     ]
    },
    {
     "name": "stderr",
     "output_type": "stream",
     "text": [
      "\n"
     ]
    },
    {
     "name": "stdout",
     "output_type": "stream",
     "text": [
      "[VAL] Model: Mul-TA - acc: 0.7012 - f1: 0.7012\n",
      "[TEST] Model: Mul-TA - acc: 0.6985 - f1: 0.6982\n",
      "\n",
      "=======================================TRAINING WITH SEED 420=======================================\n",
      "\n",
      "______________________________________Training model Text-Only______________________________________\n"
     ]
    },
    {
     "name": "stderr",
     "output_type": "stream",
     "text": [
      " 10%|█         | 1/10 [00:59<08:55, 59.47s/it]"
     ]
    },
    {
     "name": "stdout",
     "output_type": "stream",
     "text": [
      "Epoch: 0, Training Loss: 0.0502, Validation Loss: 0.0505, accuracy = 0.6864, F1=0.6827\n"
     ]
    },
    {
     "name": "stderr",
     "output_type": "stream",
     "text": [
      " 20%|██        | 2/10 [01:59<07:56, 59.59s/it]"
     ]
    },
    {
     "name": "stdout",
     "output_type": "stream",
     "text": [
      "Epoch: 1, Training Loss: 0.0474, Validation Loss: 0.0501, accuracy = 0.6853, F1=0.6811\n"
     ]
    },
    {
     "name": "stderr",
     "output_type": "stream",
     "text": [
      " 30%|███       | 3/10 [02:58<06:56, 59.49s/it]"
     ]
    },
    {
     "name": "stdout",
     "output_type": "stream",
     "text": [
      "Epoch: 2, Training Loss: 0.0463, Validation Loss: 0.0499, accuracy = 0.6895, F1=0.6863\n"
     ]
    },
    {
     "name": "stderr",
     "output_type": "stream",
     "text": [
      " 40%|████      | 4/10 [03:57<05:56, 59.47s/it]"
     ]
    },
    {
     "name": "stdout",
     "output_type": "stream",
     "text": [
      "Epoch: 3, Training Loss: 0.0460, Validation Loss: 0.0513, accuracy = 0.6816, F1=0.6690\n"
     ]
    },
    {
     "name": "stderr",
     "output_type": "stream",
     "text": [
      " 50%|█████     | 5/10 [04:57<04:56, 59.39s/it]"
     ]
    },
    {
     "name": "stdout",
     "output_type": "stream",
     "text": [
      "Epoch: 4, Training Loss: 0.0457, Validation Loss: 0.0502, accuracy = 0.6826, F1=0.6824\n"
     ]
    },
    {
     "name": "stderr",
     "output_type": "stream",
     "text": [
      " 60%|██████    | 6/10 [05:56<03:57, 59.27s/it]"
     ]
    },
    {
     "name": "stdout",
     "output_type": "stream",
     "text": [
      "Epoch: 5, Training Loss: 0.0452, Validation Loss: 0.0498, accuracy = 0.6901, F1=0.6858\n"
     ]
    },
    {
     "name": "stderr",
     "output_type": "stream",
     "text": [
      " 70%|███████   | 7/10 [06:55<02:57, 59.21s/it]"
     ]
    },
    {
     "name": "stdout",
     "output_type": "stream",
     "text": [
      "Epoch: 6, Training Loss: 0.0448, Validation Loss: 0.0513, accuracy = 0.6833, F1=0.6743\n"
     ]
    },
    {
     "name": "stderr",
     "output_type": "stream",
     "text": [
      " 80%|████████  | 8/10 [07:54<01:58, 59.21s/it]"
     ]
    },
    {
     "name": "stdout",
     "output_type": "stream",
     "text": [
      "Epoch: 7, Training Loss: 0.0444, Validation Loss: 0.0505, accuracy = 0.6872, F1=0.6858\n"
     ]
    },
    {
     "name": "stderr",
     "output_type": "stream",
     "text": [
      " 90%|█████████ | 9/10 [08:53<00:59, 59.16s/it]"
     ]
    },
    {
     "name": "stdout",
     "output_type": "stream",
     "text": [
      "Epoch: 8, Training Loss: 0.0443, Validation Loss: 0.0503, accuracy = 0.6839, F1=0.6730\n"
     ]
    },
    {
     "name": "stderr",
     "output_type": "stream",
     "text": [
      "100%|██████████| 10/10 [09:52<00:00, 59.26s/it]"
     ]
    },
    {
     "name": "stdout",
     "output_type": "stream",
     "text": [
      "Epoch 00010: reducing learning rate of group 0 to 1.0000e-05.\n",
      "Epoch: 9, Training Loss: 0.0439, Validation Loss: 0.0501, accuracy = 0.6866, F1=0.6853\n"
     ]
    },
    {
     "name": "stderr",
     "output_type": "stream",
     "text": [
      "\n"
     ]
    },
    {
     "name": "stdout",
     "output_type": "stream",
     "text": [
      "[VAL] Model: Text-Only - acc: 0.6901 - f1: 0.6858\n",
      "[TEST] Model: Text-Only - acc: 0.6821 - f1: 0.6800\n",
      "\n",
      "_____________________________________Training model Audio-Only______________________________________\n"
     ]
    },
    {
     "name": "stderr",
     "output_type": "stream",
     "text": [
      " 10%|█         | 1/10 [00:44<06:42, 44.73s/it]"
     ]
    },
    {
     "name": "stdout",
     "output_type": "stream",
     "text": [
      "Epoch: 0, Training Loss: 0.0580, Validation Loss: 0.0577, accuracy = 0.5387, F1=0.4831\n"
     ]
    },
    {
     "name": "stderr",
     "output_type": "stream",
     "text": [
      " 20%|██        | 2/10 [01:30<06:00, 45.05s/it]"
     ]
    },
    {
     "name": "stdout",
     "output_type": "stream",
     "text": [
      "Epoch: 1, Training Loss: 0.0578, Validation Loss: 0.0577, accuracy = 0.5407, F1=0.5007\n"
     ]
    },
    {
     "name": "stderr",
     "output_type": "stream",
     "text": [
      " 30%|███       | 3/10 [02:14<05:13, 44.80s/it]"
     ]
    },
    {
     "name": "stdout",
     "output_type": "stream",
     "text": [
      "Epoch: 2, Training Loss: 0.0576, Validation Loss: 0.0578, accuracy = 0.5389, F1=0.4933\n"
     ]
    },
    {
     "name": "stderr",
     "output_type": "stream",
     "text": [
      " 40%|████      | 4/10 [02:59<04:30, 45.05s/it]"
     ]
    },
    {
     "name": "stdout",
     "output_type": "stream",
     "text": [
      "Epoch: 3, Training Loss: 0.0576, Validation Loss: 0.0586, accuracy = 0.5439, F1=0.4132\n"
     ]
    },
    {
     "name": "stderr",
     "output_type": "stream",
     "text": [
      " 50%|█████     | 5/10 [03:44<03:45, 45.05s/it]"
     ]
    },
    {
     "name": "stdout",
     "output_type": "stream",
     "text": [
      "Epoch 00005: reducing learning rate of group 0 to 1.0000e-05.\n",
      "Epoch: 4, Training Loss: 0.0576, Validation Loss: 0.0580, accuracy = 0.5105, F1=0.5102\n"
     ]
    },
    {
     "name": "stderr",
     "output_type": "stream",
     "text": [
      " 60%|██████    | 6/10 [04:29<02:59, 44.98s/it]"
     ]
    },
    {
     "name": "stdout",
     "output_type": "stream",
     "text": [
      "Epoch: 5, Training Loss: 0.0575, Validation Loss: 0.0578, accuracy = 0.5278, F1=0.5172\n"
     ]
    },
    {
     "name": "stderr",
     "output_type": "stream",
     "text": [
      " 70%|███████   | 7/10 [05:15<02:15, 45.04s/it]"
     ]
    },
    {
     "name": "stdout",
     "output_type": "stream",
     "text": [
      "Epoch: 6, Training Loss: 0.0575, Validation Loss: 0.0578, accuracy = 0.5384, F1=0.5118\n"
     ]
    },
    {
     "name": "stderr",
     "output_type": "stream",
     "text": [
      " 80%|████████  | 8/10 [05:59<01:29, 44.95s/it]"
     ]
    },
    {
     "name": "stdout",
     "output_type": "stream",
     "text": [
      "Epoch: 7, Training Loss: 0.0575, Validation Loss: 0.0578, accuracy = 0.5353, F1=0.5122\n"
     ]
    },
    {
     "name": "stderr",
     "output_type": "stream",
     "text": [
      " 90%|█████████ | 9/10 [06:44<00:44, 44.89s/it]"
     ]
    },
    {
     "name": "stdout",
     "output_type": "stream",
     "text": [
      "Epoch 00009: reducing learning rate of group 0 to 1.0000e-06.\n",
      "Epoch: 8, Training Loss: 0.0575, Validation Loss: 0.0578, accuracy = 0.5399, F1=0.5066\n"
     ]
    },
    {
     "name": "stderr",
     "output_type": "stream",
     "text": [
      "100%|██████████| 10/10 [07:29<00:00, 44.92s/it]"
     ]
    },
    {
     "name": "stdout",
     "output_type": "stream",
     "text": [
      "Epoch: 9, Training Loss: 0.0575, Validation Loss: 0.0578, accuracy = 0.5357, F1=0.5109\n"
     ]
    },
    {
     "name": "stderr",
     "output_type": "stream",
     "text": [
      "\n"
     ]
    },
    {
     "name": "stdout",
     "output_type": "stream",
     "text": [
      "[VAL] Model: Audio-Only - acc: 0.5387 - f1: 0.4831\n",
      "[TEST] Model: Audio-Only - acc: 0.5482 - f1: 0.5051\n",
      "\n",
      "_________________________________________Training model CSA_________________________________________\n"
     ]
    },
    {
     "name": "stderr",
     "output_type": "stream",
     "text": [
      " 10%|█         | 1/10 [01:34<14:10, 94.54s/it]"
     ]
    },
    {
     "name": "stdout",
     "output_type": "stream",
     "text": [
      "Epoch: 0, Training Loss: 0.0478, Validation Loss: 0.0485, accuracy = 0.7058, F1=0.7013\n"
     ]
    },
    {
     "name": "stderr",
     "output_type": "stream",
     "text": [
      " 20%|██        | 2/10 [03:09<12:39, 94.91s/it]"
     ]
    },
    {
     "name": "stdout",
     "output_type": "stream",
     "text": [
      "Epoch: 1, Training Loss: 0.0442, Validation Loss: 0.0469, accuracy = 0.7154, F1=0.7128\n"
     ]
    },
    {
     "name": "stderr",
     "output_type": "stream",
     "text": [
      " 30%|███       | 3/10 [04:44<11:03, 94.73s/it]"
     ]
    },
    {
     "name": "stdout",
     "output_type": "stream",
     "text": [
      "Epoch: 2, Training Loss: 0.0423, Validation Loss: 0.0495, accuracy = 0.7097, F1=0.7055\n"
     ]
    },
    {
     "name": "stderr",
     "output_type": "stream",
     "text": [
      " 40%|████      | 4/10 [06:19<09:29, 94.97s/it]"
     ]
    },
    {
     "name": "stdout",
     "output_type": "stream",
     "text": [
      "Epoch: 3, Training Loss: 0.0409, Validation Loss: 0.0504, accuracy = 0.7052, F1=0.6977\n"
     ]
    },
    {
     "name": "stderr",
     "output_type": "stream",
     "text": [
      " 50%|█████     | 5/10 [07:54<07:54, 94.99s/it]"
     ]
    },
    {
     "name": "stdout",
     "output_type": "stream",
     "text": [
      "Epoch: 4, Training Loss: 0.0396, Validation Loss: 0.0502, accuracy = 0.7022, F1=0.7021\n"
     ]
    },
    {
     "name": "stderr",
     "output_type": "stream",
     "text": [
      " 60%|██████    | 6/10 [09:29<06:20, 95.03s/it]"
     ]
    },
    {
     "name": "stdout",
     "output_type": "stream",
     "text": [
      "Epoch 00006: reducing learning rate of group 0 to 1.0000e-05.\n",
      "Epoch: 5, Training Loss: 0.0383, Validation Loss: 0.0509, accuracy = 0.7047, F1=0.7021\n"
     ]
    },
    {
     "name": "stderr",
     "output_type": "stream",
     "text": [
      " 70%|███████   | 7/10 [11:04<04:45, 95.10s/it]"
     ]
    },
    {
     "name": "stdout",
     "output_type": "stream",
     "text": [
      "Epoch: 6, Training Loss: 0.0346, Validation Loss: 0.0539, accuracy = 0.7020, F1=0.6992\n"
     ]
    },
    {
     "name": "stderr",
     "output_type": "stream",
     "text": [
      " 80%|████████  | 8/10 [12:39<03:09, 94.95s/it]"
     ]
    },
    {
     "name": "stdout",
     "output_type": "stream",
     "text": [
      "Epoch: 7, Training Loss: 0.0333, Validation Loss: 0.0559, accuracy = 0.6974, F1=0.6940\n"
     ]
    },
    {
     "name": "stderr",
     "output_type": "stream",
     "text": [
      " 90%|█████████ | 9/10 [14:13<01:34, 94.78s/it]"
     ]
    },
    {
     "name": "stdout",
     "output_type": "stream",
     "text": [
      "Epoch: 8, Training Loss: 0.0330, Validation Loss: 0.0547, accuracy = 0.6976, F1=0.6940\n"
     ]
    },
    {
     "name": "stderr",
     "output_type": "stream",
     "text": [
      "100%|██████████| 10/10 [15:48<00:00, 94.87s/it]"
     ]
    },
    {
     "name": "stdout",
     "output_type": "stream",
     "text": [
      "Epoch 00010: reducing learning rate of group 0 to 1.0000e-06.\n",
      "Epoch: 9, Training Loss: 0.0321, Validation Loss: 0.0568, accuracy = 0.6960, F1=0.6944\n"
     ]
    },
    {
     "name": "stderr",
     "output_type": "stream",
     "text": [
      "\n"
     ]
    },
    {
     "name": "stdout",
     "output_type": "stream",
     "text": [
      "[VAL] Model: CSA - acc: 0.7154 - f1: 0.7128\n",
      "[TEST] Model: CSA - acc: 0.7068 - f1: 0.7057\n",
      "\n",
      "_____________________________________Training model Ensembling______________________________________\n"
     ]
    },
    {
     "name": "stderr",
     "output_type": "stream",
     "text": [
      " 10%|█         | 1/10 [01:35<14:17, 95.31s/it]"
     ]
    },
    {
     "name": "stdout",
     "output_type": "stream",
     "text": [
      "Epoch: 0, Training Loss: 0.0541, Validation Loss: 0.0533, accuracy = 0.6731, F1=0.6724\n"
     ]
    },
    {
     "name": "stderr",
     "output_type": "stream",
     "text": [
      " 20%|██        | 2/10 [03:10<12:44, 95.53s/it]"
     ]
    },
    {
     "name": "stdout",
     "output_type": "stream",
     "text": [
      "Epoch: 1, Training Loss: 0.0519, Validation Loss: 0.0528, accuracy = 0.6829, F1=0.6784\n"
     ]
    },
    {
     "name": "stderr",
     "output_type": "stream",
     "text": [
      " 30%|███       | 3/10 [04:46<11:08, 95.56s/it]"
     ]
    },
    {
     "name": "stdout",
     "output_type": "stream",
     "text": [
      "Epoch: 2, Training Loss: 0.0513, Validation Loss: 0.0524, accuracy = 0.6860, F1=0.6848\n"
     ]
    },
    {
     "name": "stderr",
     "output_type": "stream",
     "text": [
      " 40%|████      | 4/10 [06:22<09:34, 95.72s/it]"
     ]
    },
    {
     "name": "stdout",
     "output_type": "stream",
     "text": [
      "Epoch: 3, Training Loss: 0.0511, Validation Loss: 0.0527, accuracy = 0.6772, F1=0.6681\n"
     ]
    },
    {
     "name": "stderr",
     "output_type": "stream",
     "text": [
      " 50%|█████     | 5/10 [07:58<07:58, 95.69s/it]"
     ]
    },
    {
     "name": "stdout",
     "output_type": "stream",
     "text": [
      "Epoch: 4, Training Loss: 0.0507, Validation Loss: 0.0524, accuracy = 0.6797, F1=0.6795\n"
     ]
    },
    {
     "name": "stderr",
     "output_type": "stream",
     "text": [
      " 60%|██████    | 6/10 [09:35<06:24, 96.19s/it]"
     ]
    },
    {
     "name": "stdout",
     "output_type": "stream",
     "text": [
      "Epoch: 5, Training Loss: 0.0506, Validation Loss: 0.0524, accuracy = 0.6741, F1=0.6741\n"
     ]
    },
    {
     "name": "stderr",
     "output_type": "stream",
     "text": [
      " 70%|███████   | 7/10 [11:12<04:49, 96.54s/it]"
     ]
    },
    {
     "name": "stdout",
     "output_type": "stream",
     "text": [
      "Epoch: 6, Training Loss: 0.0504, Validation Loss: 0.0525, accuracy = 0.6785, F1=0.6706\n"
     ]
    },
    {
     "name": "stderr",
     "output_type": "stream",
     "text": [
      " 80%|████████  | 8/10 [12:49<03:13, 96.70s/it]"
     ]
    },
    {
     "name": "stdout",
     "output_type": "stream",
     "text": [
      "Epoch: 7, Training Loss: 0.0503, Validation Loss: 0.0520, accuracy = 0.6835, F1=0.6813\n"
     ]
    },
    {
     "name": "stderr",
     "output_type": "stream",
     "text": [
      " 90%|█████████ | 9/10 [14:25<01:36, 96.52s/it]"
     ]
    },
    {
     "name": "stdout",
     "output_type": "stream",
     "text": [
      "Epoch: 8, Training Loss: 0.0502, Validation Loss: 0.0525, accuracy = 0.6778, F1=0.6664\n"
     ]
    },
    {
     "name": "stderr",
     "output_type": "stream",
     "text": [
      "100%|██████████| 10/10 [16:02<00:00, 96.29s/it]"
     ]
    },
    {
     "name": "stdout",
     "output_type": "stream",
     "text": [
      "Epoch: 9, Training Loss: 0.0501, Validation Loss: 0.0520, accuracy = 0.6795, F1=0.6784\n"
     ]
    },
    {
     "name": "stderr",
     "output_type": "stream",
     "text": [
      "\n"
     ]
    },
    {
     "name": "stdout",
     "output_type": "stream",
     "text": [
      "[VAL] Model: Ensembling - acc: 0.6795 - f1: 0.6784\n",
      "[TEST] Model: Ensembling - acc: 0.6826 - f1: 0.6823\n",
      "\n",
      "_______________________________________Training model Mul-TA________________________________________\n"
     ]
    },
    {
     "name": "stderr",
     "output_type": "stream",
     "text": [
      " 10%|█         | 1/10 [03:20<30:08, 200.93s/it]"
     ]
    },
    {
     "name": "stdout",
     "output_type": "stream",
     "text": [
      "Epoch: 0, Training Loss: 0.0495, Validation Loss: 0.0514, accuracy = 0.6914, F1=0.6773\n"
     ]
    },
    {
     "name": "stderr",
     "output_type": "stream",
     "text": [
      " 20%|██        | 2/10 [06:44<27:00, 202.51s/it]"
     ]
    },
    {
     "name": "stdout",
     "output_type": "stream",
     "text": [
      "Epoch: 1, Training Loss: 0.0454, Validation Loss: 0.0514, accuracy = 0.6849, F1=0.6606\n"
     ]
    },
    {
     "name": "stderr",
     "output_type": "stream",
     "text": [
      " 30%|███       | 3/10 [10:06<23:35, 202.21s/it]"
     ]
    },
    {
     "name": "stdout",
     "output_type": "stream",
     "text": [
      "Epoch: 2, Training Loss: 0.0440, Validation Loss: 0.0485, accuracy = 0.7149, F1=0.7131\n"
     ]
    },
    {
     "name": "stderr",
     "output_type": "stream",
     "text": [
      " 40%|████      | 4/10 [13:28<20:13, 202.28s/it]"
     ]
    },
    {
     "name": "stdout",
     "output_type": "stream",
     "text": [
      "Epoch: 3, Training Loss: 0.0430, Validation Loss: 0.0488, accuracy = 0.7122, F1=0.7086\n"
     ]
    },
    {
     "name": "stderr",
     "output_type": "stream",
     "text": [
      " 50%|█████     | 5/10 [16:50<16:49, 201.93s/it]"
     ]
    },
    {
     "name": "stdout",
     "output_type": "stream",
     "text": [
      "Epoch: 4, Training Loss: 0.0424, Validation Loss: 0.0493, accuracy = 0.6995, F1=0.6994\n"
     ]
    },
    {
     "name": "stderr",
     "output_type": "stream",
     "text": [
      " 60%|██████    | 6/10 [20:11<13:27, 201.83s/it]"
     ]
    },
    {
     "name": "stdout",
     "output_type": "stream",
     "text": [
      "Epoch: 5, Training Loss: 0.0413, Validation Loss: 0.0496, accuracy = 0.7068, F1=0.6996\n"
     ]
    },
    {
     "name": "stderr",
     "output_type": "stream",
     "text": [
      " 70%|███████   | 7/10 [23:34<10:06, 202.01s/it]"
     ]
    },
    {
     "name": "stdout",
     "output_type": "stream",
     "text": [
      "Epoch 00007: reducing learning rate of group 0 to 1.0000e-05.\n",
      "Epoch: 6, Training Loss: 0.0405, Validation Loss: 0.0495, accuracy = 0.7041, F1=0.7028\n"
     ]
    },
    {
     "name": "stderr",
     "output_type": "stream",
     "text": [
      " 80%|████████  | 8/10 [26:55<06:43, 201.81s/it]"
     ]
    },
    {
     "name": "stdout",
     "output_type": "stream",
     "text": [
      "Epoch: 7, Training Loss: 0.0377, Validation Loss: 0.0515, accuracy = 0.7091, F1=0.7070\n"
     ]
    },
    {
     "name": "stderr",
     "output_type": "stream",
     "text": [
      " 90%|█████████ | 9/10 [30:16<03:21, 201.68s/it]"
     ]
    },
    {
     "name": "stdout",
     "output_type": "stream",
     "text": [
      "Epoch: 8, Training Loss: 0.0373, Validation Loss: 0.0511, accuracy = 0.7054, F1=0.7029\n"
     ]
    },
    {
     "name": "stderr",
     "output_type": "stream",
     "text": [
      "100%|██████████| 10/10 [33:38<00:00, 201.83s/it]"
     ]
    },
    {
     "name": "stdout",
     "output_type": "stream",
     "text": [
      "Epoch: 9, Training Loss: 0.0365, Validation Loss: 0.0521, accuracy = 0.7064, F1=0.7051\n"
     ]
    },
    {
     "name": "stderr",
     "output_type": "stream",
     "text": [
      "\n"
     ]
    },
    {
     "name": "stdout",
     "output_type": "stream",
     "text": [
      "[VAL] Model: Mul-TA - acc: 0.7170 - f1: 0.7152\n",
      "[TEST] Model: Mul-TA - acc: 0.7063 - f1: 0.7056\n",
      "\n"
     ]
    }
   ],
   "source": [
    "SEEDS = [1, 42, 69, 100, 420]\n",
    "\n",
    "dict_model_names = ['Text-Only', 'Audio-Only', 'CSA', 'Ensembling', 'Mul-TA']\n",
    "\n",
    "# initialize results\n",
    "val_results = {n : [] for n in dict_model_names}\n",
    "test_results = {n : [] for n in dict_model_names}\n",
    "\n",
    "# initialize history\n",
    "history_train_losses = {n : [] for n in dict_model_names}\n",
    "history_train_accuracy = {n : [] for n in dict_model_names}\n",
    "history_train_f1 = {n : [] for n in dict_model_names}\n",
    "history_val_losses = {n : [] for n in dict_model_names}\n",
    "history_val_accuracy = {n : [] for n in dict_model_names}\n",
    "history_val_f1 = {n : [] for n in dict_model_names}\n",
    "\n",
    "EPOCHS = 10\n",
    "INITIAL_LR = 1e-4\n",
    "WEIGHT_DECAY = 1e-3\n",
    "LR_DECAY_FACTOR = 1e-1\n",
    "LR_DECAY_PATIENCE = 3\n",
    "VERBOSE_TRAIN = True\n",
    "DEBUG_TRAIN = False\n",
    "\n",
    "for seed in SEEDS:\n",
    "    print(f'{f\"TRAINING WITH SEED {seed}\":=^100}')\n",
    "    print()\n",
    "    torch.manual_seed(seed)\n",
    "    np.random.seed(seed)\n",
    "    \n",
    "    model_names, models = create_models()\n",
    "    \n",
    "    # TODO: check if they are useful\n",
    "    # torch.backends.cudnn.deterministic = True\n",
    "    # torch.backends.cudnn.benchmark = False\n",
    "    \n",
    "    # TO select a single model:\n",
    "    # model_idx = 4\n",
    "    # models, model_names = [models[model_idx]], [model_names[model_idx]]\n",
    "\n",
    "    while models:\n",
    "        model = models[0]\n",
    "        model_name = model_names[0]\n",
    "        torch.manual_seed(seed)\n",
    "        np.random.seed(seed)\n",
    "        print(f'{f\"Training model {model_name}\":_^100}')\n",
    "        \n",
    "        loss = nn.CrossEntropyLoss(weight=weight)\n",
    "        \n",
    "        if model_name == 'ensembling':\n",
    "            loss = lambda outputs, targets: torch.nn.functional.nll_loss(torch.log(outputs), targets, weight=weight, reduction='mean')\n",
    "            \n",
    "        _, history = train(\n",
    "            model,\n",
    "            loss,\n",
    "            train_dataloader,\n",
    "            val_dataloader,\n",
    "            epochs=EPOCHS,\n",
    "            device=device,\n",
    "            lr=INITIAL_LR,\n",
    "            lr_decay_factor=LR_DECAY_FACTOR,\n",
    "            lr_decay_patience=LR_DECAY_PATIENCE,\n",
    "            weight_decay=WEIGHT_DECAY,\n",
    "            verbose=VERBOSE_TRAIN,\n",
    "            debug = DEBUG_TRAIN\n",
    "        )\n",
    "        \n",
    "        history_train_losses[model_name].append(history['train_loss'])\n",
    "        history_train_accuracy[model_name].append(history['train_accuracy'])\n",
    "        history_train_f1[model_name].append(history['train_f1'])\n",
    "        history_val_losses[model_name].append(history['val_loss'])\n",
    "        history_val_accuracy[model_name].append(history['val_accuracy'])\n",
    "        history_val_f1[model_name].append(history['val_f1'])\n",
    "\n",
    "        _, val_acc, val_f1, val_pred, val_targ, val_logits = evaluate(model, val_dataloader, loss)\n",
    "        val_results[model_name].append({'acc': val_acc, 'f1': val_f1, 'pred': val_pred, 'targ': val_targ, 'logits':val_logits})\n",
    "\n",
    "        _, test_acc, test_f1, test_pred, test_targ, test_logits = evaluate(model, test_dataloader, loss)\n",
    "        test_results[model_name].append({'acc': test_acc, 'f1': test_f1, 'pred': test_pred, 'targ': test_targ, 'logits':test_logits})\n",
    "        \n",
    "        if VERBOSE_TRAIN:\n",
    "            print(f'[VAL] Model: {model_name} - acc: {val_acc:.4f} - f1: {val_f1:.4f}')\n",
    "            print(f'[TEST] Model: {model_name} - acc: {test_acc:.4f} - f1: {test_f1:.4f}')\n",
    "            print()\n",
    "        \n",
    "        del model\n",
    "        del models[0]\n",
    "        del model_names[0]\n",
    "        gc.collect()\n",
    "\n",
    "\n",
    "# save history\n",
    "with open(f'{save_path}/history_train_losses.pkl', 'wb') as f:\n",
    "    pickle.dump(history_train_losses, f)\n",
    "with open(f'{save_path}/history_train_accuracy.pkl', 'wb') as f:\n",
    "    pickle.dump(history_train_accuracy, f)\n",
    "with open(f'{save_path}/history_train_f1.pkl', 'wb') as f:\n",
    "    pickle.dump(history_train_f1, f)\n",
    "    \n",
    "with open(f'{save_path}/history_val_losses.pkl', 'wb') as f:\n",
    "    pickle.dump(history_val_losses, f)\n",
    "with open(f'{save_path}/history_val_accuracy.pkl', 'wb') as f:\n",
    "    pickle.dump(history_val_accuracy, f)\n",
    "with open(f'{save_path}/history_val_f1.pkl', 'wb') as f:\n",
    "    pickle.dump(history_val_f1, f)\n",
    "\n",
    "# save results\n",
    "with open(f'{save_path}/val_results.pkl', 'wb') as f:\n",
    "    pickle.dump(val_results, f)\n",
    "with open(f'{save_path}/test_results.pkl', 'wb') as f:\n",
    "    pickle.dump(test_results, f)"
   ]
  },
  {
   "cell_type": "markdown",
   "id": "99a53587",
   "metadata": {
    "papermill": {
     "duration": 0.062969,
     "end_time": "2024-02-03T15:45:33.907010",
     "exception": false,
     "start_time": "2024-02-03T15:45:33.844041",
     "status": "completed"
    },
    "tags": []
   },
   "source": [
    "# Error Analysis"
   ]
  },
  {
   "cell_type": "markdown",
   "id": "46ce5fce",
   "metadata": {
    "papermill": {
     "duration": 0.063722,
     "end_time": "2024-02-03T15:45:34.034341",
     "exception": false,
     "start_time": "2024-02-03T15:45:33.970619",
     "status": "completed"
    },
    "tags": []
   },
   "source": [
    "Restoring results from memory"
   ]
  },
  {
   "cell_type": "code",
   "execution_count": 23,
   "id": "2d895f13",
   "metadata": {
    "execution": {
     "iopub.execute_input": "2024-02-03T15:45:34.163388Z",
     "iopub.status.busy": "2024-02-03T15:45:34.162655Z",
     "iopub.status.idle": "2024-02-03T15:45:34.170321Z",
     "shell.execute_reply": "2024-02-03T15:45:34.169421Z"
    },
    "papermill": {
     "duration": 0.07415,
     "end_time": "2024-02-03T15:45:34.172355",
     "exception": false,
     "start_time": "2024-02-03T15:45:34.098205",
     "status": "completed"
    },
    "tags": []
   },
   "outputs": [
    {
     "name": "stdout",
     "output_type": "stream",
     "text": [
      "Results not saved\n"
     ]
    }
   ],
   "source": [
    "try:\n",
    "    results_run_name = 'BERT-8'\n",
    "\n",
    "    results_path = f'results/{results_run_name}'\n",
    "\n",
    "    history_train_losses = pickle.load(open(f'{results_path}/history_train_losses.pkl', 'rb'))\n",
    "    history_train_accuracy = pickle.load(open(f'{results_path}/history_train_accuracy.pkl', 'rb'))\n",
    "    history_train_f1 = pickle.load(open(f'{results_path}/history_train_f1.pkl', 'rb'))\n",
    "    \n",
    "    history_val_losses = pickle.load(open(f'{results_path}/history_val_losses.pkl', 'rb'))\n",
    "    history_val_accuracy = pickle.load(open(f'{results_path}/history_val_accuracy.pkl', 'rb'))\n",
    "    history_val_f1 = pickle.load(open(f'{results_path}/history_val_f1.pkl', 'rb'))\n",
    "    \n",
    "    val_results = pickle.load(open(f'{results_path}/val_results.pkl', 'rb'))\n",
    "    test_results = pickle.load(open(f'{results_path}/test_results.pkl', 'rb'))\n",
    "except:\n",
    "    print('Results not saved')"
   ]
  },
  {
   "cell_type": "markdown",
   "id": "b200a6a9",
   "metadata": {
    "papermill": {
     "duration": 0.063214,
     "end_time": "2024-02-03T15:45:34.298715",
     "exception": false,
     "start_time": "2024-02-03T15:45:34.235501",
     "status": "completed"
    },
    "tags": []
   },
   "source": [
    "## Train and Validation losses"
   ]
  },
  {
   "cell_type": "code",
   "execution_count": 24,
   "id": "1e38d688",
   "metadata": {
    "execution": {
     "iopub.execute_input": "2024-02-03T15:45:34.429257Z",
     "iopub.status.busy": "2024-02-03T15:45:34.428919Z",
     "iopub.status.idle": "2024-02-03T15:45:40.032360Z",
     "shell.execute_reply": "2024-02-03T15:45:40.031398Z"
    },
    "papermill": {
     "duration": 5.672606,
     "end_time": "2024-02-03T15:45:40.036888",
     "exception": false,
     "start_time": "2024-02-03T15:45:34.364282",
     "status": "completed"
    },
    "tags": []
   },
   "outputs": [
    {
     "data": {
      "image/png": "[encoded data removed]",
      "text/plain": [
       "<Figure size 1200x1600 with 15 Axes>"
      ]
     },
     "metadata": {},
     "output_type": "display_data"
    }
   ],
   "source": [
    "fig = plt.figure(constrained_layout=True, figsize=(12, 16))\n",
    "fig.suptitle('Training History', fontsize=16, fontweight='bold')\n",
    "\n",
    "# create 3x1 subfigs\n",
    "subfigs = fig.subfigures(nrows=5, ncols=1)\n",
    "for (row, subfig), model_name in zip(enumerate(subfigs), history_train_losses.keys()):\n",
    "    subfig.suptitle(f'{model_name}', fontsize=14, fontweight='bold')\n",
    "\n",
    "    # create 1x3 subplots per subfig\n",
    "    axs = subfig.subplots(nrows=1, ncols=3)\n",
    "    for col, ax in enumerate(axs):\n",
    "        if col == 0:\n",
    "            ax.plot(np.mean(history_train_losses[model_name],axis=0), label='Train')\n",
    "            ax.plot(np.mean(history_val_losses[model_name],axis=0), label='Validation')\n",
    "            ax.set_title('Loss')\n",
    "            ax.set_xlabel('Epochs')\n",
    "            ax.set_ylabel('Loss')\n",
    "            ax.legend()\n",
    "        elif col == 1:\n",
    "            ax.plot(np.mean(history_train_accuracy[model_name],axis=0), label='Train')\n",
    "            ax.plot(np.mean(history_val_accuracy[model_name],axis=0), label='Validation')\n",
    "            ax.set_title('Accuracy')\n",
    "            ax.set_xlabel('Epochs')\n",
    "            ax.set_ylabel('Accuracy')\n",
    "            ax.legend()\n",
    "        else:\n",
    "            ax.plot(np.mean([[e.item() for e in ht_l] for ht_l in history_train_f1[model_name]], axis=0), label='Train')\n",
    "            ax.plot(np.mean([[e.item() for e in ht_l] for ht_l in history_val_f1[model_name]], axis=0), label='Validation')\n",
    "            ax.set_title('F1 Score')\n",
    "            ax.set_xlabel('Epochs')\n",
    "            ax.set_ylabel('F1 Score')\n",
    "            ax.legend()"
   ]
  },
  {
   "cell_type": "markdown",
   "id": "da37e111",
   "metadata": {
    "papermill": {
     "duration": 0.067913,
     "end_time": "2024-02-03T15:45:40.174563",
     "exception": false,
     "start_time": "2024-02-03T15:45:40.106650",
     "status": "completed"
    },
    "tags": []
   },
   "source": [
    "Best results store for each model the results obtained in the seed which produced the highest F1 score"
   ]
  },
  {
   "cell_type": "code",
   "execution_count": 25,
   "id": "df31f301",
   "metadata": {
    "execution": {
     "iopub.execute_input": "2024-02-03T15:45:40.312410Z",
     "iopub.status.busy": "2024-02-03T15:45:40.312035Z",
     "iopub.status.idle": "2024-02-03T15:45:40.317258Z",
     "shell.execute_reply": "2024-02-03T15:45:40.316513Z"
    },
    "papermill": {
     "duration": 0.077136,
     "end_time": "2024-02-03T15:45:40.319395",
     "exception": false,
     "start_time": "2024-02-03T15:45:40.242259",
     "status": "completed"
    },
    "tags": []
   },
   "outputs": [],
   "source": [
    "# taking the best results for each model based on the highest F1-score obtained in a seed\n",
    "best_results = {\n",
    "    model_name: max(test_results[model_name], key=lambda x: x['f1']) for model_name in test_results.keys()\n",
    "}"
   ]
  },
  {
   "cell_type": "markdown",
   "id": "f87039d8",
   "metadata": {
    "papermill": {
     "duration": 0.074758,
     "end_time": "2024-02-03T15:45:40.485531",
     "exception": false,
     "start_time": "2024-02-03T15:45:40.410773",
     "status": "completed"
    },
    "tags": []
   },
   "source": [
    "## Mean and Standard Deviation for Accuracy, F1, AUC"
   ]
  },
  {
   "cell_type": "code",
   "execution_count": 26,
   "id": "fd6c84d3",
   "metadata": {
    "execution": {
     "iopub.execute_input": "2024-02-03T15:45:40.633057Z",
     "iopub.status.busy": "2024-02-03T15:45:40.632217Z",
     "iopub.status.idle": "2024-02-03T15:45:40.815629Z",
     "shell.execute_reply": "2024-02-03T15:45:40.814596Z"
    },
    "papermill": {
     "duration": 0.259204,
     "end_time": "2024-02-03T15:45:40.817984",
     "exception": false,
     "start_time": "2024-02-03T15:45:40.558780",
     "status": "completed"
    },
    "tags": []
   },
   "outputs": [
    {
     "data": {
      "text/html": [
       "<div>\n",
       "<style scoped>\n",
       "    .dataframe tbody tr th:only-of-type {\n",
       "        vertical-align: middle;\n",
       "    }\n",
       "\n",
       "    .dataframe tbody tr th {\n",
       "        vertical-align: top;\n",
       "    }\n",
       "\n",
       "    .dataframe thead tr th {\n",
       "        text-align: left;\n",
       "    }\n",
       "</style>\n",
       "<table border=\"1\" class=\"dataframe\">\n",
       "  <thead>\n",
       "    <tr>\n",
       "      <th></th>\n",
       "      <th colspan=\"2\" halign=\"left\">Accuracy</th>\n",
       "      <th colspan=\"2\" halign=\"left\">F1</th>\n",
       "      <th colspan=\"2\" halign=\"left\">AUC</th>\n",
       "    </tr>\n",
       "    <tr>\n",
       "      <th></th>\n",
       "      <th>mean</th>\n",
       "      <th>std</th>\n",
       "      <th>mean</th>\n",
       "      <th>std</th>\n",
       "      <th>mean</th>\n",
       "      <th>std</th>\n",
       "    </tr>\n",
       "  </thead>\n",
       "  <tbody>\n",
       "    <tr>\n",
       "      <th>Mul-TA</th>\n",
       "      <td>0.701</td>\n",
       "      <td>0.004</td>\n",
       "      <td>0.700</td>\n",
       "      <td>0.004</td>\n",
       "      <td>0.701</td>\n",
       "      <td>0.003</td>\n",
       "    </tr>\n",
       "    <tr>\n",
       "      <th>CSA</th>\n",
       "      <td>0.699</td>\n",
       "      <td>0.005</td>\n",
       "      <td>0.698</td>\n",
       "      <td>0.006</td>\n",
       "      <td>0.698</td>\n",
       "      <td>0.005</td>\n",
       "    </tr>\n",
       "    <tr>\n",
       "      <th>Ensembling</th>\n",
       "      <td>0.683</td>\n",
       "      <td>0.003</td>\n",
       "      <td>0.681</td>\n",
       "      <td>0.003</td>\n",
       "      <td>0.682</td>\n",
       "      <td>0.003</td>\n",
       "    </tr>\n",
       "    <tr>\n",
       "      <th>Text-Only</th>\n",
       "      <td>0.681</td>\n",
       "      <td>0.002</td>\n",
       "      <td>0.679</td>\n",
       "      <td>0.002</td>\n",
       "      <td>0.680</td>\n",
       "      <td>0.002</td>\n",
       "    </tr>\n",
       "    <tr>\n",
       "      <th>Audio-Only</th>\n",
       "      <td>0.547</td>\n",
       "      <td>0.001</td>\n",
       "      <td>0.526</td>\n",
       "      <td>0.012</td>\n",
       "      <td>0.542</td>\n",
       "      <td>0.001</td>\n",
       "    </tr>\n",
       "  </tbody>\n",
       "</table>\n",
       "</div>"
      ],
      "text/plain": [
       "           Accuracy          F1         AUC      \n",
       "               mean   std  mean   std  mean   std\n",
       "Mul-TA        0.701 0.004 0.700 0.004 0.701 0.003\n",
       "CSA           0.699 0.005 0.698 0.006 0.698 0.005\n",
       "Ensembling    0.683 0.003 0.681 0.003 0.682 0.003\n",
       "Text-Only     0.681 0.002 0.679 0.002 0.680 0.002\n",
       "Audio-Only    0.547 0.001 0.526 0.012 0.542 0.001"
      ]
     },
     "execution_count": 26,
     "metadata": {},
     "output_type": "execute_result"
    }
   ],
   "source": [
    "# mean and standard deviation for the accuracy, F1 and AUC\n",
    "aggregated_results = {}\n",
    "for model_name, results in test_results.items():\n",
    "    aggregated_results[model_name] = {\n",
    "        'acc mean': torch.tensor([x['acc'] for x in results]).mean().item(),\n",
    "        'acc std': torch.tensor([x['acc'] for x in results]).std().item(),\n",
    "        'f1 mean': torch.tensor([x['f1'] for x in results]).mean().item(),\n",
    "        'f1 std': torch.tensor([x['f1'] for x in results]).std().item(),\n",
    "        'AUC mean': torch.tensor([roc_auc_score(x['targ'].cpu(), x['pred'].cpu()) for x in results]).mean().item(),\n",
    "        'AUC std': torch.tensor([roc_auc_score(x['targ'].cpu(), x['pred'].cpu()) for x in results]).std().item(),\n",
    "    }\n",
    "\n",
    "# create multiindex dataframe with first level accuracy, f1 and second level mean and std\n",
    "aggregated_results_df = pd.DataFrame(aggregated_results).T\n",
    "aggregated_results_df.columns = pd.MultiIndex.from_product([['Accuracy', 'F1', 'AUC'], ['mean', 'std']])\n",
    "aggregated_results_df.sort_values(by=('F1', 'mean'), ascending=False)"
   ]
  },
  {
   "cell_type": "markdown",
   "id": "c110b6d3",
   "metadata": {
    "papermill": {
     "duration": 0.069558,
     "end_time": "2024-02-03T15:45:40.961472",
     "exception": false,
     "start_time": "2024-02-03T15:45:40.891914",
     "status": "completed"
    },
    "tags": []
   },
   "source": [
    "## ROC curves and AUC for the model in best_results"
   ]
  },
  {
   "cell_type": "code",
   "execution_count": 27,
   "id": "b8c2b01b",
   "metadata": {
    "execution": {
     "iopub.execute_input": "2024-02-03T15:45:41.102857Z",
     "iopub.status.busy": "2024-02-03T15:45:41.102496Z",
     "iopub.status.idle": "2024-02-03T15:45:41.362055Z",
     "shell.execute_reply": "2024-02-03T15:45:41.360921Z"
    },
    "papermill": {
     "duration": 0.331528,
     "end_time": "2024-02-03T15:45:41.364548",
     "exception": false,
     "start_time": "2024-02-03T15:45:41.033020",
     "status": "completed"
    },
    "tags": []
   },
   "outputs": [
    {
     "data": {
      "image/png": "[encoded data removed]",
      "text/plain": [
       "<Figure size 500x500 with 1 Axes>"
      ]
     },
     "metadata": {},
     "output_type": "display_data"
    }
   ],
   "source": [
    "# plot ROC curves and compute AUC\n",
    "plt.figure(figsize=(5, 5))\n",
    "for model_name in test_results.keys():\n",
    "    best_result = best_results[model_name]\n",
    "    # compute the ROC curve\n",
    "    fpr, tpr, _ = roc_curve(best_result['targ'].cpu(), best_result['logits'].cpu())\n",
    "    # compute the AUC\n",
    "    auc = roc_auc_score(best_result['targ'].cpu(), best_result['logits'].cpu())\n",
    "    # plot the ROC curve\n",
    "    plt.plot(fpr, tpr, label=f'{model_name} - AUC: {auc:.4f}')\n",
    "plt.xlabel('False Positive Rate')\n",
    "plt.xlim([0, 1])\n",
    "plt.ylabel('True Positive Rate')\n",
    "plt.ylim([0, 1])\n",
    "plt.legend()\n",
    "plt.show()"
   ]
  },
  {
   "cell_type": "markdown",
   "id": "af1923e2",
   "metadata": {
    "papermill": {
     "duration": 0.069281,
     "end_time": "2024-02-03T15:45:41.507250",
     "exception": false,
     "start_time": "2024-02-03T15:45:41.437969",
     "status": "completed"
    },
    "tags": []
   },
   "source": [
    "# Precision-Recall curves for models in best_models"
   ]
  },
  {
   "cell_type": "code",
   "execution_count": 28,
   "id": "c206a4bd",
   "metadata": {
    "execution": {
     "iopub.execute_input": "2024-02-03T15:45:41.647815Z",
     "iopub.status.busy": "2024-02-03T15:45:41.647408Z",
     "iopub.status.idle": "2024-02-03T15:45:41.891749Z",
     "shell.execute_reply": "2024-02-03T15:45:41.890781Z"
    },
    "papermill": {
     "duration": 0.317199,
     "end_time": "2024-02-03T15:45:41.893781",
     "exception": false,
     "start_time": "2024-02-03T15:45:41.576582",
     "status": "completed"
    },
    "tags": []
   },
   "outputs": [
    {
     "data": {
      "image/png": "[encoded data removed]",
      "text/plain": [
       "<Figure size 500x500 with 1 Axes>"
      ]
     },
     "metadata": {},
     "output_type": "display_data"
    }
   ],
   "source": [
    "# plot precision-recall curves\n",
    "plt.figure(figsize=(5, 5))\n",
    "for model_name in test_results.keys():\n",
    "    best_result = best_results[model_name]\n",
    "    # compute the precision-recall curve\n",
    "    precision, recall, _ = precision_recall_curve(best_result['targ'].cpu(), best_result['logits'].cpu())\n",
    "    # plot the precision-recall curve\n",
    "    plt.plot(recall, precision, label=f'{model_name}')\n",
    "plt.xlabel('Recall')\n",
    "plt.xlim([0, 1])\n",
    "plt.ylabel('Precision')\n",
    "plt.ylim([0, 1])\n",
    "plt.legend()\n",
    "plt.show()"
   ]
  },
  {
   "cell_type": "markdown",
   "id": "60b15d04",
   "metadata": {
    "papermill": {
     "duration": 0.082875,
     "end_time": "2024-02-03T15:45:42.061801",
     "exception": false,
     "start_time": "2024-02-03T15:45:41.978926",
     "status": "completed"
    },
    "tags": []
   },
   "source": [
    "## Confusion Matrix for models in best_models"
   ]
  },
  {
   "cell_type": "code",
   "execution_count": 29,
   "id": "e6056f50",
   "metadata": {
    "execution": {
     "iopub.execute_input": "2024-02-03T15:45:42.206566Z",
     "iopub.status.busy": "2024-02-03T15:45:42.206108Z",
     "iopub.status.idle": "2024-02-03T15:45:44.075460Z",
     "shell.execute_reply": "2024-02-03T15:45:44.074573Z"
    },
    "papermill": {
     "duration": 1.942659,
     "end_time": "2024-02-03T15:45:44.077947",
     "exception": false,
     "start_time": "2024-02-03T15:45:42.135288",
     "status": "completed"
    },
    "tags": []
   },
   "outputs": [
    {
     "data": {
      "image/png": "[encoded data removed]",
      "text/plain": [
       "<Figure size 1200x600 with 11 Axes>"
      ]
     },
     "metadata": {},
     "output_type": "display_data"
    }
   ],
   "source": [
    "fig, axes = plt.subplots(2, 3, figsize=(12, 6))\n",
    "for i, model_name in enumerate(test_results.keys()):\n",
    "    best_result = best_results[model_name]\n",
    "    \n",
    "    cm = confusion_matrix([ID_2_LABEL[label.item()] for label in best_result['targ'].cpu()],\n",
    "                      [ID_2_LABEL[label.item()] for label in best_result['pred'].cpu()])\n",
    "                      \n",
    "    sns.heatmap(cm, annot=True, ax=axes[i//3][i%3], fmt='d', xticklabels=['Claim', 'Premise'], yticklabels=['Claim', 'Premise'], cmap='Reds')\n",
    "    axes[i//3][i%3].set_title(model_name)\n",
    "    axes[i//3][i%3].set_xlabel('Predicted')\n",
    "    axes[i//3][i%3].set_ylabel('True')\n",
    "axes[1][2].axis('off')\n",
    "plt.tight_layout()\n",
    "plt.show()"
   ]
  },
  {
   "cell_type": "markdown",
   "id": "fc0162ca",
   "metadata": {
    "papermill": {
     "duration": 0.069869,
     "end_time": "2024-02-03T15:45:44.219434",
     "exception": false,
     "start_time": "2024-02-03T15:45:44.149565",
     "status": "completed"
    },
    "tags": []
   },
   "source": [
    "# Breakdown analysis on the Best performing model"
   ]
  },
  {
   "cell_type": "code",
   "execution_count": 30,
   "id": "40481b56",
   "metadata": {
    "execution": {
     "iopub.execute_input": "2024-02-03T15:45:44.363449Z",
     "iopub.status.busy": "2024-02-03T15:45:44.362821Z",
     "iopub.status.idle": "2024-02-03T15:45:44.736449Z",
     "shell.execute_reply": "2024-02-03T15:45:44.735584Z"
    },
    "papermill": {
     "duration": 0.449136,
     "end_time": "2024-02-03T15:45:44.738605",
     "exception": false,
     "start_time": "2024-02-03T15:45:44.289469",
     "status": "completed"
    },
    "tags": []
   },
   "outputs": [
    {
     "name": "stdout",
     "output_type": "stream",
     "text": [
      "Best performing model: Mul-TA\n",
      "Accuracy: 0.7063\n",
      "F1: 0.7056\n",
      "AUC: 0.7055\n",
      "\n",
      "              precision    recall  f1-score   support\n",
      "\n",
      "       Claim       0.71      0.73      0.72      3037\n",
      "     Premise       0.71      0.68      0.69      2871\n",
      "\n",
      "    accuracy                           0.71      5908\n",
      "   macro avg       0.71      0.71      0.71      5908\n",
      "weighted avg       0.71      0.71      0.71      5908\n",
      "\n"
     ]
    },
    {
     "data": {
      "image/png": "[encoded data removed]",
      "text/plain": [
       "<Figure size 640x480 with 2 Axes>"
      ]
     },
     "metadata": {},
     "output_type": "display_data"
    }
   ],
   "source": [
    "best_performing_model_name = max(aggregated_results_df['F1']['mean'].items(), key=lambda x: x[1])[0]\n",
    "\n",
    "best_performing_model = max(test_results[best_performing_model_name], key=lambda x: x['f1'])\n",
    "\n",
    "print(f'Best performing model: {best_performing_model_name}')\n",
    "print(f'Accuracy: {best_performing_model[\"acc\"]:.4f}')\n",
    "print(f'F1: {best_performing_model[\"f1\"]:.4f}')\n",
    "print(f'AUC: {roc_auc_score(best_performing_model[\"targ\"].cpu(), best_performing_model[\"pred\"].cpu()):.4f}')\n",
    "print()\n",
    "\n",
    "print(classification_report([ID_2_LABEL[label.item()] for label in best_performing_model['targ']],\n",
    "                            [ID_2_LABEL[label.item()] for label in best_performing_model['pred']])) \n",
    "\n",
    "cm = confusion_matrix([ID_2_LABEL[label.item()] for label in best_performing_model['targ']],\n",
    "                        [ID_2_LABEL[label.item()] for label in best_performing_model['pred']])          \n",
    "\n",
    "sns.heatmap(cm, annot=True, fmt='d', cmap='Blues', xticklabels=['Claim', 'Premise'], yticklabels=['Claim', 'Premise'])\n",
    "plt.xlabel('Predicted')\n",
    "plt.ylabel('True')\n",
    "plt.show()"
   ]
  }
 ],
 "metadata": {
  "kaggle": {
   "accelerator": "gpu",
   "dataSources": [
    {
     "datasetId": 4304373,
     "sourceId": 7402218,
     "sourceType": "datasetVersion"
    },
    {
     "datasetId": 4354582,
     "sourceId": 7480566,
     "sourceType": "datasetVersion"
    },
    {
     "sourceId": 160784318,
     "sourceType": "kernelVersion"
    },
    {
     "sourceId": 160785062,
     "sourceType": "kernelVersion"
    }
   ],
   "dockerImageVersionId": 30648,
   "isGpuEnabled": true,
   "isInternetEnabled": true,
   "language": "python",
   "sourceType": "notebook"
  },
  "kernelspec": {
   "display_name": "Python 3",
   "language": "python",
   "name": "python3"
  },
  "language_info": {
   "codemirror_mode": {
    "name": "ipython",
    "version": 3
   },
   "file_extension": ".py",
   "mimetype": "text/x-python",
   "name": "python",
   "nbconvert_exporter": "python",
   "pygments_lexer": "ipython3",
   "version": "3.10.12"
  },
  "papermill": {
   "default_parameters": {},
   "duration": 26764.357841,
   "end_time": "2024-02-03T15:45:48.390169",
   "environment_variables": {},
   "exception": null,
   "input_path": "__notebook__.ipynb",
   "output_path": "__notebook__.ipynb",
   "parameters": {},
   "start_time": "2024-02-03T08:19:44.032328",
   "version": "2.5.0"
  },
  "widgets": {
   "application/vnd.jupyter.widget-state+json": {
    "state": {
     "1007a9f8ee3c45449d76fc3f9ecbf736": {
      "model_module": "@jupyter-widgets/base",
      "model_module_version": "1.2.0",
      "model_name": "LayoutModel",
      "state": {
       "_model_module": "@jupyter-widgets/base",
       "_model_module_version": "1.2.0",
       "_model_name": "LayoutModel",
       "_view_count": null,
       "_view_module": "@jupyter-widgets/base",
       "_view_module_version": "1.2.0",
       "_view_name": "LayoutView",
       "align_content": null,
       "align_items": null,
       "align_self": null,
       "border": null,
       "bottom": null,
       "display": null,
       "flex": null,
       "flex_flow": null,
       "grid_area": null,
       "grid_auto_columns": null,
       "grid_auto_flow": null,
       "grid_auto_rows": null,
       "grid_column": null,
       "grid_gap": null,
       "grid_row": null,
       "grid_template_areas": null,
       "grid_template_columns": null,
       "grid_template_rows": null,
       "height": null,
       "justify_content": null,
       "justify_items": null,
       "left": null,
       "margin": null,
       "max_height": null,
       "max_width": null,
       "min_height": null,
       "min_width": null,
       "object_fit": null,
       "object_position": null,
       "order": null,
       "overflow": null,
       "overflow_x": null,
       "overflow_y": null,
       "padding": null,
       "right": null,
       "top": null,
       "visibility": null,
       "width": null
      }
     },
     "1069c3f45b8944c49ea0eb5498bb3fd1": {
      "model_module": "@jupyter-widgets/base",
      "model_module_version": "1.2.0",
      "model_name": "LayoutModel",
      "state": {
       "_model_module": "@jupyter-widgets/base",
       "_model_module_version": "1.2.0",
       "_model_name": "LayoutModel",
       "_view_count": null,
       "_view_module": "@jupyter-widgets/base",
       "_view_module_version": "1.2.0",
       "_view_name": "LayoutView",
       "align_content": null,
       "align_items": null,
       "align_self": null,
       "border": null,
       "bottom": null,
       "display": null,
       "flex": null,
       "flex_flow": null,
       "grid_area": null,
       "grid_auto_columns": null,
       "grid_auto_flow": null,
       "grid_auto_rows": null,
       "grid_column": null,
       "grid_gap": null,
       "grid_row": null,
       "grid_template_areas": null,
       "grid_template_columns": null,
       "grid_template_rows": null,
       "height": null,
       "justify_content": null,
       "justify_items": null,
       "left": null,
       "margin": null,
       "max_height": null,
       "max_width": null,
       "min_height": null,
       "min_width": null,
       "object_fit": null,
       "object_position": null,
       "order": null,
       "overflow": null,
       "overflow_x": null,
       "overflow_y": null,
       "padding": null,
       "right": null,
       "top": null,
       "visibility": null,
       "width": null
      }
     },
     "164b2f49cfab4b05957f7e187983f3ae": {
      "model_module": "@jupyter-widgets/controls",
      "model_module_version": "1.5.0",
      "model_name": "FloatProgressModel",
      "state": {
       "_dom_classes": [],
       "_model_module": "@jupyter-widgets/controls",
       "_model_module_version": "1.5.0",
       "_model_name": "FloatProgressModel",
       "_view_count": null,
       "_view_module": "@jupyter-widgets/controls",
       "_view_module_version": "1.5.0",
       "_view_name": "ProgressView",
       "bar_style": "success",
       "description": "",
       "description_tooltip": null,
       "layout": "IPY_MODEL_9bfc45d605a747bc971a2f8275192a65",
       "max": 440449768,
       "min": 0,
       "orientation": "horizontal",
       "style": "IPY_MODEL_96c525daf82f44d98aafd197ec3dd1a9",
       "value": 440449768
      }
     },
     "179054c27d5c46c8acb4222a34f27863": {
      "model_module": "@jupyter-widgets/base",
      "model_module_version": "1.2.0",
      "model_name": "LayoutModel",
      "state": {
       "_model_module": "@jupyter-widgets/base",
       "_model_module_version": "1.2.0",
       "_model_name": "LayoutModel",
       "_view_count": null,
       "_view_module": "@jupyter-widgets/base",
       "_view_module_version": "1.2.0",
       "_view_name": "LayoutView",
       "align_content": null,
       "align_items": null,
       "align_self": null,
       "border": null,
       "bottom": null,
       "display": null,
       "flex": null,
       "flex_flow": null,
       "grid_area": null,
       "grid_auto_columns": null,
       "grid_auto_flow": null,
       "grid_auto_rows": null,
       "grid_column": null,
       "grid_gap": null,
       "grid_row": null,
       "grid_template_areas": null,
       "grid_template_columns": null,
       "grid_template_rows": null,
       "height": null,
       "justify_content": null,
       "justify_items": null,
       "left": null,
       "margin": null,
       "max_height": null,
       "max_width": null,
       "min_height": null,
       "min_width": null,
       "object_fit": null,
       "object_position": null,
       "order": null,
       "overflow": null,
       "overflow_x": null,
       "overflow_y": null,
       "padding": null,
       "right": null,
       "top": null,
       "visibility": null,
       "width": null
      }
     },
     "2227311bc4bc4501a04b77d3e284fa22": {
      "model_module": "@jupyter-widgets/base",
      "model_module_version": "1.2.0",
      "model_name": "LayoutModel",
      "state": {
       "_model_module": "@jupyter-widgets/base",
       "_model_module_version": "1.2.0",
       "_model_name": "LayoutModel",
       "_view_count": null,
       "_view_module": "@jupyter-widgets/base",
       "_view_module_version": "1.2.0",
       "_view_name": "LayoutView",
       "align_content": null,
       "align_items": null,
       "align_self": null,
       "border": null,
       "bottom": null,
       "display": null,
       "flex": null,
       "flex_flow": null,
       "grid_area": null,
       "grid_auto_columns": null,
       "grid_auto_flow": null,
       "grid_auto_rows": null,
       "grid_column": null,
       "grid_gap": null,
       "grid_row": null,
       "grid_template_areas": null,
       "grid_template_columns": null,
       "grid_template_rows": null,
       "height": null,
       "justify_content": null,
       "justify_items": null,
       "left": null,
       "margin": null,
       "max_height": null,
       "max_width": null,
       "min_height": null,
       "min_width": null,
       "object_fit": null,
       "object_position": null,
       "order": null,
       "overflow": null,
       "overflow_x": null,
       "overflow_y": null,
       "padding": null,
       "right": null,
       "top": null,
       "visibility": null,
       "width": null
      }
     },
     "263739b0a38d4f24a923ef8ea3c4fb40": {
      "model_module": "@jupyter-widgets/controls",
      "model_module_version": "1.5.0",
      "model_name": "DescriptionStyleModel",
      "state": {
       "_model_module": "@jupyter-widgets/controls",
       "_model_module_version": "1.5.0",
       "_model_name": "DescriptionStyleModel",
       "_view_count": null,
       "_view_module": "@jupyter-widgets/base",
       "_view_module_version": "1.2.0",
       "_view_name": "StyleView",
       "description_width": ""
      }
     },
     "2703bc69faba447290b73bb6ce7e97fa": {
      "model_module": "@jupyter-widgets/base",
      "model_module_version": "1.2.0",
      "model_name": "LayoutModel",
      "state": {
       "_model_module": "@jupyter-widgets/base",
       "_model_module_version": "1.2.0",
       "_model_name": "LayoutModel",
       "_view_count": null,
       "_view_module": "@jupyter-widgets/base",
       "_view_module_version": "1.2.0",
       "_view_name": "LayoutView",
       "align_content": null,
       "align_items": null,
       "align_self": null,
       "border": null,
       "bottom": null,
       "display": null,
       "flex": null,
       "flex_flow": null,
       "grid_area": null,
       "grid_auto_columns": null,
       "grid_auto_flow": null,
       "grid_auto_rows": null,
       "grid_column": null,
       "grid_gap": null,
       "grid_row": null,
       "grid_template_areas": null,
       "grid_template_columns": null,
       "grid_template_rows": null,
       "height": null,
       "justify_content": null,
       "justify_items": null,
       "left": null,
       "margin": null,
       "max_height": null,
       "max_width": null,
       "min_height": null,
       "min_width": null,
       "object_fit": null,
       "object_position": null,
       "order": null,
       "overflow": null,
       "overflow_x": null,
       "overflow_y": null,
       "padding": null,
       "right": null,
       "top": null,
       "visibility": null,
       "width": null
      }
     },
     "28bb376336fe4cd78158752c1b7bc449": {
      "model_module": "@jupyter-widgets/controls",
      "model_module_version": "1.5.0",
      "model_name": "DescriptionStyleModel",
      "state": {
       "_model_module": "@jupyter-widgets/controls",
       "_model_module_version": "1.5.0",
       "_model_name": "DescriptionStyleModel",
       "_view_count": null,
       "_view_module": "@jupyter-widgets/base",
       "_view_module_version": "1.2.0",
       "_view_name": "StyleView",
       "description_width": ""
      }
     },
     "2e00ab1e62c541199b48e8339d7960be": {
      "model_module": "@jupyter-widgets/base",
      "model_module_version": "1.2.0",
      "model_name": "LayoutModel",
      "state": {
       "_model_module": "@jupyter-widgets/base",
       "_model_module_version": "1.2.0",
       "_model_name": "LayoutModel",
       "_view_count": null,
       "_view_module": "@jupyter-widgets/base",
       "_view_module_version": "1.2.0",
       "_view_name": "LayoutView",
       "align_content": null,
       "align_items": null,
       "align_self": null,
       "border": null,
       "bottom": null,
       "display": null,
       "flex": null,
       "flex_flow": null,
       "grid_area": null,
       "grid_auto_columns": null,
       "grid_auto_flow": null,
       "grid_auto_rows": null,
       "grid_column": null,
       "grid_gap": null,
       "grid_row": null,
       "grid_template_areas": null,
       "grid_template_columns": null,
       "grid_template_rows": null,
       "height": null,
       "justify_content": null,
       "justify_items": null,
       "left": null,
       "margin": null,
       "max_height": null,
       "max_width": null,
       "min_height": null,
       "min_width": null,
       "object_fit": null,
       "object_position": null,
       "order": null,
       "overflow": null,
       "overflow_x": null,
       "overflow_y": null,
       "padding": null,
       "right": null,
       "top": null,
       "visibility": null,
       "width": null
      }
     },
     "2fb0eef1fa744a96a69ebc0f4aeaa80d": {
      "model_module": "@jupyter-widgets/controls",
      "model_module_version": "1.5.0",
      "model_name": "HBoxModel",
      "state": {
       "_dom_classes": [],
       "_model_module": "@jupyter-widgets/controls",
       "_model_module_version": "1.5.0",
       "_model_name": "HBoxModel",
       "_view_count": null,
       "_view_module": "@jupyter-widgets/controls",
       "_view_module_version": "1.5.0",
       "_view_name": "HBoxView",
       "box_style": "",
       "children": [
        "IPY_MODEL_3edf91b42d814f3f9f5f628a7a7338f4",
        "IPY_MODEL_887d5bea89324bf2a9388a084362542b",
        "IPY_MODEL_83752bc82c734f879ff05d85b7df0826"
       ],
       "layout": "IPY_MODEL_2703bc69faba447290b73bb6ce7e97fa"
      }
     },
     "363bff77e0a7456489a95036b30a2c3e": {
      "model_module": "@jupyter-widgets/base",
      "model_module_version": "1.2.0",
      "model_name": "LayoutModel",
      "state": {
       "_model_module": "@jupyter-widgets/base",
       "_model_module_version": "1.2.0",
       "_model_name": "LayoutModel",
       "_view_count": null,
       "_view_module": "@jupyter-widgets/base",
       "_view_module_version": "1.2.0",
       "_view_name": "LayoutView",
       "align_content": null,
       "align_items": null,
       "align_self": null,
       "border": null,
       "bottom": null,
       "display": null,
       "flex": null,
       "flex_flow": null,
       "grid_area": null,
       "grid_auto_columns": null,
       "grid_auto_flow": null,
       "grid_auto_rows": null,
       "grid_column": null,
       "grid_gap": null,
       "grid_row": null,
       "grid_template_areas": null,
       "grid_template_columns": null,
       "grid_template_rows": null,
       "height": null,
       "justify_content": null,
       "justify_items": null,
       "left": null,
       "margin": null,
       "max_height": null,
       "max_width": null,
       "min_height": null,
       "min_width": null,
       "object_fit": null,
       "object_position": null,
       "order": null,
       "overflow": null,
       "overflow_x": null,
       "overflow_y": null,
       "padding": null,
       "right": null,
       "top": null,
       "visibility": null,
       "width": null
      }
     },
     "37b4b29556c343e79885db586d3fe3d2": {
      "model_module": "@jupyter-widgets/base",
      "model_module_version": "1.2.0",
      "model_name": "LayoutModel",
      "state": {
       "_model_module": "@jupyter-widgets/base",
       "_model_module_version": "1.2.0",
       "_model_name": "LayoutModel",
       "_view_count": null,
       "_view_module": "@jupyter-widgets/base",
       "_view_module_version": "1.2.0",
       "_view_name": "LayoutView",
       "align_content": null,
       "align_items": null,
       "align_self": null,
       "border": null,
       "bottom": null,
       "display": null,
       "flex": null,
       "flex_flow": null,
       "grid_area": null,
       "grid_auto_columns": null,
       "grid_auto_flow": null,
       "grid_auto_rows": null,
       "grid_column": null,
       "grid_gap": null,
       "grid_row": null,
       "grid_template_areas": null,
       "grid_template_columns": null,
       "grid_template_rows": null,
       "height": null,
       "justify_content": null,
       "justify_items": null,
       "left": null,
       "margin": null,
       "max_height": null,
       "max_width": null,
       "min_height": null,
       "min_width": null,
       "object_fit": null,
       "object_position": null,
       "order": null,
       "overflow": null,
       "overflow_x": null,
       "overflow_y": null,
       "padding": null,
       "right": null,
       "top": null,
       "visibility": null,
       "width": null
      }
     },
     "3ae77c8e1634496684831e60b0f791b2": {
      "model_module": "@jupyter-widgets/controls",
      "model_module_version": "1.5.0",
      "model_name": "HTMLModel",
      "state": {
       "_dom_classes": [],
       "_model_module": "@jupyter-widgets/controls",
       "_model_module_version": "1.5.0",
       "_model_name": "HTMLModel",
       "_view_count": null,
       "_view_module": "@jupyter-widgets/controls",
       "_view_module_version": "1.5.0",
       "_view_name": "HTMLView",
       "description": "",
       "description_tooltip": null,
       "layout": "IPY_MODEL_548dd69ca95141eab729d4036411f8ad",
       "placeholder": "​",
       "style": "IPY_MODEL_5666e3dc1d954cf4ba6134e2c7304c89",
       "value": " 232k/232k [00:00&lt;00:00, 235kB/s]"
      }
     },
     "3eb1430c393d4241a3b8d7bd63a81f92": {
      "model_module": "@jupyter-widgets/controls",
      "model_module_version": "1.5.0",
      "model_name": "HTMLModel",
      "state": {
       "_dom_classes": [],
       "_model_module": "@jupyter-widgets/controls",
       "_model_module_version": "1.5.0",
       "_model_name": "HTMLModel",
       "_view_count": null,
       "_view_module": "@jupyter-widgets/controls",
       "_view_module_version": "1.5.0",
       "_view_name": "HTMLView",
       "description": "",
       "description_tooltip": null,
       "layout": "IPY_MODEL_b39d1303aa434bea8b39d3c88a5dbf93",
       "placeholder": "​",
       "style": "IPY_MODEL_c13fc79448c440c488f4f71ce544f418",
       "value": " 28.0/28.0 [00:00&lt;00:00, 2.28kB/s]"
      }
     },
     "3edf91b42d814f3f9f5f628a7a7338f4": {
      "model_module": "@jupyter-widgets/controls",
      "model_module_version": "1.5.0",
      "model_name": "HTMLModel",
      "state": {
       "_dom_classes": [],
       "_model_module": "@jupyter-widgets/controls",
       "_model_module_version": "1.5.0",
       "_model_name": "HTMLModel",
       "_view_count": null,
       "_view_module": "@jupyter-widgets/controls",
       "_view_module_version": "1.5.0",
       "_view_name": "HTMLView",
       "description": "",
       "description_tooltip": null,
       "layout": "IPY_MODEL_1007a9f8ee3c45449d76fc3f9ecbf736",
       "placeholder": "​",
       "style": "IPY_MODEL_f096f7040186400cba304cc1b96a226a",
       "value": "tokenizer.json: 100%"
      }
     },
     "448ce8c7500b4baea810f458442c9c0d": {
      "model_module": "@jupyter-widgets/base",
      "model_module_version": "1.2.0",
      "model_name": "LayoutModel",
      "state": {
       "_model_module": "@jupyter-widgets/base",
       "_model_module_version": "1.2.0",
       "_model_name": "LayoutModel",
       "_view_count": null,
       "_view_module": "@jupyter-widgets/base",
       "_view_module_version": "1.2.0",
       "_view_name": "LayoutView",
       "align_content": null,
       "align_items": null,
       "align_self": null,
       "border": null,
       "bottom": null,
       "display": null,
       "flex": null,
       "flex_flow": null,
       "grid_area": null,
       "grid_auto_columns": null,
       "grid_auto_flow": null,
       "grid_auto_rows": null,
       "grid_column": null,
       "grid_gap": null,
       "grid_row": null,
       "grid_template_areas": null,
       "grid_template_columns": null,
       "grid_template_rows": null,
       "height": null,
       "justify_content": null,
       "justify_items": null,
       "left": null,
       "margin": null,
       "max_height": null,
       "max_width": null,
       "min_height": null,
       "min_width": null,
       "object_fit": null,
       "object_position": null,
       "order": null,
       "overflow": null,
       "overflow_x": null,
       "overflow_y": null,
       "padding": null,
       "right": null,
       "top": null,
       "visibility": null,
       "width": null
      }
     },
     "44d348004b4b4f31bb2b761fc54ce853": {
      "model_module": "@jupyter-widgets/controls",
      "model_module_version": "1.5.0",
      "model_name": "ProgressStyleModel",
      "state": {
       "_model_module": "@jupyter-widgets/controls",
       "_model_module_version": "1.5.0",
       "_model_name": "ProgressStyleModel",
       "_view_count": null,
       "_view_module": "@jupyter-widgets/base",
       "_view_module_version": "1.2.0",
       "_view_name": "StyleView",
       "bar_color": null,
       "description_width": ""
      }
     },
     "4c00dcf4a79246e0b1063917a7a50fb3": {
      "model_module": "@jupyter-widgets/controls",
      "model_module_version": "1.5.0",
      "model_name": "ProgressStyleModel",
      "state": {
       "_model_module": "@jupyter-widgets/controls",
       "_model_module_version": "1.5.0",
       "_model_name": "ProgressStyleModel",
       "_view_count": null,
       "_view_module": "@jupyter-widgets/base",
       "_view_module_version": "1.2.0",
       "_view_name": "StyleView",
       "bar_color": null,
       "description_width": ""
      }
     },
     "548dd69ca95141eab729d4036411f8ad": {
      "model_module": "@jupyter-widgets/base",
      "model_module_version": "1.2.0",
      "model_name": "LayoutModel",
      "state": {
       "_model_module": "@jupyter-widgets/base",
       "_model_module_version": "1.2.0",
       "_model_name": "LayoutModel",
       "_view_count": null,
       "_view_module": "@jupyter-widgets/base",
       "_view_module_version": "1.2.0",
       "_view_name": "LayoutView",
       "align_content": null,
       "align_items": null,
       "align_self": null,
       "border": null,
       "bottom": null,
       "display": null,
       "flex": null,
       "flex_flow": null,
       "grid_area": null,
       "grid_auto_columns": null,
       "grid_auto_flow": null,
       "grid_auto_rows": null,
       "grid_column": null,
       "grid_gap": null,
       "grid_row": null,
       "grid_template_areas": null,
       "grid_template_columns": null,
       "grid_template_rows": null,
       "height": null,
       "justify_content": null,
       "justify_items": null,
       "left": null,
       "margin": null,
       "max_height": null,
       "max_width": null,
       "min_height": null,
       "min_width": null,
       "object_fit": null,
       "object_position": null,
       "order": null,
       "overflow": null,
       "overflow_x": null,
       "overflow_y": null,
       "padding": null,
       "right": null,
       "top": null,
       "visibility": null,
       "width": null
      }
     },
     "5666e3dc1d954cf4ba6134e2c7304c89": {
      "model_module": "@jupyter-widgets/controls",
      "model_module_version": "1.5.0",
      "model_name": "DescriptionStyleModel",
      "state": {
       "_model_module": "@jupyter-widgets/controls",
       "_model_module_version": "1.5.0",
       "_model_name": "DescriptionStyleModel",
       "_view_count": null,
       "_view_module": "@jupyter-widgets/base",
       "_view_module_version": "1.2.0",
       "_view_name": "StyleView",
       "description_width": ""
      }
     },
     "5f0518eee0a54544a5fc42fff014fef1": {
      "model_module": "@jupyter-widgets/controls",
      "model_module_version": "1.5.0",
      "model_name": "HTMLModel",
      "state": {
       "_dom_classes": [],
       "_model_module": "@jupyter-widgets/controls",
       "_model_module_version": "1.5.0",
       "_model_name": "HTMLModel",
       "_view_count": null,
       "_view_module": "@jupyter-widgets/controls",
       "_view_module_version": "1.5.0",
       "_view_name": "HTMLView",
       "description": "",
       "description_tooltip": null,
       "layout": "IPY_MODEL_7e85e3acc8af4c9b8429d1b41130cae2",
       "placeholder": "​",
       "style": "IPY_MODEL_6dfbc70a923c4b1aa8d2b19ed3ef8c51",
       "value": " 570/570 [00:00&lt;00:00, 48.1kB/s]"
      }
     },
     "670a29af9082470aa9c74bc004f67385": {
      "model_module": "@jupyter-widgets/base",
      "model_module_version": "1.2.0",
      "model_name": "LayoutModel",
      "state": {
       "_model_module": "@jupyter-widgets/base",
       "_model_module_version": "1.2.0",
       "_model_name": "LayoutModel",
       "_view_count": null,
       "_view_module": "@jupyter-widgets/base",
       "_view_module_version": "1.2.0",
       "_view_name": "LayoutView",
       "align_content": null,
       "align_items": null,
       "align_self": null,
       "border": null,
       "bottom": null,
       "display": null,
       "flex": null,
       "flex_flow": null,
       "grid_area": null,
       "grid_auto_columns": null,
       "grid_auto_flow": null,
       "grid_auto_rows": null,
       "grid_column": null,
       "grid_gap": null,
       "grid_row": null,
       "grid_template_areas": null,
       "grid_template_columns": null,
       "grid_template_rows": null,
       "height": null,
       "justify_content": null,
       "justify_items": null,
       "left": null,
       "margin": null,
       "max_height": null,
       "max_width": null,
       "min_height": null,
       "min_width": null,
       "object_fit": null,
       "object_position": null,
       "order": null,
       "overflow": null,
       "overflow_x": null,
       "overflow_y": null,
       "padding": null,
       "right": null,
       "top": null,
       "visibility": null,
       "width": null
      }
     },
     "6dfbc70a923c4b1aa8d2b19ed3ef8c51": {
      "model_module": "@jupyter-widgets/controls",
      "model_module_version": "1.5.0",
      "model_name": "DescriptionStyleModel",
      "state": {
       "_model_module": "@jupyter-widgets/controls",
       "_model_module_version": "1.5.0",
       "_model_name": "DescriptionStyleModel",
       "_view_count": null,
       "_view_module": "@jupyter-widgets/base",
       "_view_module_version": "1.2.0",
       "_view_name": "StyleView",
       "description_width": ""
      }
     },
     "70f9a6fd812242eb92c2ae9663190d99": {
      "model_module": "@jupyter-widgets/controls",
      "model_module_version": "1.5.0",
      "model_name": "HBoxModel",
      "state": {
       "_dom_classes": [],
       "_model_module": "@jupyter-widgets/controls",
       "_model_module_version": "1.5.0",
       "_model_name": "HBoxModel",
       "_view_count": null,
       "_view_module": "@jupyter-widgets/controls",
       "_view_module_version": "1.5.0",
       "_view_name": "HBoxView",
       "box_style": "",
       "children": [
        "IPY_MODEL_eaea3bc9622a4d67b376f8a3a9f2a37f",
        "IPY_MODEL_a417fcb51eec4f60befce8c600d9b024",
        "IPY_MODEL_5f0518eee0a54544a5fc42fff014fef1"
       ],
       "layout": "IPY_MODEL_670a29af9082470aa9c74bc004f67385"
      }
     },
     "732749cf86f5433bae40569f520d8118": {
      "model_module": "@jupyter-widgets/base",
      "model_module_version": "1.2.0",
      "model_name": "LayoutModel",
      "state": {
       "_model_module": "@jupyter-widgets/base",
       "_model_module_version": "1.2.0",
       "_model_name": "LayoutModel",
       "_view_count": null,
       "_view_module": "@jupyter-widgets/base",
       "_view_module_version": "1.2.0",
       "_view_name": "LayoutView",
       "align_content": null,
       "align_items": null,
       "align_self": null,
       "border": null,
       "bottom": null,
       "display": null,
       "flex": null,
       "flex_flow": null,
       "grid_area": null,
       "grid_auto_columns": null,
       "grid_auto_flow": null,
       "grid_auto_rows": null,
       "grid_column": null,
       "grid_gap": null,
       "grid_row": null,
       "grid_template_areas": null,
       "grid_template_columns": null,
       "grid_template_rows": null,
       "height": null,
       "justify_content": null,
       "justify_items": null,
       "left": null,
       "margin": null,
       "max_height": null,
       "max_width": null,
       "min_height": null,
       "min_width": null,
       "object_fit": null,
       "object_position": null,
       "order": null,
       "overflow": null,
       "overflow_x": null,
       "overflow_y": null,
       "padding": null,
       "right": null,
       "top": null,
       "visibility": null,
       "width": null
      }
     },
     "75b2985b2056471bab75eeace8660818": {
      "model_module": "@jupyter-widgets/controls",
      "model_module_version": "1.5.0",
      "model_name": "DescriptionStyleModel",
      "state": {
       "_model_module": "@jupyter-widgets/controls",
       "_model_module_version": "1.5.0",
       "_model_name": "DescriptionStyleModel",
       "_view_count": null,
       "_view_module": "@jupyter-widgets/base",
       "_view_module_version": "1.2.0",
       "_view_name": "StyleView",
       "description_width": ""
      }
     },
     "7aa006c77e5c4b6a9a84a24ce1659350": {
      "model_module": "@jupyter-widgets/controls",
      "model_module_version": "1.5.0",
      "model_name": "HBoxModel",
      "state": {
       "_dom_classes": [],
       "_model_module": "@jupyter-widgets/controls",
       "_model_module_version": "1.5.0",
       "_model_name": "HBoxModel",
       "_view_count": null,
       "_view_module": "@jupyter-widgets/controls",
       "_view_module_version": "1.5.0",
       "_view_name": "HBoxView",
       "box_style": "",
       "children": [
        "IPY_MODEL_e87ebd0973794a4898df7879627561a9",
        "IPY_MODEL_7cb984d6e56043eab95e73439d7513a0",
        "IPY_MODEL_3ae77c8e1634496684831e60b0f791b2"
       ],
       "layout": "IPY_MODEL_2e00ab1e62c541199b48e8339d7960be"
      }
     },
     "7cb984d6e56043eab95e73439d7513a0": {
      "model_module": "@jupyter-widgets/controls",
      "model_module_version": "1.5.0",
      "model_name": "FloatProgressModel",
      "state": {
       "_dom_classes": [],
       "_model_module": "@jupyter-widgets/controls",
       "_model_module_version": "1.5.0",
       "_model_name": "FloatProgressModel",
       "_view_count": null,
       "_view_module": "@jupyter-widgets/controls",
       "_view_module_version": "1.5.0",
       "_view_name": "ProgressView",
       "bar_style": "success",
       "description": "",
       "description_tooltip": null,
       "layout": "IPY_MODEL_2227311bc4bc4501a04b77d3e284fa22",
       "max": 231508,
       "min": 0,
       "orientation": "horizontal",
       "style": "IPY_MODEL_4c00dcf4a79246e0b1063917a7a50fb3",
       "value": 231508
      }
     },
     "7e85e3acc8af4c9b8429d1b41130cae2": {
      "model_module": "@jupyter-widgets/base",
      "model_module_version": "1.2.0",
      "model_name": "LayoutModel",
      "state": {
       "_model_module": "@jupyter-widgets/base",
       "_model_module_version": "1.2.0",
       "_model_name": "LayoutModel",
       "_view_count": null,
       "_view_module": "@jupyter-widgets/base",
       "_view_module_version": "1.2.0",
       "_view_name": "LayoutView",
       "align_content": null,
       "align_items": null,
       "align_self": null,
       "border": null,
       "bottom": null,
       "display": null,
       "flex": null,
       "flex_flow": null,
       "grid_area": null,
       "grid_auto_columns": null,
       "grid_auto_flow": null,
       "grid_auto_rows": null,
       "grid_column": null,
       "grid_gap": null,
       "grid_row": null,
       "grid_template_areas": null,
       "grid_template_columns": null,
       "grid_template_rows": null,
       "height": null,
       "justify_content": null,
       "justify_items": null,
       "left": null,
       "margin": null,
       "max_height": null,
       "max_width": null,
       "min_height": null,
       "min_width": null,
       "object_fit": null,
       "object_position": null,
       "order": null,
       "overflow": null,
       "overflow_x": null,
       "overflow_y": null,
       "padding": null,
       "right": null,
       "top": null,
       "visibility": null,
       "width": null
      }
     },
     "83752bc82c734f879ff05d85b7df0826": {
      "model_module": "@jupyter-widgets/controls",
      "model_module_version": "1.5.0",
      "model_name": "HTMLModel",
      "state": {
       "_dom_classes": [],
       "_model_module": "@jupyter-widgets/controls",
       "_model_module_version": "1.5.0",
       "_model_name": "HTMLModel",
       "_view_count": null,
       "_view_module": "@jupyter-widgets/controls",
       "_view_module_version": "1.5.0",
       "_view_name": "HTMLView",
       "description": "",
       "description_tooltip": null,
       "layout": "IPY_MODEL_a5f9d6e005634d2390bb36a277f2bf1e",
       "placeholder": "​",
       "style": "IPY_MODEL_28bb376336fe4cd78158752c1b7bc449",
       "value": " 466k/466k [00:00&lt;00:00, 2.86MB/s]"
      }
     },
     "86dc4ea7b5584f8eb78c08e91d5e6fbc": {
      "model_module": "@jupyter-widgets/base",
      "model_module_version": "1.2.0",
      "model_name": "LayoutModel",
      "state": {
       "_model_module": "@jupyter-widgets/base",
       "_model_module_version": "1.2.0",
       "_model_name": "LayoutModel",
       "_view_count": null,
       "_view_module": "@jupyter-widgets/base",
       "_view_module_version": "1.2.0",
       "_view_name": "LayoutView",
       "align_content": null,
       "align_items": null,
       "align_self": null,
       "border": null,
       "bottom": null,
       "display": null,
       "flex": null,
       "flex_flow": null,
       "grid_area": null,
       "grid_auto_columns": null,
       "grid_auto_flow": null,
       "grid_auto_rows": null,
       "grid_column": null,
       "grid_gap": null,
       "grid_row": null,
       "grid_template_areas": null,
       "grid_template_columns": null,
       "grid_template_rows": null,
       "height": null,
       "justify_content": null,
       "justify_items": null,
       "left": null,
       "margin": null,
       "max_height": null,
       "max_width": null,
       "min_height": null,
       "min_width": null,
       "object_fit": null,
       "object_position": null,
       "order": null,
       "overflow": null,
       "overflow_x": null,
       "overflow_y": null,
       "padding": null,
       "right": null,
       "top": null,
       "visibility": null,
       "width": null
      }
     },
     "887d5bea89324bf2a9388a084362542b": {
      "model_module": "@jupyter-widgets/controls",
      "model_module_version": "1.5.0",
      "model_name": "FloatProgressModel",
      "state": {
       "_dom_classes": [],
       "_model_module": "@jupyter-widgets/controls",
       "_model_module_version": "1.5.0",
       "_model_name": "FloatProgressModel",
       "_view_count": null,
       "_view_module": "@jupyter-widgets/controls",
       "_view_module_version": "1.5.0",
       "_view_name": "ProgressView",
       "bar_style": "success",
       "description": "",
       "description_tooltip": null,
       "layout": "IPY_MODEL_1069c3f45b8944c49ea0eb5498bb3fd1",
       "max": 466062,
       "min": 0,
       "orientation": "horizontal",
       "style": "IPY_MODEL_c482af86581047179c0ded06674f7a5a",
       "value": 466062
      }
     },
     "96c525daf82f44d98aafd197ec3dd1a9": {
      "model_module": "@jupyter-widgets/controls",
      "model_module_version": "1.5.0",
      "model_name": "ProgressStyleModel",
      "state": {
       "_model_module": "@jupyter-widgets/controls",
       "_model_module_version": "1.5.0",
       "_model_name": "ProgressStyleModel",
       "_view_count": null,
       "_view_module": "@jupyter-widgets/base",
       "_view_module_version": "1.2.0",
       "_view_name": "StyleView",
       "bar_color": null,
       "description_width": ""
      }
     },
     "977df349db7f4749b15f07f57b998a65": {
      "model_module": "@jupyter-widgets/controls",
      "model_module_version": "1.5.0",
      "model_name": "ProgressStyleModel",
      "state": {
       "_model_module": "@jupyter-widgets/controls",
       "_model_module_version": "1.5.0",
       "_model_name": "ProgressStyleModel",
       "_view_count": null,
       "_view_module": "@jupyter-widgets/base",
       "_view_module_version": "1.2.0",
       "_view_name": "StyleView",
       "bar_color": null,
       "description_width": ""
      }
     },
     "98c18232162a4509a7b9ed0adfdf3de0": {
      "model_module": "@jupyter-widgets/controls",
      "model_module_version": "1.5.0",
      "model_name": "HTMLModel",
      "state": {
       "_dom_classes": [],
       "_model_module": "@jupyter-widgets/controls",
       "_model_module_version": "1.5.0",
       "_model_name": "HTMLModel",
       "_view_count": null,
       "_view_module": "@jupyter-widgets/controls",
       "_view_module_version": "1.5.0",
       "_view_name": "HTMLView",
       "description": "",
       "description_tooltip": null,
       "layout": "IPY_MODEL_86dc4ea7b5584f8eb78c08e91d5e6fbc",
       "placeholder": "​",
       "style": "IPY_MODEL_75b2985b2056471bab75eeace8660818",
       "value": "tokenizer_config.json: 100%"
      }
     },
     "9bfc45d605a747bc971a2f8275192a65": {
      "model_module": "@jupyter-widgets/base",
      "model_module_version": "1.2.0",
      "model_name": "LayoutModel",
      "state": {
       "_model_module": "@jupyter-widgets/base",
       "_model_module_version": "1.2.0",
       "_model_name": "LayoutModel",
       "_view_count": null,
       "_view_module": "@jupyter-widgets/base",
       "_view_module_version": "1.2.0",
       "_view_name": "LayoutView",
       "align_content": null,
       "align_items": null,
       "align_self": null,
       "border": null,
       "bottom": null,
       "display": null,
       "flex": null,
       "flex_flow": null,
       "grid_area": null,
       "grid_auto_columns": null,
       "grid_auto_flow": null,
       "grid_auto_rows": null,
       "grid_column": null,
       "grid_gap": null,
       "grid_row": null,
       "grid_template_areas": null,
       "grid_template_columns": null,
       "grid_template_rows": null,
       "height": null,
       "justify_content": null,
       "justify_items": null,
       "left": null,
       "margin": null,
       "max_height": null,
       "max_width": null,
       "min_height": null,
       "min_width": null,
       "object_fit": null,
       "object_position": null,
       "order": null,
       "overflow": null,
       "overflow_x": null,
       "overflow_y": null,
       "padding": null,
       "right": null,
       "top": null,
       "visibility": null,
       "width": null
      }
     },
     "a3da7996914d47e7b1268ab9409881a6": {
      "model_module": "@jupyter-widgets/controls",
      "model_module_version": "1.5.0",
      "model_name": "HBoxModel",
      "state": {
       "_dom_classes": [],
       "_model_module": "@jupyter-widgets/controls",
       "_model_module_version": "1.5.0",
       "_model_name": "HBoxModel",
       "_view_count": null,
       "_view_module": "@jupyter-widgets/controls",
       "_view_module_version": "1.5.0",
       "_view_name": "HBoxView",
       "box_style": "",
       "children": [
        "IPY_MODEL_98c18232162a4509a7b9ed0adfdf3de0",
        "IPY_MODEL_b5d5d0991010435e889c07a99676e184",
        "IPY_MODEL_3eb1430c393d4241a3b8d7bd63a81f92"
       ],
       "layout": "IPY_MODEL_732749cf86f5433bae40569f520d8118"
      }
     },
     "a417fcb51eec4f60befce8c600d9b024": {
      "model_module": "@jupyter-widgets/controls",
      "model_module_version": "1.5.0",
      "model_name": "FloatProgressModel",
      "state": {
       "_dom_classes": [],
       "_model_module": "@jupyter-widgets/controls",
       "_model_module_version": "1.5.0",
       "_model_name": "FloatProgressModel",
       "_view_count": null,
       "_view_module": "@jupyter-widgets/controls",
       "_view_module_version": "1.5.0",
       "_view_name": "ProgressView",
       "bar_style": "success",
       "description": "",
       "description_tooltip": null,
       "layout": "IPY_MODEL_179054c27d5c46c8acb4222a34f27863",
       "max": 570,
       "min": 0,
       "orientation": "horizontal",
       "style": "IPY_MODEL_44d348004b4b4f31bb2b761fc54ce853",
       "value": 570
      }
     },
     "a5f9d6e005634d2390bb36a277f2bf1e": {
      "model_module": "@jupyter-widgets/base",
      "model_module_version": "1.2.0",
      "model_name": "LayoutModel",
      "state": {
       "_model_module": "@jupyter-widgets/base",
       "_model_module_version": "1.2.0",
       "_model_name": "LayoutModel",
       "_view_count": null,
       "_view_module": "@jupyter-widgets/base",
       "_view_module_version": "1.2.0",
       "_view_name": "LayoutView",
       "align_content": null,
       "align_items": null,
       "align_self": null,
       "border": null,
       "bottom": null,
       "display": null,
       "flex": null,
       "flex_flow": null,
       "grid_area": null,
       "grid_auto_columns": null,
       "grid_auto_flow": null,
       "grid_auto_rows": null,
       "grid_column": null,
       "grid_gap": null,
       "grid_row": null,
       "grid_template_areas": null,
       "grid_template_columns": null,
       "grid_template_rows": null,
       "height": null,
       "justify_content": null,
       "justify_items": null,
       "left": null,
       "margin": null,
       "max_height": null,
       "max_width": null,
       "min_height": null,
       "min_width": null,
       "object_fit": null,
       "object_position": null,
       "order": null,
       "overflow": null,
       "overflow_x": null,
       "overflow_y": null,
       "padding": null,
       "right": null,
       "top": null,
       "visibility": null,
       "width": null
      }
     },
     "b340fad7bda94ecd95eb617d9012a8dd": {
      "model_module": "@jupyter-widgets/base",
      "model_module_version": "1.2.0",
      "model_name": "LayoutModel",
      "state": {
       "_model_module": "@jupyter-widgets/base",
       "_model_module_version": "1.2.0",
       "_model_name": "LayoutModel",
       "_view_count": null,
       "_view_module": "@jupyter-widgets/base",
       "_view_module_version": "1.2.0",
       "_view_name": "LayoutView",
       "align_content": null,
       "align_items": null,
       "align_self": null,
       "border": null,
       "bottom": null,
       "display": null,
       "flex": null,
       "flex_flow": null,
       "grid_area": null,
       "grid_auto_columns": null,
       "grid_auto_flow": null,
       "grid_auto_rows": null,
       "grid_column": null,
       "grid_gap": null,
       "grid_row": null,
       "grid_template_areas": null,
       "grid_template_columns": null,
       "grid_template_rows": null,
       "height": null,
       "justify_content": null,
       "justify_items": null,
       "left": null,
       "margin": null,
       "max_height": null,
       "max_width": null,
       "min_height": null,
       "min_width": null,
       "object_fit": null,
       "object_position": null,
       "order": null,
       "overflow": null,
       "overflow_x": null,
       "overflow_y": null,
       "padding": null,
       "right": null,
       "top": null,
       "visibility": null,
       "width": null
      }
     },
     "b39d1303aa434bea8b39d3c88a5dbf93": {
      "model_module": "@jupyter-widgets/base",
      "model_module_version": "1.2.0",
      "model_name": "LayoutModel",
      "state": {
       "_model_module": "@jupyter-widgets/base",
       "_model_module_version": "1.2.0",
       "_model_name": "LayoutModel",
       "_view_count": null,
       "_view_module": "@jupyter-widgets/base",
       "_view_module_version": "1.2.0",
       "_view_name": "LayoutView",
       "align_content": null,
       "align_items": null,
       "align_self": null,
       "border": null,
       "bottom": null,
       "display": null,
       "flex": null,
       "flex_flow": null,
       "grid_area": null,
       "grid_auto_columns": null,
       "grid_auto_flow": null,
       "grid_auto_rows": null,
       "grid_column": null,
       "grid_gap": null,
       "grid_row": null,
       "grid_template_areas": null,
       "grid_template_columns": null,
       "grid_template_rows": null,
       "height": null,
       "justify_content": null,
       "justify_items": null,
       "left": null,
       "margin": null,
       "max_height": null,
       "max_width": null,
       "min_height": null,
       "min_width": null,
       "object_fit": null,
       "object_position": null,
       "order": null,
       "overflow": null,
       "overflow_x": null,
       "overflow_y": null,
       "padding": null,
       "right": null,
       "top": null,
       "visibility": null,
       "width": null
      }
     },
     "b5d5d0991010435e889c07a99676e184": {
      "model_module": "@jupyter-widgets/controls",
      "model_module_version": "1.5.0",
      "model_name": "FloatProgressModel",
      "state": {
       "_dom_classes": [],
       "_model_module": "@jupyter-widgets/controls",
       "_model_module_version": "1.5.0",
       "_model_name": "FloatProgressModel",
       "_view_count": null,
       "_view_module": "@jupyter-widgets/controls",
       "_view_module_version": "1.5.0",
       "_view_name": "ProgressView",
       "bar_style": "success",
       "description": "",
       "description_tooltip": null,
       "layout": "IPY_MODEL_efdea9bde7694317a8623e1348e3bf75",
       "max": 28,
       "min": 0,
       "orientation": "horizontal",
       "style": "IPY_MODEL_977df349db7f4749b15f07f57b998a65",
       "value": 28
      }
     },
     "bedfcdaa267949ed9ac72fea8ee9dd36": {
      "model_module": "@jupyter-widgets/controls",
      "model_module_version": "1.5.0",
      "model_name": "HTMLModel",
      "state": {
       "_dom_classes": [],
       "_model_module": "@jupyter-widgets/controls",
       "_model_module_version": "1.5.0",
       "_model_name": "HTMLModel",
       "_view_count": null,
       "_view_module": "@jupyter-widgets/controls",
       "_view_module_version": "1.5.0",
       "_view_name": "HTMLView",
       "description": "",
       "description_tooltip": null,
       "layout": "IPY_MODEL_b340fad7bda94ecd95eb617d9012a8dd",
       "placeholder": "​",
       "style": "IPY_MODEL_d97206a76ca04d6ebe6a4e89d73d6b85",
       "value": " 440M/440M [00:01&lt;00:00, 342MB/s]"
      }
     },
     "c13fc79448c440c488f4f71ce544f418": {
      "model_module": "@jupyter-widgets/controls",
      "model_module_version": "1.5.0",
      "model_name": "DescriptionStyleModel",
      "state": {
       "_model_module": "@jupyter-widgets/controls",
       "_model_module_version": "1.5.0",
       "_model_name": "DescriptionStyleModel",
       "_view_count": null,
       "_view_module": "@jupyter-widgets/base",
       "_view_module_version": "1.2.0",
       "_view_name": "StyleView",
       "description_width": ""
      }
     },
     "c482af86581047179c0ded06674f7a5a": {
      "model_module": "@jupyter-widgets/controls",
      "model_module_version": "1.5.0",
      "model_name": "ProgressStyleModel",
      "state": {
       "_model_module": "@jupyter-widgets/controls",
       "_model_module_version": "1.5.0",
       "_model_name": "ProgressStyleModel",
       "_view_count": null,
       "_view_module": "@jupyter-widgets/base",
       "_view_module_version": "1.2.0",
       "_view_name": "StyleView",
       "bar_color": null,
       "description_width": ""
      }
     },
     "cc420758092d49cabba197d289605eb9": {
      "model_module": "@jupyter-widgets/controls",
      "model_module_version": "1.5.0",
      "model_name": "DescriptionStyleModel",
      "state": {
       "_model_module": "@jupyter-widgets/controls",
       "_model_module_version": "1.5.0",
       "_model_name": "DescriptionStyleModel",
       "_view_count": null,
       "_view_module": "@jupyter-widgets/base",
       "_view_module_version": "1.2.0",
       "_view_name": "StyleView",
       "description_width": ""
      }
     },
     "d97206a76ca04d6ebe6a4e89d73d6b85": {
      "model_module": "@jupyter-widgets/controls",
      "model_module_version": "1.5.0",
      "model_name": "DescriptionStyleModel",
      "state": {
       "_model_module": "@jupyter-widgets/controls",
       "_model_module_version": "1.5.0",
       "_model_name": "DescriptionStyleModel",
       "_view_count": null,
       "_view_module": "@jupyter-widgets/base",
       "_view_module_version": "1.2.0",
       "_view_name": "StyleView",
       "description_width": ""
      }
     },
     "de0c842af1b34c16b2cb07f6bc7be4e4": {
      "model_module": "@jupyter-widgets/controls",
      "model_module_version": "1.5.0",
      "model_name": "DescriptionStyleModel",
      "state": {
       "_model_module": "@jupyter-widgets/controls",
       "_model_module_version": "1.5.0",
       "_model_name": "DescriptionStyleModel",
       "_view_count": null,
       "_view_module": "@jupyter-widgets/base",
       "_view_module_version": "1.2.0",
       "_view_name": "StyleView",
       "description_width": ""
      }
     },
     "e87ebd0973794a4898df7879627561a9": {
      "model_module": "@jupyter-widgets/controls",
      "model_module_version": "1.5.0",
      "model_name": "HTMLModel",
      "state": {
       "_dom_classes": [],
       "_model_module": "@jupyter-widgets/controls",
       "_model_module_version": "1.5.0",
       "_model_name": "HTMLModel",
       "_view_count": null,
       "_view_module": "@jupyter-widgets/controls",
       "_view_module_version": "1.5.0",
       "_view_name": "HTMLView",
       "description": "",
       "description_tooltip": null,
       "layout": "IPY_MODEL_448ce8c7500b4baea810f458442c9c0d",
       "placeholder": "​",
       "style": "IPY_MODEL_de0c842af1b34c16b2cb07f6bc7be4e4",
       "value": "vocab.txt: 100%"
      }
     },
     "ea4e155adb1e4b97a0d3ce1d12762b3f": {
      "model_module": "@jupyter-widgets/controls",
      "model_module_version": "1.5.0",
      "model_name": "HBoxModel",
      "state": {
       "_dom_classes": [],
       "_model_module": "@jupyter-widgets/controls",
       "_model_module_version": "1.5.0",
       "_model_name": "HBoxModel",
       "_view_count": null,
       "_view_module": "@jupyter-widgets/controls",
       "_view_module_version": "1.5.0",
       "_view_name": "HBoxView",
       "box_style": "",
       "children": [
        "IPY_MODEL_fd8a44b6c114483e809161b1750a68ff",
        "IPY_MODEL_164b2f49cfab4b05957f7e187983f3ae",
        "IPY_MODEL_bedfcdaa267949ed9ac72fea8ee9dd36"
       ],
       "layout": "IPY_MODEL_fbee6652819d4481a96bf02b1bef141a"
      }
     },
     "eaea3bc9622a4d67b376f8a3a9f2a37f": {
      "model_module": "@jupyter-widgets/controls",
      "model_module_version": "1.5.0",
      "model_name": "HTMLModel",
      "state": {
       "_dom_classes": [],
       "_model_module": "@jupyter-widgets/controls",
       "_model_module_version": "1.5.0",
       "_model_name": "HTMLModel",
       "_view_count": null,
       "_view_module": "@jupyter-widgets/controls",
       "_view_module_version": "1.5.0",
       "_view_name": "HTMLView",
       "description": "",
       "description_tooltip": null,
       "layout": "IPY_MODEL_37b4b29556c343e79885db586d3fe3d2",
       "placeholder": "​",
       "style": "IPY_MODEL_263739b0a38d4f24a923ef8ea3c4fb40",
       "value": "config.json: 100%"
      }
     },
     "efdea9bde7694317a8623e1348e3bf75": {
      "model_module": "@jupyter-widgets/base",
      "model_module_version": "1.2.0",
      "model_name": "LayoutModel",
      "state": {
       "_model_module": "@jupyter-widgets/base",
       "_model_module_version": "1.2.0",
       "_model_name": "LayoutModel",
       "_view_count": null,
       "_view_module": "@jupyter-widgets/base",
       "_view_module_version": "1.2.0",
       "_view_name": "LayoutView",
       "align_content": null,
       "align_items": null,
       "align_self": null,
       "border": null,
       "bottom": null,
       "display": null,
       "flex": null,
       "flex_flow": null,
       "grid_area": null,
       "grid_auto_columns": null,
       "grid_auto_flow": null,
       "grid_auto_rows": null,
       "grid_column": null,
       "grid_gap": null,
       "grid_row": null,
       "grid_template_areas": null,
       "grid_template_columns": null,
       "grid_template_rows": null,
       "height": null,
       "justify_content": null,
       "justify_items": null,
       "left": null,
       "margin": null,
       "max_height": null,
       "max_width": null,
       "min_height": null,
       "min_width": null,
       "object_fit": null,
       "object_position": null,
       "order": null,
       "overflow": null,
       "overflow_x": null,
       "overflow_y": null,
       "padding": null,
       "right": null,
       "top": null,
       "visibility": null,
       "width": null
      }
     },
     "f096f7040186400cba304cc1b96a226a": {
      "model_module": "@jupyter-widgets/controls",
      "model_module_version": "1.5.0",
      "model_name": "DescriptionStyleModel",
      "state": {
       "_model_module": "@jupyter-widgets/controls",
       "_model_module_version": "1.5.0",
       "_model_name": "DescriptionStyleModel",
       "_view_count": null,
       "_view_module": "@jupyter-widgets/base",
       "_view_module_version": "1.2.0",
       "_view_name": "StyleView",
       "description_width": ""
      }
     },
     "fbee6652819d4481a96bf02b1bef141a": {
      "model_module": "@jupyter-widgets/base",
      "model_module_version": "1.2.0",
      "model_name": "LayoutModel",
      "state": {
       "_model_module": "@jupyter-widgets/base",
       "_model_module_version": "1.2.0",
       "_model_name": "LayoutModel",
       "_view_count": null,
       "_view_module": "@jupyter-widgets/base",
       "_view_module_version": "1.2.0",
       "_view_name": "LayoutView",
       "align_content": null,
       "align_items": null,
       "align_self": null,
       "border": null,
       "bottom": null,
       "display": null,
       "flex": null,
       "flex_flow": null,
       "grid_area": null,
       "grid_auto_columns": null,
       "grid_auto_flow": null,
       "grid_auto_rows": null,
       "grid_column": null,
       "grid_gap": null,
       "grid_row": null,
       "grid_template_areas": null,
       "grid_template_columns": null,
       "grid_template_rows": null,
       "height": null,
       "justify_content": null,
       "justify_items": null,
       "left": null,
       "margin": null,
       "max_height": null,
       "max_width": null,
       "min_height": null,
       "min_width": null,
       "object_fit": null,
       "object_position": null,
       "order": null,
       "overflow": null,
       "overflow_x": null,
       "overflow_y": null,
       "padding": null,
       "right": null,
       "top": null,
       "visibility": null,
       "width": null
      }
     },
     "fd8a44b6c114483e809161b1750a68ff": {
      "model_module": "@jupyter-widgets/controls",
      "model_module_version": "1.5.0",
      "model_name": "HTMLModel",
      "state": {
       "_dom_classes": [],
       "_model_module": "@jupyter-widgets/controls",
       "_model_module_version": "1.5.0",
       "_model_name": "HTMLModel",
       "_view_count": null,
       "_view_module": "@jupyter-widgets/controls",
       "_view_module_version": "1.5.0",
       "_view_name": "HTMLView",
       "description": "",
       "description_tooltip": null,
       "layout": "IPY_MODEL_363bff77e0a7456489a95036b30a2c3e",
       "placeholder": "​",
       "style": "IPY_MODEL_cc420758092d49cabba197d289605eb9",
       "value": "model.safetensors: 100%"
      }
     }
    },
    "version_major": 2,
    "version_minor": 0
   }
  }
 },
 "nbformat": 4,
 "nbformat_minor": 5
}
