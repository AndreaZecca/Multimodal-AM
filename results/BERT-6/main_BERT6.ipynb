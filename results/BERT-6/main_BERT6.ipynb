{
 "cells": [
  {
   "cell_type": "markdown",
   "id": "03e4cb17",
   "metadata": {
    "papermill": {
     "duration": 0.012513,
     "end_time": "2024-01-31T08:54:18.696622",
     "exception": false,
     "start_time": "2024-01-31T08:54:18.684109",
     "status": "completed"
    },
    "tags": []
   },
   "source": [
    "# Import"
   ]
  },
  {
   "cell_type": "code",
   "execution_count": 1,
   "id": "0a57e397",
   "metadata": {
    "execution": {
     "iopub.execute_input": "2024-01-31T08:54:18.721163Z",
     "iopub.status.busy": "2024-01-31T08:54:18.720866Z",
     "iopub.status.idle": "2024-01-31T08:54:31.760467Z",
     "shell.execute_reply": "2024-01-31T08:54:31.759531Z"
    },
    "papermill": {
     "duration": 13.054328,
     "end_time": "2024-01-31T08:54:31.762737",
     "exception": false,
     "start_time": "2024-01-31T08:54:18.708409",
     "status": "completed"
    },
    "tags": []
   },
   "outputs": [
    {
     "name": "stdout",
     "output_type": "stream",
     "text": [
      "Collecting torcheval\r\n",
      "  Obtaining dependency information for torcheval from https://files.pythonhosted.org/packages/e4/de/e7abc784b00de9d05999657d29187f1f7a3406ed10ecaf164de06482608f/torcheval-0.0.7-py3-none-any.whl.metadata\r\n",
      "  Downloading torcheval-0.0.7-py3-none-any.whl.metadata (8.6 kB)\r\n",
      "Requirement already satisfied: typing-extensions in /opt/conda/lib/python3.10/site-packages (from torcheval) (4.5.0)\r\n",
      "Downloading torcheval-0.0.7-py3-none-any.whl (179 kB)\r\n",
      "\u001b[2K   \u001b[90m━━━━━━━━━━━━━━━━━━━━━━━━━━━━━━━━━━━━━━━━\u001b[0m \u001b[32m179.2/179.2 kB\u001b[0m \u001b[31m6.3 MB/s\u001b[0m eta \u001b[36m0:00:00\u001b[0m\r\n",
      "\u001b[?25hInstalling collected packages: torcheval\r\n",
      "Successfully installed torcheval-0.0.7\r\n"
     ]
    }
   ],
   "source": [
    "!pip install torcheval"
   ]
  },
  {
   "cell_type": "code",
   "execution_count": 2,
   "id": "8cb17c37",
   "metadata": {
    "execution": {
     "iopub.execute_input": "2024-01-31T08:54:31.789519Z",
     "iopub.status.busy": "2024-01-31T08:54:31.788662Z",
     "iopub.status.idle": "2024-01-31T08:54:48.969789Z",
     "shell.execute_reply": "2024-01-31T08:54:48.969004Z"
    },
    "papermill": {
     "duration": 17.196614,
     "end_time": "2024-01-31T08:54:48.972074",
     "exception": false,
     "start_time": "2024-01-31T08:54:31.775460",
     "status": "completed"
    },
    "tags": []
   },
   "outputs": [
    {
     "name": "stderr",
     "output_type": "stream",
     "text": [
      "/opt/conda/lib/python3.10/site-packages/scipy/__init__.py:146: UserWarning: A NumPy version >=1.16.5 and <1.23.0 is required for this version of SciPy (detected version 1.24.3\n",
      "  warnings.warn(f\"A NumPy version >={np_minversion} and <{np_maxversion}\"\n"
     ]
    }
   ],
   "source": [
    "import os\n",
    "import gc\n",
    "import pickle\n",
    "import numpy as np\n",
    "import pandas as pd\n",
    "import matplotlib.pyplot as plt\n",
    "import copy\n",
    "import warnings\n",
    "import seaborn as sns\n",
    "from sklearn.metrics import precision_recall_curve, roc_curve, roc_auc_score, confusion_matrix, classification_report\n",
    "\n",
    "import transformers\n",
    "import torch, torchaudio, torchtext\n",
    "import torch.nn.functional as F\n",
    "import torch.nn as nn\n",
    "\n",
    "from torch.nn.utils.rnn import pad_sequence\n",
    "from torch.utils.data import DataLoader\n",
    "from torcheval.metrics.functional import multiclass_f1_score\n",
    "from transformers import BertTokenizer, BertModel, AutoModel, AutoProcessor\n",
    "from tqdm import tqdm\n",
    "\n",
    "try:\n",
    "    # try to import from local\n",
    "    from CustomTransformer import CustomEncoder, PositionalEncoding, LayerNorm\n",
    "except:\n",
    "    # import from kaggle workspace\n",
    "    from customtransformer import CustomEncoder, PositionalEncoding, LayerNorm\n",
    "\n",
    "warnings.filterwarnings('ignore')\n",
    "pd.options.display.float_format = '{:,.3f}'.format"
   ]
  },
  {
   "cell_type": "markdown",
   "id": "85149d5c",
   "metadata": {
    "papermill": {
     "duration": 0.012999,
     "end_time": "2024-01-31T08:54:48.997564",
     "exception": false,
     "start_time": "2024-01-31T08:54:48.984565",
     "status": "completed"
    },
    "tags": []
   },
   "source": [
    "### Constants"
   ]
  },
  {
   "cell_type": "code",
   "execution_count": 3,
   "id": "68ff152b",
   "metadata": {
    "execution": {
     "iopub.execute_input": "2024-01-31T08:54:49.023489Z",
     "iopub.status.busy": "2024-01-31T08:54:49.022894Z",
     "iopub.status.idle": "2024-01-31T08:54:49.031813Z",
     "shell.execute_reply": "2024-01-31T08:54:49.031017Z"
    },
    "papermill": {
     "duration": 0.023959,
     "end_time": "2024-01-31T08:54:49.033737",
     "exception": false,
     "start_time": "2024-01-31T08:54:49.009778",
     "status": "completed"
    },
    "tags": []
   },
   "outputs": [
    {
     "name": "stdout",
     "output_type": "stream",
     "text": [
      "Using device: cuda\n"
     ]
    }
   ],
   "source": [
    "device = torch.device(\"cuda\" if torch.cuda.is_available() else \"cpu\")\n",
    "print(f'Using device: {device}')\n",
    "\n",
    "\"\"\"\n",
    "For the Argumentative Component Classification (ACC) task, we need to remove the 'O' label from the dataset.\n",
    "\"\"\"\n",
    "MODEL_NUM_LABELS = 3\n",
    "REMOVE_OTHER = True\n",
    "OTHER_LABEL = 'O'\n",
    "    \n",
    "if REMOVE_OTHER:\n",
    "    MODEL_NUM_LABELS = 2\n",
    "\n",
    "TEXT_MODEL_CARD = 'bert-base-uncased'\n",
    "AUDIO_MODEL_CARD = 'facebook/wav2vec2-base-960h'\n",
    "\n",
    "LABEL_2_ID = {\n",
    "    'Claim': 0,\n",
    "    'Premise': 1,\n",
    "    'O': 2\n",
    "}\n",
    "\n",
    "ID_2_LABEL = {\n",
    "    0: 'Claim',\n",
    "    1: 'Premise',\n",
    "    2: 'O'\n",
    "}\n",
    "\n",
    "\n",
    "EMBEDDING_DIM = 768\n",
    "BATCH_SIZE = 12"
   ]
  },
  {
   "cell_type": "markdown",
   "id": "64c83f9b",
   "metadata": {
    "papermill": {
     "duration": 0.012218,
     "end_time": "2024-01-31T08:54:49.058273",
     "exception": false,
     "start_time": "2024-01-31T08:54:49.046055",
     "status": "completed"
    },
    "tags": []
   },
   "source": [
    "# Load df"
   ]
  },
  {
   "cell_type": "code",
   "execution_count": 4,
   "id": "2b570f60",
   "metadata": {
    "execution": {
     "iopub.execute_input": "2024-01-31T08:54:49.083938Z",
     "iopub.status.busy": "2024-01-31T08:54:49.083657Z",
     "iopub.status.idle": "2024-01-31T08:54:49.488801Z",
     "shell.execute_reply": "2024-01-31T08:54:49.488009Z"
    },
    "papermill": {
     "duration": 0.420734,
     "end_time": "2024-01-31T08:54:49.491198",
     "exception": false,
     "start_time": "2024-01-31T08:54:49.070464",
     "status": "completed"
    },
    "tags": []
   },
   "outputs": [],
   "source": [
    "try:\n",
    "    # Try to load from Kaggle workspace\n",
    "    df_path = '/kaggle/input/multimodal-argument-mining/MM-USElecDeb60to16/MM-USElecDeb60to16.csv'\n",
    "    audio_path = '/kaggle/input/multimodal-argument-mining/MM-USElecDeb60to16/audio_clips'\n",
    "    load_path = '/kaggle/input/mm-dataset-subsampling/'\n",
    "    save_path = '/kaggle/working/'\n",
    "    df = pd.read_csv(df_path, index_col=0)\n",
    "except FileNotFoundError:\n",
    "    # Try to load from local\n",
    "    df_path = 'multimodal-dataset/files/MM-USElecDeb60to16/MM-USElecDeb60to16.csv'\n",
    "    audio_path = 'multimodal-dataset/files/MM-USElecDeb60to16/audio_clips'\n",
    "    load_path = 'multimodal-dataset/files'\n",
    "    save_path = 'multimodal-dataset/files'\n",
    "    df = pd.read_csv(df_path, index_col=0)\n",
    "    \n",
    "# drop rows where audio length is 0\n",
    "df = df[df['NewBegin'] != df['NewEnd']]\n",
    "if REMOVE_OTHER:\n",
    "    # drop rows where Component is 'Other'\n",
    "    df = df[df['Component'] != OTHER_LABEL]\n",
    "\n",
    "# train, val, test split\n",
    "train_df_complete = df[df['Set'] == 'TRAIN']\n",
    "val_df_complete = df[df['Set'] == 'VALIDATION']\n",
    "test_df_complete = df[df['Set'] == 'TEST']\n",
    "\n",
    "# subsample datasets for memory reasons\n",
    "DATASET_RATIO = 1\n",
    "train_df = train_df_complete.iloc[:int(DATASET_RATIO * len(train_df_complete))]\n",
    "val_df = val_df_complete.iloc[:int(DATASET_RATIO * len(val_df_complete))]\n",
    "test_df = test_df_complete.iloc[:int(DATASET_RATIO * len(test_df_complete))]"
   ]
  },
  {
   "cell_type": "code",
   "execution_count": 5,
   "id": "c3d3bc68",
   "metadata": {
    "execution": {
     "iopub.execute_input": "2024-01-31T08:54:49.517814Z",
     "iopub.status.busy": "2024-01-31T08:54:49.517505Z",
     "iopub.status.idle": "2024-01-31T08:54:49.540371Z",
     "shell.execute_reply": "2024-01-31T08:54:49.539578Z"
    },
    "papermill": {
     "duration": 0.038011,
     "end_time": "2024-01-31T08:54:49.542235",
     "exception": false,
     "start_time": "2024-01-31T08:54:49.504224",
     "status": "completed"
    },
    "tags": []
   },
   "outputs": [
    {
     "data": {
      "text/html": [
       "<div>\n",
       "<style scoped>\n",
       "    .dataframe tbody tr th:only-of-type {\n",
       "        vertical-align: middle;\n",
       "    }\n",
       "\n",
       "    .dataframe tbody tr th {\n",
       "        vertical-align: top;\n",
       "    }\n",
       "\n",
       "    .dataframe thead th {\n",
       "        text-align: right;\n",
       "    }\n",
       "</style>\n",
       "<table border=\"1\" class=\"dataframe\">\n",
       "  <thead>\n",
       "    <tr style=\"text-align: right;\">\n",
       "      <th></th>\n",
       "      <th>Text</th>\n",
       "      <th>Part</th>\n",
       "      <th>Document</th>\n",
       "      <th>Order</th>\n",
       "      <th>Sentence</th>\n",
       "      <th>Start</th>\n",
       "      <th>End</th>\n",
       "      <th>Annotator</th>\n",
       "      <th>Tag</th>\n",
       "      <th>Component</th>\n",
       "      <th>...</th>\n",
       "      <th>Speaker</th>\n",
       "      <th>SpeakerType</th>\n",
       "      <th>Set</th>\n",
       "      <th>Date</th>\n",
       "      <th>Year</th>\n",
       "      <th>Name</th>\n",
       "      <th>MainTag</th>\n",
       "      <th>NewBegin</th>\n",
       "      <th>NewEnd</th>\n",
       "      <th>idClip</th>\n",
       "    </tr>\n",
       "  </thead>\n",
       "  <tbody>\n",
       "    <tr>\n",
       "      <th>3</th>\n",
       "      <td>And, after 9/11, it became clear that we had t...</td>\n",
       "      <td>1</td>\n",
       "      <td>30_2004</td>\n",
       "      <td>3</td>\n",
       "      <td>3</td>\n",
       "      <td>2418</td>\n",
       "      <td>2744</td>\n",
       "      <td>NaN</td>\n",
       "      <td>{\"O\": 16, \"Claim\": 50}</td>\n",
       "      <td>Claim</td>\n",
       "      <td>...</td>\n",
       "      <td>CHENEY</td>\n",
       "      <td>Candidate</td>\n",
       "      <td>TRAIN</td>\n",
       "      <td>05 Oct 2004</td>\n",
       "      <td>2004</td>\n",
       "      <td>Richard(Dick) B. Cheney</td>\n",
       "      <td>Claim</td>\n",
       "      <td>140.560</td>\n",
       "      <td>158.920</td>\n",
       "      <td>clip_3</td>\n",
       "    </tr>\n",
       "    <tr>\n",
       "      <th>4</th>\n",
       "      <td>And we also then finally had to stand up democ...</td>\n",
       "      <td>1</td>\n",
       "      <td>30_2004</td>\n",
       "      <td>4</td>\n",
       "      <td>4</td>\n",
       "      <td>2744</td>\n",
       "      <td>2974</td>\n",
       "      <td>NaN</td>\n",
       "      <td>{\"O\": 4, \"Claim\": 13, \"Premise\": 25}</td>\n",
       "      <td>Premise</td>\n",
       "      <td>...</td>\n",
       "      <td>CHENEY</td>\n",
       "      <td>Candidate</td>\n",
       "      <td>TRAIN</td>\n",
       "      <td>05 Oct 2004</td>\n",
       "      <td>2004</td>\n",
       "      <td>Richard(Dick) B. Cheney</td>\n",
       "      <td>Mixed</td>\n",
       "      <td>158.920</td>\n",
       "      <td>172.920</td>\n",
       "      <td>clip_4</td>\n",
       "    </tr>\n",
       "    <tr>\n",
       "      <th>9</th>\n",
       "      <td>What we did in Iraq was exactly the right thin...</td>\n",
       "      <td>1</td>\n",
       "      <td>30_2004</td>\n",
       "      <td>9</td>\n",
       "      <td>9</td>\n",
       "      <td>3861</td>\n",
       "      <td>3916</td>\n",
       "      <td>NaN</td>\n",
       "      <td>{\"Claim\": 12, \"O\": 1}</td>\n",
       "      <td>Claim</td>\n",
       "      <td>...</td>\n",
       "      <td>CHENEY</td>\n",
       "      <td>Candidate</td>\n",
       "      <td>TRAIN</td>\n",
       "      <td>05 Oct 2004</td>\n",
       "      <td>2004</td>\n",
       "      <td>Richard(Dick) B. Cheney</td>\n",
       "      <td>Claim</td>\n",
       "      <td>224.080</td>\n",
       "      <td>226.880</td>\n",
       "      <td>clip_9</td>\n",
       "    </tr>\n",
       "    <tr>\n",
       "      <th>10</th>\n",
       "      <td>If I had it to recommend all over again, I wou...</td>\n",
       "      <td>1</td>\n",
       "      <td>30_2004</td>\n",
       "      <td>10</td>\n",
       "      <td>10</td>\n",
       "      <td>3916</td>\n",
       "      <td>4010</td>\n",
       "      <td>NaN</td>\n",
       "      <td>{\"Premise\": 19, \"O\": 1}</td>\n",
       "      <td>Premise</td>\n",
       "      <td>...</td>\n",
       "      <td>CHENEY</td>\n",
       "      <td>Candidate</td>\n",
       "      <td>TRAIN</td>\n",
       "      <td>05 Oct 2004</td>\n",
       "      <td>2004</td>\n",
       "      <td>Richard(Dick) B. Cheney</td>\n",
       "      <td>Premise</td>\n",
       "      <td>226.880</td>\n",
       "      <td>231.560</td>\n",
       "      <td>clip_10</td>\n",
       "    </tr>\n",
       "    <tr>\n",
       "      <th>11</th>\n",
       "      <td>The world is far safer today because Saddam Hu...</td>\n",
       "      <td>1</td>\n",
       "      <td>30_2004</td>\n",
       "      <td>11</td>\n",
       "      <td>11</td>\n",
       "      <td>4010</td>\n",
       "      <td>4112</td>\n",
       "      <td>NaN</td>\n",
       "      <td>{\"Claim\": 6, \"O\": 2, \"Premise\": 13}</td>\n",
       "      <td>Premise</td>\n",
       "      <td>...</td>\n",
       "      <td>CHENEY</td>\n",
       "      <td>Candidate</td>\n",
       "      <td>TRAIN</td>\n",
       "      <td>05 Oct 2004</td>\n",
       "      <td>2004</td>\n",
       "      <td>Richard(Dick) B. Cheney</td>\n",
       "      <td>Mixed</td>\n",
       "      <td>231.560</td>\n",
       "      <td>237.560</td>\n",
       "      <td>clip_11</td>\n",
       "    </tr>\n",
       "  </tbody>\n",
       "</table>\n",
       "<p>5 rows × 21 columns</p>\n",
       "</div>"
      ],
      "text/plain": [
       "                                                 Text  Part Document  Order  \\\n",
       "3   And, after 9/11, it became clear that we had t...     1  30_2004      3   \n",
       "4   And we also then finally had to stand up democ...     1  30_2004      4   \n",
       "9   What we did in Iraq was exactly the right thin...     1  30_2004      9   \n",
       "10  If I had it to recommend all over again, I wou...     1  30_2004     10   \n",
       "11  The world is far safer today because Saddam Hu...     1  30_2004     11   \n",
       "\n",
       "    Sentence  Start   End  Annotator                                   Tag  \\\n",
       "3          3   2418  2744        NaN                {\"O\": 16, \"Claim\": 50}   \n",
       "4          4   2744  2974        NaN  {\"O\": 4, \"Claim\": 13, \"Premise\": 25}   \n",
       "9          9   3861  3916        NaN                 {\"Claim\": 12, \"O\": 1}   \n",
       "10        10   3916  4010        NaN               {\"Premise\": 19, \"O\": 1}   \n",
       "11        11   4010  4112        NaN   {\"Claim\": 6, \"O\": 2, \"Premise\": 13}   \n",
       "\n",
       "   Component  ... Speaker SpeakerType    Set         Date  Year  \\\n",
       "3      Claim  ...  CHENEY   Candidate  TRAIN  05 Oct 2004  2004   \n",
       "4    Premise  ...  CHENEY   Candidate  TRAIN  05 Oct 2004  2004   \n",
       "9      Claim  ...  CHENEY   Candidate  TRAIN  05 Oct 2004  2004   \n",
       "10   Premise  ...  CHENEY   Candidate  TRAIN  05 Oct 2004  2004   \n",
       "11   Premise  ...  CHENEY   Candidate  TRAIN  05 Oct 2004  2004   \n",
       "\n",
       "                       Name  MainTag NewBegin  NewEnd   idClip  \n",
       "3   Richard(Dick) B. Cheney    Claim  140.560 158.920   clip_3  \n",
       "4   Richard(Dick) B. Cheney    Mixed  158.920 172.920   clip_4  \n",
       "9   Richard(Dick) B. Cheney    Claim  224.080 226.880   clip_9  \n",
       "10  Richard(Dick) B. Cheney  Premise  226.880 231.560  clip_10  \n",
       "11  Richard(Dick) B. Cheney    Mixed  231.560 237.560  clip_11  \n",
       "\n",
       "[5 rows x 21 columns]"
      ]
     },
     "execution_count": 5,
     "metadata": {},
     "output_type": "execute_result"
    }
   ],
   "source": [
    "train_df.head()"
   ]
  },
  {
   "cell_type": "code",
   "execution_count": 6,
   "id": "f2bbab2f",
   "metadata": {
    "execution": {
     "iopub.execute_input": "2024-01-31T08:54:49.568764Z",
     "iopub.status.busy": "2024-01-31T08:54:49.568489Z",
     "iopub.status.idle": "2024-01-31T08:54:49.573000Z",
     "shell.execute_reply": "2024-01-31T08:54:49.572175Z"
    },
    "papermill": {
     "duration": 0.020121,
     "end_time": "2024-01-31T08:54:49.575092",
     "exception": false,
     "start_time": "2024-01-31T08:54:49.554971",
     "status": "completed"
    },
    "tags": []
   },
   "outputs": [
    {
     "name": "stdout",
     "output_type": "stream",
     "text": [
      "Train size: 9455\n",
      "Val size: 5201\n",
      "Test size: 5908\n"
     ]
    }
   ],
   "source": [
    "print(f'Train size: {len(train_df)}')\n",
    "print(f'Val size: {len(val_df)}')\n",
    "print(f'Test size: {len(test_df)}')"
   ]
  },
  {
   "cell_type": "markdown",
   "id": "1db8b968",
   "metadata": {
    "papermill": {
     "duration": 0.012478,
     "end_time": "2024-01-31T08:54:49.600267",
     "exception": false,
     "start_time": "2024-01-31T08:54:49.587789",
     "status": "completed"
    },
    "tags": []
   },
   "source": [
    "## Distribution of classes over train df"
   ]
  },
  {
   "cell_type": "code",
   "execution_count": 7,
   "id": "11bbefef",
   "metadata": {
    "execution": {
     "iopub.execute_input": "2024-01-31T08:54:49.670269Z",
     "iopub.status.busy": "2024-01-31T08:54:49.669445Z",
     "iopub.status.idle": "2024-01-31T08:54:49.682961Z",
     "shell.execute_reply": "2024-01-31T08:54:49.682045Z"
    },
    "papermill": {
     "duration": 0.029374,
     "end_time": "2024-01-31T08:54:49.684860",
     "exception": false,
     "start_time": "2024-01-31T08:54:49.655486",
     "status": "completed"
    },
    "tags": []
   },
   "outputs": [
    {
     "name": "stdout",
     "output_type": "stream",
     "text": [
      "Total Claim: 5029: 53.19%\n",
      "Total Premise: 4426: 46.81%\n"
     ]
    }
   ],
   "source": [
    "num_claim = len(train_df[train_df['Component'] == 'Claim'])\n",
    "print(f'Total Claim: {num_claim}: {num_claim*100/len(train_df):.2f}%')\n",
    "\n",
    "num_premise = len(train_df[train_df['Component'] == 'Premise'])\n",
    "print(f'Total Premise: {num_premise}: {num_premise*100/len(train_df):.2f}%')\n",
    "\n",
    "if not REMOVE_OTHER:\n",
    "    num_other = len(train_df[train_df['Component'] == 'O'])\n",
    "    print(f'Total Other: {num_other}: {num_other*100/len(train_df):.2f}%')"
   ]
  },
  {
   "cell_type": "markdown",
   "id": "825260fa",
   "metadata": {
    "papermill": {
     "duration": 0.012663,
     "end_time": "2024-01-31T08:54:49.710551",
     "exception": false,
     "start_time": "2024-01-31T08:54:49.697888",
     "status": "completed"
    },
    "tags": []
   },
   "source": [
    "Classes are not balanced, but not too bad either."
   ]
  },
  {
   "cell_type": "markdown",
   "id": "59a03019",
   "metadata": {
    "papermill": {
     "duration": 0.012526,
     "end_time": "2024-01-31T08:54:49.735772",
     "exception": false,
     "start_time": "2024-01-31T08:54:49.723246",
     "status": "completed"
    },
    "tags": []
   },
   "source": [
    "## Class Reweighting"
   ]
  },
  {
   "cell_type": "code",
   "execution_count": 8,
   "id": "a5241502",
   "metadata": {
    "execution": {
     "iopub.execute_input": "2024-01-31T08:54:49.762396Z",
     "iopub.status.busy": "2024-01-31T08:54:49.762106Z",
     "iopub.status.idle": "2024-01-31T08:54:50.151423Z",
     "shell.execute_reply": "2024-01-31T08:54:50.150348Z"
    },
    "papermill": {
     "duration": 0.405066,
     "end_time": "2024-01-31T08:54:50.153517",
     "exception": false,
     "start_time": "2024-01-31T08:54:49.748451",
     "status": "completed"
    },
    "tags": []
   },
   "outputs": [
    {
     "name": "stdout",
     "output_type": "stream",
     "text": [
      "Weight for loss function: tensor([0.9400, 1.0681], device='cuda:0')\n"
     ]
    }
   ],
   "source": [
    "if MODEL_NUM_LABELS == 2:\n",
    "    claim_ratio = num_claim / (num_claim + num_premise)\n",
    "    premise_ratio = num_premise / (num_claim + num_premise)\n",
    "    weight = torch.tensor([1/(2*claim_ratio), 1/(2*premise_ratio)]).to(device)\n",
    "else:\n",
    "    claim_ratio = num_claim / (num_claim + num_premise + num_other)\n",
    "    premise_ratio = num_premise / (num_claim + num_premise + num_other)\n",
    "    other_ratio = num_other / (num_claim + num_premise + num_other)\n",
    "    weight = torch.tensor([1/(3*claim_ratio), 1/(3*premise_ratio), 1/(3*other_ratio)]).to(device)\n",
    "\n",
    "print(f'Weight for loss function: {weight}')"
   ]
  },
  {
   "cell_type": "markdown",
   "id": "bf18d56f",
   "metadata": {
    "papermill": {
     "duration": 0.012825,
     "end_time": "2024-01-31T08:54:50.179567",
     "exception": false,
     "start_time": "2024-01-31T08:54:50.166742",
     "status": "completed"
    },
    "tags": []
   },
   "source": [
    "# Train and evaluation Loop"
   ]
  },
  {
   "cell_type": "code",
   "execution_count": 9,
   "id": "6a444b25",
   "metadata": {
    "execution": {
     "iopub.execute_input": "2024-01-31T08:54:50.206799Z",
     "iopub.status.busy": "2024-01-31T08:54:50.206514Z",
     "iopub.status.idle": "2024-01-31T08:54:50.225137Z",
     "shell.execute_reply": "2024-01-31T08:54:50.224444Z"
    },
    "papermill": {
     "duration": 0.034677,
     "end_time": "2024-01-31T08:54:50.227077",
     "exception": false,
     "start_time": "2024-01-31T08:54:50.192400",
     "status": "completed"
    },
    "tags": []
   },
   "outputs": [],
   "source": [
    "class BestModel:\n",
    "    \"\"\"\n",
    "    Class to keep track of the best performing model on validation set during training\n",
    "    \"\"\"\n",
    "    def __init__(self):\n",
    "        self.best_validation_loss = float('Infinity')\n",
    "        self.best_state_dict = None\n",
    "    def __call__(self, model, loss):\n",
    "        if loss < self.best_validation_loss:\n",
    "            self.best_validation_loss = loss\n",
    "            self.best_state_dict = copy.deepcopy(model.state_dict())\n",
    "\n",
    "def evaluate(model, data_loader, loss_fn, debug=False):\n",
    "    \"\"\"\n",
    "    Evaluate the model on the set passed\n",
    "    Args:\n",
    "        model: model to evaluate\n",
    "        data_loader: DataLoader object\n",
    "        loss_fn: loss function to use\n",
    "        debug: whether to print debug statements\n",
    "    \"\"\"\n",
    "    model.eval()\n",
    "    valid_loss = 0.0\n",
    "    num_correct = 0 \n",
    "    num_examples = 0\n",
    "    tot_pred, tot_targ = torch.LongTensor().to(device), torch.LongTensor().to(device)\n",
    "    for batch in data_loader:\n",
    "        texts, audio_features, audio_attention, targets = batch\n",
    "        audio_features = audio_features.to(device)\n",
    "        audio_attention = audio_attention.to(device)\n",
    "        targets = targets.to(device)\n",
    "        output = model(texts,audio_features,audio_attention)\n",
    "        if debug:\n",
    "            print(\"OUTPUT\",output)\n",
    "            print(\"TARGETS\", targets)\n",
    "        loss = loss_fn(output, targets)\n",
    "        valid_loss += loss.detach()\n",
    "        \n",
    "        # if label O is still in the dataset we remove it from the outputs\n",
    "        # since it's a binary task\n",
    "        if not REMOVE_OTHER:\n",
    "            not_other = targets != 2\n",
    "            output = output[not_other]\n",
    "            targets = targets[not_other]\n",
    "        \n",
    "        predicted_labels = torch.argmax(output[:, :2], dim=-1)\n",
    "        tot_targ = torch.cat((tot_targ, targets))\n",
    "        tot_pred = torch.cat((tot_pred, predicted_labels))            \n",
    "        correct = torch.eq(predicted_labels, targets).view(-1)\n",
    "        num_correct += torch.sum(correct).item()\n",
    "        num_examples += correct.shape[0]\n",
    "    valid_loss = valid_loss.cpu().item()\n",
    "    valid_loss /= len(data_loader.dataset)\n",
    "    accuracy = num_correct/num_examples\n",
    "    f1 = multiclass_f1_score(tot_pred, tot_targ, num_classes=2, average=\"macro\")\n",
    "    return valid_loss, accuracy, f1, tot_pred, tot_targ\n",
    "\n",
    "            \n",
    "def train(model, loss_fn, train_loader, val_loader, epochs=10, device=\"cuda\", lr=1e-3, lr_decay_factor=0.1, lr_decay_patience=3, weight_decay=1e-5, verbose=True, debug=False):\n",
    "    \"\"\"\n",
    "    Train the model on the train set and evaluate on the validation set with the given parameters\n",
    "    Args:\n",
    "        model: model to train\n",
    "        loss_fn: loss function to use\n",
    "        train_loader: DataLoader object for train set\n",
    "        val_loader: DataLoader object for validation set\n",
    "        epochs: number of epochs\n",
    "        device: device to use\n",
    "        lr: initial learning rate\n",
    "        lr_decay_factor: factor to decay learning rate\n",
    "        lr_decay_patience: patience for learning rate decay\n",
    "        weight_decay: weight decay\n",
    "        verbose: whether to print training results\n",
    "        debug: whether to print debug statements\n",
    "    \"\"\"\n",
    "    # set up optimizer and scheduler\n",
    "    optimizer = torch.optim.Adam(model.parameters(), lr=lr, weight_decay=weight_decay) \n",
    "    scheduler = torch.optim.lr_scheduler.ReduceLROnPlateau(optimizer, mode='min', factor=lr_decay_factor, patience=lr_decay_patience, verbose=True)\n",
    "    best_model_tracker = BestModel()\n",
    "    train_losses = []\n",
    "    val_losses = []\n",
    "    for epoch in tqdm(range(epochs)):\n",
    "        training_loss = 0.0\n",
    "        model.train()\n",
    "        for batch in train_loader:\n",
    "            optimizer.zero_grad()\n",
    "            texts, audio_features, audio_attention, targets = batch\n",
    "            audio_features = audio_features.to(device)\n",
    "            audio_attention = audio_attention.to(device)\n",
    "            targets = targets.to(device)\n",
    "            output = model(texts,audio_features,audio_attention)\n",
    "            loss = loss_fn(output, targets)\n",
    "            loss.backward()\n",
    "            optimizer.step()\n",
    "            training_loss += loss.detach()\n",
    "        training_loss = training_loss.cpu().item()\n",
    "        training_loss /= len(train_loader.dataset)\n",
    "        valid_loss, accuracy, f1, _, _ = evaluate(model, val_loader, loss_fn, debug)\n",
    "        train_losses.append(training_loss)\n",
    "        val_losses.append(valid_loss)\n",
    "        best_model_tracker(model, valid_loss)\n",
    "        scheduler.step(valid_loss)\n",
    "        if verbose:\n",
    "            print(f'Epoch: {epoch}, Training Loss: {training_loss:.4f}, Validation Loss: {valid_loss:.4f}, accuracy = {accuracy:.4f}, F1={f1:.4f}')\n",
    "    # restore best model weights\n",
    "    model.load_state_dict(best_model_tracker.best_state_dict) \n",
    "    return model, train_losses, val_losses"
   ]
  },
  {
   "cell_type": "markdown",
   "id": "0c6030cb",
   "metadata": {
    "papermill": {
     "duration": 0.012598,
     "end_time": "2024-01-31T08:54:50.252467",
     "exception": false,
     "start_time": "2024-01-31T08:54:50.239869",
     "status": "completed"
    },
    "tags": []
   },
   "source": [
    "# Dataset Creation"
   ]
  },
  {
   "cell_type": "code",
   "execution_count": 10,
   "id": "59078a46",
   "metadata": {
    "execution": {
     "iopub.execute_input": "2024-01-31T08:54:50.279624Z",
     "iopub.status.busy": "2024-01-31T08:54:50.279366Z",
     "iopub.status.idle": "2024-01-31T08:54:54.099983Z",
     "shell.execute_reply": "2024-01-31T08:54:54.099060Z"
    },
    "papermill": {
     "duration": 3.837339,
     "end_time": "2024-01-31T08:54:54.102675",
     "exception": false,
     "start_time": "2024-01-31T08:54:50.265336",
     "status": "completed"
    },
    "tags": []
   },
   "outputs": [
    {
     "data": {
      "application/vnd.jupyter.widget-view+json": {
       "model_id": "b15f9b8676f6497a934a08a3d3daa3a4",
       "version_major": 2,
       "version_minor": 0
      },
      "text/plain": [
       "tokenizer_config.json:   0%|          | 0.00/28.0 [00:00<?, ?B/s]"
      ]
     },
     "metadata": {},
     "output_type": "display_data"
    },
    {
     "data": {
      "application/vnd.jupyter.widget-view+json": {
       "model_id": "d8fbb954b0a6457aade03a2c2bc5c13f",
       "version_major": 2,
       "version_minor": 0
      },
      "text/plain": [
       "vocab.txt:   0%|          | 0.00/232k [00:00<?, ?B/s]"
      ]
     },
     "metadata": {},
     "output_type": "display_data"
    },
    {
     "data": {
      "application/vnd.jupyter.widget-view+json": {
       "model_id": "afef49fb6b4546c3beb0896bdf72b937",
       "version_major": 2,
       "version_minor": 0
      },
      "text/plain": [
       "tokenizer.json:   0%|          | 0.00/466k [00:00<?, ?B/s]"
      ]
     },
     "metadata": {},
     "output_type": "display_data"
    },
    {
     "data": {
      "application/vnd.jupyter.widget-view+json": {
       "model_id": "f3082c17320c47a0ae756d41f705ccc5",
       "version_major": 2,
       "version_minor": 0
      },
      "text/plain": [
       "config.json:   0%|          | 0.00/570 [00:00<?, ?B/s]"
      ]
     },
     "metadata": {},
     "output_type": "display_data"
    },
    {
     "data": {
      "application/vnd.jupyter.widget-view+json": {
       "model_id": "bfbe7cd5e2a54150b865524b91129bac",
       "version_major": 2,
       "version_minor": 0
      },
      "text/plain": [
       "model.safetensors:   0%|          | 0.00/440M [00:00<?, ?B/s]"
      ]
     },
     "metadata": {},
     "output_type": "display_data"
    }
   ],
   "source": [
    "# set up tokenizer and model\n",
    "tokenizer = BertTokenizer.from_pretrained(TEXT_MODEL_CARD)\n",
    "embedder = BertModel.from_pretrained(TEXT_MODEL_CARD).to(device)\n",
    "\n",
    "# freeze bert layers\n",
    "for params in embedder.parameters():\n",
    "    params.requires_grad = False\n",
    "\n",
    "# Downsample audio features to 1/5 of the original size to fit in memory\n",
    "DOWNSAMPLE_FACTOR = 1/5\n",
    "\n",
    "class MM_Dataset(torch.utils.data.Dataset):\n",
    "    \"\"\"\n",
    "    Dataset class for multimodal dataset\n",
    "    \"\"\"\n",
    "    def __init__(self, df, audio_dir, sample_rate):\n",
    "        \"\"\"\n",
    "        Args:\n",
    "            df: dataframe containing the dataset\n",
    "            audio_dir: directory containing the audio clips\n",
    "            sample_rate: sample rate to use for audio clips\n",
    "        \"\"\"\n",
    "        self.audio_dir = audio_dir\n",
    "        self.sample_rate = sample_rate\n",
    "\n",
    "        self.audio_processor = AutoProcessor.from_pretrained(AUDIO_MODEL_CARD)\n",
    "        self.audio_model = AutoModel.from_pretrained(AUDIO_MODEL_CARD).to(device)\n",
    "\n",
    "        self.dataset = []\n",
    "\n",
    "        # Iterate over df\n",
    "        for _, row in tqdm(df.iterrows()):\n",
    "            path = os.path.join(self.audio_dir, f\"{row['Document']}/{row['idClip']}.wav\")\n",
    "            if os.path.exists(path):\n",
    "                # obtain audio WAV2VEC features\n",
    "                audio, sampling_rate = torchaudio.load(path)\n",
    "                # resample audio if necessary\n",
    "                if sampling_rate != self.sample_rate:\n",
    "                    audio = torchaudio.functional.resample(audio, sample_rate, self.sample_rate)\n",
    "                    # mean pooling over channels\n",
    "                    audio = torch.mean(audio, dim=0, keepdim=True)\n",
    "                with torch.inference_mode():\n",
    "                    # run audio through model\n",
    "                    input_values = self.audio_processor(audio, sampling_rate=self.sample_rate).input_values[0]\n",
    "                    input_values = torch.tensor(input_values).to(device)\n",
    "                    audio_model_output = self.audio_model(input_values)\n",
    "                    audio_features = audio_model_output.last_hidden_state[0].unsqueeze(0)\n",
    "                    # downsample audio features\n",
    "                    audio_features = torch.nn.functional.interpolate(audio_features.permute(0,2,1), scale_factor=DOWNSAMPLE_FACTOR, mode='linear')\n",
    "                    audio_features = audio_features.permute(0,2,1)[0]\n",
    "                    audio_features = audio_features.cpu()\n",
    "                \n",
    "                text = row['Text']\n",
    "\n",
    "                self.dataset.append((text, audio_features, LABEL_2_ID[row['Component']]))\n",
    "    def __len__(self):\n",
    "        return len(self.dataset)\n",
    "\n",
    "    def __getitem__(self, index):\n",
    "        return self.dataset[index]"
   ]
  },
  {
   "cell_type": "code",
   "execution_count": 11,
   "id": "340dcd03",
   "metadata": {
    "execution": {
     "iopub.execute_input": "2024-01-31T08:54:54.137078Z",
     "iopub.status.busy": "2024-01-31T08:54:54.136750Z",
     "iopub.status.idle": "2024-01-31T08:59:29.506336Z",
     "shell.execute_reply": "2024-01-31T08:59:29.505326Z"
    },
    "papermill": {
     "duration": 275.403645,
     "end_time": "2024-01-31T08:59:29.522883",
     "exception": false,
     "start_time": "2024-01-31T08:54:54.119238",
     "status": "completed"
    },
    "tags": []
   },
   "outputs": [
    {
     "name": "stdout",
     "output_type": "stream",
     "text": [
      "Restored datasets from memory\n"
     ]
    }
   ],
   "source": [
    "try:\n",
    "    # try to restore datasets from memory\n",
    "    train_dataset = torch.load(f'{load_path}/train_dataset.pkl')\n",
    "    test_dataset = torch.load(f'{load_path}/test_dataset.pkl')\n",
    "    val_dataset = torch.load(f'{load_path}/val_dataset.pkl')\n",
    "    if REMOVE_OTHER:\n",
    "        train_dataset = list(filter(lambda x: x[2] != 2, train_dataset))\n",
    "        test_dataset = list(filter(lambda x: x[2] != 2, test_dataset))\n",
    "        val_dataset = list(filter(lambda x: x[2] != 2, val_dataset))\n",
    "    print('Restored datasets from memory')\n",
    "except:\n",
    "    # create new datasets\n",
    "    print('Creating new datasets')\n",
    "    train_dataset = MM_Dataset(train_df, audio_path, 16_000)\n",
    "    test_dataset = MM_Dataset(test_df, audio_path, 16_000)\n",
    "    val_dataset = MM_Dataset(val_df, audio_path, 16_000)"
   ]
  },
  {
   "cell_type": "markdown",
   "id": "5546e32b",
   "metadata": {
    "papermill": {
     "duration": 0.014088,
     "end_time": "2024-01-31T08:59:29.551289",
     "exception": false,
     "start_time": "2024-01-31T08:59:29.537201",
     "status": "completed"
    },
    "tags": []
   },
   "source": [
    "## Dataloader creation"
   ]
  },
  {
   "cell_type": "code",
   "execution_count": 12,
   "id": "b1e62d54",
   "metadata": {
    "execution": {
     "iopub.execute_input": "2024-01-31T08:59:29.580916Z",
     "iopub.status.busy": "2024-01-31T08:59:29.580562Z",
     "iopub.status.idle": "2024-01-31T08:59:29.588057Z",
     "shell.execute_reply": "2024-01-31T08:59:29.587204Z"
    },
    "papermill": {
     "duration": 0.024668,
     "end_time": "2024-01-31T08:59:29.589826",
     "exception": false,
     "start_time": "2024-01-31T08:59:29.565158",
     "status": "completed"
    },
    "tags": []
   },
   "outputs": [],
   "source": [
    "def create_dataloader(dataset, batch_size):\n",
    "    \"\"\"\n",
    "    Create a DataLoader object from the given dataset with the given batch size\n",
    "    Args:\n",
    "        dataset: dataset to use\n",
    "        batch_size: batch size to use\n",
    "    \"\"\"\n",
    "    def pack_fn(batch):\n",
    "        \"\"\"\n",
    "        Function to pad the audio features and create the attention mask\n",
    "        \"\"\"\n",
    "        texts = [x[0] for x in batch]\n",
    "        audio_features = [x[1] for x in batch]\n",
    "        labels = torch.tensor([x[2] for x in batch])\n",
    "        \n",
    "        # pad audio features\n",
    "        audio_features = pad_sequence(audio_features, batch_first=True, padding_value=float('-inf'))\n",
    "        audio_features_attention_mask = audio_features[:, :, 0] != float('-inf')\n",
    "        audio_features[(audio_features == float('-inf'))] = 0\n",
    "        return texts, audio_features, audio_features_attention_mask, labels\n",
    "\n",
    "    dataloader = torch.utils.data.DataLoader(dataset, batch_size=batch_size, shuffle=True, collate_fn=pack_fn)\n",
    "    return dataloader"
   ]
  },
  {
   "cell_type": "code",
   "execution_count": 13,
   "id": "88bf82e6",
   "metadata": {
    "execution": {
     "iopub.execute_input": "2024-01-31T08:59:29.620001Z",
     "iopub.status.busy": "2024-01-31T08:59:29.619322Z",
     "iopub.status.idle": "2024-01-31T08:59:29.624459Z",
     "shell.execute_reply": "2024-01-31T08:59:29.623594Z"
    },
    "papermill": {
     "duration": 0.022371,
     "end_time": "2024-01-31T08:59:29.626383",
     "exception": false,
     "start_time": "2024-01-31T08:59:29.604012",
     "status": "completed"
    },
    "tags": []
   },
   "outputs": [],
   "source": [
    "train_dataloader = create_dataloader(train_dataset, BATCH_SIZE)\n",
    "val_dataloader = create_dataloader(val_dataset, BATCH_SIZE)\n",
    "test_dataloader = create_dataloader(test_dataset, BATCH_SIZE)"
   ]
  },
  {
   "cell_type": "code",
   "execution_count": 14,
   "id": "de3c3713",
   "metadata": {
    "execution": {
     "iopub.execute_input": "2024-01-31T08:59:29.656752Z",
     "iopub.status.busy": "2024-01-31T08:59:29.656454Z",
     "iopub.status.idle": "2024-01-31T08:59:29.972932Z",
     "shell.execute_reply": "2024-01-31T08:59:29.972014Z"
    },
    "papermill": {
     "duration": 0.333442,
     "end_time": "2024-01-31T08:59:29.974912",
     "exception": false,
     "start_time": "2024-01-31T08:59:29.641470",
     "status": "completed"
    },
    "tags": []
   },
   "outputs": [
    {
     "data": {
      "text/plain": [
       "9"
      ]
     },
     "execution_count": 14,
     "metadata": {},
     "output_type": "execute_result"
    }
   ],
   "source": [
    "gc.collect()"
   ]
  },
  {
   "cell_type": "code",
   "execution_count": 15,
   "id": "77392cbd",
   "metadata": {
    "execution": {
     "iopub.execute_input": "2024-01-31T08:59:30.005197Z",
     "iopub.status.busy": "2024-01-31T08:59:30.004815Z",
     "iopub.status.idle": "2024-01-31T08:59:30.009957Z",
     "shell.execute_reply": "2024-01-31T08:59:30.009022Z"
    },
    "papermill": {
     "duration": 0.022821,
     "end_time": "2024-01-31T08:59:30.012057",
     "exception": false,
     "start_time": "2024-01-31T08:59:29.989236",
     "status": "completed"
    },
    "tags": []
   },
   "outputs": [],
   "source": [
    "def number_parameters(model):\n",
    "    \"\"\"\n",
    "    Computes the number of trainable parameters in the model\n",
    "    \"\"\"\n",
    "    return sum(p.numel() for p in model.parameters() if p.requires_grad)"
   ]
  },
  {
   "cell_type": "markdown",
   "id": "da5b287e",
   "metadata": {
    "papermill": {
     "duration": 0.013789,
     "end_time": "2024-01-31T08:59:30.041298",
     "exception": false,
     "start_time": "2024-01-31T08:59:30.027509",
     "status": "completed"
    },
    "tags": []
   },
   "source": [
    "# 0-A Text-Only"
   ]
  },
  {
   "cell_type": "code",
   "execution_count": 16,
   "id": "ad340417",
   "metadata": {
    "execution": {
     "iopub.execute_input": "2024-01-31T08:59:30.071959Z",
     "iopub.status.busy": "2024-01-31T08:59:30.071609Z",
     "iopub.status.idle": "2024-01-31T08:59:30.079477Z",
     "shell.execute_reply": "2024-01-31T08:59:30.078567Z"
    },
    "papermill": {
     "duration": 0.025341,
     "end_time": "2024-01-31T08:59:30.081589",
     "exception": false,
     "start_time": "2024-01-31T08:59:30.056248",
     "status": "completed"
    },
    "tags": []
   },
   "outputs": [],
   "source": [
    "class TextModel(nn.Module):\n",
    "    \"\"\"\n",
    "    Class for the text-only model\n",
    "    \"\"\"\n",
    "    def __init__(self, tokenizer, embedder, head):\n",
    "        \"\"\"\n",
    "        Args:\n",
    "            tokenizer: tokenizer to use\n",
    "            embedder: embedder to use\n",
    "            head: head to use\n",
    "        \"\"\"\n",
    "        super().__init__()\n",
    "        self.tokenizer = tokenizer\n",
    "        self.embedder = embedder\n",
    "        self.head = head\n",
    "    def forward(self, texts, audio_features, audio_attention):\n",
    "        \"\"\"\n",
    "        Forward pass of the model\n",
    "        Args:\n",
    "            texts: texts to use\n",
    "            audio_features: audio features to use\n",
    "            audio_attentions: audio attentions to use\n",
    "        \"\"\"\n",
    "        tokenizer_output = self.tokenizer(texts, return_tensors='pt', padding=True, truncation=False).to(device)\n",
    "        embedder_output = self.embedder(**tokenizer_output, output_hidden_states=True)\n",
    "        text_features = embedder_output['last_hidden_state']\n",
    "\n",
    "        # pooling transformer output\n",
    "        text_features_sum = (text_features * tokenizer_output.attention_mask.unsqueeze(-1)).sum(axis=1)\n",
    "        text_features_pooled = text_features_sum / tokenizer_output.attention_mask.sum(axis=1).unsqueeze(-1)\n",
    "        return self.head(text_features_pooled)"
   ]
  },
  {
   "cell_type": "markdown",
   "id": "4a89b77e",
   "metadata": {
    "papermill": {
     "duration": 0.016439,
     "end_time": "2024-01-31T08:59:30.114164",
     "exception": false,
     "start_time": "2024-01-31T08:59:30.097725",
     "status": "completed"
    },
    "tags": []
   },
   "source": [
    "# 0-B Audio-Only"
   ]
  },
  {
   "cell_type": "code",
   "execution_count": 17,
   "id": "ed97d25a",
   "metadata": {
    "execution": {
     "iopub.execute_input": "2024-01-31T08:59:30.148552Z",
     "iopub.status.busy": "2024-01-31T08:59:30.148142Z",
     "iopub.status.idle": "2024-01-31T08:59:30.158835Z",
     "shell.execute_reply": "2024-01-31T08:59:30.158018Z"
    },
    "papermill": {
     "duration": 0.030392,
     "end_time": "2024-01-31T08:59:30.161004",
     "exception": false,
     "start_time": "2024-01-31T08:59:30.130612",
     "status": "completed"
    },
    "tags": []
   },
   "outputs": [],
   "source": [
    "class AudioModel(nn.Module):        \n",
    "    \"\"\"\n",
    "    Class for the audio-only model\n",
    "    \"\"\"\n",
    "    def __init__(self, transformer, head, dropout_prob=0.1):\n",
    "        \"\"\"\n",
    "        Args:\n",
    "            transformer: transformer to use\n",
    "            head: head to use\n",
    "        \"\"\"\n",
    "        super().__init__()\n",
    "        self.pos_encoder = PositionalEncoding(EMBEDDING_DIM, dual_modality=False)\n",
    "        self.transformer = transformer\n",
    "        self.head = head\n",
    "        self.ln = LayerNorm(EMBEDDING_DIM)\n",
    "        self.dropout = nn.Dropout(dropout_prob)\n",
    "        \n",
    "    def forward(self, texts, audio_features, audio_attention):\n",
    "        global hard_debug\n",
    "        \"\"\"\n",
    "        Forward pass of the model\n",
    "        Args:\n",
    "            texts: texts to use\n",
    "            audio_features: audio features to use\n",
    "            audio_attentions: audio attentions to use\n",
    "        \"\"\"\n",
    "        padding_mask = ~audio_attention.to(torch.bool)        \n",
    "        full_attention_mask = torch.zeros((audio_features.shape[1],audio_features.shape[1]), dtype=torch.bool).to(device)\n",
    "        \n",
    "        audio_features = self.pos_encoder(audio_features)\n",
    "        \n",
    "        transformer_output = self.transformer(audio_features, mask=full_attention_mask, src_key_padding_mask=padding_mask)\n",
    "        \n",
    "        # Dropout and LayerNorm to help training phase\n",
    "        transformer_output = self.dropout(transformer_output)\n",
    "        transformer_output = self.ln(audio_features + transformer_output)\n",
    "\n",
    "        transformer_output_sum = (transformer_output * audio_attention.unsqueeze(-1)).sum(axis=1)\n",
    "        transformer_output_pooled = transformer_output_sum / audio_attention.sum(axis=1).unsqueeze(-1)\n",
    "\n",
    "        return self.head(transformer_output_pooled)"
   ]
  },
  {
   "cell_type": "markdown",
   "id": "ef7c7429",
   "metadata": {
    "papermill": {
     "duration": 0.016163,
     "end_time": "2024-01-31T08:59:30.193468",
     "exception": false,
     "start_time": "2024-01-31T08:59:30.177305",
     "status": "completed"
    },
    "tags": []
   },
   "source": [
    "# 1 - Multimodal-Transformer"
   ]
  },
  {
   "cell_type": "code",
   "execution_count": 18,
   "id": "ac605501",
   "metadata": {
    "execution": {
     "iopub.execute_input": "2024-01-31T08:59:30.228086Z",
     "iopub.status.busy": "2024-01-31T08:59:30.227692Z",
     "iopub.status.idle": "2024-01-31T08:59:30.239919Z",
     "shell.execute_reply": "2024-01-31T08:59:30.238942Z"
    },
    "papermill": {
     "duration": 0.032287,
     "end_time": "2024-01-31T08:59:30.242151",
     "exception": false,
     "start_time": "2024-01-31T08:59:30.209864",
     "status": "completed"
    },
    "tags": []
   },
   "outputs": [],
   "source": [
    "class MultiModalTransformer(nn.Module):\n",
    "    \"\"\"\n",
    "    Class for the multimodal transformer model\n",
    "    \"\"\"\n",
    "    def __init__(self, tokenizer, embedder, transformer, head, hidden_state_index=8):\n",
    "        \"\"\"\n",
    "        Args:\n",
    "            tokenizer: tokenizer to use\n",
    "            embedder: embedder to use\n",
    "            transformer: transformer to use\n",
    "            head: head to use\n",
    "        \"\"\"\n",
    "        super().__init__()\n",
    "        self.pos_encoder = PositionalEncoding(EMBEDDING_DIM, dual_modality=False)\n",
    "        self.tokenizer = tokenizer\n",
    "        self.embedder = embedder\n",
    "        self.transformer = transformer\n",
    "        self.head = head\n",
    "        self.hidden_state_index = hidden_state_index\n",
    "\n",
    "    def forward(self, texts, audio_features, audio_attentions):\n",
    "        \"\"\"\n",
    "        Forward pass of the model\n",
    "        Args:\n",
    "            texts: texts to use\n",
    "            audio_features: audio features to use\n",
    "            audio_attentions: audio attentions to use\n",
    "        \"\"\"\n",
    "        tokenizer_output = self.tokenizer(texts, return_tensors='pt', padding=True, truncation=False).to(device)\n",
    "        embedder_output = self.embedder(**tokenizer_output, output_hidden_states=True)\n",
    "        if self.hidden_state_index == -1:\n",
    "            text_features = embedder_output['last_hidden_state']\n",
    "        else:\n",
    "            assert self.hidden_state_index < len(embedder_output['hidden_states']), f'hidden_state_index must be between 0 and {len(embedder_output[\"hidden_states\"])}'\n",
    "            text_features = embedder_output['hidden_states'][self.hidden_state_index]\n",
    "        text_attentions = tokenizer_output.attention_mask\n",
    "\n",
    "        concatenated_attentions = torch.cat((text_attentions, audio_attentions.float()), dim=1)\n",
    "        \n",
    "        audio_features = self.pos_encoder(audio_features)\n",
    "        \n",
    "        concatenated_features = torch.cat((text_features, audio_features), dim=1)\n",
    "\n",
    "        transformer_output = self.transformer(concatenated_features, text_attentions, audio_attentions)\n",
    "\n",
    "        # pooling of transformer output        \n",
    "        transformer_output_sum = (transformer_output * concatenated_attentions.unsqueeze(-1)).sum(axis=1)\n",
    "        transformer_output_pooled = transformer_output_sum / concatenated_attentions.sum(axis=1).unsqueeze(-1)\n",
    "        return self.head(transformer_output_pooled)"
   ]
  },
  {
   "cell_type": "markdown",
   "id": "49f78698",
   "metadata": {
    "papermill": {
     "duration": 0.015416,
     "end_time": "2024-01-31T08:59:30.273613",
     "exception": false,
     "start_time": "2024-01-31T08:59:30.258197",
     "status": "completed"
    },
    "tags": []
   },
   "source": [
    "# 2 - Ensembling-Fusion"
   ]
  },
  {
   "cell_type": "code",
   "execution_count": 19,
   "id": "5b6c7935",
   "metadata": {
    "execution": {
     "iopub.execute_input": "2024-01-31T08:59:30.306503Z",
     "iopub.status.busy": "2024-01-31T08:59:30.306099Z",
     "iopub.status.idle": "2024-01-31T08:59:30.315638Z",
     "shell.execute_reply": "2024-01-31T08:59:30.314652Z"
    },
    "papermill": {
     "duration": 0.028492,
     "end_time": "2024-01-31T08:59:30.317740",
     "exception": false,
     "start_time": "2024-01-31T08:59:30.289248",
     "status": "completed"
    },
    "tags": []
   },
   "outputs": [],
   "source": [
    " class EnsemblingFusion(nn.Module):\n",
    "    \"\"\"\n",
    "    Class for the ensembling model\n",
    "    \"\"\"\n",
    "    def __init__(self, text_model, audio_model, lower_bound=0.3, upper_bound=0.7):\n",
    "        \"\"\"\n",
    "        Args:\n",
    "            text_model: text model to use\n",
    "            audio_model: audio model to use\n",
    "            lower_bound: lower bound for the weight\n",
    "            upper_bound: upper bound for the weight\n",
    "        \"\"\"\n",
    "        super().__init__()\n",
    "        self.text_model = text_model\n",
    "        self.audio_model = audio_model\n",
    "        # weight to balance the two models, 0 because (tanh(0)+1)/2 = 0.5 => equal weight to both models\n",
    "        self.weight = torch.nn.Parameter(torch.tensor(0.0))\n",
    "        self.lower_bound = lower_bound\n",
    "        self.upper_bound = upper_bound\n",
    "        \n",
    "    def forward(self, texts, audio_features, audio_attentions):\n",
    "        \"\"\"\n",
    "        Forward pass of the model\n",
    "        Args:\n",
    "            texts: texts to use\n",
    "            audio_features: audio features to use\n",
    "            audio_attentions: audio attentions to use\n",
    "        \"\"\"\n",
    "        text_logits = self.text_model(texts, audio_features, audio_attentions)\n",
    "        audio_logits = self.audio_model(texts, audio_features, audio_attentions)\n",
    "        \n",
    "        text_probabilities = torch.nn.functional.softmax(text_logits)\n",
    "        audio_probabilities = torch.nn.functional.softmax(audio_logits)\n",
    "        \n",
    "        # coefficient to balance the two models based on weight learned\n",
    "        # (tanh + 1) / 2 to have values in [0,1]\n",
    "        coefficient = (torch.tanh(self.weight) + 1) / 2\n",
    "        # next step is to have values in [lower_bound, upper_bound] to avoid too much imbalance\n",
    "        coefficient = coefficient * (self.upper_bound - self.lower_bound) + self.lower_bound\n",
    "        \n",
    "        return coefficient*text_probabilities + (1-coefficient)*audio_probabilities"
   ]
  },
  {
   "cell_type": "markdown",
   "id": "00659b07",
   "metadata": {
    "papermill": {
     "duration": 0.015227,
     "end_time": "2024-01-31T08:59:30.348549",
     "exception": false,
     "start_time": "2024-01-31T08:59:30.333322",
     "status": "completed"
    },
    "tags": []
   },
   "source": [
    "# 3 - Unaligned Multimodal Model"
   ]
  },
  {
   "cell_type": "code",
   "execution_count": 20,
   "id": "9ac387d3",
   "metadata": {
    "execution": {
     "iopub.execute_input": "2024-01-31T08:59:30.380806Z",
     "iopub.status.busy": "2024-01-31T08:59:30.380494Z",
     "iopub.status.idle": "2024-01-31T08:59:30.402645Z",
     "shell.execute_reply": "2024-01-31T08:59:30.401734Z"
    },
    "papermill": {
     "duration": 0.04098,
     "end_time": "2024-01-31T08:59:30.404484",
     "exception": false,
     "start_time": "2024-01-31T08:59:30.363504",
     "status": "completed"
    },
    "tags": []
   },
   "outputs": [],
   "source": [
    "class UnalignedPositionwiseFeedForward(nn.Module):\n",
    "    \"\"\"\n",
    "    Class for the positionwise feed forward layer\n",
    "    \"\"\"\n",
    "    def __init__(self, d_model, d_ffn, dropout_prob = 0.1):\n",
    "        \"\"\"\n",
    "        Args:\n",
    "            d_model: dimension of the model\n",
    "            d_ffn: dimension of the feed forward layer\n",
    "            dropout_prob: dropout to use\n",
    "        \"\"\"\n",
    "        super().__init__()\n",
    "        self.w_1 = nn.Linear(d_model, d_ffn)\n",
    "        self.w_2 = nn.Linear(d_ffn, d_model)\n",
    "        self.dropout = nn.Dropout(dropout_prob)\n",
    "\n",
    "    def forward(self, x):\n",
    "        \"\"\"\n",
    "        Forward pass of the model\n",
    "        Args:\n",
    "            x: input to use\n",
    "        \"\"\"\n",
    "        return self.w_2(self.dropout(self.w_1(x).relu()))\n",
    "\n",
    "class CrossModalAttentionBlock(nn.Module):\n",
    "    \"\"\"\n",
    "    Class for the cross modal attention block\n",
    "    \"\"\"\n",
    "    def __init__(self, embedding_dim, d_ffn, num_heads=4, dropout_prob=0.1):\n",
    "        \"\"\"\n",
    "        Args:\n",
    "            embedding_dim: dimension of the embedding\n",
    "            d_ffn: dimension of the feed forward layer\n",
    "            num_heads: number of heads to use\n",
    "            dropout_prob: dropout to use\n",
    "        \"\"\"\n",
    "        super().__init__()\n",
    "        self.embedding_dim = embedding_dim\n",
    "        self.d_ffn = d_ffn\n",
    "        self.num_heads = num_heads\n",
    "        self.dropout_prob = dropout_prob\n",
    "        self.layer_norm = nn.LayerNorm(self.embedding_dim)\n",
    "        self.mh_attention = nn.MultiheadAttention(embed_dim=self.embedding_dim, num_heads=self.num_heads, dropout=self.dropout_prob, batch_first=True)\n",
    "        self.pointwise_ff = UnalignedPositionwiseFeedForward(self.embedding_dim, d_ffn=self.d_ffn)\n",
    "    \n",
    "    def forward(self, elem_a, elem_b, attn_mask):\n",
    "        \"\"\"\n",
    "        Forward pass of the model\n",
    "        Args:\n",
    "            elem_a: elements of the modality A\n",
    "            elem_b: elements of the modality B\n",
    "            attn_mask: attention mask to use\n",
    "        \"\"\"\n",
    "        elem_a = self.layer_norm(elem_a)\n",
    "        elem_b = self.layer_norm(elem_b)\n",
    "        attn_mask = attn_mask.to(torch.float32)\n",
    "        \n",
    "        # cross modal attention with elem_a as query and elem_b as key and value\n",
    "        mh_out, _ = self.mh_attention(elem_a, elem_b, elem_b, key_padding_mask=attn_mask, need_weights=False)\n",
    "        # residual connection\n",
    "        add_out = mh_out + elem_a\n",
    "        \n",
    "        add_out_norm = self.layer_norm(add_out)\n",
    "        out_ffn = self.pointwise_ff(add_out_norm)\n",
    "        out = out_ffn + add_out\n",
    "        return out\n",
    "    \n",
    "class UnalignedMultimodalModel(nn.Module):\n",
    "    \"\"\"\n",
    "    Class for the unaligned multimodal model\n",
    "    \"\"\"\n",
    "    def __init__(self, embedding_dim, d_ffn, n_blocks, head, dropout_prob=0.1, hidden_state_index=8):\n",
    "        \"\"\"\n",
    "        Args:\n",
    "            embedding_dim: dimension of the embedding\n",
    "            d_ffn: dimension of the feed forward layer\n",
    "            n_blocks: number of blocks to use\n",
    "            head: head to use\n",
    "        \"\"\"\n",
    "        super().__init__()\n",
    "        self.embedding_dim = embedding_dim\n",
    "        self.d_ffn = d_ffn\n",
    "        self.n_blocks = n_blocks\n",
    "        self.head = head\n",
    "        self.dropout_prob = dropout_prob\n",
    "        self.text_crossmodal_blocks = nn.ModuleList([\n",
    "            CrossModalAttentionBlock(self.embedding_dim, self.d_ffn, dropout_prob=self.dropout_prob) for _ in range(self.n_blocks)\n",
    "        ])\n",
    "        self.audio_crossmodal_blocks = nn.ModuleList([\n",
    "            CrossModalAttentionBlock(self.embedding_dim, self.d_ffn,  dropout_prob=self.dropout_prob) for _ in range(self.n_blocks)\n",
    "        ])\n",
    "        self.pos_encoder = PositionalEncoding(embedding_dim, dual_modality=False)\n",
    "        self.hidden_state_index = hidden_state_index\n",
    "    \n",
    "    def forward(self, texts, audio_features, audio_attentions):\n",
    "        \"\"\"\n",
    "        Forward pass of the model\n",
    "        Args:\n",
    "            texts: texts to use\n",
    "            audio_features: audio features to use\n",
    "            audio_attentions: audio attentions to use\n",
    "        \"\"\"\n",
    "        tokenizer_output = tokenizer(texts, return_tensors='pt', padding=True, truncation=False).to(device)\n",
    "        embedder_output = embedder(**tokenizer_output, output_hidden_states=True)\n",
    "        if self.hidden_state_index == -1:\n",
    "            text_features = embedder_output['last_hidden_state']\n",
    "        else:\n",
    "            assert self.hidden_state_index < len(embedder_output['hidden_states']), f'hidden_state_index must be between 0 and {len(embedder_output[\"hidden_states\"])}'\n",
    "            text_features = embedder_output['hidden_states'][self.hidden_state_index]\n",
    "        text_features = self.pos_encoder(text_features)\n",
    "        text_attentions = tokenizer_output.attention_mask\n",
    "        \n",
    "        audio_features = self.pos_encoder(audio_features)\n",
    "        \n",
    "        # cross modal attention blocks for text\n",
    "        # using audio features as key and value and text features as query\n",
    "        text_crossmodal_out = text_features\n",
    "        for cm_block in self.text_crossmodal_blocks:\n",
    "            text_crossmodal_out = cm_block(text_crossmodal_out, audio_features, audio_attentions)\n",
    "        \n",
    "        # cross modal attention blocks for audio\n",
    "        # using text features as key and value and audio features as query\n",
    "        audio_crossmodal_out = audio_features\n",
    "        for cm_block in self.audio_crossmodal_blocks:\n",
    "            audio_crossmodal_out = cm_block(audio_crossmodal_out, text_features, text_attentions)\n",
    "\n",
    "        # pooling of transformer output\n",
    "        text_crossmodal_out_mean = torch.mean(text_crossmodal_out, dim=1)\n",
    "        audio_crossmodal_out_mean = torch.mean(audio_crossmodal_out, dim=1)\n",
    "        \n",
    "        # concatenate text and audio features\n",
    "        text_audio = torch.cat((text_crossmodal_out_mean, audio_crossmodal_out_mean), dim=-1)\n",
    "        \n",
    "        return self.head(text_audio)"
   ]
  },
  {
   "cell_type": "markdown",
   "id": "28b8741c",
   "metadata": {
    "papermill": {
     "duration": 0.014355,
     "end_time": "2024-01-31T08:59:30.433934",
     "exception": false,
     "start_time": "2024-01-31T08:59:30.419579",
     "status": "completed"
    },
    "tags": []
   },
   "source": [
    "# Training of the models"
   ]
  },
  {
   "cell_type": "code",
   "execution_count": 21,
   "id": "3937199f",
   "metadata": {
    "execution": {
     "iopub.execute_input": "2024-01-31T08:59:30.465194Z",
     "iopub.status.busy": "2024-01-31T08:59:30.464613Z",
     "iopub.status.idle": "2024-01-31T08:59:30.480955Z",
     "shell.execute_reply": "2024-01-31T08:59:30.480010Z"
    },
    "papermill": {
     "duration": 0.034204,
     "end_time": "2024-01-31T08:59:30.483029",
     "exception": false,
     "start_time": "2024-01-31T08:59:30.448825",
     "status": "completed"
    },
    "tags": []
   },
   "outputs": [],
   "source": [
    "def create_models(\n",
    "        head_hidden_dimension=256, dropout_prob=0.2, hidden_state_index=6,   # shared parameters\n",
    "        audioonly_nheads=8, audioonly_d_ffn=100, audioonly_n_layers=1, # audio only parameters\n",
    "        multimodal_nheads=4, multimodal_d_ffn=2048, multimodal_n_layers=1, # multimodal parameters\n",
    "        ensembling_nheads=4, ensembling_d_ffn=2048, ensembling_n_layers=1, # ensembling parameters\n",
    "        unaligned_nblocks=4, unaligned_d_ffn=2048 # unaligned parameters\n",
    "    ):\n",
    "    \"\"\"\n",
    "    Creates all the models\n",
    "    \"\"\"\n",
    "    ###################################################################################### -- TEXT MODEL --\n",
    "    text_only_head = nn.Sequential(\n",
    "        nn.Linear(EMBEDDING_DIM, head_hidden_dimension),\n",
    "        nn.ReLU(),\n",
    "        nn.Linear(head_hidden_dimension, MODEL_NUM_LABELS)\n",
    "    ).to(device)\n",
    "    text_only = TextModel(tokenizer, embedder, text_only_head)\n",
    "\n",
    "\n",
    "    ###################################################################################### -- AUDIO MODEL --   \n",
    "    audio_only_head = nn.Sequential(\n",
    "        nn.Linear(EMBEDDING_DIM, head_hidden_dimension),\n",
    "        nn.ReLU(),\n",
    "        nn.Linear(head_hidden_dimension, MODEL_NUM_LABELS)\n",
    "    ).to(device)\n",
    "    audio_only_transformer_layer = nn.TransformerEncoderLayer(d_model=EMBEDDING_DIM, nhead=audioonly_nheads, dim_feedforward=audioonly_d_ffn, batch_first=True).to(device)\n",
    "    audio_only_transformer_encoder = nn.TransformerEncoder(audio_only_transformer_layer, num_layers=audioonly_n_layers).to(device)\n",
    "    audio_only = AudioModel(audio_only_transformer_encoder, audio_only_head).to(device)\n",
    "\n",
    "\n",
    "    ###################################################################################### -- MULTIMODAL MODEL --\n",
    "    multimodal_encoder = CustomEncoder(d_model=EMBEDDING_DIM, ffn_hidden=multimodal_d_ffn, n_head=multimodal_nheads, n_layers=multimodal_n_layers, drop_prob=dropout_prob)\n",
    "    multimodal_transformer_head = nn.Sequential(\n",
    "        nn.Linear(EMBEDDING_DIM, head_hidden_dimension),\n",
    "        nn.ReLU(),\n",
    "        nn.Linear(head_hidden_dimension, MODEL_NUM_LABELS)\n",
    "    ).to(device)\n",
    "    multimodal_transformer = MultiModalTransformer(tokenizer, embedder, multimodal_encoder, multimodal_transformer_head, hidden_state_index=hidden_state_index).to(device)\n",
    "\n",
    "\n",
    "    ###################################################################################### -- ENSEMBLING MODEL --\n",
    "    ensembling_text_head = nn.Sequential(\n",
    "        nn.Linear(EMBEDDING_DIM, head_hidden_dimension),\n",
    "        nn.ReLU(),\n",
    "        nn.Linear(head_hidden_dimension, MODEL_NUM_LABELS)\n",
    "    ).to(device)\n",
    "    ensembling_audio_head = nn.Sequential(\n",
    "        nn.Linear(EMBEDDING_DIM, head_hidden_dimension),\n",
    "        nn.ReLU(),\n",
    "        nn.Linear(head_hidden_dimension, MODEL_NUM_LABELS)\n",
    "    ).to(device)\n",
    "    ensembling_transformer_layer = nn.TransformerEncoderLayer(d_model=EMBEDDING_DIM, nhead=ensembling_nheads, dim_feedforward=ensembling_d_ffn, batch_first=True).to(device)\n",
    "    ensembling_transformer_encoder = nn.TransformerEncoder(ensembling_transformer_layer, num_layers=ensembling_n_layers).to(device)\n",
    "    ensembling_text_model = TextModel(tokenizer, embedder, ensembling_text_head)\n",
    "    ensembling_audio_model = AudioModel(ensembling_transformer_encoder, ensembling_audio_head)\n",
    "    ensembling_fusion = EnsemblingFusion(ensembling_text_model, ensembling_audio_model).to(device)\n",
    "\n",
    "\n",
    "    ###################################################################################### -- UNALIGNED MODEL --\n",
    "    unaligned_head = nn.Sequential(\n",
    "        nn.Linear(EMBEDDING_DIM*2, head_hidden_dimension),\n",
    "        nn.ReLU(),\n",
    "        nn.Linear(head_hidden_dimension, MODEL_NUM_LABELS)\n",
    "    ).to(device)\n",
    "    unaligned_mm_model = UnalignedMultimodalModel(embedding_dim=EMBEDDING_DIM, d_ffn=unaligned_d_ffn, n_blocks=unaligned_nblocks, head=unaligned_head, hidden_state_index=hidden_state_index, dropout_prob=dropout_prob).to(device)\n",
    "    \n",
    "\n",
    "    ###################################################################################### -- RETURN --\n",
    "    model_names = ['text_only', 'audio_only', 'multimodal', 'ensembling', 'unaligned']\n",
    "    models = [text_only, audio_only, multimodal_transformer, ensembling_fusion, unaligned_mm_model ]    \n",
    "    return model_names, models"
   ]
  },
  {
   "cell_type": "code",
   "execution_count": 22,
   "id": "a2fdaa9a",
   "metadata": {
    "execution": {
     "iopub.execute_input": "2024-01-31T08:59:30.514445Z",
     "iopub.status.busy": "2024-01-31T08:59:30.513816Z",
     "iopub.status.idle": "2024-01-31T16:07:03.263053Z",
     "shell.execute_reply": "2024-01-31T16:07:03.262054Z"
    },
    "papermill": {
     "duration": 25652.799413,
     "end_time": "2024-01-31T16:07:03.297414",
     "exception": false,
     "start_time": "2024-01-31T08:59:30.498001",
     "status": "completed"
    },
    "tags": []
   },
   "outputs": [
    {
     "name": "stdout",
     "output_type": "stream",
     "text": [
      "========================================TRAINING WITH SEED 1========================================\n",
      "\n",
      "______________________________________Training model text_only______________________________________\n"
     ]
    },
    {
     "name": "stderr",
     "output_type": "stream",
     "text": [
      " 10%|█         | 1/10 [01:00<09:01, 60.12s/it]"
     ]
    },
    {
     "name": "stdout",
     "output_type": "stream",
     "text": [
      "Epoch: 0, Training Loss: 0.0495, Validation Loss: 0.0516, accuracy = 0.6849, F1=0.6754\n"
     ]
    },
    {
     "name": "stderr",
     "output_type": "stream",
     "text": [
      " 20%|██        | 2/10 [01:59<07:56, 59.62s/it]"
     ]
    },
    {
     "name": "stdout",
     "output_type": "stream",
     "text": [
      "Epoch: 1, Training Loss: 0.0473, Validation Loss: 0.0514, accuracy = 0.6770, F1=0.6729\n"
     ]
    },
    {
     "name": "stderr",
     "output_type": "stream",
     "text": [
      " 30%|███       | 3/10 [02:57<06:54, 59.15s/it]"
     ]
    },
    {
     "name": "stdout",
     "output_type": "stream",
     "text": [
      "Epoch: 2, Training Loss: 0.0470, Validation Loss: 0.0508, accuracy = 0.6845, F1=0.6813\n"
     ]
    },
    {
     "name": "stderr",
     "output_type": "stream",
     "text": [
      " 40%|████      | 4/10 [03:57<05:55, 59.32s/it]"
     ]
    },
    {
     "name": "stdout",
     "output_type": "stream",
     "text": [
      "Epoch: 3, Training Loss: 0.0464, Validation Loss: 0.0497, accuracy = 0.6831, F1=0.6811\n"
     ]
    },
    {
     "name": "stderr",
     "output_type": "stream",
     "text": [
      " 50%|█████     | 5/10 [04:56<04:56, 59.32s/it]"
     ]
    },
    {
     "name": "stdout",
     "output_type": "stream",
     "text": [
      "Epoch: 4, Training Loss: 0.0461, Validation Loss: 0.0512, accuracy = 0.6783, F1=0.6647\n"
     ]
    },
    {
     "name": "stderr",
     "output_type": "stream",
     "text": [
      " 60%|██████    | 6/10 [05:56<03:57, 59.30s/it]"
     ]
    },
    {
     "name": "stdout",
     "output_type": "stream",
     "text": [
      "Epoch: 5, Training Loss: 0.0456, Validation Loss: 0.0509, accuracy = 0.6808, F1=0.6803\n"
     ]
    },
    {
     "name": "stderr",
     "output_type": "stream",
     "text": [
      " 70%|███████   | 7/10 [06:55<02:57, 59.26s/it]"
     ]
    },
    {
     "name": "stdout",
     "output_type": "stream",
     "text": [
      "Epoch: 6, Training Loss: 0.0455, Validation Loss: 0.0495, accuracy = 0.6803, F1=0.6802\n"
     ]
    },
    {
     "name": "stderr",
     "output_type": "stream",
     "text": [
      " 80%|████████  | 8/10 [07:54<01:58, 59.31s/it]"
     ]
    },
    {
     "name": "stdout",
     "output_type": "stream",
     "text": [
      "Epoch: 7, Training Loss: 0.0452, Validation Loss: 0.0499, accuracy = 0.6887, F1=0.6845\n"
     ]
    },
    {
     "name": "stderr",
     "output_type": "stream",
     "text": [
      " 90%|█████████ | 9/10 [08:55<00:59, 59.71s/it]"
     ]
    },
    {
     "name": "stdout",
     "output_type": "stream",
     "text": [
      "Epoch: 8, Training Loss: 0.0451, Validation Loss: 0.0502, accuracy = 0.6866, F1=0.6854\n"
     ]
    },
    {
     "name": "stderr",
     "output_type": "stream",
     "text": [
      "100%|██████████| 10/10 [09:55<00:00, 59.56s/it]"
     ]
    },
    {
     "name": "stdout",
     "output_type": "stream",
     "text": [
      "Epoch: 9, Training Loss: 0.0445, Validation Loss: 0.0499, accuracy = 0.6835, F1=0.6834\n"
     ]
    },
    {
     "name": "stderr",
     "output_type": "stream",
     "text": [
      "\n"
     ]
    },
    {
     "name": "stdout",
     "output_type": "stream",
     "text": [
      "[VAL] Model: text_only - acc: 0.6803 - f1: 0.6802\n",
      "[TEST] Model: text_only - acc: 0.6833 - f1: 0.6830\n",
      "\n",
      "_____________________________________Training model audio_only______________________________________\n"
     ]
    },
    {
     "name": "stderr",
     "output_type": "stream",
     "text": [
      " 10%|█         | 1/10 [00:40<06:05, 40.60s/it]"
     ]
    },
    {
     "name": "stdout",
     "output_type": "stream",
     "text": [
      "Epoch: 0, Training Loss: 0.0581, Validation Loss: 0.0578, accuracy = 0.5178, F1=0.5171\n"
     ]
    },
    {
     "name": "stderr",
     "output_type": "stream",
     "text": [
      " 20%|██        | 2/10 [01:20<05:21, 40.14s/it]"
     ]
    },
    {
     "name": "stdout",
     "output_type": "stream",
     "text": [
      "Epoch: 1, Training Loss: 0.0577, Validation Loss: 0.0581, accuracy = 0.4639, F1=0.3589\n"
     ]
    },
    {
     "name": "stderr",
     "output_type": "stream",
     "text": [
      " 30%|███       | 3/10 [01:59<04:38, 39.81s/it]"
     ]
    },
    {
     "name": "stdout",
     "output_type": "stream",
     "text": [
      "Epoch: 2, Training Loss: 0.0577, Validation Loss: 0.0578, accuracy = 0.5297, F1=0.5143\n"
     ]
    },
    {
     "name": "stderr",
     "output_type": "stream",
     "text": [
      " 40%|████      | 4/10 [02:39<03:59, 39.90s/it]"
     ]
    },
    {
     "name": "stdout",
     "output_type": "stream",
     "text": [
      "Epoch: 3, Training Loss: 0.0576, Validation Loss: 0.0579, accuracy = 0.5201, F1=0.5158\n"
     ]
    },
    {
     "name": "stderr",
     "output_type": "stream",
     "text": [
      " 50%|█████     | 5/10 [03:19<03:18, 39.76s/it]"
     ]
    },
    {
     "name": "stdout",
     "output_type": "stream",
     "text": [
      "Epoch 00005: reducing learning rate of group 0 to 1.0000e-05.\n",
      "Epoch: 4, Training Loss: 0.0576, Validation Loss: 0.0581, accuracy = 0.5435, F1=0.4143\n"
     ]
    },
    {
     "name": "stderr",
     "output_type": "stream",
     "text": [
      " 60%|██████    | 6/10 [03:58<02:38, 39.62s/it]"
     ]
    },
    {
     "name": "stdout",
     "output_type": "stream",
     "text": [
      "Epoch: 5, Training Loss: 0.0576, Validation Loss: 0.0579, accuracy = 0.5187, F1=0.5179\n"
     ]
    },
    {
     "name": "stderr",
     "output_type": "stream",
     "text": [
      " 70%|███████   | 7/10 [04:38<01:58, 39.63s/it]"
     ]
    },
    {
     "name": "stdout",
     "output_type": "stream",
     "text": [
      "Epoch: 6, Training Loss: 0.0575, Validation Loss: 0.0578, accuracy = 0.5295, F1=0.5121\n"
     ]
    },
    {
     "name": "stderr",
     "output_type": "stream",
     "text": [
      " 80%|████████  | 8/10 [05:18<01:19, 39.68s/it]"
     ]
    },
    {
     "name": "stdout",
     "output_type": "stream",
     "text": [
      "Epoch: 7, Training Loss: 0.0575, Validation Loss: 0.0578, accuracy = 0.5289, F1=0.5132\n"
     ]
    },
    {
     "name": "stderr",
     "output_type": "stream",
     "text": [
      " 90%|█████████ | 9/10 [05:57<00:39, 39.59s/it]"
     ]
    },
    {
     "name": "stdout",
     "output_type": "stream",
     "text": [
      "Epoch 00009: reducing learning rate of group 0 to 1.0000e-06.\n",
      "Epoch: 8, Training Loss: 0.0575, Validation Loss: 0.0578, accuracy = 0.5257, F1=0.5135\n"
     ]
    },
    {
     "name": "stderr",
     "output_type": "stream",
     "text": [
      "100%|██████████| 10/10 [06:36<00:00, 39.70s/it]"
     ]
    },
    {
     "name": "stdout",
     "output_type": "stream",
     "text": [
      "Epoch: 9, Training Loss: 0.0575, Validation Loss: 0.0578, accuracy = 0.5259, F1=0.5138\n"
     ]
    },
    {
     "name": "stderr",
     "output_type": "stream",
     "text": [
      "\n"
     ]
    },
    {
     "name": "stdout",
     "output_type": "stream",
     "text": [
      "[VAL] Model: audio_only - acc: 0.5178 - f1: 0.5171\n",
      "[TEST] Model: audio_only - acc: 0.5403 - f1: 0.5402\n",
      "\n",
      "_____________________________________Training model multimodal______________________________________\n"
     ]
    },
    {
     "name": "stderr",
     "output_type": "stream",
     "text": [
      " 10%|█         | 1/10 [01:35<14:19, 95.51s/it]"
     ]
    },
    {
     "name": "stdout",
     "output_type": "stream",
     "text": [
      "Epoch: 0, Training Loss: 0.0488, Validation Loss: 0.0509, accuracy = 0.7020, F1=0.6922\n"
     ]
    },
    {
     "name": "stderr",
     "output_type": "stream",
     "text": [
      " 20%|██        | 2/10 [03:10<12:41, 95.18s/it]"
     ]
    },
    {
     "name": "stdout",
     "output_type": "stream",
     "text": [
      "Epoch: 1, Training Loss: 0.0446, Validation Loss: 0.0487, accuracy = 0.7026, F1=0.7008\n"
     ]
    },
    {
     "name": "stderr",
     "output_type": "stream",
     "text": [
      " 30%|███       | 3/10 [04:44<11:04, 94.89s/it]"
     ]
    },
    {
     "name": "stdout",
     "output_type": "stream",
     "text": [
      "Epoch: 2, Training Loss: 0.0425, Validation Loss: 0.0513, accuracy = 0.7058, F1=0.7051\n"
     ]
    },
    {
     "name": "stderr",
     "output_type": "stream",
     "text": [
      " 40%|████      | 4/10 [06:20<09:30, 95.13s/it]"
     ]
    },
    {
     "name": "stdout",
     "output_type": "stream",
     "text": [
      "Epoch: 3, Training Loss: 0.0409, Validation Loss: 0.0493, accuracy = 0.7116, F1=0.7087\n"
     ]
    },
    {
     "name": "stderr",
     "output_type": "stream",
     "text": [
      " 50%|█████     | 5/10 [07:54<07:54, 94.83s/it]"
     ]
    },
    {
     "name": "stdout",
     "output_type": "stream",
     "text": [
      "Epoch: 4, Training Loss: 0.0393, Validation Loss: 0.0514, accuracy = 0.6985, F1=0.6940\n"
     ]
    },
    {
     "name": "stderr",
     "output_type": "stream",
     "text": [
      " 60%|██████    | 6/10 [09:29<06:18, 94.73s/it]"
     ]
    },
    {
     "name": "stdout",
     "output_type": "stream",
     "text": [
      "Epoch 00006: reducing learning rate of group 0 to 1.0000e-05.\n",
      "Epoch: 5, Training Loss: 0.0379, Validation Loss: 0.0517, accuracy = 0.7024, F1=0.6977\n"
     ]
    },
    {
     "name": "stderr",
     "output_type": "stream",
     "text": [
      " 70%|███████   | 7/10 [11:03<04:43, 94.65s/it]"
     ]
    },
    {
     "name": "stdout",
     "output_type": "stream",
     "text": [
      "Epoch: 6, Training Loss: 0.0337, Validation Loss: 0.0542, accuracy = 0.7006, F1=0.6987\n"
     ]
    },
    {
     "name": "stderr",
     "output_type": "stream",
     "text": [
      " 80%|████████  | 8/10 [12:37<03:08, 94.46s/it]"
     ]
    },
    {
     "name": "stdout",
     "output_type": "stream",
     "text": [
      "Epoch: 7, Training Loss: 0.0327, Validation Loss: 0.0552, accuracy = 0.7008, F1=0.6989\n"
     ]
    },
    {
     "name": "stderr",
     "output_type": "stream",
     "text": [
      " 90%|█████████ | 9/10 [14:12<01:34, 94.47s/it]"
     ]
    },
    {
     "name": "stdout",
     "output_type": "stream",
     "text": [
      "Epoch: 8, Training Loss: 0.0317, Validation Loss: 0.0579, accuracy = 0.6987, F1=0.6966\n"
     ]
    },
    {
     "name": "stderr",
     "output_type": "stream",
     "text": [
      "100%|██████████| 10/10 [15:47<00:00, 94.73s/it]"
     ]
    },
    {
     "name": "stdout",
     "output_type": "stream",
     "text": [
      "Epoch 00010: reducing learning rate of group 0 to 1.0000e-06.\n",
      "Epoch: 9, Training Loss: 0.0314, Validation Loss: 0.0577, accuracy = 0.6981, F1=0.6961\n"
     ]
    },
    {
     "name": "stderr",
     "output_type": "stream",
     "text": [
      "\n"
     ]
    },
    {
     "name": "stdout",
     "output_type": "stream",
     "text": [
      "[VAL] Model: multimodal - acc: 0.7026 - f1: 0.7008\n",
      "[TEST] Model: multimodal - acc: 0.6909 - f1: 0.6905\n",
      "\n",
      "_____________________________________Training model ensembling______________________________________\n"
     ]
    },
    {
     "name": "stderr",
     "output_type": "stream",
     "text": [
      " 10%|█         | 1/10 [01:30<13:32, 90.26s/it]"
     ]
    },
    {
     "name": "stdout",
     "output_type": "stream",
     "text": [
      "Epoch: 0, Training Loss: 0.0522, Validation Loss: 0.0513, accuracy = 0.6776, F1=0.6730\n"
     ]
    },
    {
     "name": "stderr",
     "output_type": "stream",
     "text": [
      " 20%|██        | 2/10 [03:00<12:02, 90.27s/it]"
     ]
    },
    {
     "name": "stdout",
     "output_type": "stream",
     "text": [
      "Epoch: 1, Training Loss: 0.0489, Validation Loss: 0.0508, accuracy = 0.6768, F1=0.6763\n"
     ]
    },
    {
     "name": "stderr",
     "output_type": "stream",
     "text": [
      " 30%|███       | 3/10 [04:29<10:28, 89.79s/it]"
     ]
    },
    {
     "name": "stdout",
     "output_type": "stream",
     "text": [
      "Epoch: 2, Training Loss: 0.0483, Validation Loss: 0.0505, accuracy = 0.6828, F1=0.6805\n"
     ]
    },
    {
     "name": "stderr",
     "output_type": "stream",
     "text": [
      " 40%|████      | 4/10 [06:00<09:00, 90.06s/it]"
     ]
    },
    {
     "name": "stdout",
     "output_type": "stream",
     "text": [
      "Epoch: 3, Training Loss: 0.0476, Validation Loss: 0.0504, accuracy = 0.6839, F1=0.6813\n"
     ]
    },
    {
     "name": "stderr",
     "output_type": "stream",
     "text": [
      " 50%|█████     | 5/10 [07:30<07:29, 90.00s/it]"
     ]
    },
    {
     "name": "stdout",
     "output_type": "stream",
     "text": [
      "Epoch: 4, Training Loss: 0.0474, Validation Loss: 0.0505, accuracy = 0.6831, F1=0.6769\n"
     ]
    },
    {
     "name": "stderr",
     "output_type": "stream",
     "text": [
      " 60%|██████    | 6/10 [09:00<06:00, 90.10s/it]"
     ]
    },
    {
     "name": "stdout",
     "output_type": "stream",
     "text": [
      "Epoch: 5, Training Loss: 0.0470, Validation Loss: 0.0505, accuracy = 0.6814, F1=0.6764\n"
     ]
    },
    {
     "name": "stderr",
     "output_type": "stream",
     "text": [
      " 70%|███████   | 7/10 [10:30<04:30, 90.21s/it]"
     ]
    },
    {
     "name": "stdout",
     "output_type": "stream",
     "text": [
      "Epoch: 6, Training Loss: 0.0470, Validation Loss: 0.0509, accuracy = 0.6731, F1=0.6725\n"
     ]
    },
    {
     "name": "stderr",
     "output_type": "stream",
     "text": [
      " 80%|████████  | 8/10 [12:00<03:00, 90.14s/it]"
     ]
    },
    {
     "name": "stdout",
     "output_type": "stream",
     "text": [
      "Epoch: 7, Training Loss: 0.0468, Validation Loss: 0.0500, accuracy = 0.6841, F1=0.6827\n"
     ]
    },
    {
     "name": "stderr",
     "output_type": "stream",
     "text": [
      " 90%|█████████ | 9/10 [13:31<01:30, 90.18s/it]"
     ]
    },
    {
     "name": "stdout",
     "output_type": "stream",
     "text": [
      "Epoch: 8, Training Loss: 0.0465, Validation Loss: 0.0503, accuracy = 0.6876, F1=0.6827\n"
     ]
    },
    {
     "name": "stderr",
     "output_type": "stream",
     "text": [
      "100%|██████████| 10/10 [15:01<00:00, 90.19s/it]"
     ]
    },
    {
     "name": "stdout",
     "output_type": "stream",
     "text": [
      "Epoch: 9, Training Loss: 0.0464, Validation Loss: 0.0502, accuracy = 0.6833, F1=0.6821\n"
     ]
    },
    {
     "name": "stderr",
     "output_type": "stream",
     "text": [
      "\n"
     ]
    },
    {
     "name": "stdout",
     "output_type": "stream",
     "text": [
      "[VAL] Model: ensembling - acc: 0.6841 - f1: 0.6827\n",
      "[TEST] Model: ensembling - acc: 0.6792 - f1: 0.6789\n",
      "\n",
      "______________________________________Training model unaligned______________________________________\n"
     ]
    },
    {
     "name": "stderr",
     "output_type": "stream",
     "text": [
      " 10%|█         | 1/10 [03:15<29:15, 195.00s/it]"
     ]
    },
    {
     "name": "stdout",
     "output_type": "stream",
     "text": [
      "Epoch: 0, Training Loss: 0.0508, Validation Loss: 0.0511, accuracy = 0.6951, F1=0.6851\n"
     ]
    },
    {
     "name": "stderr",
     "output_type": "stream",
     "text": [
      " 20%|██        | 2/10 [06:30<26:02, 195.25s/it]"
     ]
    },
    {
     "name": "stdout",
     "output_type": "stream",
     "text": [
      "Epoch: 1, Training Loss: 0.0458, Validation Loss: 0.0482, accuracy = 0.7118, F1=0.7081\n"
     ]
    },
    {
     "name": "stderr",
     "output_type": "stream",
     "text": [
      " 30%|███       | 3/10 [09:44<22:42, 194.60s/it]"
     ]
    },
    {
     "name": "stdout",
     "output_type": "stream",
     "text": [
      "Epoch: 2, Training Loss: 0.0443, Validation Loss: 0.0488, accuracy = 0.7116, F1=0.7100\n"
     ]
    },
    {
     "name": "stderr",
     "output_type": "stream",
     "text": [
      " 40%|████      | 4/10 [13:00<19:32, 195.38s/it]"
     ]
    },
    {
     "name": "stdout",
     "output_type": "stream",
     "text": [
      "Epoch: 3, Training Loss: 0.0431, Validation Loss: 0.0483, accuracy = 0.7095, F1=0.7088\n"
     ]
    },
    {
     "name": "stderr",
     "output_type": "stream",
     "text": [
      " 50%|█████     | 5/10 [16:16<16:16, 195.32s/it]"
     ]
    },
    {
     "name": "stdout",
     "output_type": "stream",
     "text": [
      "Epoch: 4, Training Loss: 0.0421, Validation Loss: 0.0512, accuracy = 0.6979, F1=0.6845\n"
     ]
    },
    {
     "name": "stderr",
     "output_type": "stream",
     "text": [
      " 60%|██████    | 6/10 [19:31<13:01, 195.32s/it]"
     ]
    },
    {
     "name": "stdout",
     "output_type": "stream",
     "text": [
      "Epoch 00006: reducing learning rate of group 0 to 1.0000e-05.\n",
      "Epoch: 5, Training Loss: 0.0405, Validation Loss: 0.0507, accuracy = 0.6997, F1=0.6989\n"
     ]
    },
    {
     "name": "stderr",
     "output_type": "stream",
     "text": [
      " 70%|███████   | 7/10 [22:46<09:45, 195.23s/it]"
     ]
    },
    {
     "name": "stdout",
     "output_type": "stream",
     "text": [
      "Epoch: 6, Training Loss: 0.0368, Validation Loss: 0.0512, accuracy = 0.6991, F1=0.6986\n"
     ]
    },
    {
     "name": "stderr",
     "output_type": "stream",
     "text": [
      " 80%|████████  | 8/10 [26:00<06:29, 194.92s/it]"
     ]
    },
    {
     "name": "stdout",
     "output_type": "stream",
     "text": [
      "Epoch: 7, Training Loss: 0.0359, Validation Loss: 0.0517, accuracy = 0.7026, F1=0.7006\n"
     ]
    },
    {
     "name": "stderr",
     "output_type": "stream",
     "text": [
      " 90%|█████████ | 9/10 [29:15<03:14, 194.78s/it]"
     ]
    },
    {
     "name": "stdout",
     "output_type": "stream",
     "text": [
      "Epoch: 8, Training Loss: 0.0355, Validation Loss: 0.0524, accuracy = 0.7018, F1=0.7003\n"
     ]
    },
    {
     "name": "stderr",
     "output_type": "stream",
     "text": [
      "100%|██████████| 10/10 [32:29<00:00, 194.97s/it]"
     ]
    },
    {
     "name": "stdout",
     "output_type": "stream",
     "text": [
      "Epoch 00010: reducing learning rate of group 0 to 1.0000e-06.\n",
      "Epoch: 9, Training Loss: 0.0347, Validation Loss: 0.0536, accuracy = 0.7002, F1=0.6989\n"
     ]
    },
    {
     "name": "stderr",
     "output_type": "stream",
     "text": [
      "\n"
     ]
    },
    {
     "name": "stdout",
     "output_type": "stream",
     "text": [
      "[VAL] Model: unaligned - acc: 0.7079 - f1: 0.7044\n",
      "[TEST] Model: unaligned - acc: 0.6957 - f1: 0.6937\n",
      "\n",
      "=======================================TRAINING WITH SEED 42========================================\n",
      "\n",
      "______________________________________Training model text_only______________________________________\n"
     ]
    },
    {
     "name": "stderr",
     "output_type": "stream",
     "text": [
      " 10%|█         | 1/10 [01:00<09:05, 60.62s/it]"
     ]
    },
    {
     "name": "stdout",
     "output_type": "stream",
     "text": [
      "Epoch: 0, Training Loss: 0.0502, Validation Loss: 0.0503, accuracy = 0.6854, F1=0.6840\n"
     ]
    },
    {
     "name": "stderr",
     "output_type": "stream",
     "text": [
      " 20%|██        | 2/10 [02:00<08:00, 60.07s/it]"
     ]
    },
    {
     "name": "stdout",
     "output_type": "stream",
     "text": [
      "Epoch: 1, Training Loss: 0.0476, Validation Loss: 0.0505, accuracy = 0.6839, F1=0.6772\n"
     ]
    },
    {
     "name": "stderr",
     "output_type": "stream",
     "text": [
      " 30%|███       | 3/10 [03:00<07:00, 60.08s/it]"
     ]
    },
    {
     "name": "stdout",
     "output_type": "stream",
     "text": [
      "Epoch: 2, Training Loss: 0.0466, Validation Loss: 0.0502, accuracy = 0.6826, F1=0.6821\n"
     ]
    },
    {
     "name": "stderr",
     "output_type": "stream",
     "text": [
      " 40%|████      | 4/10 [04:01<06:02, 60.41s/it]"
     ]
    },
    {
     "name": "stdout",
     "output_type": "stream",
     "text": [
      "Epoch: 3, Training Loss: 0.0460, Validation Loss: 0.0499, accuracy = 0.6853, F1=0.6833\n"
     ]
    },
    {
     "name": "stderr",
     "output_type": "stream",
     "text": [
      " 50%|█████     | 5/10 [05:01<05:02, 60.50s/it]"
     ]
    },
    {
     "name": "stdout",
     "output_type": "stream",
     "text": [
      "Epoch: 4, Training Loss: 0.0458, Validation Loss: 0.0509, accuracy = 0.6793, F1=0.6793\n"
     ]
    },
    {
     "name": "stderr",
     "output_type": "stream",
     "text": [
      " 60%|██████    | 6/10 [06:02<04:01, 60.50s/it]"
     ]
    },
    {
     "name": "stdout",
     "output_type": "stream",
     "text": [
      "Epoch: 5, Training Loss: 0.0452, Validation Loss: 0.0497, accuracy = 0.6895, F1=0.6858\n"
     ]
    },
    {
     "name": "stderr",
     "output_type": "stream",
     "text": [
      " 70%|███████   | 7/10 [07:02<03:01, 60.46s/it]"
     ]
    },
    {
     "name": "stdout",
     "output_type": "stream",
     "text": [
      "Epoch: 6, Training Loss: 0.0448, Validation Loss: 0.0531, accuracy = 0.6783, F1=0.6593\n"
     ]
    },
    {
     "name": "stderr",
     "output_type": "stream",
     "text": [
      " 80%|████████  | 8/10 [08:03<02:00, 60.41s/it]"
     ]
    },
    {
     "name": "stdout",
     "output_type": "stream",
     "text": [
      "Epoch: 7, Training Loss: 0.0447, Validation Loss: 0.0498, accuracy = 0.6887, F1=0.6877\n"
     ]
    },
    {
     "name": "stderr",
     "output_type": "stream",
     "text": [
      " 90%|█████████ | 9/10 [09:03<01:00, 60.41s/it]"
     ]
    },
    {
     "name": "stdout",
     "output_type": "stream",
     "text": [
      "Epoch: 8, Training Loss: 0.0443, Validation Loss: 0.0504, accuracy = 0.6889, F1=0.6883\n"
     ]
    },
    {
     "name": "stderr",
     "output_type": "stream",
     "text": [
      "100%|██████████| 10/10 [10:03<00:00, 60.38s/it]"
     ]
    },
    {
     "name": "stdout",
     "output_type": "stream",
     "text": [
      "Epoch 00010: reducing learning rate of group 0 to 1.0000e-05.\n",
      "Epoch: 9, Training Loss: 0.0439, Validation Loss: 0.0512, accuracy = 0.6843, F1=0.6721\n"
     ]
    },
    {
     "name": "stderr",
     "output_type": "stream",
     "text": [
      "\n"
     ]
    },
    {
     "name": "stdout",
     "output_type": "stream",
     "text": [
      "[VAL] Model: text_only - acc: 0.6895 - f1: 0.6858\n",
      "[TEST] Model: text_only - acc: 0.6813 - f1: 0.6796\n",
      "\n",
      "_____________________________________Training model audio_only______________________________________\n"
     ]
    },
    {
     "name": "stderr",
     "output_type": "stream",
     "text": [
      " 10%|█         | 1/10 [00:41<06:10, 41.12s/it]"
     ]
    },
    {
     "name": "stdout",
     "output_type": "stream",
     "text": [
      "Epoch: 0, Training Loss: 0.0580, Validation Loss: 0.0581, accuracy = 0.4626, F1=0.3508\n"
     ]
    },
    {
     "name": "stderr",
     "output_type": "stream",
     "text": [
      " 20%|██        | 2/10 [01:21<05:24, 40.51s/it]"
     ]
    },
    {
     "name": "stdout",
     "output_type": "stream",
     "text": [
      "Epoch: 1, Training Loss: 0.0578, Validation Loss: 0.0577, accuracy = 0.5297, F1=0.5143\n"
     ]
    },
    {
     "name": "stderr",
     "output_type": "stream",
     "text": [
      " 30%|███       | 3/10 [02:02<04:45, 40.80s/it]"
     ]
    },
    {
     "name": "stdout",
     "output_type": "stream",
     "text": [
      "Epoch: 2, Training Loss: 0.0577, Validation Loss: 0.0579, accuracy = 0.4972, F1=0.4892\n"
     ]
    },
    {
     "name": "stderr",
     "output_type": "stream",
     "text": [
      " 40%|████      | 4/10 [02:43<04:04, 40.82s/it]"
     ]
    },
    {
     "name": "stdout",
     "output_type": "stream",
     "text": [
      "Epoch: 3, Training Loss: 0.0577, Validation Loss: 0.0578, accuracy = 0.5386, F1=0.5049\n"
     ]
    },
    {
     "name": "stderr",
     "output_type": "stream",
     "text": [
      " 50%|█████     | 5/10 [03:24<03:24, 40.93s/it]"
     ]
    },
    {
     "name": "stdout",
     "output_type": "stream",
     "text": [
      "Epoch: 4, Training Loss: 0.0576, Validation Loss: 0.0578, accuracy = 0.5251, F1=0.5158\n"
     ]
    },
    {
     "name": "stderr",
     "output_type": "stream",
     "text": [
      " 60%|██████    | 6/10 [04:04<02:43, 40.84s/it]"
     ]
    },
    {
     "name": "stdout",
     "output_type": "stream",
     "text": [
      "Epoch 00006: reducing learning rate of group 0 to 1.0000e-05.\n",
      "Epoch: 5, Training Loss: 0.0576, Validation Loss: 0.0578, accuracy = 0.5239, F1=0.5226\n"
     ]
    },
    {
     "name": "stderr",
     "output_type": "stream",
     "text": [
      " 70%|███████   | 7/10 [04:46<02:02, 40.94s/it]"
     ]
    },
    {
     "name": "stdout",
     "output_type": "stream",
     "text": [
      "Epoch: 6, Training Loss: 0.0575, Validation Loss: 0.0578, accuracy = 0.5303, F1=0.5126\n"
     ]
    },
    {
     "name": "stderr",
     "output_type": "stream",
     "text": [
      " 80%|████████  | 8/10 [05:26<01:21, 40.90s/it]"
     ]
    },
    {
     "name": "stdout",
     "output_type": "stream",
     "text": [
      "Epoch: 7, Training Loss: 0.0575, Validation Loss: 0.0578, accuracy = 0.5278, F1=0.5134\n"
     ]
    },
    {
     "name": "stderr",
     "output_type": "stream",
     "text": [
      " 90%|█████████ | 9/10 [06:07<00:40, 40.88s/it]"
     ]
    },
    {
     "name": "stdout",
     "output_type": "stream",
     "text": [
      "Epoch: 8, Training Loss: 0.0575, Validation Loss: 0.0578, accuracy = 0.5249, F1=0.5165\n"
     ]
    },
    {
     "name": "stderr",
     "output_type": "stream",
     "text": [
      "100%|██████████| 10/10 [06:48<00:00, 40.88s/it]"
     ]
    },
    {
     "name": "stdout",
     "output_type": "stream",
     "text": [
      "Epoch 00010: reducing learning rate of group 0 to 1.0000e-06.\n",
      "Epoch: 9, Training Loss: 0.0575, Validation Loss: 0.0578, accuracy = 0.5268, F1=0.5140\n"
     ]
    },
    {
     "name": "stderr",
     "output_type": "stream",
     "text": [
      "\n"
     ]
    },
    {
     "name": "stdout",
     "output_type": "stream",
     "text": [
      "[VAL] Model: audio_only - acc: 0.5297 - f1: 0.5143\n",
      "[TEST] Model: audio_only - acc: 0.5482 - f1: 0.5372\n",
      "\n",
      "_____________________________________Training model multimodal______________________________________\n"
     ]
    },
    {
     "name": "stderr",
     "output_type": "stream",
     "text": [
      " 10%|█         | 1/10 [01:35<14:23, 95.94s/it]"
     ]
    },
    {
     "name": "stdout",
     "output_type": "stream",
     "text": [
      "Epoch: 0, Training Loss: 0.0484, Validation Loss: 0.0488, accuracy = 0.7033, F1=0.7031\n"
     ]
    },
    {
     "name": "stderr",
     "output_type": "stream",
     "text": [
      " 20%|██        | 2/10 [03:10<12:42, 95.27s/it]"
     ]
    },
    {
     "name": "stdout",
     "output_type": "stream",
     "text": [
      "Epoch: 1, Training Loss: 0.0448, Validation Loss: 0.0484, accuracy = 0.7068, F1=0.7021\n"
     ]
    },
    {
     "name": "stderr",
     "output_type": "stream",
     "text": [
      " 30%|███       | 3/10 [04:46<11:08, 95.47s/it]"
     ]
    },
    {
     "name": "stdout",
     "output_type": "stream",
     "text": [
      "Epoch: 2, Training Loss: 0.0428, Validation Loss: 0.0491, accuracy = 0.6979, F1=0.6979\n"
     ]
    },
    {
     "name": "stderr",
     "output_type": "stream",
     "text": [
      " 40%|████      | 4/10 [06:22<09:33, 95.64s/it]"
     ]
    },
    {
     "name": "stdout",
     "output_type": "stream",
     "text": [
      "Epoch: 3, Training Loss: 0.0409, Validation Loss: 0.0492, accuracy = 0.7001, F1=0.6979\n"
     ]
    },
    {
     "name": "stderr",
     "output_type": "stream",
     "text": [
      " 50%|█████     | 5/10 [07:58<07:58, 95.69s/it]"
     ]
    },
    {
     "name": "stdout",
     "output_type": "stream",
     "text": [
      "Epoch: 4, Training Loss: 0.0393, Validation Loss: 0.0528, accuracy = 0.6933, F1=0.6932\n"
     ]
    },
    {
     "name": "stderr",
     "output_type": "stream",
     "text": [
      " 60%|██████    | 6/10 [09:33<06:22, 95.55s/it]"
     ]
    },
    {
     "name": "stdout",
     "output_type": "stream",
     "text": [
      "Epoch 00006: reducing learning rate of group 0 to 1.0000e-05.\n",
      "Epoch: 5, Training Loss: 0.0379, Validation Loss: 0.0519, accuracy = 0.6960, F1=0.6936\n"
     ]
    },
    {
     "name": "stderr",
     "output_type": "stream",
     "text": [
      " 70%|███████   | 7/10 [11:09<04:46, 95.66s/it]"
     ]
    },
    {
     "name": "stdout",
     "output_type": "stream",
     "text": [
      "Epoch: 6, Training Loss: 0.0334, Validation Loss: 0.0582, accuracy = 0.6962, F1=0.6931\n"
     ]
    },
    {
     "name": "stderr",
     "output_type": "stream",
     "text": [
      " 80%|████████  | 8/10 [12:45<03:11, 95.98s/it]"
     ]
    },
    {
     "name": "stdout",
     "output_type": "stream",
     "text": [
      "Epoch: 7, Training Loss: 0.0325, Validation Loss: 0.0588, accuracy = 0.6978, F1=0.6963\n"
     ]
    },
    {
     "name": "stderr",
     "output_type": "stream",
     "text": [
      " 90%|█████████ | 9/10 [14:21<01:35, 95.87s/it]"
     ]
    },
    {
     "name": "stdout",
     "output_type": "stream",
     "text": [
      "Epoch: 8, Training Loss: 0.0314, Validation Loss: 0.0602, accuracy = 0.6914, F1=0.6896\n"
     ]
    },
    {
     "name": "stderr",
     "output_type": "stream",
     "text": [
      "100%|██████████| 10/10 [15:57<00:00, 95.72s/it]"
     ]
    },
    {
     "name": "stdout",
     "output_type": "stream",
     "text": [
      "Epoch 00010: reducing learning rate of group 0 to 1.0000e-06.\n",
      "Epoch: 9, Training Loss: 0.0309, Validation Loss: 0.0618, accuracy = 0.6906, F1=0.6895\n"
     ]
    },
    {
     "name": "stderr",
     "output_type": "stream",
     "text": [
      "\n"
     ]
    },
    {
     "name": "stdout",
     "output_type": "stream",
     "text": [
      "[VAL] Model: multimodal - acc: 0.7068 - f1: 0.7021\n",
      "[TEST] Model: multimodal - acc: 0.6923 - f1: 0.6893\n",
      "\n",
      "_____________________________________Training model ensembling______________________________________\n"
     ]
    },
    {
     "name": "stderr",
     "output_type": "stream",
     "text": [
      " 10%|█         | 1/10 [01:30<13:38, 90.91s/it]"
     ]
    },
    {
     "name": "stdout",
     "output_type": "stream",
     "text": [
      "Epoch: 0, Training Loss: 0.0519, Validation Loss: 0.0513, accuracy = 0.6756, F1=0.6748\n"
     ]
    },
    {
     "name": "stderr",
     "output_type": "stream",
     "text": [
      " 20%|██        | 2/10 [03:00<12:03, 90.38s/it]"
     ]
    },
    {
     "name": "stdout",
     "output_type": "stream",
     "text": [
      "Epoch: 1, Training Loss: 0.0489, Validation Loss: 0.0509, accuracy = 0.6822, F1=0.6769\n"
     ]
    },
    {
     "name": "stderr",
     "output_type": "stream",
     "text": [
      " 30%|███       | 3/10 [04:31<10:33, 90.53s/it]"
     ]
    },
    {
     "name": "stdout",
     "output_type": "stream",
     "text": [
      "Epoch: 2, Training Loss: 0.0482, Validation Loss: 0.0505, accuracy = 0.6816, F1=0.6811\n"
     ]
    },
    {
     "name": "stderr",
     "output_type": "stream",
     "text": [
      " 40%|████      | 4/10 [06:02<09:03, 90.62s/it]"
     ]
    },
    {
     "name": "stdout",
     "output_type": "stream",
     "text": [
      "Epoch: 3, Training Loss: 0.0477, Validation Loss: 0.0504, accuracy = 0.6854, F1=0.6828\n"
     ]
    },
    {
     "name": "stderr",
     "output_type": "stream",
     "text": [
      " 50%|█████     | 5/10 [07:33<07:33, 90.78s/it]"
     ]
    },
    {
     "name": "stdout",
     "output_type": "stream",
     "text": [
      "Epoch: 4, Training Loss: 0.0474, Validation Loss: 0.0509, accuracy = 0.6803, F1=0.6803\n"
     ]
    },
    {
     "name": "stderr",
     "output_type": "stream",
     "text": [
      " 60%|██████    | 6/10 [09:04<06:03, 90.76s/it]"
     ]
    },
    {
     "name": "stdout",
     "output_type": "stream",
     "text": [
      "Epoch: 5, Training Loss: 0.0472, Validation Loss: 0.0505, accuracy = 0.6824, F1=0.6765\n"
     ]
    },
    {
     "name": "stderr",
     "output_type": "stream",
     "text": [
      " 70%|███████   | 7/10 [10:34<04:32, 90.69s/it]"
     ]
    },
    {
     "name": "stdout",
     "output_type": "stream",
     "text": [
      "Epoch: 6, Training Loss: 0.0469, Validation Loss: 0.0517, accuracy = 0.6766, F1=0.6590\n"
     ]
    },
    {
     "name": "stderr",
     "output_type": "stream",
     "text": [
      " 80%|████████  | 8/10 [12:06<03:01, 90.89s/it]"
     ]
    },
    {
     "name": "stdout",
     "output_type": "stream",
     "text": [
      "Epoch: 7, Training Loss: 0.0468, Validation Loss: 0.0502, accuracy = 0.6820, F1=0.6810\n"
     ]
    },
    {
     "name": "stderr",
     "output_type": "stream",
     "text": [
      " 90%|█████████ | 9/10 [13:36<01:30, 90.89s/it]"
     ]
    },
    {
     "name": "stdout",
     "output_type": "stream",
     "text": [
      "Epoch: 8, Training Loss: 0.0466, Validation Loss: 0.0503, accuracy = 0.6851, F1=0.6847\n"
     ]
    },
    {
     "name": "stderr",
     "output_type": "stream",
     "text": [
      "100%|██████████| 10/10 [15:08<00:00, 90.81s/it]"
     ]
    },
    {
     "name": "stdout",
     "output_type": "stream",
     "text": [
      "Epoch: 9, Training Loss: 0.0465, Validation Loss: 0.0508, accuracy = 0.6841, F1=0.6757\n"
     ]
    },
    {
     "name": "stderr",
     "output_type": "stream",
     "text": [
      "\n"
     ]
    },
    {
     "name": "stdout",
     "output_type": "stream",
     "text": [
      "[VAL] Model: ensembling - acc: 0.6820 - f1: 0.6810\n",
      "[TEST] Model: ensembling - acc: 0.6818 - f1: 0.6816\n",
      "\n",
      "______________________________________Training model unaligned______________________________________\n"
     ]
    },
    {
     "name": "stderr",
     "output_type": "stream",
     "text": [
      " 10%|█         | 1/10 [03:15<29:17, 195.24s/it]"
     ]
    },
    {
     "name": "stdout",
     "output_type": "stream",
     "text": [
      "Epoch: 0, Training Loss: 0.0509, Validation Loss: 0.0487, accuracy = 0.6935, F1=0.6935\n"
     ]
    },
    {
     "name": "stderr",
     "output_type": "stream",
     "text": [
      " 20%|██        | 2/10 [06:28<25:51, 193.89s/it]"
     ]
    },
    {
     "name": "stdout",
     "output_type": "stream",
     "text": [
      "Epoch: 1, Training Loss: 0.0464, Validation Loss: 0.0557, accuracy = 0.6762, F1=0.6508\n"
     ]
    },
    {
     "name": "stderr",
     "output_type": "stream",
     "text": [
      " 30%|███       | 3/10 [09:42<22:39, 194.25s/it]"
     ]
    },
    {
     "name": "stdout",
     "output_type": "stream",
     "text": [
      "Epoch: 2, Training Loss: 0.0448, Validation Loss: 0.0474, accuracy = 0.7106, F1=0.7101\n"
     ]
    },
    {
     "name": "stderr",
     "output_type": "stream",
     "text": [
      " 40%|████      | 4/10 [12:57<19:26, 194.49s/it]"
     ]
    },
    {
     "name": "stdout",
     "output_type": "stream",
     "text": [
      "Epoch: 3, Training Loss: 0.0437, Validation Loss: 0.0475, accuracy = 0.7085, F1=0.7083\n"
     ]
    },
    {
     "name": "stderr",
     "output_type": "stream",
     "text": [
      " 50%|█████     | 5/10 [16:12<16:12, 194.53s/it]"
     ]
    },
    {
     "name": "stdout",
     "output_type": "stream",
     "text": [
      "Epoch: 4, Training Loss: 0.0432, Validation Loss: 0.0486, accuracy = 0.6964, F1=0.6963\n"
     ]
    },
    {
     "name": "stderr",
     "output_type": "stream",
     "text": [
      " 60%|██████    | 6/10 [19:26<12:57, 194.35s/it]"
     ]
    },
    {
     "name": "stdout",
     "output_type": "stream",
     "text": [
      "Epoch: 5, Training Loss: 0.0420, Validation Loss: 0.0485, accuracy = 0.7051, F1=0.7034\n"
     ]
    },
    {
     "name": "stderr",
     "output_type": "stream",
     "text": [
      " 70%|███████   | 7/10 [22:39<09:42, 194.12s/it]"
     ]
    },
    {
     "name": "stdout",
     "output_type": "stream",
     "text": [
      "Epoch 00007: reducing learning rate of group 0 to 1.0000e-05.\n",
      "Epoch: 6, Training Loss: 0.0411, Validation Loss: 0.0538, accuracy = 0.7026, F1=0.6951\n"
     ]
    },
    {
     "name": "stderr",
     "output_type": "stream",
     "text": [
      " 80%|████████  | 8/10 [25:55<06:29, 194.62s/it]"
     ]
    },
    {
     "name": "stdout",
     "output_type": "stream",
     "text": [
      "Epoch: 7, Training Loss: 0.0387, Validation Loss: 0.0504, accuracy = 0.7039, F1=0.7022\n"
     ]
    },
    {
     "name": "stderr",
     "output_type": "stream",
     "text": [
      " 90%|█████████ | 9/10 [29:10<03:14, 194.76s/it]"
     ]
    },
    {
     "name": "stdout",
     "output_type": "stream",
     "text": [
      "Epoch: 8, Training Loss: 0.0380, Validation Loss: 0.0506, accuracy = 0.7056, F1=0.7042\n"
     ]
    },
    {
     "name": "stderr",
     "output_type": "stream",
     "text": [
      "100%|██████████| 10/10 [32:25<00:00, 194.55s/it]"
     ]
    },
    {
     "name": "stdout",
     "output_type": "stream",
     "text": [
      "Epoch: 9, Training Loss: 0.0378, Validation Loss: 0.0515, accuracy = 0.7045, F1=0.7033\n"
     ]
    },
    {
     "name": "stderr",
     "output_type": "stream",
     "text": [
      "\n"
     ]
    },
    {
     "name": "stdout",
     "output_type": "stream",
     "text": [
      "[VAL] Model: unaligned - acc: 0.7087 - f1: 0.7082\n",
      "[TEST] Model: unaligned - acc: 0.7004 - f1: 0.7004\n",
      "\n",
      "=======================================TRAINING WITH SEED 69========================================\n",
      "\n",
      "______________________________________Training model text_only______________________________________\n"
     ]
    },
    {
     "name": "stderr",
     "output_type": "stream",
     "text": [
      " 10%|█         | 1/10 [01:00<09:05, 60.56s/it]"
     ]
    },
    {
     "name": "stdout",
     "output_type": "stream",
     "text": [
      "Epoch: 0, Training Loss: 0.0505, Validation Loss: 0.0508, accuracy = 0.6797, F1=0.6761\n"
     ]
    },
    {
     "name": "stderr",
     "output_type": "stream",
     "text": [
      " 20%|██        | 2/10 [02:00<08:02, 60.34s/it]"
     ]
    },
    {
     "name": "stdout",
     "output_type": "stream",
     "text": [
      "Epoch: 1, Training Loss: 0.0477, Validation Loss: 0.0506, accuracy = 0.6835, F1=0.6785\n"
     ]
    },
    {
     "name": "stderr",
     "output_type": "stream",
     "text": [
      " 30%|███       | 3/10 [03:01<07:03, 60.53s/it]"
     ]
    },
    {
     "name": "stdout",
     "output_type": "stream",
     "text": [
      "Epoch: 2, Training Loss: 0.0467, Validation Loss: 0.0505, accuracy = 0.6847, F1=0.6838\n"
     ]
    },
    {
     "name": "stderr",
     "output_type": "stream",
     "text": [
      " 40%|████      | 4/10 [04:02<06:03, 60.54s/it]"
     ]
    },
    {
     "name": "stdout",
     "output_type": "stream",
     "text": [
      "Epoch: 3, Training Loss: 0.0462, Validation Loss: 0.0504, accuracy = 0.6895, F1=0.6823\n"
     ]
    },
    {
     "name": "stderr",
     "output_type": "stream",
     "text": [
      " 50%|█████     | 5/10 [05:02<05:03, 60.61s/it]"
     ]
    },
    {
     "name": "stdout",
     "output_type": "stream",
     "text": [
      "Epoch: 4, Training Loss: 0.0457, Validation Loss: 0.0498, accuracy = 0.6883, F1=0.6850\n"
     ]
    },
    {
     "name": "stderr",
     "output_type": "stream",
     "text": [
      " 60%|██████    | 6/10 [06:02<04:01, 60.47s/it]"
     ]
    },
    {
     "name": "stdout",
     "output_type": "stream",
     "text": [
      "Epoch: 5, Training Loss: 0.0456, Validation Loss: 0.0497, accuracy = 0.6912, F1=0.6898\n"
     ]
    },
    {
     "name": "stderr",
     "output_type": "stream",
     "text": [
      " 70%|███████   | 7/10 [07:03<03:01, 60.51s/it]"
     ]
    },
    {
     "name": "stdout",
     "output_type": "stream",
     "text": [
      "Epoch: 6, Training Loss: 0.0449, Validation Loss: 0.0499, accuracy = 0.6860, F1=0.6852\n"
     ]
    },
    {
     "name": "stderr",
     "output_type": "stream",
     "text": [
      " 80%|████████  | 8/10 [08:04<02:01, 60.59s/it]"
     ]
    },
    {
     "name": "stdout",
     "output_type": "stream",
     "text": [
      "Epoch: 7, Training Loss: 0.0445, Validation Loss: 0.0499, accuracy = 0.6870, F1=0.6853\n"
     ]
    },
    {
     "name": "stderr",
     "output_type": "stream",
     "text": [
      " 90%|█████████ | 9/10 [09:05<01:00, 60.68s/it]"
     ]
    },
    {
     "name": "stdout",
     "output_type": "stream",
     "text": [
      "Epoch: 8, Training Loss: 0.0443, Validation Loss: 0.0506, accuracy = 0.6770, F1=0.6769\n"
     ]
    },
    {
     "name": "stderr",
     "output_type": "stream",
     "text": [
      "100%|██████████| 10/10 [10:05<00:00, 60.59s/it]"
     ]
    },
    {
     "name": "stdout",
     "output_type": "stream",
     "text": [
      "Epoch 00010: reducing learning rate of group 0 to 1.0000e-05.\n",
      "Epoch: 9, Training Loss: 0.0439, Validation Loss: 0.0499, accuracy = 0.6818, F1=0.6813\n"
     ]
    },
    {
     "name": "stderr",
     "output_type": "stream",
     "text": [
      "\n"
     ]
    },
    {
     "name": "stdout",
     "output_type": "stream",
     "text": [
      "[VAL] Model: text_only - acc: 0.6912 - f1: 0.6898\n",
      "[TEST] Model: text_only - acc: 0.6801 - f1: 0.6797\n",
      "\n",
      "_____________________________________Training model audio_only______________________________________\n"
     ]
    },
    {
     "name": "stderr",
     "output_type": "stream",
     "text": [
      " 10%|█         | 1/10 [00:40<06:07, 40.82s/it]"
     ]
    },
    {
     "name": "stdout",
     "output_type": "stream",
     "text": [
      "Epoch: 0, Training Loss: 0.0581, Validation Loss: 0.0577, accuracy = 0.5345, F1=0.5135\n"
     ]
    },
    {
     "name": "stderr",
     "output_type": "stream",
     "text": [
      " 20%|██        | 2/10 [01:21<05:24, 40.58s/it]"
     ]
    },
    {
     "name": "stdout",
     "output_type": "stream",
     "text": [
      "Epoch: 1, Training Loss: 0.0578, Validation Loss: 0.0578, accuracy = 0.5303, F1=0.5154\n"
     ]
    },
    {
     "name": "stderr",
     "output_type": "stream",
     "text": [
      " 30%|███       | 3/10 [02:02<04:45, 40.80s/it]"
     ]
    },
    {
     "name": "stdout",
     "output_type": "stream",
     "text": [
      "Epoch: 2, Training Loss: 0.0577, Validation Loss: 0.0578, accuracy = 0.5226, F1=0.5202\n"
     ]
    },
    {
     "name": "stderr",
     "output_type": "stream",
     "text": [
      " 40%|████      | 4/10 [02:43<04:04, 40.80s/it]"
     ]
    },
    {
     "name": "stdout",
     "output_type": "stream",
     "text": [
      "Epoch: 3, Training Loss: 0.0576, Validation Loss: 0.0579, accuracy = 0.5032, F1=0.4990\n"
     ]
    },
    {
     "name": "stderr",
     "output_type": "stream",
     "text": [
      " 50%|█████     | 5/10 [03:23<03:24, 40.82s/it]"
     ]
    },
    {
     "name": "stdout",
     "output_type": "stream",
     "text": [
      "Epoch 00005: reducing learning rate of group 0 to 1.0000e-05.\n",
      "Epoch: 4, Training Loss: 0.0576, Validation Loss: 0.0578, accuracy = 0.5241, F1=0.5201\n"
     ]
    },
    {
     "name": "stderr",
     "output_type": "stream",
     "text": [
      " 60%|██████    | 6/10 [04:04<02:42, 40.68s/it]"
     ]
    },
    {
     "name": "stdout",
     "output_type": "stream",
     "text": [
      "Epoch: 5, Training Loss: 0.0575, Validation Loss: 0.0578, accuracy = 0.5320, F1=0.5123\n"
     ]
    },
    {
     "name": "stderr",
     "output_type": "stream",
     "text": [
      " 70%|███████   | 7/10 [04:44<02:01, 40.62s/it]"
     ]
    },
    {
     "name": "stdout",
     "output_type": "stream",
     "text": [
      "Epoch: 6, Training Loss: 0.0575, Validation Loss: 0.0578, accuracy = 0.5311, F1=0.5142\n"
     ]
    },
    {
     "name": "stderr",
     "output_type": "stream",
     "text": [
      " 80%|████████  | 8/10 [05:25<01:21, 40.58s/it]"
     ]
    },
    {
     "name": "stdout",
     "output_type": "stream",
     "text": [
      "Epoch: 7, Training Loss: 0.0575, Validation Loss: 0.0578, accuracy = 0.5299, F1=0.5140\n"
     ]
    },
    {
     "name": "stderr",
     "output_type": "stream",
     "text": [
      " 90%|█████████ | 9/10 [06:06<00:40, 40.62s/it]"
     ]
    },
    {
     "name": "stdout",
     "output_type": "stream",
     "text": [
      "Epoch 00009: reducing learning rate of group 0 to 1.0000e-06.\n",
      "Epoch: 8, Training Loss: 0.0575, Validation Loss: 0.0578, accuracy = 0.5301, F1=0.5139\n"
     ]
    },
    {
     "name": "stderr",
     "output_type": "stream",
     "text": [
      "100%|██████████| 10/10 [06:46<00:00, 40.70s/it]"
     ]
    },
    {
     "name": "stdout",
     "output_type": "stream",
     "text": [
      "Epoch: 9, Training Loss: 0.0575, Validation Loss: 0.0578, accuracy = 0.5287, F1=0.5137\n"
     ]
    },
    {
     "name": "stderr",
     "output_type": "stream",
     "text": [
      "\n"
     ]
    },
    {
     "name": "stdout",
     "output_type": "stream",
     "text": [
      "[VAL] Model: audio_only - acc: 0.5345 - f1: 0.5135\n",
      "[TEST] Model: audio_only - acc: 0.5472 - f1: 0.5318\n",
      "\n",
      "_____________________________________Training model multimodal______________________________________\n"
     ]
    },
    {
     "name": "stderr",
     "output_type": "stream",
     "text": [
      " 10%|█         | 1/10 [01:35<14:18, 95.34s/it]"
     ]
    },
    {
     "name": "stdout",
     "output_type": "stream",
     "text": [
      "Epoch: 0, Training Loss: 0.0485, Validation Loss: 0.0478, accuracy = 0.7039, F1=0.6996\n"
     ]
    },
    {
     "name": "stderr",
     "output_type": "stream",
     "text": [
      " 20%|██        | 2/10 [03:09<12:39, 94.91s/it]"
     ]
    },
    {
     "name": "stdout",
     "output_type": "stream",
     "text": [
      "Epoch: 1, Training Loss: 0.0447, Validation Loss: 0.0498, accuracy = 0.7097, F1=0.7070\n"
     ]
    },
    {
     "name": "stderr",
     "output_type": "stream",
     "text": [
      " 30%|███       | 3/10 [04:45<11:07, 95.39s/it]"
     ]
    },
    {
     "name": "stdout",
     "output_type": "stream",
     "text": [
      "Epoch: 2, Training Loss: 0.0431, Validation Loss: 0.0487, accuracy = 0.7058, F1=0.7031\n"
     ]
    },
    {
     "name": "stderr",
     "output_type": "stream",
     "text": [
      " 40%|████      | 4/10 [06:21<09:33, 95.51s/it]"
     ]
    },
    {
     "name": "stdout",
     "output_type": "stream",
     "text": [
      "Epoch: 3, Training Loss: 0.0416, Validation Loss: 0.0498, accuracy = 0.7058, F1=0.7030\n"
     ]
    },
    {
     "name": "stderr",
     "output_type": "stream",
     "text": [
      " 50%|█████     | 5/10 [07:57<07:57, 95.56s/it]"
     ]
    },
    {
     "name": "stdout",
     "output_type": "stream",
     "text": [
      "Epoch 00005: reducing learning rate of group 0 to 1.0000e-05.\n",
      "Epoch: 4, Training Loss: 0.0402, Validation Loss: 0.0500, accuracy = 0.7076, F1=0.7063\n"
     ]
    },
    {
     "name": "stderr",
     "output_type": "stream",
     "text": [
      " 60%|██████    | 6/10 [09:32<06:21, 95.47s/it]"
     ]
    },
    {
     "name": "stdout",
     "output_type": "stream",
     "text": [
      "Epoch: 5, Training Loss: 0.0362, Validation Loss: 0.0526, accuracy = 0.7043, F1=0.7029\n"
     ]
    },
    {
     "name": "stderr",
     "output_type": "stream",
     "text": [
      " 70%|███████   | 7/10 [11:07<04:45, 95.28s/it]"
     ]
    },
    {
     "name": "stdout",
     "output_type": "stream",
     "text": [
      "Epoch: 6, Training Loss: 0.0355, Validation Loss: 0.0535, accuracy = 0.7012, F1=0.6976\n"
     ]
    },
    {
     "name": "stderr",
     "output_type": "stream",
     "text": [
      " 80%|████████  | 8/10 [12:43<03:10, 95.38s/it]"
     ]
    },
    {
     "name": "stdout",
     "output_type": "stream",
     "text": [
      "Epoch: 7, Training Loss: 0.0346, Validation Loss: 0.0559, accuracy = 0.7008, F1=0.6982\n"
     ]
    },
    {
     "name": "stderr",
     "output_type": "stream",
     "text": [
      " 90%|█████████ | 9/10 [14:18<01:35, 95.55s/it]"
     ]
    },
    {
     "name": "stdout",
     "output_type": "stream",
     "text": [
      "Epoch 00009: reducing learning rate of group 0 to 1.0000e-06.\n",
      "Epoch: 8, Training Loss: 0.0340, Validation Loss: 0.0549, accuracy = 0.6995, F1=0.6964\n"
     ]
    },
    {
     "name": "stderr",
     "output_type": "stream",
     "text": [
      "100%|██████████| 10/10 [15:54<00:00, 95.47s/it]"
     ]
    },
    {
     "name": "stdout",
     "output_type": "stream",
     "text": [
      "Epoch: 9, Training Loss: 0.0332, Validation Loss: 0.0557, accuracy = 0.7001, F1=0.6971\n"
     ]
    },
    {
     "name": "stderr",
     "output_type": "stream",
     "text": [
      "\n"
     ]
    },
    {
     "name": "stdout",
     "output_type": "stream",
     "text": [
      "[VAL] Model: multimodal - acc: 0.7039 - f1: 0.6996\n",
      "[TEST] Model: multimodal - acc: 0.6894 - f1: 0.6867\n",
      "\n",
      "_____________________________________Training model ensembling______________________________________\n"
     ]
    },
    {
     "name": "stderr",
     "output_type": "stream",
     "text": [
      " 10%|█         | 1/10 [01:30<13:38, 90.93s/it]"
     ]
    },
    {
     "name": "stdout",
     "output_type": "stream",
     "text": [
      "Epoch: 0, Training Loss: 0.0521, Validation Loss: 0.0512, accuracy = 0.6760, F1=0.6722\n"
     ]
    },
    {
     "name": "stderr",
     "output_type": "stream",
     "text": [
      " 20%|██        | 2/10 [03:01<12:05, 90.67s/it]"
     ]
    },
    {
     "name": "stdout",
     "output_type": "stream",
     "text": [
      "Epoch: 1, Training Loss: 0.0489, Validation Loss: 0.0508, accuracy = 0.6810, F1=0.6779\n"
     ]
    },
    {
     "name": "stderr",
     "output_type": "stream",
     "text": [
      " 30%|███       | 3/10 [04:32<10:36, 90.94s/it]"
     ]
    },
    {
     "name": "stdout",
     "output_type": "stream",
     "text": [
      "Epoch: 2, Training Loss: 0.0483, Validation Loss: 0.0506, accuracy = 0.6820, F1=0.6798\n"
     ]
    },
    {
     "name": "stderr",
     "output_type": "stream",
     "text": [
      " 40%|████      | 4/10 [06:03<09:05, 90.98s/it]"
     ]
    },
    {
     "name": "stdout",
     "output_type": "stream",
     "text": [
      "Epoch: 3, Training Loss: 0.0477, Validation Loss: 0.0504, accuracy = 0.6862, F1=0.6815\n"
     ]
    },
    {
     "name": "stderr",
     "output_type": "stream",
     "text": [
      " 50%|█████     | 5/10 [07:34<07:35, 91.02s/it]"
     ]
    },
    {
     "name": "stdout",
     "output_type": "stream",
     "text": [
      "Epoch: 4, Training Loss: 0.0474, Validation Loss: 0.0502, accuracy = 0.6879, F1=0.6830\n"
     ]
    },
    {
     "name": "stderr",
     "output_type": "stream",
     "text": [
      " 60%|██████    | 6/10 [09:05<06:03, 90.93s/it]"
     ]
    },
    {
     "name": "stdout",
     "output_type": "stream",
     "text": [
      "Epoch: 5, Training Loss: 0.0471, Validation Loss: 0.0502, accuracy = 0.6853, F1=0.6840\n"
     ]
    },
    {
     "name": "stderr",
     "output_type": "stream",
     "text": [
      " 70%|███████   | 7/10 [10:36<04:32, 90.78s/it]"
     ]
    },
    {
     "name": "stdout",
     "output_type": "stream",
     "text": [
      "Epoch: 6, Training Loss: 0.0469, Validation Loss: 0.0501, accuracy = 0.6835, F1=0.6822\n"
     ]
    },
    {
     "name": "stderr",
     "output_type": "stream",
     "text": [
      " 80%|████████  | 8/10 [12:07<03:01, 90.86s/it]"
     ]
    },
    {
     "name": "stdout",
     "output_type": "stream",
     "text": [
      "Epoch: 7, Training Loss: 0.0466, Validation Loss: 0.0505, accuracy = 0.6841, F1=0.6779\n"
     ]
    },
    {
     "name": "stderr",
     "output_type": "stream",
     "text": [
      " 90%|█████████ | 9/10 [13:38<01:31, 91.04s/it]"
     ]
    },
    {
     "name": "stdout",
     "output_type": "stream",
     "text": [
      "Epoch: 8, Training Loss: 0.0465, Validation Loss: 0.0504, accuracy = 0.6783, F1=0.6783\n"
     ]
    },
    {
     "name": "stderr",
     "output_type": "stream",
     "text": [
      "100%|██████████| 10/10 [15:09<00:00, 90.95s/it]"
     ]
    },
    {
     "name": "stdout",
     "output_type": "stream",
     "text": [
      "Epoch: 9, Training Loss: 0.0467, Validation Loss: 0.0502, accuracy = 0.6803, F1=0.6799\n"
     ]
    },
    {
     "name": "stderr",
     "output_type": "stream",
     "text": [
      "\n"
     ]
    },
    {
     "name": "stdout",
     "output_type": "stream",
     "text": [
      "[VAL] Model: ensembling - acc: 0.6835 - f1: 0.6822\n",
      "[TEST] Model: ensembling - acc: 0.6804 - f1: 0.6801\n",
      "\n",
      "______________________________________Training model unaligned______________________________________\n"
     ]
    },
    {
     "name": "stderr",
     "output_type": "stream",
     "text": [
      " 10%|█         | 1/10 [03:14<29:10, 194.55s/it]"
     ]
    },
    {
     "name": "stdout",
     "output_type": "stream",
     "text": [
      "Epoch: 0, Training Loss: 0.0504, Validation Loss: 0.0522, accuracy = 0.6718, F1=0.6396\n"
     ]
    },
    {
     "name": "stderr",
     "output_type": "stream",
     "text": [
      " 20%|██        | 2/10 [06:27<25:49, 193.70s/it]"
     ]
    },
    {
     "name": "stdout",
     "output_type": "stream",
     "text": [
      "Epoch: 1, Training Loss: 0.0461, Validation Loss: 0.0493, accuracy = 0.7068, F1=0.7038\n"
     ]
    },
    {
     "name": "stderr",
     "output_type": "stream",
     "text": [
      " 30%|███       | 3/10 [09:43<22:41, 194.49s/it]"
     ]
    },
    {
     "name": "stdout",
     "output_type": "stream",
     "text": [
      "Epoch: 2, Training Loss: 0.0446, Validation Loss: 0.0494, accuracy = 0.6951, F1=0.6950\n"
     ]
    },
    {
     "name": "stderr",
     "output_type": "stream",
     "text": [
      " 40%|████      | 4/10 [12:58<19:27, 194.66s/it]"
     ]
    },
    {
     "name": "stdout",
     "output_type": "stream",
     "text": [
      "Epoch: 3, Training Loss: 0.0430, Validation Loss: 0.0487, accuracy = 0.7018, F1=0.7014\n"
     ]
    },
    {
     "name": "stderr",
     "output_type": "stream",
     "text": [
      " 50%|█████     | 5/10 [16:13<16:13, 194.79s/it]"
     ]
    },
    {
     "name": "stdout",
     "output_type": "stream",
     "text": [
      "Epoch: 4, Training Loss: 0.0420, Validation Loss: 0.0491, accuracy = 0.6924, F1=0.6921\n"
     ]
    },
    {
     "name": "stderr",
     "output_type": "stream",
     "text": [
      " 60%|██████    | 6/10 [19:26<12:57, 194.47s/it]"
     ]
    },
    {
     "name": "stdout",
     "output_type": "stream",
     "text": [
      "Epoch: 5, Training Loss: 0.0408, Validation Loss: 0.0502, accuracy = 0.6966, F1=0.6888\n"
     ]
    },
    {
     "name": "stderr",
     "output_type": "stream",
     "text": [
      " 70%|███████   | 7/10 [22:40<09:42, 194.15s/it]"
     ]
    },
    {
     "name": "stdout",
     "output_type": "stream",
     "text": [
      "Epoch: 6, Training Loss: 0.0388, Validation Loss: 0.0513, accuracy = 0.6881, F1=0.6881\n"
     ]
    },
    {
     "name": "stderr",
     "output_type": "stream",
     "text": [
      " 80%|████████  | 8/10 [25:55<06:28, 194.44s/it]"
     ]
    },
    {
     "name": "stdout",
     "output_type": "stream",
     "text": [
      "Epoch 00008: reducing learning rate of group 0 to 1.0000e-05.\n",
      "Epoch: 7, Training Loss: 0.0378, Validation Loss: 0.0527, accuracy = 0.6962, F1=0.6917\n"
     ]
    },
    {
     "name": "stderr",
     "output_type": "stream",
     "text": [
      " 90%|█████████ | 9/10 [29:10<03:14, 194.69s/it]"
     ]
    },
    {
     "name": "stdout",
     "output_type": "stream",
     "text": [
      "Epoch: 8, Training Loss: 0.0341, Validation Loss: 0.0546, accuracy = 0.6966, F1=0.6940\n"
     ]
    },
    {
     "name": "stderr",
     "output_type": "stream",
     "text": [
      "100%|██████████| 10/10 [32:25<00:00, 194.60s/it]"
     ]
    },
    {
     "name": "stdout",
     "output_type": "stream",
     "text": [
      "Epoch: 9, Training Loss: 0.0328, Validation Loss: 0.0559, accuracy = 0.6929, F1=0.6917\n"
     ]
    },
    {
     "name": "stderr",
     "output_type": "stream",
     "text": [
      "\n"
     ]
    },
    {
     "name": "stdout",
     "output_type": "stream",
     "text": [
      "[VAL] Model: unaligned - acc: 0.7037 - f1: 0.7033\n",
      "[TEST] Model: unaligned - acc: 0.6969 - f1: 0.6969\n",
      "\n",
      "=======================================TRAINING WITH SEED 100=======================================\n",
      "\n",
      "______________________________________Training model text_only______________________________________\n"
     ]
    },
    {
     "name": "stderr",
     "output_type": "stream",
     "text": [
      " 10%|█         | 1/10 [00:59<08:57, 59.67s/it]"
     ]
    },
    {
     "name": "stdout",
     "output_type": "stream",
     "text": [
      "Epoch: 0, Training Loss: 0.0503, Validation Loss: 0.0514, accuracy = 0.6808, F1=0.6700\n"
     ]
    },
    {
     "name": "stderr",
     "output_type": "stream",
     "text": [
      " 20%|██        | 2/10 [01:59<07:57, 59.70s/it]"
     ]
    },
    {
     "name": "stdout",
     "output_type": "stream",
     "text": [
      "Epoch: 1, Training Loss: 0.0473, Validation Loss: 0.0500, accuracy = 0.6874, F1=0.6841\n"
     ]
    },
    {
     "name": "stderr",
     "output_type": "stream",
     "text": [
      " 30%|███       | 3/10 [02:59<06:58, 59.78s/it]"
     ]
    },
    {
     "name": "stdout",
     "output_type": "stream",
     "text": [
      "Epoch: 2, Training Loss: 0.0465, Validation Loss: 0.0500, accuracy = 0.6864, F1=0.6842\n"
     ]
    },
    {
     "name": "stderr",
     "output_type": "stream",
     "text": [
      " 40%|████      | 4/10 [03:59<05:59, 59.97s/it]"
     ]
    },
    {
     "name": "stdout",
     "output_type": "stream",
     "text": [
      "Epoch: 3, Training Loss: 0.0461, Validation Loss: 0.0500, accuracy = 0.6853, F1=0.6801\n"
     ]
    },
    {
     "name": "stderr",
     "output_type": "stream",
     "text": [
      " 50%|█████     | 5/10 [04:59<04:59, 59.87s/it]"
     ]
    },
    {
     "name": "stdout",
     "output_type": "stream",
     "text": [
      "Epoch: 4, Training Loss: 0.0455, Validation Loss: 0.0497, accuracy = 0.6870, F1=0.6818\n"
     ]
    },
    {
     "name": "stderr",
     "output_type": "stream",
     "text": [
      " 60%|██████    | 6/10 [05:59<03:59, 59.92s/it]"
     ]
    },
    {
     "name": "stdout",
     "output_type": "stream",
     "text": [
      "Epoch: 5, Training Loss: 0.0452, Validation Loss: 0.0507, accuracy = 0.6866, F1=0.6795\n"
     ]
    },
    {
     "name": "stderr",
     "output_type": "stream",
     "text": [
      " 70%|███████   | 7/10 [06:58<02:59, 59.87s/it]"
     ]
    },
    {
     "name": "stdout",
     "output_type": "stream",
     "text": [
      "Epoch: 6, Training Loss: 0.0449, Validation Loss: 0.0502, accuracy = 0.6906, F1=0.6847\n"
     ]
    },
    {
     "name": "stderr",
     "output_type": "stream",
     "text": [
      " 80%|████████  | 8/10 [07:58<01:59, 59.78s/it]"
     ]
    },
    {
     "name": "stdout",
     "output_type": "stream",
     "text": [
      "Epoch: 7, Training Loss: 0.0448, Validation Loss: 0.0501, accuracy = 0.6885, F1=0.6841\n"
     ]
    },
    {
     "name": "stderr",
     "output_type": "stream",
     "text": [
      " 90%|█████████ | 9/10 [08:58<00:59, 59.75s/it]"
     ]
    },
    {
     "name": "stdout",
     "output_type": "stream",
     "text": [
      "Epoch 00009: reducing learning rate of group 0 to 1.0000e-05.\n",
      "Epoch: 8, Training Loss: 0.0442, Validation Loss: 0.0500, accuracy = 0.6883, F1=0.6803\n"
     ]
    },
    {
     "name": "stderr",
     "output_type": "stream",
     "text": [
      "100%|██████████| 10/10 [09:57<00:00, 59.80s/it]"
     ]
    },
    {
     "name": "stdout",
     "output_type": "stream",
     "text": [
      "Epoch: 9, Training Loss: 0.0432, Validation Loss: 0.0498, accuracy = 0.6883, F1=0.6848\n"
     ]
    },
    {
     "name": "stderr",
     "output_type": "stream",
     "text": [
      "\n"
     ]
    },
    {
     "name": "stdout",
     "output_type": "stream",
     "text": [
      "[VAL] Model: text_only - acc: 0.6870 - f1: 0.6818\n",
      "[TEST] Model: text_only - acc: 0.6786 - f1: 0.6757\n",
      "\n",
      "_____________________________________Training model audio_only______________________________________\n"
     ]
    },
    {
     "name": "stderr",
     "output_type": "stream",
     "text": [
      " 10%|█         | 1/10 [00:40<06:03, 40.40s/it]"
     ]
    },
    {
     "name": "stdout",
     "output_type": "stream",
     "text": [
      "Epoch: 0, Training Loss: 0.0581, Validation Loss: 0.0579, accuracy = 0.5434, F1=0.4658\n"
     ]
    },
    {
     "name": "stderr",
     "output_type": "stream",
     "text": [
      " 20%|██        | 2/10 [01:20<05:21, 40.20s/it]"
     ]
    },
    {
     "name": "stdout",
     "output_type": "stream",
     "text": [
      "Epoch: 1, Training Loss: 0.0577, Validation Loss: 0.0577, accuracy = 0.5387, F1=0.5010\n"
     ]
    },
    {
     "name": "stderr",
     "output_type": "stream",
     "text": [
      " 30%|███       | 3/10 [02:00<04:40, 40.13s/it]"
     ]
    },
    {
     "name": "stdout",
     "output_type": "stream",
     "text": [
      "Epoch: 2, Training Loss: 0.0577, Validation Loss: 0.0578, accuracy = 0.5307, F1=0.5147\n"
     ]
    },
    {
     "name": "stderr",
     "output_type": "stream",
     "text": [
      " 40%|████      | 4/10 [02:40<04:01, 40.18s/it]"
     ]
    },
    {
     "name": "stdout",
     "output_type": "stream",
     "text": [
      "Epoch: 3, Training Loss: 0.0576, Validation Loss: 0.0578, accuracy = 0.5262, F1=0.5173\n"
     ]
    },
    {
     "name": "stderr",
     "output_type": "stream",
     "text": [
      " 50%|█████     | 5/10 [03:20<03:20, 40.12s/it]"
     ]
    },
    {
     "name": "stdout",
     "output_type": "stream",
     "text": [
      "Epoch: 4, Training Loss: 0.0577, Validation Loss: 0.0578, accuracy = 0.5312, F1=0.5127\n"
     ]
    },
    {
     "name": "stderr",
     "output_type": "stream",
     "text": [
      " 60%|██████    | 6/10 [04:00<02:40, 40.06s/it]"
     ]
    },
    {
     "name": "stdout",
     "output_type": "stream",
     "text": [
      "Epoch 00006: reducing learning rate of group 0 to 1.0000e-05.\n",
      "Epoch: 5, Training Loss: 0.0576, Validation Loss: 0.0579, accuracy = 0.5209, F1=0.5161\n"
     ]
    },
    {
     "name": "stderr",
     "output_type": "stream",
     "text": [
      " 70%|███████   | 7/10 [04:40<02:00, 40.01s/it]"
     ]
    },
    {
     "name": "stdout",
     "output_type": "stream",
     "text": [
      "Epoch: 6, Training Loss: 0.0575, Validation Loss: 0.0578, accuracy = 0.5270, F1=0.5138\n"
     ]
    },
    {
     "name": "stderr",
     "output_type": "stream",
     "text": [
      " 80%|████████  | 8/10 [05:20<01:20, 40.05s/it]"
     ]
    },
    {
     "name": "stdout",
     "output_type": "stream",
     "text": [
      "Epoch: 7, Training Loss: 0.0575, Validation Loss: 0.0578, accuracy = 0.5309, F1=0.5121\n"
     ]
    },
    {
     "name": "stderr",
     "output_type": "stream",
     "text": [
      " 90%|█████████ | 9/10 [06:01<00:40, 40.13s/it]"
     ]
    },
    {
     "name": "stdout",
     "output_type": "stream",
     "text": [
      "Epoch: 8, Training Loss: 0.0575, Validation Loss: 0.0578, accuracy = 0.5305, F1=0.5130\n"
     ]
    },
    {
     "name": "stderr",
     "output_type": "stream",
     "text": [
      "100%|██████████| 10/10 [06:41<00:00, 40.12s/it]"
     ]
    },
    {
     "name": "stdout",
     "output_type": "stream",
     "text": [
      "Epoch 00010: reducing learning rate of group 0 to 1.0000e-06.\n",
      "Epoch: 9, Training Loss: 0.0575, Validation Loss: 0.0578, accuracy = 0.5318, F1=0.5119\n"
     ]
    },
    {
     "name": "stderr",
     "output_type": "stream",
     "text": [
      "\n"
     ]
    },
    {
     "name": "stdout",
     "output_type": "stream",
     "text": [
      "[VAL] Model: audio_only - acc: 0.5387 - f1: 0.5010\n",
      "[TEST] Model: audio_only - acc: 0.5479 - f1: 0.5191\n",
      "\n",
      "_____________________________________Training model multimodal______________________________________\n"
     ]
    },
    {
     "name": "stderr",
     "output_type": "stream",
     "text": [
      " 10%|█         | 1/10 [01:35<14:17, 95.27s/it]"
     ]
    },
    {
     "name": "stdout",
     "output_type": "stream",
     "text": [
      "Epoch: 0, Training Loss: 0.0487, Validation Loss: 0.0502, accuracy = 0.7033, F1=0.6958\n"
     ]
    },
    {
     "name": "stderr",
     "output_type": "stream",
     "text": [
      " 20%|██        | 2/10 [03:10<12:40, 95.06s/it]"
     ]
    },
    {
     "name": "stdout",
     "output_type": "stream",
     "text": [
      "Epoch: 1, Training Loss: 0.0447, Validation Loss: 0.0492, accuracy = 0.7024, F1=0.7017\n"
     ]
    },
    {
     "name": "stderr",
     "output_type": "stream",
     "text": [
      " 30%|███       | 3/10 [04:45<11:06, 95.15s/it]"
     ]
    },
    {
     "name": "stdout",
     "output_type": "stream",
     "text": [
      "Epoch: 2, Training Loss: 0.0427, Validation Loss: 0.0504, accuracy = 0.7049, F1=0.7034\n"
     ]
    },
    {
     "name": "stderr",
     "output_type": "stream",
     "text": [
      " 40%|████      | 4/10 [06:20<09:31, 95.23s/it]"
     ]
    },
    {
     "name": "stdout",
     "output_type": "stream",
     "text": [
      "Epoch: 3, Training Loss: 0.0411, Validation Loss: 0.0489, accuracy = 0.7014, F1=0.7003\n"
     ]
    },
    {
     "name": "stderr",
     "output_type": "stream",
     "text": [
      " 50%|█████     | 5/10 [07:55<07:55, 95.19s/it]"
     ]
    },
    {
     "name": "stdout",
     "output_type": "stream",
     "text": [
      "Epoch: 4, Training Loss: 0.0393, Validation Loss: 0.0552, accuracy = 0.6985, F1=0.6926\n"
     ]
    },
    {
     "name": "stderr",
     "output_type": "stream",
     "text": [
      " 60%|██████    | 6/10 [09:30<06:20, 95.08s/it]"
     ]
    },
    {
     "name": "stdout",
     "output_type": "stream",
     "text": [
      "Epoch: 5, Training Loss: 0.0378, Validation Loss: 0.0545, accuracy = 0.7008, F1=0.6943\n"
     ]
    },
    {
     "name": "stderr",
     "output_type": "stream",
     "text": [
      " 70%|███████   | 7/10 [11:05<04:45, 95.05s/it]"
     ]
    },
    {
     "name": "stdout",
     "output_type": "stream",
     "text": [
      "Epoch: 6, Training Loss: 0.0363, Validation Loss: 0.0575, accuracy = 0.6939, F1=0.6891\n"
     ]
    },
    {
     "name": "stderr",
     "output_type": "stream",
     "text": [
      " 80%|████████  | 8/10 [12:41<03:10, 95.15s/it]"
     ]
    },
    {
     "name": "stdout",
     "output_type": "stream",
     "text": [
      "Epoch 00008: reducing learning rate of group 0 to 1.0000e-05.\n",
      "Epoch: 7, Training Loss: 0.0352, Validation Loss: 0.0540, accuracy = 0.6904, F1=0.6857\n"
     ]
    },
    {
     "name": "stderr",
     "output_type": "stream",
     "text": [
      " 90%|█████████ | 9/10 [14:16<01:35, 95.16s/it]"
     ]
    },
    {
     "name": "stdout",
     "output_type": "stream",
     "text": [
      "Epoch: 8, Training Loss: 0.0316, Validation Loss: 0.0614, accuracy = 0.6870, F1=0.6849\n"
     ]
    },
    {
     "name": "stderr",
     "output_type": "stream",
     "text": [
      "100%|██████████| 10/10 [15:51<00:00, 95.17s/it]"
     ]
    },
    {
     "name": "stdout",
     "output_type": "stream",
     "text": [
      "Epoch: 9, Training Loss: 0.0300, Validation Loss: 0.0607, accuracy = 0.6795, F1=0.6771\n"
     ]
    },
    {
     "name": "stderr",
     "output_type": "stream",
     "text": [
      "\n"
     ]
    },
    {
     "name": "stdout",
     "output_type": "stream",
     "text": [
      "[VAL] Model: multimodal - acc: 0.7014 - f1: 0.7003\n",
      "[TEST] Model: multimodal - acc: 0.6958 - f1: 0.6957\n",
      "\n",
      "_____________________________________Training model ensembling______________________________________\n"
     ]
    },
    {
     "name": "stderr",
     "output_type": "stream",
     "text": [
      " 10%|█         | 1/10 [01:30<13:34, 90.45s/it]"
     ]
    },
    {
     "name": "stdout",
     "output_type": "stream",
     "text": [
      "Epoch: 0, Training Loss: 0.0521, Validation Loss: 0.0518, accuracy = 0.6737, F1=0.6610\n"
     ]
    },
    {
     "name": "stderr",
     "output_type": "stream",
     "text": [
      " 20%|██        | 2/10 [03:00<12:02, 90.31s/it]"
     ]
    },
    {
     "name": "stdout",
     "output_type": "stream",
     "text": [
      "Epoch: 1, Training Loss: 0.0489, Validation Loss: 0.0507, accuracy = 0.6872, F1=0.6812\n"
     ]
    },
    {
     "name": "stderr",
     "output_type": "stream",
     "text": [
      " 30%|███       | 3/10 [04:31<10:32, 90.42s/it]"
     ]
    },
    {
     "name": "stdout",
     "output_type": "stream",
     "text": [
      "Epoch: 2, Training Loss: 0.0482, Validation Loss: 0.0505, accuracy = 0.6853, F1=0.6833\n"
     ]
    },
    {
     "name": "stderr",
     "output_type": "stream",
     "text": [
      " 40%|████      | 4/10 [06:01<09:02, 90.47s/it]"
     ]
    },
    {
     "name": "stdout",
     "output_type": "stream",
     "text": [
      "Epoch: 3, Training Loss: 0.0478, Validation Loss: 0.0505, accuracy = 0.6879, F1=0.6842\n"
     ]
    },
    {
     "name": "stderr",
     "output_type": "stream",
     "text": [
      " 50%|█████     | 5/10 [07:32<07:32, 90.52s/it]"
     ]
    },
    {
     "name": "stdout",
     "output_type": "stream",
     "text": [
      "Epoch: 4, Training Loss: 0.0474, Validation Loss: 0.0502, accuracy = 0.6851, F1=0.6805\n"
     ]
    },
    {
     "name": "stderr",
     "output_type": "stream",
     "text": [
      " 60%|██████    | 6/10 [09:02<06:01, 90.48s/it]"
     ]
    },
    {
     "name": "stdout",
     "output_type": "stream",
     "text": [
      "Epoch: 5, Training Loss: 0.0471, Validation Loss: 0.0507, accuracy = 0.6829, F1=0.6755\n"
     ]
    },
    {
     "name": "stderr",
     "output_type": "stream",
     "text": [
      " 70%|███████   | 7/10 [10:33<04:31, 90.53s/it]"
     ]
    },
    {
     "name": "stdout",
     "output_type": "stream",
     "text": [
      "Epoch: 6, Training Loss: 0.0469, Validation Loss: 0.0505, accuracy = 0.6860, F1=0.6799\n"
     ]
    },
    {
     "name": "stderr",
     "output_type": "stream",
     "text": [
      " 80%|████████  | 8/10 [12:04<03:01, 90.58s/it]"
     ]
    },
    {
     "name": "stdout",
     "output_type": "stream",
     "text": [
      "Epoch: 7, Training Loss: 0.0469, Validation Loss: 0.0507, accuracy = 0.6839, F1=0.6765\n"
     ]
    },
    {
     "name": "stderr",
     "output_type": "stream",
     "text": [
      " 90%|█████████ | 9/10 [13:34<01:30, 90.51s/it]"
     ]
    },
    {
     "name": "stdout",
     "output_type": "stream",
     "text": [
      "Epoch 00009: reducing learning rate of group 0 to 1.0000e-05.\n",
      "Epoch: 8, Training Loss: 0.0466, Validation Loss: 0.0506, accuracy = 0.6820, F1=0.6734\n"
     ]
    },
    {
     "name": "stderr",
     "output_type": "stream",
     "text": [
      "100%|██████████| 10/10 [15:05<00:00, 90.55s/it]"
     ]
    },
    {
     "name": "stdout",
     "output_type": "stream",
     "text": [
      "Epoch: 9, Training Loss: 0.0459, Validation Loss: 0.0500, accuracy = 0.6874, F1=0.6847\n"
     ]
    },
    {
     "name": "stderr",
     "output_type": "stream",
     "text": [
      "\n"
     ]
    },
    {
     "name": "stdout",
     "output_type": "stream",
     "text": [
      "[VAL] Model: ensembling - acc: 0.6874 - f1: 0.6847\n",
      "[TEST] Model: ensembling - acc: 0.6843 - f1: 0.6830\n",
      "\n",
      "______________________________________Training model unaligned______________________________________\n"
     ]
    },
    {
     "name": "stderr",
     "output_type": "stream",
     "text": [
      " 10%|█         | 1/10 [03:14<29:14, 194.89s/it]"
     ]
    },
    {
     "name": "stdout",
     "output_type": "stream",
     "text": [
      "Epoch: 0, Training Loss: 0.0514, Validation Loss: 0.0512, accuracy = 0.6845, F1=0.6707\n"
     ]
    },
    {
     "name": "stderr",
     "output_type": "stream",
     "text": [
      " 20%|██        | 2/10 [06:29<25:56, 194.57s/it]"
     ]
    },
    {
     "name": "stdout",
     "output_type": "stream",
     "text": [
      "Epoch: 1, Training Loss: 0.0459, Validation Loss: 0.0506, accuracy = 0.6826, F1=0.6815\n"
     ]
    },
    {
     "name": "stderr",
     "output_type": "stream",
     "text": [
      " 30%|███       | 3/10 [09:44<22:44, 194.87s/it]"
     ]
    },
    {
     "name": "stdout",
     "output_type": "stream",
     "text": [
      "Epoch: 2, Training Loss: 0.0446, Validation Loss: 0.0485, accuracy = 0.7010, F1=0.7009\n"
     ]
    },
    {
     "name": "stderr",
     "output_type": "stream",
     "text": [
      " 40%|████      | 4/10 [12:59<19:30, 195.07s/it]"
     ]
    },
    {
     "name": "stdout",
     "output_type": "stream",
     "text": [
      "Epoch: 3, Training Loss: 0.0430, Validation Loss: 0.0487, accuracy = 0.6954, F1=0.6954\n"
     ]
    },
    {
     "name": "stderr",
     "output_type": "stream",
     "text": [
      " 50%|█████     | 5/10 [16:14<16:14, 194.99s/it]"
     ]
    },
    {
     "name": "stdout",
     "output_type": "stream",
     "text": [
      "Epoch: 4, Training Loss: 0.0420, Validation Loss: 0.0506, accuracy = 0.7006, F1=0.6932\n"
     ]
    },
    {
     "name": "stderr",
     "output_type": "stream",
     "text": [
      " 60%|██████    | 6/10 [19:29<12:59, 194.89s/it]"
     ]
    },
    {
     "name": "stdout",
     "output_type": "stream",
     "text": [
      "Epoch: 5, Training Loss: 0.0408, Validation Loss: 0.0515, accuracy = 0.6993, F1=0.6957\n"
     ]
    },
    {
     "name": "stderr",
     "output_type": "stream",
     "text": [
      " 70%|███████   | 7/10 [22:43<09:44, 194.79s/it]"
     ]
    },
    {
     "name": "stdout",
     "output_type": "stream",
     "text": [
      "Epoch 00007: reducing learning rate of group 0 to 1.0000e-05.\n",
      "Epoch: 6, Training Loss: 0.0396, Validation Loss: 0.0517, accuracy = 0.6972, F1=0.6965\n"
     ]
    },
    {
     "name": "stderr",
     "output_type": "stream",
     "text": [
      " 80%|████████  | 8/10 [25:59<06:29, 194.92s/it]"
     ]
    },
    {
     "name": "stdout",
     "output_type": "stream",
     "text": [
      "Epoch: 7, Training Loss: 0.0358, Validation Loss: 0.0535, accuracy = 0.7001, F1=0.6963\n"
     ]
    },
    {
     "name": "stderr",
     "output_type": "stream",
     "text": [
      " 90%|█████████ | 9/10 [29:13<03:14, 194.86s/it]"
     ]
    },
    {
     "name": "stdout",
     "output_type": "stream",
     "text": [
      "Epoch: 8, Training Loss: 0.0353, Validation Loss: 0.0532, accuracy = 0.6962, F1=0.6944\n"
     ]
    },
    {
     "name": "stderr",
     "output_type": "stream",
     "text": [
      "100%|██████████| 10/10 [32:29<00:00, 194.93s/it]"
     ]
    },
    {
     "name": "stdout",
     "output_type": "stream",
     "text": [
      "Epoch: 9, Training Loss: 0.0346, Validation Loss: 0.0545, accuracy = 0.6933, F1=0.6904\n"
     ]
    },
    {
     "name": "stderr",
     "output_type": "stream",
     "text": [
      "\n"
     ]
    },
    {
     "name": "stdout",
     "output_type": "stream",
     "text": [
      "[VAL] Model: unaligned - acc: 0.7016 - f1: 0.7015\n",
      "[TEST] Model: unaligned - acc: 0.6958 - f1: 0.6958\n",
      "\n",
      "=======================================TRAINING WITH SEED 420=======================================\n",
      "\n",
      "______________________________________Training model text_only______________________________________\n"
     ]
    },
    {
     "name": "stderr",
     "output_type": "stream",
     "text": [
      " 10%|█         | 1/10 [00:59<08:59, 59.92s/it]"
     ]
    },
    {
     "name": "stdout",
     "output_type": "stream",
     "text": [
      "Epoch: 0, Training Loss: 0.0502, Validation Loss: 0.0505, accuracy = 0.6866, F1=0.6829\n"
     ]
    },
    {
     "name": "stderr",
     "output_type": "stream",
     "text": [
      " 20%|██        | 2/10 [02:00<08:00, 60.07s/it]"
     ]
    },
    {
     "name": "stdout",
     "output_type": "stream",
     "text": [
      "Epoch: 1, Training Loss: 0.0473, Validation Loss: 0.0501, accuracy = 0.6854, F1=0.6813\n"
     ]
    },
    {
     "name": "stderr",
     "output_type": "stream",
     "text": [
      " 30%|███       | 3/10 [02:59<06:59, 59.98s/it]"
     ]
    },
    {
     "name": "stdout",
     "output_type": "stream",
     "text": [
      "Epoch: 2, Training Loss: 0.0463, Validation Loss: 0.0500, accuracy = 0.6895, F1=0.6863\n"
     ]
    },
    {
     "name": "stderr",
     "output_type": "stream",
     "text": [
      " 40%|████      | 4/10 [04:00<06:00, 60.08s/it]"
     ]
    },
    {
     "name": "stdout",
     "output_type": "stream",
     "text": [
      "Epoch: 3, Training Loss: 0.0460, Validation Loss: 0.0513, accuracy = 0.6820, F1=0.6695\n"
     ]
    },
    {
     "name": "stderr",
     "output_type": "stream",
     "text": [
      " 50%|█████     | 5/10 [05:00<05:00, 60.10s/it]"
     ]
    },
    {
     "name": "stdout",
     "output_type": "stream",
     "text": [
      "Epoch: 4, Training Loss: 0.0457, Validation Loss: 0.0502, accuracy = 0.6835, F1=0.6834\n"
     ]
    },
    {
     "name": "stderr",
     "output_type": "stream",
     "text": [
      " 60%|██████    | 6/10 [06:00<04:00, 60.06s/it]"
     ]
    },
    {
     "name": "stdout",
     "output_type": "stream",
     "text": [
      "Epoch: 5, Training Loss: 0.0452, Validation Loss: 0.0498, accuracy = 0.6881, F1=0.6841\n"
     ]
    },
    {
     "name": "stderr",
     "output_type": "stream",
     "text": [
      " 70%|███████   | 7/10 [07:00<03:00, 60.13s/it]"
     ]
    },
    {
     "name": "stdout",
     "output_type": "stream",
     "text": [
      "Epoch: 6, Training Loss: 0.0447, Validation Loss: 0.0514, accuracy = 0.6835, F1=0.6745\n"
     ]
    },
    {
     "name": "stderr",
     "output_type": "stream",
     "text": [
      " 80%|████████  | 8/10 [08:00<02:00, 60.16s/it]"
     ]
    },
    {
     "name": "stdout",
     "output_type": "stream",
     "text": [
      "Epoch: 7, Training Loss: 0.0445, Validation Loss: 0.0505, accuracy = 0.6889, F1=0.6877\n"
     ]
    },
    {
     "name": "stderr",
     "output_type": "stream",
     "text": [
      " 90%|█████████ | 9/10 [09:00<01:00, 60.14s/it]"
     ]
    },
    {
     "name": "stdout",
     "output_type": "stream",
     "text": [
      "Epoch: 8, Training Loss: 0.0443, Validation Loss: 0.0502, accuracy = 0.6839, F1=0.6734\n"
     ]
    },
    {
     "name": "stderr",
     "output_type": "stream",
     "text": [
      "100%|██████████| 10/10 [10:01<00:00, 60.11s/it]"
     ]
    },
    {
     "name": "stdout",
     "output_type": "stream",
     "text": [
      "Epoch 00010: reducing learning rate of group 0 to 1.0000e-05.\n",
      "Epoch: 9, Training Loss: 0.0439, Validation Loss: 0.0501, accuracy = 0.6876, F1=0.6864\n"
     ]
    },
    {
     "name": "stderr",
     "output_type": "stream",
     "text": [
      "\n"
     ]
    },
    {
     "name": "stdout",
     "output_type": "stream",
     "text": [
      "[VAL] Model: text_only - acc: 0.6881 - f1: 0.6841\n",
      "[TEST] Model: text_only - acc: 0.6813 - f1: 0.6793\n",
      "\n",
      "_____________________________________Training model audio_only______________________________________\n"
     ]
    },
    {
     "name": "stderr",
     "output_type": "stream",
     "text": [
      " 10%|█         | 1/10 [00:40<06:05, 40.56s/it]"
     ]
    },
    {
     "name": "stdout",
     "output_type": "stream",
     "text": [
      "Epoch: 0, Training Loss: 0.0581, Validation Loss: 0.0577, accuracy = 0.5405, F1=0.4906\n"
     ]
    },
    {
     "name": "stderr",
     "output_type": "stream",
     "text": [
      " 20%|██        | 2/10 [01:21<05:24, 40.60s/it]"
     ]
    },
    {
     "name": "stdout",
     "output_type": "stream",
     "text": [
      "Epoch: 1, Training Loss: 0.0578, Validation Loss: 0.0577, accuracy = 0.5395, F1=0.5078\n"
     ]
    },
    {
     "name": "stderr",
     "output_type": "stream",
     "text": [
      " 30%|███       | 3/10 [02:01<04:43, 40.51s/it]"
     ]
    },
    {
     "name": "stdout",
     "output_type": "stream",
     "text": [
      "Epoch: 2, Training Loss: 0.0577, Validation Loss: 0.0578, accuracy = 0.5397, F1=0.4939\n"
     ]
    },
    {
     "name": "stderr",
     "output_type": "stream",
     "text": [
      " 40%|████      | 4/10 [02:42<04:03, 40.51s/it]"
     ]
    },
    {
     "name": "stdout",
     "output_type": "stream",
     "text": [
      "Epoch: 3, Training Loss: 0.0576, Validation Loss: 0.0583, accuracy = 0.5416, F1=0.4293\n"
     ]
    },
    {
     "name": "stderr",
     "output_type": "stream",
     "text": [
      " 50%|█████     | 5/10 [03:22<03:22, 40.43s/it]"
     ]
    },
    {
     "name": "stdout",
     "output_type": "stream",
     "text": [
      "Epoch 00005: reducing learning rate of group 0 to 1.0000e-05.\n",
      "Epoch: 4, Training Loss: 0.0576, Validation Loss: 0.0579, accuracy = 0.5182, F1=0.5174\n"
     ]
    },
    {
     "name": "stderr",
     "output_type": "stream",
     "text": [
      " 60%|██████    | 6/10 [04:02<02:41, 40.45s/it]"
     ]
    },
    {
     "name": "stdout",
     "output_type": "stream",
     "text": [
      "Epoch: 5, Training Loss: 0.0575, Validation Loss: 0.0578, accuracy = 0.5268, F1=0.5148\n"
     ]
    },
    {
     "name": "stderr",
     "output_type": "stream",
     "text": [
      " 70%|███████   | 7/10 [04:43<02:01, 40.55s/it]"
     ]
    },
    {
     "name": "stdout",
     "output_type": "stream",
     "text": [
      "Epoch: 6, Training Loss: 0.0575, Validation Loss: 0.0578, accuracy = 0.5351, F1=0.5103\n"
     ]
    },
    {
     "name": "stderr",
     "output_type": "stream",
     "text": [
      " 80%|████████  | 8/10 [05:24<01:21, 40.53s/it]"
     ]
    },
    {
     "name": "stdout",
     "output_type": "stream",
     "text": [
      "Epoch: 7, Training Loss: 0.0575, Validation Loss: 0.0578, accuracy = 0.5339, F1=0.5116\n"
     ]
    },
    {
     "name": "stderr",
     "output_type": "stream",
     "text": [
      " 90%|█████████ | 9/10 [06:04<00:40, 40.51s/it]"
     ]
    },
    {
     "name": "stdout",
     "output_type": "stream",
     "text": [
      "Epoch 00009: reducing learning rate of group 0 to 1.0000e-06.\n",
      "Epoch: 8, Training Loss: 0.0575, Validation Loss: 0.0578, accuracy = 0.5380, F1=0.5064\n"
     ]
    },
    {
     "name": "stderr",
     "output_type": "stream",
     "text": [
      "100%|██████████| 10/10 [06:45<00:00, 40.51s/it]"
     ]
    },
    {
     "name": "stdout",
     "output_type": "stream",
     "text": [
      "Epoch: 9, Training Loss: 0.0575, Validation Loss: 0.0578, accuracy = 0.5357, F1=0.5106\n"
     ]
    },
    {
     "name": "stderr",
     "output_type": "stream",
     "text": [
      "\n"
     ]
    },
    {
     "name": "stdout",
     "output_type": "stream",
     "text": [
      "[VAL] Model: audio_only - acc: 0.5405 - f1: 0.4906\n",
      "[TEST] Model: audio_only - acc: 0.5472 - f1: 0.5070\n",
      "\n",
      "_____________________________________Training model multimodal______________________________________\n"
     ]
    },
    {
     "name": "stderr",
     "output_type": "stream",
     "text": [
      " 10%|█         | 1/10 [01:35<14:15, 95.01s/it]"
     ]
    },
    {
     "name": "stdout",
     "output_type": "stream",
     "text": [
      "Epoch: 0, Training Loss: 0.0485, Validation Loss: 0.0484, accuracy = 0.7008, F1=0.6941\n"
     ]
    },
    {
     "name": "stderr",
     "output_type": "stream",
     "text": [
      " 20%|██        | 2/10 [03:10<12:41, 95.24s/it]"
     ]
    },
    {
     "name": "stdout",
     "output_type": "stream",
     "text": [
      "Epoch: 1, Training Loss: 0.0448, Validation Loss: 0.0475, accuracy = 0.7054, F1=0.6984\n"
     ]
    },
    {
     "name": "stderr",
     "output_type": "stream",
     "text": [
      " 30%|███       | 3/10 [04:45<11:06, 95.23s/it]"
     ]
    },
    {
     "name": "stdout",
     "output_type": "stream",
     "text": [
      "Epoch: 2, Training Loss: 0.0427, Validation Loss: 0.0505, accuracy = 0.7037, F1=0.6994\n"
     ]
    },
    {
     "name": "stderr",
     "output_type": "stream",
     "text": [
      " 40%|████      | 4/10 [06:21<09:32, 95.44s/it]"
     ]
    },
    {
     "name": "stdout",
     "output_type": "stream",
     "text": [
      "Epoch: 3, Training Loss: 0.0412, Validation Loss: 0.0524, accuracy = 0.6995, F1=0.6910\n"
     ]
    },
    {
     "name": "stderr",
     "output_type": "stream",
     "text": [
      " 50%|█████     | 5/10 [07:57<07:58, 95.61s/it]"
     ]
    },
    {
     "name": "stdout",
     "output_type": "stream",
     "text": [
      "Epoch: 4, Training Loss: 0.0397, Validation Loss: 0.0502, accuracy = 0.6997, F1=0.6992\n"
     ]
    },
    {
     "name": "stderr",
     "output_type": "stream",
     "text": [
      " 60%|██████    | 6/10 [09:32<06:22, 95.53s/it]"
     ]
    },
    {
     "name": "stdout",
     "output_type": "stream",
     "text": [
      "Epoch 00006: reducing learning rate of group 0 to 1.0000e-05.\n",
      "Epoch: 5, Training Loss: 0.0378, Validation Loss: 0.0535, accuracy = 0.6972, F1=0.6906\n"
     ]
    },
    {
     "name": "stderr",
     "output_type": "stream",
     "text": [
      " 70%|███████   | 7/10 [11:08<04:46, 95.56s/it]"
     ]
    },
    {
     "name": "stdout",
     "output_type": "stream",
     "text": [
      "Epoch: 6, Training Loss: 0.0343, Validation Loss: 0.0552, accuracy = 0.6981, F1=0.6950\n"
     ]
    },
    {
     "name": "stderr",
     "output_type": "stream",
     "text": [
      " 80%|████████  | 8/10 [12:43<03:10, 95.44s/it]"
     ]
    },
    {
     "name": "stdout",
     "output_type": "stream",
     "text": [
      "Epoch: 7, Training Loss: 0.0329, Validation Loss: 0.0584, accuracy = 0.6935, F1=0.6901\n"
     ]
    },
    {
     "name": "stderr",
     "output_type": "stream",
     "text": [
      " 90%|█████████ | 9/10 [14:18<01:35, 95.33s/it]"
     ]
    },
    {
     "name": "stdout",
     "output_type": "stream",
     "text": [
      "Epoch: 8, Training Loss: 0.0323, Validation Loss: 0.0566, accuracy = 0.6908, F1=0.6870\n"
     ]
    },
    {
     "name": "stderr",
     "output_type": "stream",
     "text": [
      "100%|██████████| 10/10 [15:53<00:00, 95.37s/it]"
     ]
    },
    {
     "name": "stdout",
     "output_type": "stream",
     "text": [
      "Epoch 00010: reducing learning rate of group 0 to 1.0000e-06.\n",
      "Epoch: 9, Training Loss: 0.0313, Validation Loss: 0.0602, accuracy = 0.6916, F1=0.6905\n"
     ]
    },
    {
     "name": "stderr",
     "output_type": "stream",
     "text": [
      "\n"
     ]
    },
    {
     "name": "stdout",
     "output_type": "stream",
     "text": [
      "[VAL] Model: multimodal - acc: 0.7054 - f1: 0.6984\n",
      "[TEST] Model: multimodal - acc: 0.6965 - f1: 0.6925\n",
      "\n",
      "_____________________________________Training model ensembling______________________________________\n"
     ]
    },
    {
     "name": "stderr",
     "output_type": "stream",
     "text": [
      " 10%|█         | 1/10 [01:30<13:34, 90.53s/it]"
     ]
    },
    {
     "name": "stdout",
     "output_type": "stream",
     "text": [
      "Epoch: 0, Training Loss: 0.0520, Validation Loss: 0.0511, accuracy = 0.6754, F1=0.6740\n"
     ]
    },
    {
     "name": "stderr",
     "output_type": "stream",
     "text": [
      " 20%|██        | 2/10 [03:01<12:05, 90.75s/it]"
     ]
    },
    {
     "name": "stdout",
     "output_type": "stream",
     "text": [
      "Epoch: 1, Training Loss: 0.0489, Validation Loss: 0.0507, accuracy = 0.6837, F1=0.6792\n"
     ]
    },
    {
     "name": "stderr",
     "output_type": "stream",
     "text": [
      " 30%|███       | 3/10 [04:31<10:34, 90.64s/it]"
     ]
    },
    {
     "name": "stdout",
     "output_type": "stream",
     "text": [
      "Epoch: 2, Training Loss: 0.0480, Validation Loss: 0.0504, accuracy = 0.6897, F1=0.6866\n"
     ]
    },
    {
     "name": "stderr",
     "output_type": "stream",
     "text": [
      " 40%|████      | 4/10 [06:02<09:04, 90.75s/it]"
     ]
    },
    {
     "name": "stdout",
     "output_type": "stream",
     "text": [
      "Epoch: 3, Training Loss: 0.0476, Validation Loss: 0.0511, accuracy = 0.6787, F1=0.6682\n"
     ]
    },
    {
     "name": "stderr",
     "output_type": "stream",
     "text": [
      " 50%|█████     | 5/10 [07:34<07:34, 90.97s/it]"
     ]
    },
    {
     "name": "stdout",
     "output_type": "stream",
     "text": [
      "Epoch: 4, Training Loss: 0.0475, Validation Loss: 0.0509, accuracy = 0.6754, F1=0.6754\n"
     ]
    },
    {
     "name": "stderr",
     "output_type": "stream",
     "text": [
      " 60%|██████    | 6/10 [09:04<06:03, 90.89s/it]"
     ]
    },
    {
     "name": "stdout",
     "output_type": "stream",
     "text": [
      "Epoch: 5, Training Loss: 0.0472, Validation Loss: 0.0502, accuracy = 0.6828, F1=0.6812\n"
     ]
    },
    {
     "name": "stderr",
     "output_type": "stream",
     "text": [
      " 70%|███████   | 7/10 [10:35<04:32, 90.92s/it]"
     ]
    },
    {
     "name": "stdout",
     "output_type": "stream",
     "text": [
      "Epoch: 6, Training Loss: 0.0469, Validation Loss: 0.0519, accuracy = 0.6764, F1=0.6628\n"
     ]
    },
    {
     "name": "stderr",
     "output_type": "stream",
     "text": [
      " 80%|████████  | 8/10 [12:06<03:01, 90.81s/it]"
     ]
    },
    {
     "name": "stdout",
     "output_type": "stream",
     "text": [
      "Epoch: 7, Training Loss: 0.0468, Validation Loss: 0.0501, accuracy = 0.6851, F1=0.6840\n"
     ]
    },
    {
     "name": "stderr",
     "output_type": "stream",
     "text": [
      " 90%|█████████ | 9/10 [13:36<01:30, 90.69s/it]"
     ]
    },
    {
     "name": "stdout",
     "output_type": "stream",
     "text": [
      "Epoch: 8, Training Loss: 0.0467, Validation Loss: 0.0510, accuracy = 0.6847, F1=0.6759\n"
     ]
    },
    {
     "name": "stderr",
     "output_type": "stream",
     "text": [
      "100%|██████████| 10/10 [15:07<00:00, 90.78s/it]"
     ]
    },
    {
     "name": "stdout",
     "output_type": "stream",
     "text": [
      "Epoch: 9, Training Loss: 0.0465, Validation Loss: 0.0503, accuracy = 0.6847, F1=0.6828\n"
     ]
    },
    {
     "name": "stderr",
     "output_type": "stream",
     "text": [
      "\n"
     ]
    },
    {
     "name": "stdout",
     "output_type": "stream",
     "text": [
      "[VAL] Model: ensembling - acc: 0.6851 - f1: 0.6840\n",
      "[TEST] Model: ensembling - acc: 0.6847 - f1: 0.6845\n",
      "\n",
      "______________________________________Training model unaligned______________________________________\n"
     ]
    },
    {
     "name": "stderr",
     "output_type": "stream",
     "text": [
      " 10%|█         | 1/10 [03:14<29:09, 194.39s/it]"
     ]
    },
    {
     "name": "stdout",
     "output_type": "stream",
     "text": [
      "Epoch: 0, Training Loss: 0.0501, Validation Loss: 0.0502, accuracy = 0.6914, F1=0.6778\n"
     ]
    },
    {
     "name": "stderr",
     "output_type": "stream",
     "text": [
      " 20%|██        | 2/10 [06:29<25:57, 194.66s/it]"
     ]
    },
    {
     "name": "stdout",
     "output_type": "stream",
     "text": [
      "Epoch: 1, Training Loss: 0.0458, Validation Loss: 0.0508, accuracy = 0.6814, F1=0.6557\n"
     ]
    },
    {
     "name": "stderr",
     "output_type": "stream",
     "text": [
      " 30%|███       | 3/10 [09:43<22:42, 194.68s/it]"
     ]
    },
    {
     "name": "stdout",
     "output_type": "stream",
     "text": [
      "Epoch: 2, Training Loss: 0.0442, Validation Loss: 0.0491, accuracy = 0.7089, F1=0.7044\n"
     ]
    },
    {
     "name": "stderr",
     "output_type": "stream",
     "text": [
      " 40%|████      | 4/10 [12:59<19:29, 194.98s/it]"
     ]
    },
    {
     "name": "stdout",
     "output_type": "stream",
     "text": [
      "Epoch: 3, Training Loss: 0.0432, Validation Loss: 0.0498, accuracy = 0.7110, F1=0.7070\n"
     ]
    },
    {
     "name": "stderr",
     "output_type": "stream",
     "text": [
      " 50%|█████     | 5/10 [16:13<16:14, 194.84s/it]"
     ]
    },
    {
     "name": "stdout",
     "output_type": "stream",
     "text": [
      "Epoch: 4, Training Loss: 0.0423, Validation Loss: 0.0509, accuracy = 0.7037, F1=0.7023\n"
     ]
    },
    {
     "name": "stderr",
     "output_type": "stream",
     "text": [
      " 60%|██████    | 6/10 [19:29<12:59, 194.92s/it]"
     ]
    },
    {
     "name": "stdout",
     "output_type": "stream",
     "text": [
      "Epoch: 5, Training Loss: 0.0408, Validation Loss: 0.0543, accuracy = 0.7006, F1=0.6979\n"
     ]
    },
    {
     "name": "stderr",
     "output_type": "stream",
     "text": [
      " 70%|███████   | 7/10 [22:44<09:45, 195.20s/it]"
     ]
    },
    {
     "name": "stdout",
     "output_type": "stream",
     "text": [
      "Epoch 00007: reducing learning rate of group 0 to 1.0000e-05.\n",
      "Epoch: 6, Training Loss: 0.0401, Validation Loss: 0.0523, accuracy = 0.6974, F1=0.6972\n"
     ]
    },
    {
     "name": "stderr",
     "output_type": "stream",
     "text": [
      " 80%|████████  | 8/10 [25:59<06:29, 194.99s/it]"
     ]
    },
    {
     "name": "stdout",
     "output_type": "stream",
     "text": [
      "Epoch: 7, Training Loss: 0.0368, Validation Loss: 0.0530, accuracy = 0.7035, F1=0.7011\n"
     ]
    },
    {
     "name": "stderr",
     "output_type": "stream",
     "text": [
      " 90%|█████████ | 9/10 [29:14<03:14, 194.88s/it]"
     ]
    },
    {
     "name": "stdout",
     "output_type": "stream",
     "text": [
      "Epoch: 8, Training Loss: 0.0359, Validation Loss: 0.0532, accuracy = 0.6999, F1=0.6982\n"
     ]
    },
    {
     "name": "stderr",
     "output_type": "stream",
     "text": [
      "100%|██████████| 10/10 [32:28<00:00, 194.85s/it]"
     ]
    },
    {
     "name": "stdout",
     "output_type": "stream",
     "text": [
      "Epoch: 9, Training Loss: 0.0356, Validation Loss: 0.0545, accuracy = 0.6997, F1=0.6976\n"
     ]
    },
    {
     "name": "stderr",
     "output_type": "stream",
     "text": [
      "\n"
     ]
    },
    {
     "name": "stdout",
     "output_type": "stream",
     "text": [
      "[VAL] Model: unaligned - acc: 0.7091 - f1: 0.7047\n",
      "[TEST] Model: unaligned - acc: 0.6960 - f1: 0.6931\n",
      "\n"
     ]
    }
   ],
   "source": [
    "SEEDS = [1, 42, 69, 100, 420]\n",
    "\n",
    "val_results = {\n",
    "    'text_only': [],\n",
    "    'audio_only': [],\n",
    "    'multimodal': [],\n",
    "    'ensembling': [],\n",
    "    'unaligned': []\n",
    "}\n",
    "\n",
    "test_results = {\n",
    "    'text_only': [],\n",
    "    'audio_only': [],\n",
    "    'multimodal': [],\n",
    "    'ensembling': [],\n",
    "    'unaligned': []\n",
    "}\n",
    "\n",
    "train_losses = {\n",
    "    'text_only': [],\n",
    "    'audio_only': [],\n",
    "    'multimodal': [],\n",
    "    'ensembling': [],\n",
    "    'unaligned': []\n",
    "}\n",
    "\n",
    "val_losses = {\n",
    "    'text_only': [],\n",
    "    'audio_only': [],\n",
    "    'multimodal': [],\n",
    "    'ensembling': [],\n",
    "    'unaligned': []\n",
    "}\n",
    "\n",
    "EPOCHS = 10\n",
    "INITIAL_LR = 1e-3\n",
    "WEIGHT_DECAY = 1e-3\n",
    "LR_DECAY_FACTOR = 1e-1\n",
    "LR_DECAY_PATIENCE = 3\n",
    "VERBOSE_TRAIN = True\n",
    "DEBUG_TRAIN = False\n",
    "\n",
    "for seed in SEEDS:\n",
    "    print(f'{f\"TRAINING WITH SEED {seed}\":=^100}')\n",
    "    print()\n",
    "    torch.manual_seed(seed)\n",
    "    np.random.seed(seed)\n",
    "    \n",
    "    model_names, models = create_models()\n",
    "    \n",
    "    # TODO: copilot suggested this 2 lines, check if they are useful\n",
    "    # torch.backends.cudnn.deterministic = True\n",
    "    # torch.backends.cudnn.benchmark = False\n",
    "    \n",
    "    # TO select a single model:\n",
    "    # model_idx = 4\n",
    "    # models, model_names = [models[model_idx]], [model_names[model_idx]]\n",
    "\n",
    "    while models:\n",
    "        model = models[0]\n",
    "        model_name = model_names[0]\n",
    "        torch.manual_seed(seed)\n",
    "        np.random.seed(seed)\n",
    "        print(f'{f\"Training model {model_name}\":_^100}')\n",
    "        \n",
    "        loss = nn.CrossEntropyLoss(weight=weight)\n",
    "        \n",
    "        if model_name == 'ensembling':\n",
    "            loss = lambda outputs, targets: torch.nn.functional.nll_loss(torch.log(outputs), targets, weight=weight, reduction='mean')\n",
    "            INITIAL_LR = 1e-4\n",
    "        \n",
    "        if model_name == 'audio_only':\n",
    "            INITIAL_LR = 1e-4\n",
    "            \n",
    "        _, tr_losses, vl_losses = train(\n",
    "            model,\n",
    "            loss,\n",
    "            train_dataloader,\n",
    "            val_dataloader,\n",
    "            epochs=EPOCHS,\n",
    "            device=device,\n",
    "            lr=INITIAL_LR,\n",
    "            lr_decay_factor=LR_DECAY_FACTOR,\n",
    "            lr_decay_patience=LR_DECAY_PATIENCE,\n",
    "            weight_decay=WEIGHT_DECAY,\n",
    "            verbose=VERBOSE_TRAIN,\n",
    "            debug = DEBUG_TRAIN\n",
    "        )\n",
    "        \n",
    "        train_losses[model_name].append(tr_losses)\n",
    "        val_losses[model_name].append(vl_losses)\n",
    "\n",
    "        _, val_acc, val_f1, val_pred, val_targ = evaluate(model, val_dataloader, loss)\n",
    "        _, test_acc, test_f1, test_pred, test_targ = evaluate(model, test_dataloader, loss)\n",
    "        if VERBOSE_TRAIN:\n",
    "            print(f'[VAL] Model: {model_name} - acc: {val_acc:.4f} - f1: {val_f1:.4f}')\n",
    "            print(f'[TEST] Model: {model_name} - acc: {test_acc:.4f} - f1: {test_f1:.4f}')\n",
    "            print()\n",
    "        val_results[model_name].append({\n",
    "            'acc': val_acc,\n",
    "            'f1': val_f1,\n",
    "            'pred': val_pred,\n",
    "            'targ': val_targ\n",
    "        })\n",
    "        test_results[model_name].append({\n",
    "            'acc': test_acc,\n",
    "            'f1': test_f1,\n",
    "            'pred': test_pred,\n",
    "            'targ': test_targ\n",
    "        })\n",
    "        \n",
    "        del model\n",
    "        del models[0]\n",
    "        del model_names[0]\n",
    "        gc.collect()\n",
    "\n",
    "\n",
    "# save results\n",
    "with open(f'{save_path}/train_losses.pkl', 'wb') as f:\n",
    "    pickle.dump(train_losses, f)\n",
    "    \n",
    "with open(f'{save_path}/val_results.pkl', 'wb') as f:\n",
    "    pickle.dump(val_results, f)\n",
    "with open(f'{save_path}/val_losses.pkl', 'wb') as f:\n",
    "    pickle.dump(val_losses, f)\n",
    "\n",
    "with open(f'{save_path}/test_results.pkl', 'wb') as f:\n",
    "    pickle.dump(test_results, f)"
   ]
  },
  {
   "cell_type": "markdown",
   "id": "430db18d",
   "metadata": {
    "papermill": {
     "duration": 0.065433,
     "end_time": "2024-01-31T16:07:03.427154",
     "exception": false,
     "start_time": "2024-01-31T16:07:03.361721",
     "status": "completed"
    },
    "tags": []
   },
   "source": [
    "# Error Analysis"
   ]
  },
  {
   "cell_type": "code",
   "execution_count": 23,
   "id": "4fc138fe",
   "metadata": {
    "execution": {
     "iopub.execute_input": "2024-01-31T16:07:03.556497Z",
     "iopub.status.busy": "2024-01-31T16:07:03.556127Z",
     "iopub.status.idle": "2024-01-31T16:07:04.864929Z",
     "shell.execute_reply": "2024-01-31T16:07:04.863938Z"
    },
    "papermill": {
     "duration": 1.37708,
     "end_time": "2024-01-31T16:07:04.867424",
     "exception": false,
     "start_time": "2024-01-31T16:07:03.490344",
     "status": "completed"
    },
    "tags": []
   },
   "outputs": [
    {
     "data": {
      "image/png": "[encoded data removed]",
      "text/plain": [
       "<Figure size 1200x600 with 6 Axes>"
      ]
     },
     "metadata": {},
     "output_type": "display_data"
    }
   ],
   "source": [
    "fig, axes = plt.subplots(2, 3, figsize=(12, 6))\n",
    "\n",
    "for i, model_name in enumerate(train_losses.keys()):\n",
    "    tr_losses_model = np.mean(train_losses[model_name], axis=0)\n",
    "    vl_losses_model = np.mean(val_losses[model_name], axis=0)\n",
    "    axes[i//3, i%3].plot(tr_losses_model, label='train')\n",
    "    axes[i//3, i%3].plot(vl_losses_model, label='val')\n",
    "    axes[i//3, i%3].set_title(model_name)\n",
    "    axes[i//3, i%3].legend()\n",
    "axes[1, 2].axis('off')\n",
    "plt.tight_layout()\n",
    "plt.show()"
   ]
  },
  {
   "cell_type": "markdown",
   "id": "90a4a23b",
   "metadata": {
    "papermill": {
     "duration": 0.065114,
     "end_time": "2024-01-31T16:07:04.998130",
     "exception": false,
     "start_time": "2024-01-31T16:07:04.933016",
     "status": "completed"
    },
    "tags": []
   },
   "source": [
    "Best results store for each model the results obtained in the seed which produced the highest F1 score"
   ]
  },
  {
   "cell_type": "code",
   "execution_count": 24,
   "id": "d5a49171",
   "metadata": {
    "execution": {
     "iopub.execute_input": "2024-01-31T16:07:05.132914Z",
     "iopub.status.busy": "2024-01-31T16:07:05.132537Z",
     "iopub.status.idle": "2024-01-31T16:07:05.138638Z",
     "shell.execute_reply": "2024-01-31T16:07:05.137811Z"
    },
    "papermill": {
     "duration": 0.076178,
     "end_time": "2024-01-31T16:07:05.140764",
     "exception": false,
     "start_time": "2024-01-31T16:07:05.064586",
     "status": "completed"
    },
    "tags": []
   },
   "outputs": [],
   "source": [
    "# taking the best results for each model based on the highest F1-score obtained in a seed\n",
    "best_results = {\n",
    "    model_name: max(test_results[model_name], key=lambda x: x['f1']) for model_name in test_results.keys()\n",
    "}"
   ]
  },
  {
   "cell_type": "markdown",
   "id": "dc92f63f",
   "metadata": {
    "papermill": {
     "duration": 0.076179,
     "end_time": "2024-01-31T16:07:05.286519",
     "exception": false,
     "start_time": "2024-01-31T16:07:05.210340",
     "status": "completed"
    },
    "tags": []
   },
   "source": [
    "## Mean and Standard Deviation for Accuracy, F1, AUC"
   ]
  },
  {
   "cell_type": "code",
   "execution_count": 25,
   "id": "1e7fd07d",
   "metadata": {
    "execution": {
     "iopub.execute_input": "2024-01-31T16:07:05.433597Z",
     "iopub.status.busy": "2024-01-31T16:07:05.433227Z",
     "iopub.status.idle": "2024-01-31T16:07:05.601263Z",
     "shell.execute_reply": "2024-01-31T16:07:05.600330Z"
    },
    "papermill": {
     "duration": 0.241867,
     "end_time": "2024-01-31T16:07:05.603382",
     "exception": false,
     "start_time": "2024-01-31T16:07:05.361515",
     "status": "completed"
    },
    "tags": []
   },
   "outputs": [
    {
     "data": {
      "text/html": [
       "<div>\n",
       "<style scoped>\n",
       "    .dataframe tbody tr th:only-of-type {\n",
       "        vertical-align: middle;\n",
       "    }\n",
       "\n",
       "    .dataframe tbody tr th {\n",
       "        vertical-align: top;\n",
       "    }\n",
       "\n",
       "    .dataframe thead tr th {\n",
       "        text-align: left;\n",
       "    }\n",
       "</style>\n",
       "<table border=\"1\" class=\"dataframe\">\n",
       "  <thead>\n",
       "    <tr>\n",
       "      <th></th>\n",
       "      <th colspan=\"2\" halign=\"left\">Accuracy</th>\n",
       "      <th colspan=\"2\" halign=\"left\">F1</th>\n",
       "      <th colspan=\"2\" halign=\"left\">AUC</th>\n",
       "    </tr>\n",
       "    <tr>\n",
       "      <th></th>\n",
       "      <th>mean</th>\n",
       "      <th>std</th>\n",
       "      <th>mean</th>\n",
       "      <th>std</th>\n",
       "      <th>mean</th>\n",
       "      <th>std</th>\n",
       "    </tr>\n",
       "  </thead>\n",
       "  <tbody>\n",
       "    <tr>\n",
       "      <th>unaligned</th>\n",
       "      <td>0.697</td>\n",
       "      <td>0.002</td>\n",
       "      <td>0.696</td>\n",
       "      <td>0.003</td>\n",
       "      <td>0.697</td>\n",
       "      <td>0.003</td>\n",
       "    </tr>\n",
       "    <tr>\n",
       "      <th>multimodal</th>\n",
       "      <td>0.693</td>\n",
       "      <td>0.003</td>\n",
       "      <td>0.691</td>\n",
       "      <td>0.003</td>\n",
       "      <td>0.692</td>\n",
       "      <td>0.003</td>\n",
       "    </tr>\n",
       "    <tr>\n",
       "      <th>ensembling</th>\n",
       "      <td>0.682</td>\n",
       "      <td>0.002</td>\n",
       "      <td>0.682</td>\n",
       "      <td>0.002</td>\n",
       "      <td>0.682</td>\n",
       "      <td>0.002</td>\n",
       "    </tr>\n",
       "    <tr>\n",
       "      <th>text_only</th>\n",
       "      <td>0.681</td>\n",
       "      <td>0.002</td>\n",
       "      <td>0.679</td>\n",
       "      <td>0.003</td>\n",
       "      <td>0.680</td>\n",
       "      <td>0.003</td>\n",
       "    </tr>\n",
       "    <tr>\n",
       "      <th>audio_only</th>\n",
       "      <td>0.546</td>\n",
       "      <td>0.003</td>\n",
       "      <td>0.527</td>\n",
       "      <td>0.014</td>\n",
       "      <td>0.542</td>\n",
       "      <td>0.002</td>\n",
       "    </tr>\n",
       "  </tbody>\n",
       "</table>\n",
       "</div>"
      ],
      "text/plain": [
       "           Accuracy          F1         AUC      \n",
       "               mean   std  mean   std  mean   std\n",
       "unaligned     0.697 0.002 0.696 0.003 0.697 0.003\n",
       "multimodal    0.693 0.003 0.691 0.003 0.692 0.003\n",
       "ensembling    0.682 0.002 0.682 0.002 0.682 0.002\n",
       "text_only     0.681 0.002 0.679 0.003 0.680 0.003\n",
       "audio_only    0.546 0.003 0.527 0.014 0.542 0.002"
      ]
     },
     "execution_count": 25,
     "metadata": {},
     "output_type": "execute_result"
    }
   ],
   "source": [
    "# mean and standard deviation for the accuracy, F1 and AUC\n",
    "aggregated_results = {}\n",
    "for model_name, results in test_results.items():\n",
    "    aggregated_results[model_name] = {\n",
    "        'acc mean': torch.tensor([x['acc'] for x in results]).mean().item(),\n",
    "        'acc std': torch.tensor([x['acc'] for x in results]).std().item(),\n",
    "        'f1 mean': torch.tensor([x['f1'] for x in results]).mean().item(),\n",
    "        'f1 std': torch.tensor([x['f1'] for x in results]).std().item(),\n",
    "        'AUC mean': torch.tensor([roc_auc_score(x['targ'].cpu(), x['pred'].cpu()) for x in results]).mean().item(),\n",
    "        'AUC std': torch.tensor([roc_auc_score(x['targ'].cpu(), x['pred'].cpu()) for x in results]).std().item(),\n",
    "    }\n",
    "\n",
    "# create multiindex dataframe with first level accuracy, f1 and second level mean and std\n",
    "aggregated_results_df = pd.DataFrame(aggregated_results).T\n",
    "aggregated_results_df.columns = pd.MultiIndex.from_product([['Accuracy', 'F1', 'AUC'], ['mean', 'std']])\n",
    "aggregated_results_df.sort_values(by=('F1', 'mean'), ascending=False)"
   ]
  },
  {
   "cell_type": "markdown",
   "id": "b3873e5a",
   "metadata": {
    "papermill": {
     "duration": 0.065546,
     "end_time": "2024-01-31T16:07:05.734541",
     "exception": false,
     "start_time": "2024-01-31T16:07:05.668995",
     "status": "completed"
    },
    "tags": []
   },
   "source": [
    "## ROC curves and AUC for the model in best_results"
   ]
  },
  {
   "cell_type": "code",
   "execution_count": 26,
   "id": "142cc70a",
   "metadata": {
    "execution": {
     "iopub.execute_input": "2024-01-31T16:07:05.867470Z",
     "iopub.status.busy": "2024-01-31T16:07:05.867114Z",
     "iopub.status.idle": "2024-01-31T16:07:06.231364Z",
     "shell.execute_reply": "2024-01-31T16:07:06.230462Z"
    },
    "papermill": {
     "duration": 0.433858,
     "end_time": "2024-01-31T16:07:06.234238",
     "exception": false,
     "start_time": "2024-01-31T16:07:05.800380",
     "status": "completed"
    },
    "tags": []
   },
   "outputs": [
    {
     "data": {
      "image/png": "[encoded data removed]",
      "text/plain": [
       "<Figure size 1600x800 with 1 Axes>"
      ]
     },
     "metadata": {},
     "output_type": "display_data"
    }
   ],
   "source": [
    "# plot ROC curves and compute AUC\n",
    "plt.figure(figsize=(16, 8))\n",
    "for model_name in test_results.keys():\n",
    "    best_result = best_results[model_name]\n",
    "    # compute the ROC curve\n",
    "    fpr, tpr, _ = roc_curve(best_result['targ'].cpu(), best_result['pred'].cpu())\n",
    "    # compute the AUC\n",
    "    auc = roc_auc_score(best_result['targ'].cpu(), best_result['pred'].cpu())\n",
    "    # plot the ROC curve\n",
    "    plt.plot(fpr, tpr, label=f'{model_name} - AUC: {auc:.4f}')\n",
    "plt.xlabel('False Positive Rate')\n",
    "plt.ylabel('True Positive Rate')\n",
    "plt.legend()\n",
    "plt.show()"
   ]
  },
  {
   "cell_type": "markdown",
   "id": "f3d0d96b",
   "metadata": {
    "papermill": {
     "duration": 0.066606,
     "end_time": "2024-01-31T16:07:06.367772",
     "exception": false,
     "start_time": "2024-01-31T16:07:06.301166",
     "status": "completed"
    },
    "tags": []
   },
   "source": [
    "# Precision-Recall curves for models in best_models"
   ]
  },
  {
   "cell_type": "code",
   "execution_count": 27,
   "id": "079ee94a",
   "metadata": {
    "execution": {
     "iopub.execute_input": "2024-01-31T16:07:06.505202Z",
     "iopub.status.busy": "2024-01-31T16:07:06.504805Z",
     "iopub.status.idle": "2024-01-31T16:07:06.848149Z",
     "shell.execute_reply": "2024-01-31T16:07:06.847231Z"
    },
    "papermill": {
     "duration": 0.414277,
     "end_time": "2024-01-31T16:07:06.850393",
     "exception": false,
     "start_time": "2024-01-31T16:07:06.436116",
     "status": "completed"
    },
    "tags": []
   },
   "outputs": [
    {
     "data": {
      "image/png": "[encoded data removed]",
      "text/plain": [
       "<Figure size 1600x800 with 1 Axes>"
      ]
     },
     "metadata": {},
     "output_type": "display_data"
    }
   ],
   "source": [
    "# plot precision-recall curves\n",
    "plt.figure(figsize=(16, 8))\n",
    "for model_name in test_results.keys():\n",
    "    best_result = best_results[model_name]\n",
    "    # compute the precision-recall curve\n",
    "    precision, recall, _ = precision_recall_curve(best_result['targ'].cpu(), best_result['pred'].cpu())\n",
    "    # plot the precision-recall curve\n",
    "    plt.plot(recall, precision, label=f'{model_name}')\n",
    "plt.xlabel('Recall')\n",
    "plt.ylabel('Precision')\n",
    "plt.legend()\n",
    "plt.show()"
   ]
  },
  {
   "cell_type": "markdown",
   "id": "a3552535",
   "metadata": {
    "papermill": {
     "duration": 0.068093,
     "end_time": "2024-01-31T16:07:06.987645",
     "exception": false,
     "start_time": "2024-01-31T16:07:06.919552",
     "status": "completed"
    },
    "tags": []
   },
   "source": [
    "## Confusion Matrix for models in best_models"
   ]
  },
  {
   "cell_type": "code",
   "execution_count": 28,
   "id": "c585865f",
   "metadata": {
    "execution": {
     "iopub.execute_input": "2024-01-31T16:07:07.127235Z",
     "iopub.status.busy": "2024-01-31T16:07:07.126830Z",
     "iopub.status.idle": "2024-01-31T16:07:09.241616Z",
     "shell.execute_reply": "2024-01-31T16:07:09.240522Z"
    },
    "papermill": {
     "duration": 2.188283,
     "end_time": "2024-01-31T16:07:09.244850",
     "exception": false,
     "start_time": "2024-01-31T16:07:07.056567",
     "status": "completed"
    },
    "tags": []
   },
   "outputs": [
    {
     "data": {
      "image/png": "[encoded data removed]",
      "text/plain": [
       "<Figure size 1600x800 with 11 Axes>"
      ]
     },
     "metadata": {},
     "output_type": "display_data"
    }
   ],
   "source": [
    "fig, axes = plt.subplots(2, 3, figsize=(16, 8))\n",
    "for i, model_name in enumerate(test_results.keys()):\n",
    "    best_result = best_results[model_name]\n",
    "    \n",
    "    cm = confusion_matrix([ID_2_LABEL[label.item()] for label in best_result['targ'].cpu()],\n",
    "                      [ID_2_LABEL[label.item()] for label in best_result['pred'].cpu()])\n",
    "                      \n",
    "    sns.heatmap(cm, annot=True, ax=axes[i//3][i%3], fmt='d', cmap='Blues', xticklabels=['Claim', 'Premise'], yticklabels=['Claim', 'Premise'])\n",
    "    axes[i//3][i%3].set_title(model_name)\n",
    "    axes[i//3][i%3].set_xlabel('Predicted')\n",
    "    axes[i//3][i%3].set_ylabel('True')\n",
    "axes[1][2].axis('off')\n",
    "plt.tight_layout()\n",
    "plt.show()"
   ]
  },
  {
   "cell_type": "markdown",
   "id": "991dfe42",
   "metadata": {
    "papermill": {
     "duration": 0.082436,
     "end_time": "2024-01-31T16:07:09.410627",
     "exception": false,
     "start_time": "2024-01-31T16:07:09.328191",
     "status": "completed"
    },
    "tags": []
   },
   "source": [
    "# Breakdown analysis on the Best performing model"
   ]
  },
  {
   "cell_type": "code",
   "execution_count": 29,
   "id": "ab88173a",
   "metadata": {
    "execution": {
     "iopub.execute_input": "2024-01-31T16:07:09.568232Z",
     "iopub.status.busy": "2024-01-31T16:07:09.567359Z",
     "iopub.status.idle": "2024-01-31T16:07:10.215989Z",
     "shell.execute_reply": "2024-01-31T16:07:10.214846Z"
    },
    "papermill": {
     "duration": 0.729936,
     "end_time": "2024-01-31T16:07:10.220267",
     "exception": false,
     "start_time": "2024-01-31T16:07:09.490331",
     "status": "completed"
    },
    "tags": []
   },
   "outputs": [
    {
     "name": "stdout",
     "output_type": "stream",
     "text": [
      "Best performing model: unaligned\n",
      "Accuracy: 0.7004\n",
      "F1: 0.7004\n",
      "AUC: 0.7007\n",
      "\n",
      "              precision    recall  f1-score   support\n",
      "\n",
      "       Claim       0.72      0.69      0.70      3037\n",
      "     Premise       0.68      0.71      0.70      2871\n",
      "\n",
      "    accuracy                           0.70      5908\n",
      "   macro avg       0.70      0.70      0.70      5908\n",
      "weighted avg       0.70      0.70      0.70      5908\n",
      "\n"
     ]
    },
    {
     "data": {
      "image/png": "[encoded data removed]",
      "text/plain": [
       "<Figure size 640x480 with 2 Axes>"
      ]
     },
     "metadata": {},
     "output_type": "display_data"
    }
   ],
   "source": [
    "best_performing_model_name = max(aggregated_results_df['F1']['mean'].items(), key=lambda x: x[1])[0]\n",
    "\n",
    "best_performing_model = max(test_results[best_performing_model_name], key=lambda x: x['f1'])\n",
    "\n",
    "print(f'Best performing model: {best_performing_model_name}')\n",
    "print(f'Accuracy: {best_performing_model[\"acc\"]:.4f}')\n",
    "print(f'F1: {best_performing_model[\"f1\"]:.4f}')\n",
    "print(f'AUC: {roc_auc_score(best_performing_model[\"targ\"].cpu(), best_performing_model[\"pred\"].cpu()):.4f}')\n",
    "print()\n",
    "\n",
    "print(classification_report([ID_2_LABEL[label.item()] for label in best_performing_model['targ']],\n",
    "                            [ID_2_LABEL[label.item()] for label in best_performing_model['pred']])) \n",
    "\n",
    "cm = confusion_matrix([ID_2_LABEL[label.item()] for label in best_performing_model['targ']],\n",
    "                        [ID_2_LABEL[label.item()] for label in best_performing_model['pred']])          \n",
    "\n",
    "sns.heatmap(cm, annot=True, fmt='d', cmap='Blues', xticklabels=['Claim', 'Premise'], yticklabels=['Claim', 'Premise'])\n",
    "plt.xlabel('Predicted')\n",
    "plt.ylabel('True')\n",
    "plt.show()"
   ]
  }
 ],
 "metadata": {
  "kaggle": {
   "accelerator": "none",
   "dataSources": [
    {
     "datasetId": 4304373,
     "sourceId": 7402218,
     "sourceType": "datasetVersion"
    },
    {
     "datasetId": 4354582,
     "sourceId": 7480566,
     "sourceType": "datasetVersion"
    },
    {
     "sourceId": 160784318,
     "sourceType": "kernelVersion"
    },
    {
     "sourceId": 160785062,
     "sourceType": "kernelVersion"
    }
   ],
   "dockerImageVersionId": 30636,
   "isGpuEnabled": false,
   "isInternetEnabled": true,
   "language": "python",
   "sourceType": "notebook"
  },
  "kernelspec": {
   "display_name": "Python 3",
   "language": "python",
   "name": "python3"
  },
  "language_info": {
   "codemirror_mode": {
    "name": "ipython",
    "version": 3
   },
   "file_extension": ".py",
   "mimetype": "text/x-python",
   "name": "python",
   "nbconvert_exporter": "python",
   "pygments_lexer": "ipython3",
   "version": "3.10.12"
  },
  "papermill": {
   "default_parameters": {},
   "duration": 25978.677236,
   "end_time": "2024-01-31T16:07:14.071231",
   "environment_variables": {},
   "exception": null,
   "input_path": "__notebook__.ipynb",
   "output_path": "__notebook__.ipynb",
   "parameters": {},
   "start_time": "2024-01-31T08:54:15.393995",
   "version": "2.4.0"
  },
  "widgets": {
   "application/vnd.jupyter.widget-state+json": {
    "state": {
     "06076b21dc52401fb855ed9d203fcf64": {
      "model_module": "@jupyter-widgets/base",
      "model_module_version": "1.2.0",
      "model_name": "LayoutModel",
      "state": {
       "_model_module": "@jupyter-widgets/base",
       "_model_module_version": "1.2.0",
       "_model_name": "LayoutModel",
       "_view_count": null,
       "_view_module": "@jupyter-widgets/base",
       "_view_module_version": "1.2.0",
       "_view_name": "LayoutView",
       "align_content": null,
       "align_items": null,
       "align_self": null,
       "border": null,
       "bottom": null,
       "display": null,
       "flex": null,
       "flex_flow": null,
       "grid_area": null,
       "grid_auto_columns": null,
       "grid_auto_flow": null,
       "grid_auto_rows": null,
       "grid_column": null,
       "grid_gap": null,
       "grid_row": null,
       "grid_template_areas": null,
       "grid_template_columns": null,
       "grid_template_rows": null,
       "height": null,
       "justify_content": null,
       "justify_items": null,
       "left": null,
       "margin": null,
       "max_height": null,
       "max_width": null,
       "min_height": null,
       "min_width": null,
       "object_fit": null,
       "object_position": null,
       "order": null,
       "overflow": null,
       "overflow_x": null,
       "overflow_y": null,
       "padding": null,
       "right": null,
       "top": null,
       "visibility": null,
       "width": null
      }
     },
     "1c114f8b6bbc4f11ae3a13434dd4afff": {
      "model_module": "@jupyter-widgets/controls",
      "model_module_version": "1.5.0",
      "model_name": "DescriptionStyleModel",
      "state": {
       "_model_module": "@jupyter-widgets/controls",
       "_model_module_version": "1.5.0",
       "_model_name": "DescriptionStyleModel",
       "_view_count": null,
       "_view_module": "@jupyter-widgets/base",
       "_view_module_version": "1.2.0",
       "_view_name": "StyleView",
       "description_width": ""
      }
     },
     "1d15076c584e4ec0bcb6e5c01d4016c1": {
      "model_module": "@jupyter-widgets/controls",
      "model_module_version": "1.5.0",
      "model_name": "FloatProgressModel",
      "state": {
       "_dom_classes": [],
       "_model_module": "@jupyter-widgets/controls",
       "_model_module_version": "1.5.0",
       "_model_name": "FloatProgressModel",
       "_view_count": null,
       "_view_module": "@jupyter-widgets/controls",
       "_view_module_version": "1.5.0",
       "_view_name": "ProgressView",
       "bar_style": "success",
       "description": "",
       "description_tooltip": null,
       "layout": "IPY_MODEL_3b0d8c96b1974a7cb7c920533abe899b",
       "max": 28.0,
       "min": 0.0,
       "orientation": "horizontal",
       "style": "IPY_MODEL_8f1d0f8335f641cc9c1b8336567b6d59",
       "value": 28.0
      }
     },
     "2293b3377c4d4ff4aebd3dc2c8c9f8d0": {
      "model_module": "@jupyter-widgets/controls",
      "model_module_version": "1.5.0",
      "model_name": "DescriptionStyleModel",
      "state": {
       "_model_module": "@jupyter-widgets/controls",
       "_model_module_version": "1.5.0",
       "_model_name": "DescriptionStyleModel",
       "_view_count": null,
       "_view_module": "@jupyter-widgets/base",
       "_view_module_version": "1.2.0",
       "_view_name": "StyleView",
       "description_width": ""
      }
     },
     "2b0b38c5dd6b435e80e7987e54f5a685": {
      "model_module": "@jupyter-widgets/base",
      "model_module_version": "1.2.0",
      "model_name": "LayoutModel",
      "state": {
       "_model_module": "@jupyter-widgets/base",
       "_model_module_version": "1.2.0",
       "_model_name": "LayoutModel",
       "_view_count": null,
       "_view_module": "@jupyter-widgets/base",
       "_view_module_version": "1.2.0",
       "_view_name": "LayoutView",
       "align_content": null,
       "align_items": null,
       "align_self": null,
       "border": null,
       "bottom": null,
       "display": null,
       "flex": null,
       "flex_flow": null,
       "grid_area": null,
       "grid_auto_columns": null,
       "grid_auto_flow": null,
       "grid_auto_rows": null,
       "grid_column": null,
       "grid_gap": null,
       "grid_row": null,
       "grid_template_areas": null,
       "grid_template_columns": null,
       "grid_template_rows": null,
       "height": null,
       "justify_content": null,
       "justify_items": null,
       "left": null,
       "margin": null,
       "max_height": null,
       "max_width": null,
       "min_height": null,
       "min_width": null,
       "object_fit": null,
       "object_position": null,
       "order": null,
       "overflow": null,
       "overflow_x": null,
       "overflow_y": null,
       "padding": null,
       "right": null,
       "top": null,
       "visibility": null,
       "width": null
      }
     },
     "3682c5f6d6e34629994794d9842b1220": {
      "model_module": "@jupyter-widgets/controls",
      "model_module_version": "1.5.0",
      "model_name": "DescriptionStyleModel",
      "state": {
       "_model_module": "@jupyter-widgets/controls",
       "_model_module_version": "1.5.0",
       "_model_name": "DescriptionStyleModel",
       "_view_count": null,
       "_view_module": "@jupyter-widgets/base",
       "_view_module_version": "1.2.0",
       "_view_name": "StyleView",
       "description_width": ""
      }
     },
     "38f15367c2ae4f13b949458e7649d2ae": {
      "model_module": "@jupyter-widgets/base",
      "model_module_version": "1.2.0",
      "model_name": "LayoutModel",
      "state": {
       "_model_module": "@jupyter-widgets/base",
       "_model_module_version": "1.2.0",
       "_model_name": "LayoutModel",
       "_view_count": null,
       "_view_module": "@jupyter-widgets/base",
       "_view_module_version": "1.2.0",
       "_view_name": "LayoutView",
       "align_content": null,
       "align_items": null,
       "align_self": null,
       "border": null,
       "bottom": null,
       "display": null,
       "flex": null,
       "flex_flow": null,
       "grid_area": null,
       "grid_auto_columns": null,
       "grid_auto_flow": null,
       "grid_auto_rows": null,
       "grid_column": null,
       "grid_gap": null,
       "grid_row": null,
       "grid_template_areas": null,
       "grid_template_columns": null,
       "grid_template_rows": null,
       "height": null,
       "justify_content": null,
       "justify_items": null,
       "left": null,
       "margin": null,
       "max_height": null,
       "max_width": null,
       "min_height": null,
       "min_width": null,
       "object_fit": null,
       "object_position": null,
       "order": null,
       "overflow": null,
       "overflow_x": null,
       "overflow_y": null,
       "padding": null,
       "right": null,
       "top": null,
       "visibility": null,
       "width": null
      }
     },
     "392289dfc136441fadd8c266b6a99ecf": {
      "model_module": "@jupyter-widgets/controls",
      "model_module_version": "1.5.0",
      "model_name": "DescriptionStyleModel",
      "state": {
       "_model_module": "@jupyter-widgets/controls",
       "_model_module_version": "1.5.0",
       "_model_name": "DescriptionStyleModel",
       "_view_count": null,
       "_view_module": "@jupyter-widgets/base",
       "_view_module_version": "1.2.0",
       "_view_name": "StyleView",
       "description_width": ""
      }
     },
     "39f2727d8c614ef798d341e6379c0e20": {
      "model_module": "@jupyter-widgets/controls",
      "model_module_version": "1.5.0",
      "model_name": "FloatProgressModel",
      "state": {
       "_dom_classes": [],
       "_model_module": "@jupyter-widgets/controls",
       "_model_module_version": "1.5.0",
       "_model_name": "FloatProgressModel",
       "_view_count": null,
       "_view_module": "@jupyter-widgets/controls",
       "_view_module_version": "1.5.0",
       "_view_name": "ProgressView",
       "bar_style": "success",
       "description": "",
       "description_tooltip": null,
       "layout": "IPY_MODEL_bde8992bc4094a14bcedf65cd3060bcc",
       "max": 466062.0,
       "min": 0.0,
       "orientation": "horizontal",
       "style": "IPY_MODEL_c9439a42934c42a092bccc55909e7ee4",
       "value": 466062.0
      }
     },
     "3b0d8c96b1974a7cb7c920533abe899b": {
      "model_module": "@jupyter-widgets/base",
      "model_module_version": "1.2.0",
      "model_name": "LayoutModel",
      "state": {
       "_model_module": "@jupyter-widgets/base",
       "_model_module_version": "1.2.0",
       "_model_name": "LayoutModel",
       "_view_count": null,
       "_view_module": "@jupyter-widgets/base",
       "_view_module_version": "1.2.0",
       "_view_name": "LayoutView",
       "align_content": null,
       "align_items": null,
       "align_self": null,
       "border": null,
       "bottom": null,
       "display": null,
       "flex": null,
       "flex_flow": null,
       "grid_area": null,
       "grid_auto_columns": null,
       "grid_auto_flow": null,
       "grid_auto_rows": null,
       "grid_column": null,
       "grid_gap": null,
       "grid_row": null,
       "grid_template_areas": null,
       "grid_template_columns": null,
       "grid_template_rows": null,
       "height": null,
       "justify_content": null,
       "justify_items": null,
       "left": null,
       "margin": null,
       "max_height": null,
       "max_width": null,
       "min_height": null,
       "min_width": null,
       "object_fit": null,
       "object_position": null,
       "order": null,
       "overflow": null,
       "overflow_x": null,
       "overflow_y": null,
       "padding": null,
       "right": null,
       "top": null,
       "visibility": null,
       "width": null
      }
     },
     "3c7483be1f344653b07822cab8f8ab23": {
      "model_module": "@jupyter-widgets/base",
      "model_module_version": "1.2.0",
      "model_name": "LayoutModel",
      "state": {
       "_model_module": "@jupyter-widgets/base",
       "_model_module_version": "1.2.0",
       "_model_name": "LayoutModel",
       "_view_count": null,
       "_view_module": "@jupyter-widgets/base",
       "_view_module_version": "1.2.0",
       "_view_name": "LayoutView",
       "align_content": null,
       "align_items": null,
       "align_self": null,
       "border": null,
       "bottom": null,
       "display": null,
       "flex": null,
       "flex_flow": null,
       "grid_area": null,
       "grid_auto_columns": null,
       "grid_auto_flow": null,
       "grid_auto_rows": null,
       "grid_column": null,
       "grid_gap": null,
       "grid_row": null,
       "grid_template_areas": null,
       "grid_template_columns": null,
       "grid_template_rows": null,
       "height": null,
       "justify_content": null,
       "justify_items": null,
       "left": null,
       "margin": null,
       "max_height": null,
       "max_width": null,
       "min_height": null,
       "min_width": null,
       "object_fit": null,
       "object_position": null,
       "order": null,
       "overflow": null,
       "overflow_x": null,
       "overflow_y": null,
       "padding": null,
       "right": null,
       "top": null,
       "visibility": null,
       "width": null
      }
     },
     "3ef0facdbf3248a289b714a41525cdfd": {
      "model_module": "@jupyter-widgets/controls",
      "model_module_version": "1.5.0",
      "model_name": "HTMLModel",
      "state": {
       "_dom_classes": [],
       "_model_module": "@jupyter-widgets/controls",
       "_model_module_version": "1.5.0",
       "_model_name": "HTMLModel",
       "_view_count": null,
       "_view_module": "@jupyter-widgets/controls",
       "_view_module_version": "1.5.0",
       "_view_name": "HTMLView",
       "description": "",
       "description_tooltip": null,
       "layout": "IPY_MODEL_c2b16535ae894a5dae23dba0d8e12308",
       "placeholder": "​",
       "style": "IPY_MODEL_a01f4977fabe4c5ea5ee45da691f8837",
       "value": " 440M/440M [00:01&lt;00:00, 308MB/s]"
      }
     },
     "3fce5a9b4898421ba0236263602313e9": {
      "model_module": "@jupyter-widgets/controls",
      "model_module_version": "1.5.0",
      "model_name": "HTMLModel",
      "state": {
       "_dom_classes": [],
       "_model_module": "@jupyter-widgets/controls",
       "_model_module_version": "1.5.0",
       "_model_name": "HTMLModel",
       "_view_count": null,
       "_view_module": "@jupyter-widgets/controls",
       "_view_module_version": "1.5.0",
       "_view_name": "HTMLView",
       "description": "",
       "description_tooltip": null,
       "layout": "IPY_MODEL_daae8525612b4f63a0ceb645a61440e0",
       "placeholder": "​",
       "style": "IPY_MODEL_713f011ab62d4ca293fc3d457f551b24",
       "value": "model.safetensors: 100%"
      }
     },
     "49e3519a1a1e46a48a416b061a1da0c4": {
      "model_module": "@jupyter-widgets/controls",
      "model_module_version": "1.5.0",
      "model_name": "FloatProgressModel",
      "state": {
       "_dom_classes": [],
       "_model_module": "@jupyter-widgets/controls",
       "_model_module_version": "1.5.0",
       "_model_name": "FloatProgressModel",
       "_view_count": null,
       "_view_module": "@jupyter-widgets/controls",
       "_view_module_version": "1.5.0",
       "_view_name": "ProgressView",
       "bar_style": "success",
       "description": "",
       "description_tooltip": null,
       "layout": "IPY_MODEL_8da3f1ca2c0c4cbeaaae42a957ad11f0",
       "max": 231508.0,
       "min": 0.0,
       "orientation": "horizontal",
       "style": "IPY_MODEL_dc096d16e02c449b9fa0d13b414a5119",
       "value": 231508.0
      }
     },
     "5596c319707f4a2e942fbae7b3c11ec1": {
      "model_module": "@jupyter-widgets/base",
      "model_module_version": "1.2.0",
      "model_name": "LayoutModel",
      "state": {
       "_model_module": "@jupyter-widgets/base",
       "_model_module_version": "1.2.0",
       "_model_name": "LayoutModel",
       "_view_count": null,
       "_view_module": "@jupyter-widgets/base",
       "_view_module_version": "1.2.0",
       "_view_name": "LayoutView",
       "align_content": null,
       "align_items": null,
       "align_self": null,
       "border": null,
       "bottom": null,
       "display": null,
       "flex": null,
       "flex_flow": null,
       "grid_area": null,
       "grid_auto_columns": null,
       "grid_auto_flow": null,
       "grid_auto_rows": null,
       "grid_column": null,
       "grid_gap": null,
       "grid_row": null,
       "grid_template_areas": null,
       "grid_template_columns": null,
       "grid_template_rows": null,
       "height": null,
       "justify_content": null,
       "justify_items": null,
       "left": null,
       "margin": null,
       "max_height": null,
       "max_width": null,
       "min_height": null,
       "min_width": null,
       "object_fit": null,
       "object_position": null,
       "order": null,
       "overflow": null,
       "overflow_x": null,
       "overflow_y": null,
       "padding": null,
       "right": null,
       "top": null,
       "visibility": null,
       "width": null
      }
     },
     "59502b93ceff45349f610a851d8fb86e": {
      "model_module": "@jupyter-widgets/controls",
      "model_module_version": "1.5.0",
      "model_name": "HTMLModel",
      "state": {
       "_dom_classes": [],
       "_model_module": "@jupyter-widgets/controls",
       "_model_module_version": "1.5.0",
       "_model_name": "HTMLModel",
       "_view_count": null,
       "_view_module": "@jupyter-widgets/controls",
       "_view_module_version": "1.5.0",
       "_view_name": "HTMLView",
       "description": "",
       "description_tooltip": null,
       "layout": "IPY_MODEL_983eed2bda0a471089a5db314158b5ea",
       "placeholder": "​",
       "style": "IPY_MODEL_7a619b67c8674776bc5697def34587c2",
       "value": " 570/570 [00:00&lt;00:00, 51.9kB/s]"
      }
     },
     "5cef8b2099114936bcee008c4ddf3247": {
      "model_module": "@jupyter-widgets/controls",
      "model_module_version": "1.5.0",
      "model_name": "HTMLModel",
      "state": {
       "_dom_classes": [],
       "_model_module": "@jupyter-widgets/controls",
       "_model_module_version": "1.5.0",
       "_model_name": "HTMLModel",
       "_view_count": null,
       "_view_module": "@jupyter-widgets/controls",
       "_view_module_version": "1.5.0",
       "_view_name": "HTMLView",
       "description": "",
       "description_tooltip": null,
       "layout": "IPY_MODEL_2b0b38c5dd6b435e80e7987e54f5a685",
       "placeholder": "​",
       "style": "IPY_MODEL_3682c5f6d6e34629994794d9842b1220",
       "value": "vocab.txt: 100%"
      }
     },
     "645fff3fef10494a978d8069f771988e": {
      "model_module": "@jupyter-widgets/controls",
      "model_module_version": "1.5.0",
      "model_name": "HTMLModel",
      "state": {
       "_dom_classes": [],
       "_model_module": "@jupyter-widgets/controls",
       "_model_module_version": "1.5.0",
       "_model_name": "HTMLModel",
       "_view_count": null,
       "_view_module": "@jupyter-widgets/controls",
       "_view_module_version": "1.5.0",
       "_view_name": "HTMLView",
       "description": "",
       "description_tooltip": null,
       "layout": "IPY_MODEL_7b1f837a35d344499efb5924bb1fb45d",
       "placeholder": "​",
       "style": "IPY_MODEL_a05d94b044e24596a146a4ce4af03ffc",
       "value": " 232k/232k [00:00&lt;00:00, 1.78MB/s]"
      }
     },
     "69a5b75c28ec431b8dcefa771201e071": {
      "model_module": "@jupyter-widgets/base",
      "model_module_version": "1.2.0",
      "model_name": "LayoutModel",
      "state": {
       "_model_module": "@jupyter-widgets/base",
       "_model_module_version": "1.2.0",
       "_model_name": "LayoutModel",
       "_view_count": null,
       "_view_module": "@jupyter-widgets/base",
       "_view_module_version": "1.2.0",
       "_view_name": "LayoutView",
       "align_content": null,
       "align_items": null,
       "align_self": null,
       "border": null,
       "bottom": null,
       "display": null,
       "flex": null,
       "flex_flow": null,
       "grid_area": null,
       "grid_auto_columns": null,
       "grid_auto_flow": null,
       "grid_auto_rows": null,
       "grid_column": null,
       "grid_gap": null,
       "grid_row": null,
       "grid_template_areas": null,
       "grid_template_columns": null,
       "grid_template_rows": null,
       "height": null,
       "justify_content": null,
       "justify_items": null,
       "left": null,
       "margin": null,
       "max_height": null,
       "max_width": null,
       "min_height": null,
       "min_width": null,
       "object_fit": null,
       "object_position": null,
       "order": null,
       "overflow": null,
       "overflow_x": null,
       "overflow_y": null,
       "padding": null,
       "right": null,
       "top": null,
       "visibility": null,
       "width": null
      }
     },
     "6b0a0f2bbfbb4347be3b17e972a46d54": {
      "model_module": "@jupyter-widgets/controls",
      "model_module_version": "1.5.0",
      "model_name": "HTMLModel",
      "state": {
       "_dom_classes": [],
       "_model_module": "@jupyter-widgets/controls",
       "_model_module_version": "1.5.0",
       "_model_name": "HTMLModel",
       "_view_count": null,
       "_view_module": "@jupyter-widgets/controls",
       "_view_module_version": "1.5.0",
       "_view_name": "HTMLView",
       "description": "",
       "description_tooltip": null,
       "layout": "IPY_MODEL_69a5b75c28ec431b8dcefa771201e071",
       "placeholder": "​",
       "style": "IPY_MODEL_76e3c618aee2433ea1db4263ab40a166",
       "value": "tokenizer.json: 100%"
      }
     },
     "713f011ab62d4ca293fc3d457f551b24": {
      "model_module": "@jupyter-widgets/controls",
      "model_module_version": "1.5.0",
      "model_name": "DescriptionStyleModel",
      "state": {
       "_model_module": "@jupyter-widgets/controls",
       "_model_module_version": "1.5.0",
       "_model_name": "DescriptionStyleModel",
       "_view_count": null,
       "_view_module": "@jupyter-widgets/base",
       "_view_module_version": "1.2.0",
       "_view_name": "StyleView",
       "description_width": ""
      }
     },
     "76e3c618aee2433ea1db4263ab40a166": {
      "model_module": "@jupyter-widgets/controls",
      "model_module_version": "1.5.0",
      "model_name": "DescriptionStyleModel",
      "state": {
       "_model_module": "@jupyter-widgets/controls",
       "_model_module_version": "1.5.0",
       "_model_name": "DescriptionStyleModel",
       "_view_count": null,
       "_view_module": "@jupyter-widgets/base",
       "_view_module_version": "1.2.0",
       "_view_name": "StyleView",
       "description_width": ""
      }
     },
     "7a619b67c8674776bc5697def34587c2": {
      "model_module": "@jupyter-widgets/controls",
      "model_module_version": "1.5.0",
      "model_name": "DescriptionStyleModel",
      "state": {
       "_model_module": "@jupyter-widgets/controls",
       "_model_module_version": "1.5.0",
       "_model_name": "DescriptionStyleModel",
       "_view_count": null,
       "_view_module": "@jupyter-widgets/base",
       "_view_module_version": "1.2.0",
       "_view_name": "StyleView",
       "description_width": ""
      }
     },
     "7b1f837a35d344499efb5924bb1fb45d": {
      "model_module": "@jupyter-widgets/base",
      "model_module_version": "1.2.0",
      "model_name": "LayoutModel",
      "state": {
       "_model_module": "@jupyter-widgets/base",
       "_model_module_version": "1.2.0",
       "_model_name": "LayoutModel",
       "_view_count": null,
       "_view_module": "@jupyter-widgets/base",
       "_view_module_version": "1.2.0",
       "_view_name": "LayoutView",
       "align_content": null,
       "align_items": null,
       "align_self": null,
       "border": null,
       "bottom": null,
       "display": null,
       "flex": null,
       "flex_flow": null,
       "grid_area": null,
       "grid_auto_columns": null,
       "grid_auto_flow": null,
       "grid_auto_rows": null,
       "grid_column": null,
       "grid_gap": null,
       "grid_row": null,
       "grid_template_areas": null,
       "grid_template_columns": null,
       "grid_template_rows": null,
       "height": null,
       "justify_content": null,
       "justify_items": null,
       "left": null,
       "margin": null,
       "max_height": null,
       "max_width": null,
       "min_height": null,
       "min_width": null,
       "object_fit": null,
       "object_position": null,
       "order": null,
       "overflow": null,
       "overflow_x": null,
       "overflow_y": null,
       "padding": null,
       "right": null,
       "top": null,
       "visibility": null,
       "width": null
      }
     },
     "7d6535d73f8e435f978b8a3b2c2583fc": {
      "model_module": "@jupyter-widgets/controls",
      "model_module_version": "1.5.0",
      "model_name": "HTMLModel",
      "state": {
       "_dom_classes": [],
       "_model_module": "@jupyter-widgets/controls",
       "_model_module_version": "1.5.0",
       "_model_name": "HTMLModel",
       "_view_count": null,
       "_view_module": "@jupyter-widgets/controls",
       "_view_module_version": "1.5.0",
       "_view_name": "HTMLView",
       "description": "",
       "description_tooltip": null,
       "layout": "IPY_MODEL_3c7483be1f344653b07822cab8f8ab23",
       "placeholder": "​",
       "style": "IPY_MODEL_2293b3377c4d4ff4aebd3dc2c8c9f8d0",
       "value": "config.json: 100%"
      }
     },
     "81fa1e5cbaad47488edb600cf0ce1e16": {
      "model_module": "@jupyter-widgets/controls",
      "model_module_version": "1.5.0",
      "model_name": "ProgressStyleModel",
      "state": {
       "_model_module": "@jupyter-widgets/controls",
       "_model_module_version": "1.5.0",
       "_model_name": "ProgressStyleModel",
       "_view_count": null,
       "_view_module": "@jupyter-widgets/base",
       "_view_module_version": "1.2.0",
       "_view_name": "StyleView",
       "bar_color": null,
       "description_width": ""
      }
     },
     "8da3f1ca2c0c4cbeaaae42a957ad11f0": {
      "model_module": "@jupyter-widgets/base",
      "model_module_version": "1.2.0",
      "model_name": "LayoutModel",
      "state": {
       "_model_module": "@jupyter-widgets/base",
       "_model_module_version": "1.2.0",
       "_model_name": "LayoutModel",
       "_view_count": null,
       "_view_module": "@jupyter-widgets/base",
       "_view_module_version": "1.2.0",
       "_view_name": "LayoutView",
       "align_content": null,
       "align_items": null,
       "align_self": null,
       "border": null,
       "bottom": null,
       "display": null,
       "flex": null,
       "flex_flow": null,
       "grid_area": null,
       "grid_auto_columns": null,
       "grid_auto_flow": null,
       "grid_auto_rows": null,
       "grid_column": null,
       "grid_gap": null,
       "grid_row": null,
       "grid_template_areas": null,
       "grid_template_columns": null,
       "grid_template_rows": null,
       "height": null,
       "justify_content": null,
       "justify_items": null,
       "left": null,
       "margin": null,
       "max_height": null,
       "max_width": null,
       "min_height": null,
       "min_width": null,
       "object_fit": null,
       "object_position": null,
       "order": null,
       "overflow": null,
       "overflow_x": null,
       "overflow_y": null,
       "padding": null,
       "right": null,
       "top": null,
       "visibility": null,
       "width": null
      }
     },
     "8f1d0f8335f641cc9c1b8336567b6d59": {
      "model_module": "@jupyter-widgets/controls",
      "model_module_version": "1.5.0",
      "model_name": "ProgressStyleModel",
      "state": {
       "_model_module": "@jupyter-widgets/controls",
       "_model_module_version": "1.5.0",
       "_model_name": "ProgressStyleModel",
       "_view_count": null,
       "_view_module": "@jupyter-widgets/base",
       "_view_module_version": "1.2.0",
       "_view_name": "StyleView",
       "bar_color": null,
       "description_width": ""
      }
     },
     "983eed2bda0a471089a5db314158b5ea": {
      "model_module": "@jupyter-widgets/base",
      "model_module_version": "1.2.0",
      "model_name": "LayoutModel",
      "state": {
       "_model_module": "@jupyter-widgets/base",
       "_model_module_version": "1.2.0",
       "_model_name": "LayoutModel",
       "_view_count": null,
       "_view_module": "@jupyter-widgets/base",
       "_view_module_version": "1.2.0",
       "_view_name": "LayoutView",
       "align_content": null,
       "align_items": null,
       "align_self": null,
       "border": null,
       "bottom": null,
       "display": null,
       "flex": null,
       "flex_flow": null,
       "grid_area": null,
       "grid_auto_columns": null,
       "grid_auto_flow": null,
       "grid_auto_rows": null,
       "grid_column": null,
       "grid_gap": null,
       "grid_row": null,
       "grid_template_areas": null,
       "grid_template_columns": null,
       "grid_template_rows": null,
       "height": null,
       "justify_content": null,
       "justify_items": null,
       "left": null,
       "margin": null,
       "max_height": null,
       "max_width": null,
       "min_height": null,
       "min_width": null,
       "object_fit": null,
       "object_position": null,
       "order": null,
       "overflow": null,
       "overflow_x": null,
       "overflow_y": null,
       "padding": null,
       "right": null,
       "top": null,
       "visibility": null,
       "width": null
      }
     },
     "a01f4977fabe4c5ea5ee45da691f8837": {
      "model_module": "@jupyter-widgets/controls",
      "model_module_version": "1.5.0",
      "model_name": "DescriptionStyleModel",
      "state": {
       "_model_module": "@jupyter-widgets/controls",
       "_model_module_version": "1.5.0",
       "_model_name": "DescriptionStyleModel",
       "_view_count": null,
       "_view_module": "@jupyter-widgets/base",
       "_view_module_version": "1.2.0",
       "_view_name": "StyleView",
       "description_width": ""
      }
     },
     "a05d94b044e24596a146a4ce4af03ffc": {
      "model_module": "@jupyter-widgets/controls",
      "model_module_version": "1.5.0",
      "model_name": "DescriptionStyleModel",
      "state": {
       "_model_module": "@jupyter-widgets/controls",
       "_model_module_version": "1.5.0",
       "_model_name": "DescriptionStyleModel",
       "_view_count": null,
       "_view_module": "@jupyter-widgets/base",
       "_view_module_version": "1.2.0",
       "_view_name": "StyleView",
       "description_width": ""
      }
     },
     "a2b9c58043e142f78e81595fcec5671a": {
      "model_module": "@jupyter-widgets/base",
      "model_module_version": "1.2.0",
      "model_name": "LayoutModel",
      "state": {
       "_model_module": "@jupyter-widgets/base",
       "_model_module_version": "1.2.0",
       "_model_name": "LayoutModel",
       "_view_count": null,
       "_view_module": "@jupyter-widgets/base",
       "_view_module_version": "1.2.0",
       "_view_name": "LayoutView",
       "align_content": null,
       "align_items": null,
       "align_self": null,
       "border": null,
       "bottom": null,
       "display": null,
       "flex": null,
       "flex_flow": null,
       "grid_area": null,
       "grid_auto_columns": null,
       "grid_auto_flow": null,
       "grid_auto_rows": null,
       "grid_column": null,
       "grid_gap": null,
       "grid_row": null,
       "grid_template_areas": null,
       "grid_template_columns": null,
       "grid_template_rows": null,
       "height": null,
       "justify_content": null,
       "justify_items": null,
       "left": null,
       "margin": null,
       "max_height": null,
       "max_width": null,
       "min_height": null,
       "min_width": null,
       "object_fit": null,
       "object_position": null,
       "order": null,
       "overflow": null,
       "overflow_x": null,
       "overflow_y": null,
       "padding": null,
       "right": null,
       "top": null,
       "visibility": null,
       "width": null
      }
     },
     "a417db8008214beabca736f602663c76": {
      "model_module": "@jupyter-widgets/controls",
      "model_module_version": "1.5.0",
      "model_name": "HTMLModel",
      "state": {
       "_dom_classes": [],
       "_model_module": "@jupyter-widgets/controls",
       "_model_module_version": "1.5.0",
       "_model_name": "HTMLModel",
       "_view_count": null,
       "_view_module": "@jupyter-widgets/controls",
       "_view_module_version": "1.5.0",
       "_view_name": "HTMLView",
       "description": "",
       "description_tooltip": null,
       "layout": "IPY_MODEL_d4f7283f4db64a299e9066142559851b",
       "placeholder": "​",
       "style": "IPY_MODEL_db8bdd67285e44aaab95ad97d30c6343",
       "value": " 466k/466k [00:00&lt;00:00, 2.37MB/s]"
      }
     },
     "afef49fb6b4546c3beb0896bdf72b937": {
      "model_module": "@jupyter-widgets/controls",
      "model_module_version": "1.5.0",
      "model_name": "HBoxModel",
      "state": {
       "_dom_classes": [],
       "_model_module": "@jupyter-widgets/controls",
       "_model_module_version": "1.5.0",
       "_model_name": "HBoxModel",
       "_view_count": null,
       "_view_module": "@jupyter-widgets/controls",
       "_view_module_version": "1.5.0",
       "_view_name": "HBoxView",
       "box_style": "",
       "children": [
        "IPY_MODEL_6b0a0f2bbfbb4347be3b17e972a46d54",
        "IPY_MODEL_39f2727d8c614ef798d341e6379c0e20",
        "IPY_MODEL_a417db8008214beabca736f602663c76"
       ],
       "layout": "IPY_MODEL_e871355870fa4fa792914ded9ab894e1"
      }
     },
     "b15f9b8676f6497a934a08a3d3daa3a4": {
      "model_module": "@jupyter-widgets/controls",
      "model_module_version": "1.5.0",
      "model_name": "HBoxModel",
      "state": {
       "_dom_classes": [],
       "_model_module": "@jupyter-widgets/controls",
       "_model_module_version": "1.5.0",
       "_model_name": "HBoxModel",
       "_view_count": null,
       "_view_module": "@jupyter-widgets/controls",
       "_view_module_version": "1.5.0",
       "_view_name": "HBoxView",
       "box_style": "",
       "children": [
        "IPY_MODEL_f985ed7a672a43b9b3832e8bb4ff70e9",
        "IPY_MODEL_1d15076c584e4ec0bcb6e5c01d4016c1",
        "IPY_MODEL_b2f6d5c8a83c42cfb2c1dc483a43a500"
       ],
       "layout": "IPY_MODEL_38f15367c2ae4f13b949458e7649d2ae"
      }
     },
     "b2f6d5c8a83c42cfb2c1dc483a43a500": {
      "model_module": "@jupyter-widgets/controls",
      "model_module_version": "1.5.0",
      "model_name": "HTMLModel",
      "state": {
       "_dom_classes": [],
       "_model_module": "@jupyter-widgets/controls",
       "_model_module_version": "1.5.0",
       "_model_name": "HTMLModel",
       "_view_count": null,
       "_view_module": "@jupyter-widgets/controls",
       "_view_module_version": "1.5.0",
       "_view_name": "HTMLView",
       "description": "",
       "description_tooltip": null,
       "layout": "IPY_MODEL_a2b9c58043e142f78e81595fcec5671a",
       "placeholder": "​",
       "style": "IPY_MODEL_1c114f8b6bbc4f11ae3a13434dd4afff",
       "value": " 28.0/28.0 [00:00&lt;00:00, 2.51kB/s]"
      }
     },
     "bde8992bc4094a14bcedf65cd3060bcc": {
      "model_module": "@jupyter-widgets/base",
      "model_module_version": "1.2.0",
      "model_name": "LayoutModel",
      "state": {
       "_model_module": "@jupyter-widgets/base",
       "_model_module_version": "1.2.0",
       "_model_name": "LayoutModel",
       "_view_count": null,
       "_view_module": "@jupyter-widgets/base",
       "_view_module_version": "1.2.0",
       "_view_name": "LayoutView",
       "align_content": null,
       "align_items": null,
       "align_self": null,
       "border": null,
       "bottom": null,
       "display": null,
       "flex": null,
       "flex_flow": null,
       "grid_area": null,
       "grid_auto_columns": null,
       "grid_auto_flow": null,
       "grid_auto_rows": null,
       "grid_column": null,
       "grid_gap": null,
       "grid_row": null,
       "grid_template_areas": null,
       "grid_template_columns": null,
       "grid_template_rows": null,
       "height": null,
       "justify_content": null,
       "justify_items": null,
       "left": null,
       "margin": null,
       "max_height": null,
       "max_width": null,
       "min_height": null,
       "min_width": null,
       "object_fit": null,
       "object_position": null,
       "order": null,
       "overflow": null,
       "overflow_x": null,
       "overflow_y": null,
       "padding": null,
       "right": null,
       "top": null,
       "visibility": null,
       "width": null
      }
     },
     "bfbe7cd5e2a54150b865524b91129bac": {
      "model_module": "@jupyter-widgets/controls",
      "model_module_version": "1.5.0",
      "model_name": "HBoxModel",
      "state": {
       "_dom_classes": [],
       "_model_module": "@jupyter-widgets/controls",
       "_model_module_version": "1.5.0",
       "_model_name": "HBoxModel",
       "_view_count": null,
       "_view_module": "@jupyter-widgets/controls",
       "_view_module_version": "1.5.0",
       "_view_name": "HBoxView",
       "box_style": "",
       "children": [
        "IPY_MODEL_3fce5a9b4898421ba0236263602313e9",
        "IPY_MODEL_f27aa9f986d0471b9d7c7c96cb12903c",
        "IPY_MODEL_3ef0facdbf3248a289b714a41525cdfd"
       ],
       "layout": "IPY_MODEL_f4bb8afda8cd4b42b82a71f2e30a3cfc"
      }
     },
     "c2b16535ae894a5dae23dba0d8e12308": {
      "model_module": "@jupyter-widgets/base",
      "model_module_version": "1.2.0",
      "model_name": "LayoutModel",
      "state": {
       "_model_module": "@jupyter-widgets/base",
       "_model_module_version": "1.2.0",
       "_model_name": "LayoutModel",
       "_view_count": null,
       "_view_module": "@jupyter-widgets/base",
       "_view_module_version": "1.2.0",
       "_view_name": "LayoutView",
       "align_content": null,
       "align_items": null,
       "align_self": null,
       "border": null,
       "bottom": null,
       "display": null,
       "flex": null,
       "flex_flow": null,
       "grid_area": null,
       "grid_auto_columns": null,
       "grid_auto_flow": null,
       "grid_auto_rows": null,
       "grid_column": null,
       "grid_gap": null,
       "grid_row": null,
       "grid_template_areas": null,
       "grid_template_columns": null,
       "grid_template_rows": null,
       "height": null,
       "justify_content": null,
       "justify_items": null,
       "left": null,
       "margin": null,
       "max_height": null,
       "max_width": null,
       "min_height": null,
       "min_width": null,
       "object_fit": null,
       "object_position": null,
       "order": null,
       "overflow": null,
       "overflow_x": null,
       "overflow_y": null,
       "padding": null,
       "right": null,
       "top": null,
       "visibility": null,
       "width": null
      }
     },
     "c9439a42934c42a092bccc55909e7ee4": {
      "model_module": "@jupyter-widgets/controls",
      "model_module_version": "1.5.0",
      "model_name": "ProgressStyleModel",
      "state": {
       "_model_module": "@jupyter-widgets/controls",
       "_model_module_version": "1.5.0",
       "_model_name": "ProgressStyleModel",
       "_view_count": null,
       "_view_module": "@jupyter-widgets/base",
       "_view_module_version": "1.2.0",
       "_view_name": "StyleView",
       "bar_color": null,
       "description_width": ""
      }
     },
     "d4f7283f4db64a299e9066142559851b": {
      "model_module": "@jupyter-widgets/base",
      "model_module_version": "1.2.0",
      "model_name": "LayoutModel",
      "state": {
       "_model_module": "@jupyter-widgets/base",
       "_model_module_version": "1.2.0",
       "_model_name": "LayoutModel",
       "_view_count": null,
       "_view_module": "@jupyter-widgets/base",
       "_view_module_version": "1.2.0",
       "_view_name": "LayoutView",
       "align_content": null,
       "align_items": null,
       "align_self": null,
       "border": null,
       "bottom": null,
       "display": null,
       "flex": null,
       "flex_flow": null,
       "grid_area": null,
       "grid_auto_columns": null,
       "grid_auto_flow": null,
       "grid_auto_rows": null,
       "grid_column": null,
       "grid_gap": null,
       "grid_row": null,
       "grid_template_areas": null,
       "grid_template_columns": null,
       "grid_template_rows": null,
       "height": null,
       "justify_content": null,
       "justify_items": null,
       "left": null,
       "margin": null,
       "max_height": null,
       "max_width": null,
       "min_height": null,
       "min_width": null,
       "object_fit": null,
       "object_position": null,
       "order": null,
       "overflow": null,
       "overflow_x": null,
       "overflow_y": null,
       "padding": null,
       "right": null,
       "top": null,
       "visibility": null,
       "width": null
      }
     },
     "d5248e8aed164c04a2f1c430b58250ed": {
      "model_module": "@jupyter-widgets/base",
      "model_module_version": "1.2.0",
      "model_name": "LayoutModel",
      "state": {
       "_model_module": "@jupyter-widgets/base",
       "_model_module_version": "1.2.0",
       "_model_name": "LayoutModel",
       "_view_count": null,
       "_view_module": "@jupyter-widgets/base",
       "_view_module_version": "1.2.0",
       "_view_name": "LayoutView",
       "align_content": null,
       "align_items": null,
       "align_self": null,
       "border": null,
       "bottom": null,
       "display": null,
       "flex": null,
       "flex_flow": null,
       "grid_area": null,
       "grid_auto_columns": null,
       "grid_auto_flow": null,
       "grid_auto_rows": null,
       "grid_column": null,
       "grid_gap": null,
       "grid_row": null,
       "grid_template_areas": null,
       "grid_template_columns": null,
       "grid_template_rows": null,
       "height": null,
       "justify_content": null,
       "justify_items": null,
       "left": null,
       "margin": null,
       "max_height": null,
       "max_width": null,
       "min_height": null,
       "min_width": null,
       "object_fit": null,
       "object_position": null,
       "order": null,
       "overflow": null,
       "overflow_x": null,
       "overflow_y": null,
       "padding": null,
       "right": null,
       "top": null,
       "visibility": null,
       "width": null
      }
     },
     "d5accc89f05147709e307cc7a2ef802e": {
      "model_module": "@jupyter-widgets/base",
      "model_module_version": "1.2.0",
      "model_name": "LayoutModel",
      "state": {
       "_model_module": "@jupyter-widgets/base",
       "_model_module_version": "1.2.0",
       "_model_name": "LayoutModel",
       "_view_count": null,
       "_view_module": "@jupyter-widgets/base",
       "_view_module_version": "1.2.0",
       "_view_name": "LayoutView",
       "align_content": null,
       "align_items": null,
       "align_self": null,
       "border": null,
       "bottom": null,
       "display": null,
       "flex": null,
       "flex_flow": null,
       "grid_area": null,
       "grid_auto_columns": null,
       "grid_auto_flow": null,
       "grid_auto_rows": null,
       "grid_column": null,
       "grid_gap": null,
       "grid_row": null,
       "grid_template_areas": null,
       "grid_template_columns": null,
       "grid_template_rows": null,
       "height": null,
       "justify_content": null,
       "justify_items": null,
       "left": null,
       "margin": null,
       "max_height": null,
       "max_width": null,
       "min_height": null,
       "min_width": null,
       "object_fit": null,
       "object_position": null,
       "order": null,
       "overflow": null,
       "overflow_x": null,
       "overflow_y": null,
       "padding": null,
       "right": null,
       "top": null,
       "visibility": null,
       "width": null
      }
     },
     "d8fbb954b0a6457aade03a2c2bc5c13f": {
      "model_module": "@jupyter-widgets/controls",
      "model_module_version": "1.5.0",
      "model_name": "HBoxModel",
      "state": {
       "_dom_classes": [],
       "_model_module": "@jupyter-widgets/controls",
       "_model_module_version": "1.5.0",
       "_model_name": "HBoxModel",
       "_view_count": null,
       "_view_module": "@jupyter-widgets/controls",
       "_view_module_version": "1.5.0",
       "_view_name": "HBoxView",
       "box_style": "",
       "children": [
        "IPY_MODEL_5cef8b2099114936bcee008c4ddf3247",
        "IPY_MODEL_49e3519a1a1e46a48a416b061a1da0c4",
        "IPY_MODEL_645fff3fef10494a978d8069f771988e"
       ],
       "layout": "IPY_MODEL_06076b21dc52401fb855ed9d203fcf64"
      }
     },
     "daae8525612b4f63a0ceb645a61440e0": {
      "model_module": "@jupyter-widgets/base",
      "model_module_version": "1.2.0",
      "model_name": "LayoutModel",
      "state": {
       "_model_module": "@jupyter-widgets/base",
       "_model_module_version": "1.2.0",
       "_model_name": "LayoutModel",
       "_view_count": null,
       "_view_module": "@jupyter-widgets/base",
       "_view_module_version": "1.2.0",
       "_view_name": "LayoutView",
       "align_content": null,
       "align_items": null,
       "align_self": null,
       "border": null,
       "bottom": null,
       "display": null,
       "flex": null,
       "flex_flow": null,
       "grid_area": null,
       "grid_auto_columns": null,
       "grid_auto_flow": null,
       "grid_auto_rows": null,
       "grid_column": null,
       "grid_gap": null,
       "grid_row": null,
       "grid_template_areas": null,
       "grid_template_columns": null,
       "grid_template_rows": null,
       "height": null,
       "justify_content": null,
       "justify_items": null,
       "left": null,
       "margin": null,
       "max_height": null,
       "max_width": null,
       "min_height": null,
       "min_width": null,
       "object_fit": null,
       "object_position": null,
       "order": null,
       "overflow": null,
       "overflow_x": null,
       "overflow_y": null,
       "padding": null,
       "right": null,
       "top": null,
       "visibility": null,
       "width": null
      }
     },
     "db8bdd67285e44aaab95ad97d30c6343": {
      "model_module": "@jupyter-widgets/controls",
      "model_module_version": "1.5.0",
      "model_name": "DescriptionStyleModel",
      "state": {
       "_model_module": "@jupyter-widgets/controls",
       "_model_module_version": "1.5.0",
       "_model_name": "DescriptionStyleModel",
       "_view_count": null,
       "_view_module": "@jupyter-widgets/base",
       "_view_module_version": "1.2.0",
       "_view_name": "StyleView",
       "description_width": ""
      }
     },
     "dc096d16e02c449b9fa0d13b414a5119": {
      "model_module": "@jupyter-widgets/controls",
      "model_module_version": "1.5.0",
      "model_name": "ProgressStyleModel",
      "state": {
       "_model_module": "@jupyter-widgets/controls",
       "_model_module_version": "1.5.0",
       "_model_name": "ProgressStyleModel",
       "_view_count": null,
       "_view_module": "@jupyter-widgets/base",
       "_view_module_version": "1.2.0",
       "_view_name": "StyleView",
       "bar_color": null,
       "description_width": ""
      }
     },
     "dc8157557a2f418fb6fbdecb7d6ea7d5": {
      "model_module": "@jupyter-widgets/controls",
      "model_module_version": "1.5.0",
      "model_name": "FloatProgressModel",
      "state": {
       "_dom_classes": [],
       "_model_module": "@jupyter-widgets/controls",
       "_model_module_version": "1.5.0",
       "_model_name": "FloatProgressModel",
       "_view_count": null,
       "_view_module": "@jupyter-widgets/controls",
       "_view_module_version": "1.5.0",
       "_view_name": "ProgressView",
       "bar_style": "success",
       "description": "",
       "description_tooltip": null,
       "layout": "IPY_MODEL_d5accc89f05147709e307cc7a2ef802e",
       "max": 570.0,
       "min": 0.0,
       "orientation": "horizontal",
       "style": "IPY_MODEL_faef438480944d0f83abf5ebcf974b96",
       "value": 570.0
      }
     },
     "e871355870fa4fa792914ded9ab894e1": {
      "model_module": "@jupyter-widgets/base",
      "model_module_version": "1.2.0",
      "model_name": "LayoutModel",
      "state": {
       "_model_module": "@jupyter-widgets/base",
       "_model_module_version": "1.2.0",
       "_model_name": "LayoutModel",
       "_view_count": null,
       "_view_module": "@jupyter-widgets/base",
       "_view_module_version": "1.2.0",
       "_view_name": "LayoutView",
       "align_content": null,
       "align_items": null,
       "align_self": null,
       "border": null,
       "bottom": null,
       "display": null,
       "flex": null,
       "flex_flow": null,
       "grid_area": null,
       "grid_auto_columns": null,
       "grid_auto_flow": null,
       "grid_auto_rows": null,
       "grid_column": null,
       "grid_gap": null,
       "grid_row": null,
       "grid_template_areas": null,
       "grid_template_columns": null,
       "grid_template_rows": null,
       "height": null,
       "justify_content": null,
       "justify_items": null,
       "left": null,
       "margin": null,
       "max_height": null,
       "max_width": null,
       "min_height": null,
       "min_width": null,
       "object_fit": null,
       "object_position": null,
       "order": null,
       "overflow": null,
       "overflow_x": null,
       "overflow_y": null,
       "padding": null,
       "right": null,
       "top": null,
       "visibility": null,
       "width": null
      }
     },
     "ea8d16b7da2d410793cb3032fcc8cd85": {
      "model_module": "@jupyter-widgets/base",
      "model_module_version": "1.2.0",
      "model_name": "LayoutModel",
      "state": {
       "_model_module": "@jupyter-widgets/base",
       "_model_module_version": "1.2.0",
       "_model_name": "LayoutModel",
       "_view_count": null,
       "_view_module": "@jupyter-widgets/base",
       "_view_module_version": "1.2.0",
       "_view_name": "LayoutView",
       "align_content": null,
       "align_items": null,
       "align_self": null,
       "border": null,
       "bottom": null,
       "display": null,
       "flex": null,
       "flex_flow": null,
       "grid_area": null,
       "grid_auto_columns": null,
       "grid_auto_flow": null,
       "grid_auto_rows": null,
       "grid_column": null,
       "grid_gap": null,
       "grid_row": null,
       "grid_template_areas": null,
       "grid_template_columns": null,
       "grid_template_rows": null,
       "height": null,
       "justify_content": null,
       "justify_items": null,
       "left": null,
       "margin": null,
       "max_height": null,
       "max_width": null,
       "min_height": null,
       "min_width": null,
       "object_fit": null,
       "object_position": null,
       "order": null,
       "overflow": null,
       "overflow_x": null,
       "overflow_y": null,
       "padding": null,
       "right": null,
       "top": null,
       "visibility": null,
       "width": null
      }
     },
     "f27aa9f986d0471b9d7c7c96cb12903c": {
      "model_module": "@jupyter-widgets/controls",
      "model_module_version": "1.5.0",
      "model_name": "FloatProgressModel",
      "state": {
       "_dom_classes": [],
       "_model_module": "@jupyter-widgets/controls",
       "_model_module_version": "1.5.0",
       "_model_name": "FloatProgressModel",
       "_view_count": null,
       "_view_module": "@jupyter-widgets/controls",
       "_view_module_version": "1.5.0",
       "_view_name": "ProgressView",
       "bar_style": "success",
       "description": "",
       "description_tooltip": null,
       "layout": "IPY_MODEL_5596c319707f4a2e942fbae7b3c11ec1",
       "max": 440449768.0,
       "min": 0.0,
       "orientation": "horizontal",
       "style": "IPY_MODEL_81fa1e5cbaad47488edb600cf0ce1e16",
       "value": 440449768.0
      }
     },
     "f3082c17320c47a0ae756d41f705ccc5": {
      "model_module": "@jupyter-widgets/controls",
      "model_module_version": "1.5.0",
      "model_name": "HBoxModel",
      "state": {
       "_dom_classes": [],
       "_model_module": "@jupyter-widgets/controls",
       "_model_module_version": "1.5.0",
       "_model_name": "HBoxModel",
       "_view_count": null,
       "_view_module": "@jupyter-widgets/controls",
       "_view_module_version": "1.5.0",
       "_view_name": "HBoxView",
       "box_style": "",
       "children": [
        "IPY_MODEL_7d6535d73f8e435f978b8a3b2c2583fc",
        "IPY_MODEL_dc8157557a2f418fb6fbdecb7d6ea7d5",
        "IPY_MODEL_59502b93ceff45349f610a851d8fb86e"
       ],
       "layout": "IPY_MODEL_ea8d16b7da2d410793cb3032fcc8cd85"
      }
     },
     "f4bb8afda8cd4b42b82a71f2e30a3cfc": {
      "model_module": "@jupyter-widgets/base",
      "model_module_version": "1.2.0",
      "model_name": "LayoutModel",
      "state": {
       "_model_module": "@jupyter-widgets/base",
       "_model_module_version": "1.2.0",
       "_model_name": "LayoutModel",
       "_view_count": null,
       "_view_module": "@jupyter-widgets/base",
       "_view_module_version": "1.2.0",
       "_view_name": "LayoutView",
       "align_content": null,
       "align_items": null,
       "align_self": null,
       "border": null,
       "bottom": null,
       "display": null,
       "flex": null,
       "flex_flow": null,
       "grid_area": null,
       "grid_auto_columns": null,
       "grid_auto_flow": null,
       "grid_auto_rows": null,
       "grid_column": null,
       "grid_gap": null,
       "grid_row": null,
       "grid_template_areas": null,
       "grid_template_columns": null,
       "grid_template_rows": null,
       "height": null,
       "justify_content": null,
       "justify_items": null,
       "left": null,
       "margin": null,
       "max_height": null,
       "max_width": null,
       "min_height": null,
       "min_width": null,
       "object_fit": null,
       "object_position": null,
       "order": null,
       "overflow": null,
       "overflow_x": null,
       "overflow_y": null,
       "padding": null,
       "right": null,
       "top": null,
       "visibility": null,
       "width": null
      }
     },
     "f985ed7a672a43b9b3832e8bb4ff70e9": {
      "model_module": "@jupyter-widgets/controls",
      "model_module_version": "1.5.0",
      "model_name": "HTMLModel",
      "state": {
       "_dom_classes": [],
       "_model_module": "@jupyter-widgets/controls",
       "_model_module_version": "1.5.0",
       "_model_name": "HTMLModel",
       "_view_count": null,
       "_view_module": "@jupyter-widgets/controls",
       "_view_module_version": "1.5.0",
       "_view_name": "HTMLView",
       "description": "",
       "description_tooltip": null,
       "layout": "IPY_MODEL_d5248e8aed164c04a2f1c430b58250ed",
       "placeholder": "​",
       "style": "IPY_MODEL_392289dfc136441fadd8c266b6a99ecf",
       "value": "tokenizer_config.json: 100%"
      }
     },
     "faef438480944d0f83abf5ebcf974b96": {
      "model_module": "@jupyter-widgets/controls",
      "model_module_version": "1.5.0",
      "model_name": "ProgressStyleModel",
      "state": {
       "_model_module": "@jupyter-widgets/controls",
       "_model_module_version": "1.5.0",
       "_model_name": "ProgressStyleModel",
       "_view_count": null,
       "_view_module": "@jupyter-widgets/base",
       "_view_module_version": "1.2.0",
       "_view_name": "StyleView",
       "bar_color": null,
       "description_width": ""
      }
     }
    },
    "version_major": 2,
    "version_minor": 0
   }
  }
 },
 "nbformat": 4,
 "nbformat_minor": 5
}
